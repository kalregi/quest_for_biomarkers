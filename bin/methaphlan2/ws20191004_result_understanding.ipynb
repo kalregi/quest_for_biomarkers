{
 "cells": [
  {
   "cell_type": "code",
   "execution_count": 2,
   "metadata": {},
   "outputs": [],
   "source": [
    "import pandas as pd"
   ]
  },
  {
   "cell_type": "code",
   "execution_count": 13,
   "metadata": {},
   "outputs": [
    {
     "data": {
      "text/html": [
       "<div>\n",
       "<style scoped>\n",
       "    .dataframe tbody tr th:only-of-type {\n",
       "        vertical-align: middle;\n",
       "    }\n",
       "\n",
       "    .dataframe tbody tr th {\n",
       "        vertical-align: top;\n",
       "    }\n",
       "\n",
       "    .dataframe thead th {\n",
       "        text-align: right;\n",
       "    }\n",
       "</style>\n",
       "<table border=\"1\" class=\"dataframe\">\n",
       "  <thead>\n",
       "    <tr style=\"text-align: right;\">\n",
       "      <th></th>\n",
       "      <th>#SampleID</th>\n",
       "      <th>Metaphlan2_Analysis</th>\n",
       "    </tr>\n",
       "  </thead>\n",
       "  <tbody>\n",
       "    <tr>\n",
       "      <th>154</th>\n",
       "      <td>k__Archaea|p__Euryarchaeota|c__Methanobacteria...</td>\n",
       "      <td>0.01021</td>\n",
       "    </tr>\n",
       "    <tr>\n",
       "      <th>155</th>\n",
       "      <td>k__Bacteria|p__Actinobacteria|c__Actinobacteri...</td>\n",
       "      <td>0.00420</td>\n",
       "    </tr>\n",
       "    <tr>\n",
       "      <th>156</th>\n",
       "      <td>k__Eukaryota|p__Eukaryota_noname|c__Eukaryota_...</td>\n",
       "      <td>0.00403</td>\n",
       "    </tr>\n",
       "    <tr>\n",
       "      <th>157</th>\n",
       "      <td>k__Bacteria|p__Firmicutes|c__Negativicutes|o__...</td>\n",
       "      <td>0.00267</td>\n",
       "    </tr>\n",
       "  </tbody>\n",
       "</table>\n",
       "</div>"
      ],
      "text/plain": [
       "                                             #SampleID  Metaphlan2_Analysis\n",
       "154  k__Archaea|p__Euryarchaeota|c__Methanobacteria...              0.01021\n",
       "155  k__Bacteria|p__Actinobacteria|c__Actinobacteri...              0.00420\n",
       "156  k__Eukaryota|p__Eukaryota_noname|c__Eukaryota_...              0.00403\n",
       "157  k__Bacteria|p__Firmicutes|c__Negativicutes|o__...              0.00267"
      ]
     },
     "execution_count": 13,
     "metadata": {},
     "output_type": "execute_result"
    }
   ],
   "source": [
    "path_to_profile = 'profiled_metagenome.txt'\n",
    "profile_df = pd.read_csv(path_to_profile, delimiter = '\\t', skiprows = [1])\n",
    "profile_df[-5:-1]\n",
    "\n",
    "\n",
    "#f = open(\"/gfs/data/curated_metagenomes_kraken2/RampelliS_2015⁩/profiled_metagenome.txt\", encoding=\"utf-8\")"
   ]
  },
  {
   "cell_type": "code",
   "execution_count": 28,
   "metadata": {},
   "outputs": [],
   "source": [
    "profile_df_2 = profile_df\n",
    "profile_df_2['level'] = None\n",
    "profile_df_2['k'] = None\n",
    "profile_df_2['p'] = None\n",
    "profile_df_2['c'] = None\n",
    "profile_df_2['o'] = None\n",
    "profile_df_2['f'] = None\n",
    "profile_df_2['g'] = None\n",
    "profile_df_2['s'] = None\n",
    "profile_df_2['t'] = None\n",
    "profile_df_2['value'] = profile_df_2[\"Metaphlan2_Analysis\"]"
   ]
  },
  {
   "cell_type": "code",
   "execution_count": 29,
   "metadata": {},
   "outputs": [
    {
     "data": {
      "text/html": [
       "<div>\n",
       "<style scoped>\n",
       "    .dataframe tbody tr th:only-of-type {\n",
       "        vertical-align: middle;\n",
       "    }\n",
       "\n",
       "    .dataframe tbody tr th {\n",
       "        vertical-align: top;\n",
       "    }\n",
       "\n",
       "    .dataframe thead th {\n",
       "        text-align: right;\n",
       "    }\n",
       "</style>\n",
       "<table border=\"1\" class=\"dataframe\">\n",
       "  <thead>\n",
       "    <tr style=\"text-align: right;\">\n",
       "      <th></th>\n",
       "      <th>#SampleID</th>\n",
       "      <th>Metaphlan2_Analysis</th>\n",
       "      <th>k</th>\n",
       "      <th>p</th>\n",
       "      <th>c</th>\n",
       "      <th>o</th>\n",
       "      <th>f</th>\n",
       "      <th>g</th>\n",
       "      <th>s</th>\n",
       "      <th>t</th>\n",
       "      <th>value</th>\n",
       "      <th>level</th>\n",
       "    </tr>\n",
       "  </thead>\n",
       "  <tbody>\n",
       "    <tr>\n",
       "      <th>0</th>\n",
       "      <td>k__Archaea</td>\n",
       "      <td>0.01021</td>\n",
       "      <td>None</td>\n",
       "      <td>None</td>\n",
       "      <td>None</td>\n",
       "      <td>None</td>\n",
       "      <td>None</td>\n",
       "      <td>None</td>\n",
       "      <td>None</td>\n",
       "      <td>None</td>\n",
       "      <td>0.01021</td>\n",
       "      <td>None</td>\n",
       "    </tr>\n",
       "    <tr>\n",
       "      <th>1</th>\n",
       "      <td>k__Eukaryota</td>\n",
       "      <td>0.00403</td>\n",
       "      <td>None</td>\n",
       "      <td>None</td>\n",
       "      <td>None</td>\n",
       "      <td>None</td>\n",
       "      <td>None</td>\n",
       "      <td>None</td>\n",
       "      <td>None</td>\n",
       "      <td>None</td>\n",
       "      <td>0.00403</td>\n",
       "      <td>None</td>\n",
       "    </tr>\n",
       "    <tr>\n",
       "      <th>2</th>\n",
       "      <td>k__Bacteria|p__Bacteroidetes</td>\n",
       "      <td>52.50972</td>\n",
       "      <td>None</td>\n",
       "      <td>None</td>\n",
       "      <td>None</td>\n",
       "      <td>None</td>\n",
       "      <td>None</td>\n",
       "      <td>None</td>\n",
       "      <td>None</td>\n",
       "      <td>None</td>\n",
       "      <td>52.50972</td>\n",
       "      <td>None</td>\n",
       "    </tr>\n",
       "    <tr>\n",
       "      <th>3</th>\n",
       "      <td>k__Bacteria|p__Firmicutes</td>\n",
       "      <td>47.04921</td>\n",
       "      <td>None</td>\n",
       "      <td>None</td>\n",
       "      <td>None</td>\n",
       "      <td>None</td>\n",
       "      <td>None</td>\n",
       "      <td>None</td>\n",
       "      <td>None</td>\n",
       "      <td>None</td>\n",
       "      <td>47.04921</td>\n",
       "      <td>None</td>\n",
       "    </tr>\n",
       "    <tr>\n",
       "      <th>4</th>\n",
       "      <td>k__Bacteria|p__Actinobacteria</td>\n",
       "      <td>0.31673</td>\n",
       "      <td>None</td>\n",
       "      <td>None</td>\n",
       "      <td>None</td>\n",
       "      <td>None</td>\n",
       "      <td>None</td>\n",
       "      <td>None</td>\n",
       "      <td>None</td>\n",
       "      <td>None</td>\n",
       "      <td>0.31673</td>\n",
       "      <td>None</td>\n",
       "    </tr>\n",
       "  </tbody>\n",
       "</table>\n",
       "</div>"
      ],
      "text/plain": [
       "                       #SampleID  Metaphlan2_Analysis     k     p     c     o  \\\n",
       "0                     k__Archaea              0.01021  None  None  None  None   \n",
       "1                   k__Eukaryota              0.00403  None  None  None  None   \n",
       "2   k__Bacteria|p__Bacteroidetes             52.50972  None  None  None  None   \n",
       "3      k__Bacteria|p__Firmicutes             47.04921  None  None  None  None   \n",
       "4  k__Bacteria|p__Actinobacteria              0.31673  None  None  None  None   \n",
       "\n",
       "      f     g     s     t     value level  \n",
       "0  None  None  None  None   0.01021  None  \n",
       "1  None  None  None  None   0.00403  None  \n",
       "2  None  None  None  None  52.50972  None  \n",
       "3  None  None  None  None  47.04921  None  \n",
       "4  None  None  None  None   0.31673  None  "
      ]
     },
     "execution_count": 29,
     "metadata": {},
     "output_type": "execute_result"
    }
   ],
   "source": [
    "profile_df_2.head()"
   ]
  },
  {
   "cell_type": "code",
   "execution_count": 30,
   "metadata": {},
   "outputs": [],
   "source": [
    "for p in profile_df_2[\"#SampleID\"]:\n",
    "    row_level = None\n",
    "    tags = p.split('|')\n",
    "    for tag in tags:\n",
    "        tmp = tag.split('__')\n",
    "        level = tmp[0]\n",
    "        name = tmp[1]\n",
    "        profile_df_2\n",
    "        row_level = level\n",
    "        \n",
    "        profile_df_2.loc[profile_df_2['#SampleID'] == p, level] = name\n",
    "    profile_df_2.loc[profile_df_2['#SampleID'] == p, 'level'] = row_level"
   ]
  },
  {
   "cell_type": "code",
   "execution_count": 31,
   "metadata": {},
   "outputs": [
    {
     "data": {
      "text/html": [
       "<div>\n",
       "<style scoped>\n",
       "    .dataframe tbody tr th:only-of-type {\n",
       "        vertical-align: middle;\n",
       "    }\n",
       "\n",
       "    .dataframe tbody tr th {\n",
       "        vertical-align: top;\n",
       "    }\n",
       "\n",
       "    .dataframe thead th {\n",
       "        text-align: right;\n",
       "    }\n",
       "</style>\n",
       "<table border=\"1\" class=\"dataframe\">\n",
       "  <thead>\n",
       "    <tr style=\"text-align: right;\">\n",
       "      <th></th>\n",
       "      <th>#SampleID</th>\n",
       "      <th>Metaphlan2_Analysis</th>\n",
       "      <th>k</th>\n",
       "      <th>p</th>\n",
       "      <th>c</th>\n",
       "      <th>o</th>\n",
       "      <th>f</th>\n",
       "      <th>g</th>\n",
       "      <th>s</th>\n",
       "      <th>t</th>\n",
       "      <th>value</th>\n",
       "      <th>level</th>\n",
       "    </tr>\n",
       "  </thead>\n",
       "  <tbody>\n",
       "    <tr>\n",
       "      <th>0</th>\n",
       "      <td>k__Archaea</td>\n",
       "      <td>0.01021</td>\n",
       "      <td>Archaea</td>\n",
       "      <td>None</td>\n",
       "      <td>None</td>\n",
       "      <td>None</td>\n",
       "      <td>None</td>\n",
       "      <td>None</td>\n",
       "      <td>None</td>\n",
       "      <td>None</td>\n",
       "      <td>0.01021</td>\n",
       "      <td>k</td>\n",
       "    </tr>\n",
       "    <tr>\n",
       "      <th>1</th>\n",
       "      <td>k__Eukaryota</td>\n",
       "      <td>0.00403</td>\n",
       "      <td>Eukaryota</td>\n",
       "      <td>None</td>\n",
       "      <td>None</td>\n",
       "      <td>None</td>\n",
       "      <td>None</td>\n",
       "      <td>None</td>\n",
       "      <td>None</td>\n",
       "      <td>None</td>\n",
       "      <td>0.00403</td>\n",
       "      <td>k</td>\n",
       "    </tr>\n",
       "    <tr>\n",
       "      <th>2</th>\n",
       "      <td>k__Bacteria|p__Bacteroidetes</td>\n",
       "      <td>52.50972</td>\n",
       "      <td>Bacteria</td>\n",
       "      <td>Bacteroidetes</td>\n",
       "      <td>None</td>\n",
       "      <td>None</td>\n",
       "      <td>None</td>\n",
       "      <td>None</td>\n",
       "      <td>None</td>\n",
       "      <td>None</td>\n",
       "      <td>52.50972</td>\n",
       "      <td>p</td>\n",
       "    </tr>\n",
       "    <tr>\n",
       "      <th>3</th>\n",
       "      <td>k__Bacteria|p__Firmicutes</td>\n",
       "      <td>47.04921</td>\n",
       "      <td>Bacteria</td>\n",
       "      <td>Firmicutes</td>\n",
       "      <td>None</td>\n",
       "      <td>None</td>\n",
       "      <td>None</td>\n",
       "      <td>None</td>\n",
       "      <td>None</td>\n",
       "      <td>None</td>\n",
       "      <td>47.04921</td>\n",
       "      <td>p</td>\n",
       "    </tr>\n",
       "    <tr>\n",
       "      <th>4</th>\n",
       "      <td>k__Bacteria|p__Actinobacteria</td>\n",
       "      <td>0.31673</td>\n",
       "      <td>Bacteria</td>\n",
       "      <td>Actinobacteria</td>\n",
       "      <td>None</td>\n",
       "      <td>None</td>\n",
       "      <td>None</td>\n",
       "      <td>None</td>\n",
       "      <td>None</td>\n",
       "      <td>None</td>\n",
       "      <td>0.31673</td>\n",
       "      <td>p</td>\n",
       "    </tr>\n",
       "  </tbody>\n",
       "</table>\n",
       "</div>"
      ],
      "text/plain": [
       "                       #SampleID  Metaphlan2_Analysis          k  \\\n",
       "0                     k__Archaea              0.01021    Archaea   \n",
       "1                   k__Eukaryota              0.00403  Eukaryota   \n",
       "2   k__Bacteria|p__Bacteroidetes             52.50972   Bacteria   \n",
       "3      k__Bacteria|p__Firmicutes             47.04921   Bacteria   \n",
       "4  k__Bacteria|p__Actinobacteria              0.31673   Bacteria   \n",
       "\n",
       "                p     c     o     f     g     s     t     value level  \n",
       "0            None  None  None  None  None  None  None   0.01021     k  \n",
       "1            None  None  None  None  None  None  None   0.00403     k  \n",
       "2   Bacteroidetes  None  None  None  None  None  None  52.50972     p  \n",
       "3      Firmicutes  None  None  None  None  None  None  47.04921     p  \n",
       "4  Actinobacteria  None  None  None  None  None  None   0.31673     p  "
      ]
     },
     "execution_count": 31,
     "metadata": {},
     "output_type": "execute_result"
    }
   ],
   "source": [
    "profile_df_2.head()"
   ]
  },
  {
   "cell_type": "code",
   "execution_count": 33,
   "metadata": {},
   "outputs": [],
   "source": [
    "df_s = profile_df_2.loc[profile_df_2['level'] == 's']"
   ]
  },
  {
   "cell_type": "code",
   "execution_count": 34,
   "metadata": {},
   "outputs": [
    {
     "data": {
      "text/html": [
       "<div>\n",
       "<style scoped>\n",
       "    .dataframe tbody tr th:only-of-type {\n",
       "        vertical-align: middle;\n",
       "    }\n",
       "\n",
       "    .dataframe tbody tr th {\n",
       "        vertical-align: top;\n",
       "    }\n",
       "\n",
       "    .dataframe thead th {\n",
       "        text-align: right;\n",
       "    }\n",
       "</style>\n",
       "<table border=\"1\" class=\"dataframe\">\n",
       "  <thead>\n",
       "    <tr style=\"text-align: right;\">\n",
       "      <th></th>\n",
       "      <th>#SampleID</th>\n",
       "      <th>Metaphlan2_Analysis</th>\n",
       "      <th>k</th>\n",
       "      <th>p</th>\n",
       "      <th>c</th>\n",
       "      <th>o</th>\n",
       "      <th>f</th>\n",
       "      <th>g</th>\n",
       "      <th>s</th>\n",
       "      <th>t</th>\n",
       "      <th>value</th>\n",
       "      <th>level</th>\n",
       "    </tr>\n",
       "  </thead>\n",
       "  <tbody>\n",
       "    <tr>\n",
       "      <th>77</th>\n",
       "      <td>k__Bacteria|p__Bacteroidetes|c__Bacteroidia|o_...</td>\n",
       "      <td>31.23058</td>\n",
       "      <td>Bacteria</td>\n",
       "      <td>Bacteroidetes</td>\n",
       "      <td>Bacteroidia</td>\n",
       "      <td>Bacteroidales</td>\n",
       "      <td>Prevotellaceae</td>\n",
       "      <td>Prevotella</td>\n",
       "      <td>Prevotella_copri</td>\n",
       "      <td>None</td>\n",
       "      <td>31.23058</td>\n",
       "      <td>s</td>\n",
       "    </tr>\n",
       "    <tr>\n",
       "      <th>78</th>\n",
       "      <td>k__Bacteria|p__Bacteroidetes|c__Bacteroidia|o_...</td>\n",
       "      <td>21.21923</td>\n",
       "      <td>Bacteria</td>\n",
       "      <td>Bacteroidetes</td>\n",
       "      <td>Bacteroidia</td>\n",
       "      <td>Bacteroidales</td>\n",
       "      <td>Prevotellaceae</td>\n",
       "      <td>Prevotella</td>\n",
       "      <td>Prevotella_stercorea</td>\n",
       "      <td>None</td>\n",
       "      <td>21.21923</td>\n",
       "      <td>s</td>\n",
       "    </tr>\n",
       "    <tr>\n",
       "      <th>79</th>\n",
       "      <td>k__Bacteria|p__Firmicutes|c__Negativicutes|o__...</td>\n",
       "      <td>11.86527</td>\n",
       "      <td>Bacteria</td>\n",
       "      <td>Firmicutes</td>\n",
       "      <td>Negativicutes</td>\n",
       "      <td>Selenomonadales</td>\n",
       "      <td>Acidaminococcaceae</td>\n",
       "      <td>Phascolarctobacterium</td>\n",
       "      <td>Phascolarctobacterium_succinatutens</td>\n",
       "      <td>None</td>\n",
       "      <td>11.86527</td>\n",
       "      <td>s</td>\n",
       "    </tr>\n",
       "    <tr>\n",
       "      <th>80</th>\n",
       "      <td>k__Bacteria|p__Firmicutes|c__Clostridia|o__Clo...</td>\n",
       "      <td>4.72444</td>\n",
       "      <td>Bacteria</td>\n",
       "      <td>Firmicutes</td>\n",
       "      <td>Clostridia</td>\n",
       "      <td>Clostridiales</td>\n",
       "      <td>Ruminococcaceae</td>\n",
       "      <td>Faecalibacterium</td>\n",
       "      <td>Faecalibacterium_prausnitzii</td>\n",
       "      <td>None</td>\n",
       "      <td>4.72444</td>\n",
       "      <td>s</td>\n",
       "    </tr>\n",
       "    <tr>\n",
       "      <th>81</th>\n",
       "      <td>k__Bacteria|p__Firmicutes|c__Clostridia|o__Clo...</td>\n",
       "      <td>4.09155</td>\n",
       "      <td>Bacteria</td>\n",
       "      <td>Firmicutes</td>\n",
       "      <td>Clostridia</td>\n",
       "      <td>Clostridiales</td>\n",
       "      <td>Lachnospiraceae</td>\n",
       "      <td>Roseburia</td>\n",
       "      <td>Roseburia_inulinivorans</td>\n",
       "      <td>None</td>\n",
       "      <td>4.09155</td>\n",
       "      <td>s</td>\n",
       "    </tr>\n",
       "  </tbody>\n",
       "</table>\n",
       "</div>"
      ],
      "text/plain": [
       "                                            #SampleID  Metaphlan2_Analysis  \\\n",
       "77  k__Bacteria|p__Bacteroidetes|c__Bacteroidia|o_...             31.23058   \n",
       "78  k__Bacteria|p__Bacteroidetes|c__Bacteroidia|o_...             21.21923   \n",
       "79  k__Bacteria|p__Firmicutes|c__Negativicutes|o__...             11.86527   \n",
       "80  k__Bacteria|p__Firmicutes|c__Clostridia|o__Clo...              4.72444   \n",
       "81  k__Bacteria|p__Firmicutes|c__Clostridia|o__Clo...              4.09155   \n",
       "\n",
       "           k              p              c                o  \\\n",
       "77  Bacteria  Bacteroidetes    Bacteroidia    Bacteroidales   \n",
       "78  Bacteria  Bacteroidetes    Bacteroidia    Bacteroidales   \n",
       "79  Bacteria     Firmicutes  Negativicutes  Selenomonadales   \n",
       "80  Bacteria     Firmicutes     Clostridia    Clostridiales   \n",
       "81  Bacteria     Firmicutes     Clostridia    Clostridiales   \n",
       "\n",
       "                     f                      g  \\\n",
       "77      Prevotellaceae             Prevotella   \n",
       "78      Prevotellaceae             Prevotella   \n",
       "79  Acidaminococcaceae  Phascolarctobacterium   \n",
       "80     Ruminococcaceae       Faecalibacterium   \n",
       "81     Lachnospiraceae              Roseburia   \n",
       "\n",
       "                                      s     t     value level  \n",
       "77                     Prevotella_copri  None  31.23058     s  \n",
       "78                 Prevotella_stercorea  None  21.21923     s  \n",
       "79  Phascolarctobacterium_succinatutens  None  11.86527     s  \n",
       "80         Faecalibacterium_prausnitzii  None   4.72444     s  \n",
       "81              Roseburia_inulinivorans  None   4.09155     s  "
      ]
     },
     "execution_count": 34,
     "metadata": {},
     "output_type": "execute_result"
    }
   ],
   "source": [
    "df_s.head()"
   ]
  },
  {
   "cell_type": "code",
   "execution_count": 35,
   "metadata": {},
   "outputs": [
    {
     "data": {
      "text/plain": [
       "99.96814999999998"
      ]
     },
     "execution_count": 35,
     "metadata": {},
     "output_type": "execute_result"
    }
   ],
   "source": [
    "df_s['value'].sum()"
   ]
  },
  {
   "cell_type": "code",
   "execution_count": 39,
   "metadata": {},
   "outputs": [
    {
     "data": {
      "text/plain": [
       "3.8713"
      ]
     },
     "execution_count": 39,
     "metadata": {},
     "output_type": "execute_result"
    }
   ],
   "source": [
    "df_s.loc[[s.endswith('unclassified') for s in df_s['s']]]['value'].sum()"
   ]
  },
  {
   "cell_type": "code",
   "execution_count": 41,
   "metadata": {},
   "outputs": [
    {
     "data": {
      "text/plain": [
       "0.0"
      ]
     },
     "execution_count": 41,
     "metadata": {},
     "output_type": "execute_result"
    }
   ],
   "source": [
    "df_g = profile_df_2.loc[profile_df_2['level'] == 'g']\n",
    "df_g.loc[[s.endswith('unclassified') for s in df_s['g']]]['value'].sum()"
   ]
  },
  {
   "cell_type": "code",
   "execution_count": 43,
   "metadata": {},
   "outputs": [
    {
     "data": {
      "text/plain": [
       "0.0"
      ]
     },
     "execution_count": 43,
     "metadata": {},
     "output_type": "execute_result"
    }
   ],
   "source": [
    "df_f = profile_df_2.loc[profile_df_2['level'] == 'f']\n",
    "df_f.loc[[s.endswith('unclassified') for s in df_s['f']]]['value'].sum()"
   ]
  },
  {
   "cell_type": "code",
   "execution_count": 44,
   "metadata": {},
   "outputs": [
    {
     "data": {
      "text/plain": [
       "0.0"
      ]
     },
     "execution_count": 44,
     "metadata": {},
     "output_type": "execute_result"
    }
   ],
   "source": [
    "df_o = profile_df_2.loc[profile_df_2['level'] == 'o']\n",
    "df_o.loc[[s.endswith('unclassified') for s in df_s['o']]]['value'].sum()"
   ]
  },
  {
   "cell_type": "code",
   "execution_count": 45,
   "metadata": {},
   "outputs": [
    {
     "data": {
      "text/plain": [
       "0.0"
      ]
     },
     "execution_count": 45,
     "metadata": {},
     "output_type": "execute_result"
    }
   ],
   "source": [
    "df_c = profile_df_2.loc[profile_df_2['level'] == 'c']\n",
    "df_c.loc[[s.endswith('unclassified') for s in df_s['c']]]['value'].sum()"
   ]
  },
  {
   "cell_type": "code",
   "execution_count": 46,
   "metadata": {},
   "outputs": [
    {
     "data": {
      "text/plain": [
       "0.0"
      ]
     },
     "execution_count": 46,
     "metadata": {},
     "output_type": "execute_result"
    }
   ],
   "source": [
    "df_p = profile_df_2.loc[profile_df_2['level'] == 'p']\n",
    "df_p.loc[[s.endswith('unclassified') for s in df_s['p']]]['value'].sum()"
   ]
  },
  {
   "cell_type": "code",
   "execution_count": 47,
   "metadata": {},
   "outputs": [
    {
     "data": {
      "text/plain": [
       "0.0"
      ]
     },
     "execution_count": 47,
     "metadata": {},
     "output_type": "execute_result"
    }
   ],
   "source": [
    "df_k = profile_df_2.loc[profile_df_2['level'] == 'k']\n",
    "df_k.loc[[s.endswith('unclassified') for s in df_s['k']]]['value'].sum()"
   ]
  },
  {
   "cell_type": "code",
   "execution_count": 49,
   "metadata": {},
   "outputs": [
    {
     "data": {
      "text/html": [
       "<div>\n",
       "<style scoped>\n",
       "    .dataframe tbody tr th:only-of-type {\n",
       "        vertical-align: middle;\n",
       "    }\n",
       "\n",
       "    .dataframe tbody tr th {\n",
       "        vertical-align: top;\n",
       "    }\n",
       "\n",
       "    .dataframe thead th {\n",
       "        text-align: right;\n",
       "    }\n",
       "</style>\n",
       "<table border=\"1\" class=\"dataframe\">\n",
       "  <thead>\n",
       "    <tr style=\"text-align: right;\">\n",
       "      <th></th>\n",
       "      <th>#SampleID</th>\n",
       "      <th>Metaphlan2_Analysis</th>\n",
       "      <th>k</th>\n",
       "      <th>p</th>\n",
       "      <th>c</th>\n",
       "      <th>o</th>\n",
       "      <th>f</th>\n",
       "      <th>g</th>\n",
       "      <th>s</th>\n",
       "      <th>t</th>\n",
       "      <th>value</th>\n",
       "      <th>level</th>\n",
       "    </tr>\n",
       "  </thead>\n",
       "  <tbody>\n",
       "    <tr>\n",
       "      <th>2</th>\n",
       "      <td>k__Bacteria|p__Bacteroidetes</td>\n",
       "      <td>52.50972</td>\n",
       "      <td>Bacteria</td>\n",
       "      <td>Bacteroidetes</td>\n",
       "      <td>None</td>\n",
       "      <td>None</td>\n",
       "      <td>None</td>\n",
       "      <td>None</td>\n",
       "      <td>None</td>\n",
       "      <td>None</td>\n",
       "      <td>52.50972</td>\n",
       "      <td>p</td>\n",
       "    </tr>\n",
       "    <tr>\n",
       "      <th>3</th>\n",
       "      <td>k__Bacteria|p__Firmicutes</td>\n",
       "      <td>47.04921</td>\n",
       "      <td>Bacteria</td>\n",
       "      <td>Firmicutes</td>\n",
       "      <td>None</td>\n",
       "      <td>None</td>\n",
       "      <td>None</td>\n",
       "      <td>None</td>\n",
       "      <td>None</td>\n",
       "      <td>None</td>\n",
       "      <td>47.04921</td>\n",
       "      <td>p</td>\n",
       "    </tr>\n",
       "    <tr>\n",
       "      <th>4</th>\n",
       "      <td>k__Bacteria|p__Actinobacteria</td>\n",
       "      <td>0.31673</td>\n",
       "      <td>Bacteria</td>\n",
       "      <td>Actinobacteria</td>\n",
       "      <td>None</td>\n",
       "      <td>None</td>\n",
       "      <td>None</td>\n",
       "      <td>None</td>\n",
       "      <td>None</td>\n",
       "      <td>None</td>\n",
       "      <td>0.31673</td>\n",
       "      <td>p</td>\n",
       "    </tr>\n",
       "    <tr>\n",
       "      <th>5</th>\n",
       "      <td>k__Bacteria|p__Spirochaetes</td>\n",
       "      <td>0.06728</td>\n",
       "      <td>Bacteria</td>\n",
       "      <td>Spirochaetes</td>\n",
       "      <td>None</td>\n",
       "      <td>None</td>\n",
       "      <td>None</td>\n",
       "      <td>None</td>\n",
       "      <td>None</td>\n",
       "      <td>None</td>\n",
       "      <td>0.06728</td>\n",
       "      <td>p</td>\n",
       "    </tr>\n",
       "    <tr>\n",
       "      <th>6</th>\n",
       "      <td>k__Bacteria|p__Proteobacteria</td>\n",
       "      <td>0.04281</td>\n",
       "      <td>Bacteria</td>\n",
       "      <td>Proteobacteria</td>\n",
       "      <td>None</td>\n",
       "      <td>None</td>\n",
       "      <td>None</td>\n",
       "      <td>None</td>\n",
       "      <td>None</td>\n",
       "      <td>None</td>\n",
       "      <td>0.04281</td>\n",
       "      <td>p</td>\n",
       "    </tr>\n",
       "    <tr>\n",
       "      <th>7</th>\n",
       "      <td>k__Archaea|p__Euryarchaeota</td>\n",
       "      <td>0.01021</td>\n",
       "      <td>Archaea</td>\n",
       "      <td>Euryarchaeota</td>\n",
       "      <td>None</td>\n",
       "      <td>None</td>\n",
       "      <td>None</td>\n",
       "      <td>None</td>\n",
       "      <td>None</td>\n",
       "      <td>None</td>\n",
       "      <td>0.01021</td>\n",
       "      <td>p</td>\n",
       "    </tr>\n",
       "    <tr>\n",
       "      <th>8</th>\n",
       "      <td>k__Eukaryota|p__Eukaryota_noname</td>\n",
       "      <td>0.00403</td>\n",
       "      <td>Eukaryota</td>\n",
       "      <td>Eukaryota_noname</td>\n",
       "      <td>None</td>\n",
       "      <td>None</td>\n",
       "      <td>None</td>\n",
       "      <td>None</td>\n",
       "      <td>None</td>\n",
       "      <td>None</td>\n",
       "      <td>0.00403</td>\n",
       "      <td>p</td>\n",
       "    </tr>\n",
       "  </tbody>\n",
       "</table>\n",
       "</div>"
      ],
      "text/plain": [
       "                          #SampleID  Metaphlan2_Analysis          k  \\\n",
       "2      k__Bacteria|p__Bacteroidetes             52.50972   Bacteria   \n",
       "3         k__Bacteria|p__Firmicutes             47.04921   Bacteria   \n",
       "4     k__Bacteria|p__Actinobacteria              0.31673   Bacteria   \n",
       "5       k__Bacteria|p__Spirochaetes              0.06728   Bacteria   \n",
       "6     k__Bacteria|p__Proteobacteria              0.04281   Bacteria   \n",
       "7       k__Archaea|p__Euryarchaeota              0.01021    Archaea   \n",
       "8  k__Eukaryota|p__Eukaryota_noname              0.00403  Eukaryota   \n",
       "\n",
       "                  p     c     o     f     g     s     t     value level  \n",
       "2     Bacteroidetes  None  None  None  None  None  None  52.50972     p  \n",
       "3        Firmicutes  None  None  None  None  None  None  47.04921     p  \n",
       "4    Actinobacteria  None  None  None  None  None  None   0.31673     p  \n",
       "5      Spirochaetes  None  None  None  None  None  None   0.06728     p  \n",
       "6    Proteobacteria  None  None  None  None  None  None   0.04281     p  \n",
       "7     Euryarchaeota  None  None  None  None  None  None   0.01021     p  \n",
       "8  Eukaryota_noname  None  None  None  None  None  None   0.00403     p  "
      ]
     },
     "execution_count": 49,
     "metadata": {},
     "output_type": "execute_result"
    }
   ],
   "source": [
    "df_p"
   ]
  },
  {
   "cell_type": "code",
   "execution_count": null,
   "metadata": {},
   "outputs": [],
   "source": []
  }
 ],
 "metadata": {
  "kernelspec": {
   "display_name": "Python 3",
   "language": "python",
   "name": "python3"
  },
  "language_info": {
   "codemirror_mode": {
    "name": "ipython",
    "version": 3
   },
   "file_extension": ".py",
   "mimetype": "text/x-python",
   "name": "python",
   "nbconvert_exporter": "python",
   "pygments_lexer": "ipython3",
   "version": "3.6.6"
  }
 },
 "nbformat": 4,
 "nbformat_minor": 2
}
