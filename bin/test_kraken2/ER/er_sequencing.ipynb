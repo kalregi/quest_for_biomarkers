{
 "cells": [
  {
   "cell_type": "markdown",
   "metadata": {},
   "source": [
    "## PIPELINE\n",
    "\n",
    "### unix req:\n",
    "  - parallel\n",
    "  - perl, sed, sort, etc.)\n",
    "\n",
    "### Req.:\n",
    "  - FastQC\n",
    "  - MultiQC\n",
    "  - Kraken2\n",
    "  - Braken\n",
    "\n",
    "### python\n",
    "  - bipython\n",
    "  - seaborn\n",
    "  \n",
    "### Data requeriments\n",
    "  - Preprocessed, indexed 16S database (SILVA132)\n",
    "  - Taxonomy (i.e. NCBI)\n",
    "  "
   ]
  },
  {
   "cell_type": "code",
   "execution_count": 1,
   "metadata": {},
   "outputs": [],
   "source": [
    "# setting up the environment\n",
    "import os\n",
    "import re\n",
    "from multiprocessing import Pool\n",
    "from os.path import join, isfile, splitext\n",
    "from os import listdir\n",
    "import pandas as pd\n",
    "from IPython.core.display import display, HTML\n",
    "\n",
    "import sys\n",
    "sys.path.append('/home/ligeti/gitrepos/SE-MDR-Bacteria/bin/Klebsiella')\n",
    "\n",
    "from MicrobiomeAnalysisLibrary import *\n",
    "\n",
    "pd.set_option('display.max_rows', 1000)\n",
    "pd.set_option('display.max_columns', 5000)\n",
    "pd.set_option('display.width', 10000)\n",
    "pd.set_option('display.max_colwidth', -1)\n",
    "\n",
    "%load_ext autoreload\n",
    "%autoreload 2\n",
    "\n",
    "base_path = '/gfs/data/SE-OM/Ersebeszet'\n",
    "save_path = join(base_path, 'raw_fastq/')\n",
    "\n",
    "# QC outputs\n",
    "quality_control_output = join(base_path, 'raw_qc/')\n",
    "quality_control_summary_output = join(base_path, 'raw_multiqc/')\n",
    "trimmed_quality_control_output = join(base_path, 'trimmed_qc/')\n",
    "trimmed_quality_control_summary_output = join(base_path, 'trimmed_multiqc/')\n",
    "\n",
    "\n",
    "# trimming\n",
    "trimmed_path = join(base_path, 'trimmed_files/')\n",
    "trimmomatic_path = '/gfs/progs/Trimmomatic-0.36/trimmomatic-0.36.jar'\n",
    "trimmomatic_adapter_path = '/gfs/progs/Trimmomatic-0.36/adapters/TruSeq3-PE.fa'\n",
    "# parameters have been set after the QC\n",
    "trimmomatic_parameters = 'ILLUMINACLIP:{0}:2:12:5 LEADING:3 TRAILING:3 SLIDINGWINDOW:3:15 MINLEN:36 HEADCROP:12'.format(trimmomatic_adapter_path)\n",
    "\n",
    "# Kraken parameters:\n",
    "kraken_output_folder = join(base_path, 'trimmed_kraken')\n",
    "\n",
    "report_postfix = '.report.out'\n",
    "output_postfix = '.output.out'\n",
    "db_path = '/gfs/progs/kraken2/SILVAV132NR99'\n",
    "threads = 20\n",
    "other_flags = ['--fastq-input']\n",
    "\n",
    "# Bracken parameters\n",
    "bracken_output_folder = join(base_path, 'trimmed_bracken')\n",
    "bracken_db_length = 300\n",
    "bracken_report_levels = ['S', 'G', 'P','C','F']\n",
    "bracken_threshold = 20\n",
    "\n",
    "# Final output\n",
    "compressed_results = join(base_path, 'compressed_results')\n",
    "\n"
   ]
  },
  {
   "cell_type": "code",
   "execution_count": 5,
   "metadata": {},
   "outputs": [],
   "source": [
    "# Creating output directories\n",
    "\n",
    "if not os.path.exists(save_path):\n",
    "    os.makedirs(save_path)\n",
    "if not os.path.exists(quality_control_output):\n",
    "    os.makedirs(quality_control_output)\n",
    "if not os.path.exists(quality_control_summary_output):\n",
    "    os.makedirs(quality_control_summary_output)    \n",
    "if not os.path.exists(trimmed_path):\n",
    "    os.makedirs(trimmed_path)    \n",
    "if not os.path.exists(trimmed_quality_control_output):\n",
    "    os.makedirs(trimmed_quality_control_output)\n",
    "if not os.path.exists(trimmed_quality_control_summary_output):\n",
    "    os.makedirs(trimmed_quality_control_summary_output)\n",
    "\n",
    "if not os.path.exists(kraken_output_folder):\n",
    "    os.makedirs(kraken_output_folder)\n",
    "    \n",
    "if not os.path.exists(bracken_output_folder):\n",
    "    os.makedirs(bracken_output_folder)\n",
    "\n",
    "if not os.path.exists(compressed_results):\n",
    "    os.makedirs(compressed_results)"
   ]
  },
  {
   "cell_type": "code",
   "execution_count": null,
   "metadata": {},
   "outputs": [],
   "source": []
  },
  {
   "cell_type": "markdown",
   "metadata": {},
   "source": [
    "## Running QC with fastqc and multiQC\n",
    "\n",
    "<br>\n",
    "<img src=\"Pictures/Pipeline_small1.jpg\", width=800>"
   ]
  },
  {
   "cell_type": "code",
   "execution_count": null,
   "metadata": {},
   "outputs": [],
   "source": []
  },
  {
   "cell_type": "code",
   "execution_count": 8,
   "metadata": {},
   "outputs": [
    {
     "name": "stdout",
     "output_type": "stream",
     "text": [
      "Running raw fastqc: fastqc --outdir /gfs/data/SE-OM/Ersebeszet/raw_qc/      -t 20      /gfs/data/SE-OM/Ersebeszet/raw_fastq/*fastq     \n",
      "Running raw multiqc: multiqc -f --outdir /gfs/data/SE-OM/Ersebeszet/raw_multiqc/     /gfs/data/SE-OM/Ersebeszet/raw_qc/*     \n"
     ]
    }
   ],
   "source": [
    "run_qc(save_path, quality_control_output, quality_control_summary_output, default_fastq_ext='fastq')\n",
    "qc_table = get_qc_html_table(quality_control_output)\n"
   ]
  },
  {
   "cell_type": "code",
   "execution_count": 9,
   "metadata": {},
   "outputs": [
    {
     "data": {
      "text/html": [
       "<h1>QC summary:</h1> <a href=\"https://localhost:8888/files//gfs/data/SE-OM/Ersebeszet/raw_multiqc//multiqc_report.html\"> MultiQC results </a>  <p> (For details visit the documentation of multiQC <a href=\"https://multiqc.info\"> https://multiqc.info </a>) </p> <br><br> "
      ],
      "text/plain": [
       "<IPython.core.display.HTML object>"
      ]
     },
     "metadata": {},
     "output_type": "display_data"
    },
    {
     "data": {
      "text/html": [
       "<table border=\"1\" class=\"dataframe\">\n",
       "  <thead>\n",
       "    <tr style=\"text-align: right;\">\n",
       "      <th></th>\n",
       "      <th>ID</th>\n",
       "      <th>Forward Reads</th>\n",
       "      <th>Reverse Reads</th>\n",
       "    </tr>\n",
       "  </thead>\n",
       "  <tbody>\n",
       "    <tr>\n",
       "      <th>0</th>\n",
       "      <td>vasc1_S78_L001</td>\n",
       "      <td><a href=\"https://localhost:8888/files//gfs/data/SE-OM/Ersebeszet/raw_qc/vasc1_S78_L001_R1_001_fastqc.html\">vasc1_S78_L001_R1_001_fastqc.html</a></td>\n",
       "      <td><a href=\"https://localhost:8888/files//gfs/data/SE-OM/Ersebeszet/raw_qc/vasc1_S78_L001_R2_001_fastqc.html\">vasc1_S78_L001_R2_001_fastqc.html</a></td>\n",
       "    </tr>\n",
       "    <tr>\n",
       "      <th>1</th>\n",
       "      <td>vasc2_S79_L001</td>\n",
       "      <td><a href=\"https://localhost:8888/files//gfs/data/SE-OM/Ersebeszet/raw_qc/vasc2_S79_L001_R1_001_fastqc.html\">vasc2_S79_L001_R1_001_fastqc.html</a></td>\n",
       "      <td><a href=\"https://localhost:8888/files//gfs/data/SE-OM/Ersebeszet/raw_qc/vasc2_S79_L001_R2_001_fastqc.html\">vasc2_S79_L001_R2_001_fastqc.html</a></td>\n",
       "    </tr>\n",
       "    <tr>\n",
       "      <th>2</th>\n",
       "      <td>vasc3_S80_L001</td>\n",
       "      <td><a href=\"https://localhost:8888/files//gfs/data/SE-OM/Ersebeszet/raw_qc/vasc3_S80_L001_R1_001_fastqc.html\">vasc3_S80_L001_R1_001_fastqc.html</a></td>\n",
       "      <td><a href=\"https://localhost:8888/files//gfs/data/SE-OM/Ersebeszet/raw_qc/vasc3_S80_L001_R2_001_fastqc.html\">vasc3_S80_L001_R2_001_fastqc.html</a></td>\n",
       "    </tr>\n",
       "  </tbody>\n",
       "</table><br><br><br>"
      ],
      "text/plain": [
       "<IPython.core.display.HTML object>"
      ]
     },
     "execution_count": 9,
     "metadata": {},
     "output_type": "execute_result"
    }
   ],
   "source": [
    "# Generating links to the results\n",
    "multi_qc_results_link = '<h1>QC summary:</h1> <a href=\"https://localhost:8888/files/{0}/multiqc_report.html\"> {1} </a> \\\n",
    " <p> (For details visit the documentation of multiQC <a href=\"https://multiqc.info\"> https://multiqc.info </a>) </p> <br><br>\\\n",
    " '.format(quality_control_summary_output,'MultiQC results')\n",
    "display(HTML(multi_qc_results_link))\n",
    "HTML(qc_table.to_html(escape=False) + '<br><br><br>')\n",
    "\n"
   ]
  },
  {
   "cell_type": "markdown",
   "metadata": {},
   "source": [
    "## Step 2: Preprocessing the reads\n",
    "\n",
    "<br>\n",
    "<img src=\"Pictures/Pipeline_small1.jpg\", width=800>\n"
   ]
  },
  {
   "cell_type": "code",
   "execution_count": 10,
   "metadata": {},
   "outputs": [
    {
     "name": "stdout",
     "output_type": "stream",
     "text": [
      "Running raw fastqc: fastqc --outdir /gfs/data/SE-OM/Ersebeszet/trimmed_qc/      -t 20      /gfs/data/SE-OM/Ersebeszet/trimmed_files/*fastq     \n",
      "Running raw multiqc: multiqc -f --outdir /gfs/data/SE-OM/Ersebeszet/trimmed_multiqc/     /gfs/data/SE-OM/Ersebeszet/trimmed_qc/*     \n"
     ]
    }
   ],
   "source": [
    "# run trimmomatic\n",
    "# building the pairs\n",
    "prefix_to_pair = get_illumina_pairs(save_path)\n",
    "prefix_to_pair\n",
    "trim_cmds = [get_trimmomatic_cmd_default(trimmed_path, fastq_files, trimmomatic_path, trimmomatic_parameters) for act_sample, fastq_files in prefix_to_pair.items()]\n",
    "with  Pool(15) as p:\n",
    "    p.map(os.system, trim_cmds)\n",
    "# running QC on filtered data\n",
    "run_qc(trimmed_path, trimmed_quality_control_output, trimmed_quality_control_summary_output, default_fastq_ext='fastq')\n",
    "trimmed_qc_table = get_qc_html_table(trimmed_quality_control_output)\n"
   ]
  },
  {
   "cell_type": "code",
   "execution_count": 11,
   "metadata": {},
   "outputs": [
    {
     "data": {
      "text/html": [
       "<h1>QC summary:</h1> <a href=\"https://localhost:8888/files//gfs/data/SE-OM/Ersebeszet/trimmed_multiqc/multiqc_report.html\"> MultiQC results </a>  <p> (For details visit the documentation of multiQC <a href=\"https://multiqc.info\"> https://multiqc.info </a>) </p> <br><br> "
      ],
      "text/plain": [
       "<IPython.core.display.HTML object>"
      ]
     },
     "metadata": {},
     "output_type": "display_data"
    },
    {
     "data": {
      "text/html": [
       "<table border=\"1\" class=\"dataframe\">\n",
       "  <thead>\n",
       "    <tr style=\"text-align: right;\">\n",
       "      <th></th>\n",
       "      <th>ID</th>\n",
       "      <th>Forward Reads</th>\n",
       "      <th>Reverse Reads</th>\n",
       "    </tr>\n",
       "  </thead>\n",
       "  <tbody>\n",
       "    <tr>\n",
       "      <th>0</th>\n",
       "      <td>vasc1_S78_L001</td>\n",
       "      <td><a href=\"https://localhost:8888/files//gfs/data/SE-OM/Ersebeszet/trimmed_qc/vasc1_S78_L001_R1_001.trimmed_fastqc.html\">vasc1_S78_L001_R1_001.trimmed_fastqc.html</a></td>\n",
       "      <td><a href=\"https://localhost:8888/files//gfs/data/SE-OM/Ersebeszet/trimmed_qc/vasc1_S78_L001_R2_001.trimmed_fastqc.html\">vasc1_S78_L001_R2_001.trimmed_fastqc.html</a></td>\n",
       "    </tr>\n",
       "    <tr>\n",
       "      <th>1</th>\n",
       "      <td>vasc2_S79_L001</td>\n",
       "      <td><a href=\"https://localhost:8888/files//gfs/data/SE-OM/Ersebeszet/trimmed_qc/vasc2_S79_L001_R1_001.trimmed_fastqc.html\">vasc2_S79_L001_R1_001.trimmed_fastqc.html</a></td>\n",
       "      <td><a href=\"https://localhost:8888/files//gfs/data/SE-OM/Ersebeszet/trimmed_qc/vasc2_S79_L001_R2_001.trimmed_fastqc.html\">vasc2_S79_L001_R2_001.trimmed_fastqc.html</a></td>\n",
       "    </tr>\n",
       "    <tr>\n",
       "      <th>2</th>\n",
       "      <td>vasc3_S80_L001</td>\n",
       "      <td><a href=\"https://localhost:8888/files//gfs/data/SE-OM/Ersebeszet/trimmed_qc/vasc3_S80_L001_R1_001.trimmed_fastqc.html\">vasc3_S80_L001_R1_001.trimmed_fastqc.html</a></td>\n",
       "      <td><a href=\"https://localhost:8888/files//gfs/data/SE-OM/Ersebeszet/trimmed_qc/vasc3_S80_L001_R2_001.trimmed_fastqc.html\">vasc3_S80_L001_R2_001.trimmed_fastqc.html</a></td>\n",
       "    </tr>\n",
       "  </tbody>\n",
       "</table><br><br>"
      ],
      "text/plain": [
       "<IPython.core.display.HTML object>"
      ]
     },
     "execution_count": 11,
     "metadata": {},
     "output_type": "execute_result"
    }
   ],
   "source": [
    "# Generating links to the results\n",
    "multi_qc_results_link = '<h1>QC summary:</h1> <a href=\"https://localhost:8888/files/{0}\"> {1} </a> \\\n",
    " <p> (For details visit the documentation of multiQC <a href=\"https://multiqc.info\"> https://multiqc.info </a>) </p> <br><br>\\\n",
    " '.format(join(trimmed_quality_control_summary_output, 'multiqc_report.html'),'MultiQC results')\n",
    "display(HTML(multi_qc_results_link))\n",
    "HTML(trimmed_qc_table.to_html(escape=False) + '<br><br>')"
   ]
  },
  {
   "cell_type": "markdown",
   "metadata": {},
   "source": [
    "# Step 4 - Identifying taxa with Kraken2 and Bracken\n",
    "\n",
    "\n",
    "<br>\n",
    "<img src=\"Pictures/Pipeline_small1.jpg\", width=800>\n"
   ]
  },
  {
   "cell_type": "code",
   "execution_count": 12,
   "metadata": {},
   "outputs": [
    {
     "name": "stdout",
     "output_type": "stream",
     "text": [
      "/gfs/progs/kraken2/kraken2                    --report /gfs/data/SE-OM/Ersebeszet/trimmed_kraken/vasc1_S78_L001.report.out                   --output /gfs/data/SE-OM/Ersebeszet/trimmed_kraken/vasc1_S78_L001.output.out                   --db /gfs/progs/kraken2/SILVAV132NR99                   --threads 20                   --fastq-input                   --paired /gfs/data/SE-OM/Ersebeszet/trimmed_files/vasc1_S78_L001_R1_001.trimmed.fastq /gfs/data/SE-OM/Ersebeszet/trimmed_files/vasc1_S78_L001_R2_001.trimmed.fastq\n",
      "/gfs/progs/kraken2/kraken2                    --report /gfs/data/SE-OM/Ersebeszet/trimmed_kraken/vasc2_S79_L001.report.out                   --output /gfs/data/SE-OM/Ersebeszet/trimmed_kraken/vasc2_S79_L001.output.out                   --db /gfs/progs/kraken2/SILVAV132NR99                   --threads 20                   --fastq-input                   --paired /gfs/data/SE-OM/Ersebeszet/trimmed_files/vasc2_S79_L001_R1_001.trimmed.fastq /gfs/data/SE-OM/Ersebeszet/trimmed_files/vasc2_S79_L001_R2_001.trimmed.fastq\n",
      "/gfs/progs/kraken2/kraken2                    --report /gfs/data/SE-OM/Ersebeszet/trimmed_kraken/vasc3_S80_L001.report.out                   --output /gfs/data/SE-OM/Ersebeszet/trimmed_kraken/vasc3_S80_L001.output.out                   --db /gfs/progs/kraken2/SILVAV132NR99                   --threads 20                   --fastq-input                   --paired /gfs/data/SE-OM/Ersebeszet/trimmed_files/vasc3_S80_L001_R1_001.trimmed.fastq /gfs/data/SE-OM/Ersebeszet/trimmed_files/vasc3_S80_L001_R2_001.trimmed.fastq\n"
     ]
    }
   ],
   "source": [
    "prefix_to_trimmed_pair = get_illumina_pairs(trimmed_path)\n",
    "kraken_report_files = run_kraken2_program(kraken_output_folder, prefix_to_trimmed_pair, 20, db_path, other_flags)"
   ]
  },
  {
   "cell_type": "code",
   "execution_count": 13,
   "metadata": {},
   "outputs": [],
   "source": [
    "# generating BRACKEN files\n",
    "report_levels = ['S', 'G', 'P','C','F']\n",
    "bracken_cmds = []\n",
    "for act_sample_id, act_report in kraken_report_files.items():\n",
    "    for act_level in report_levels:\n",
    "        act_bracken_output = join(bracken_output_folder, act_sample_id + '_' +  act_level + '.bracken_report.txt')\n",
    "        bracken_cmd = 'bracken \\\n",
    "          -d {0} \\\n",
    "          -i {1} \\\n",
    "          -o {2} \\\n",
    "          -l {3} \\\n",
    "          -r {4} \\\n",
    "          -t {5} \\\n",
    "          '.format(db_path, act_report, act_bracken_output, act_level, bracken_db_length, bracken_threshold)\n",
    "        \n",
    "        bracken_cmds.append(bracken_cmd)\n",
    "        #os.system(bracken_cmd)\n",
    "\n",
    "with  Pool(threads) as p:\n",
    "    p.map(os.system, bracken_cmds)"
   ]
  },
  {
   "cell_type": "markdown",
   "metadata": {},
   "source": [
    "# Step 5 - postprocessing the bracken file"
   ]
  },
  {
   "cell_type": "code",
   "execution_count": 3,
   "metadata": {},
   "outputs": [],
   "source": [
    "bracken_filenames = sorted([f for path, dfd, filenames in os.walk(bracken_output_folder) for f in filenames if f.endswith('bracken_report.txt')])\n",
    "# Metadata\n",
    "metadata_file = join(base_path, 'metadata', 'er_sample_metadata.xlsx')\n",
    "metadata = pd.read_excel(metadata_file)\n",
    "\n",
    "# concatenated results\n",
    "taxa_profile_file = join(base_path, 'taxa_profile.tsv')\n"
   ]
  },
  {
   "cell_type": "code",
   "execution_count": 17,
   "metadata": {},
   "outputs": [
    {
     "data": {
      "text/html": [
       "<div>\n",
       "<style scoped>\n",
       "    .dataframe tbody tr th:only-of-type {\n",
       "        vertical-align: middle;\n",
       "    }\n",
       "\n",
       "    .dataframe tbody tr th {\n",
       "        vertical-align: top;\n",
       "    }\n",
       "\n",
       "    .dataframe thead th {\n",
       "        text-align: right;\n",
       "    }\n",
       "</style>\n",
       "<table border=\"1\" class=\"dataframe\">\n",
       "  <thead>\n",
       "    <tr style=\"text-align: right;\">\n",
       "      <th></th>\n",
       "      <th>mouse_id</th>\n",
       "      <th>Dataset prefix</th>\n",
       "      <th>Treatment</th>\n",
       "    </tr>\n",
       "  </thead>\n",
       "  <tbody>\n",
       "    <tr>\n",
       "      <th>0</th>\n",
       "      <td>V1</td>\n",
       "      <td>vasc1_S78</td>\n",
       "      <td>nav</td>\n",
       "    </tr>\n",
       "    <tr>\n",
       "      <th>1</th>\n",
       "      <td>V2</td>\n",
       "      <td>vasc2_S79</td>\n",
       "      <td>nav</td>\n",
       "    </tr>\n",
       "    <tr>\n",
       "      <th>2</th>\n",
       "      <td>V3</td>\n",
       "      <td>vasc3_S80</td>\n",
       "      <td>nav</td>\n",
       "    </tr>\n",
       "  </tbody>\n",
       "</table>\n",
       "</div>"
      ],
      "text/plain": [
       "  mouse_id Dataset prefix Treatment\n",
       "0  V1       vasc1_S78      nav     \n",
       "1  V2       vasc2_S79      nav     \n",
       "2  V3       vasc3_S80      nav     "
      ]
     },
     "execution_count": 17,
     "metadata": {},
     "output_type": "execute_result"
    }
   ],
   "source": [
    "metadata.head()"
   ]
  },
  {
   "cell_type": "code",
   "execution_count": 4,
   "metadata": {},
   "outputs": [],
   "source": [
    "# Mapping the results with the metadata\n",
    "\n",
    "prefixes = list(metadata['Dataset prefix'])\n",
    "filename2prefixes = {}\n",
    "\n",
    "for filename in bracken_filenames:\n",
    "    mapped_ids = []\n",
    "    filename2prefixes[filename]=[]\n",
    "    for prefix in prefixes:\n",
    "        if filename.startswith(prefix): # prefix in filename:\n",
    "            filename2prefixes[filename].append(prefix)\n",
    "    if len(filename2prefixes[filename]) > 1:\n",
    "        print('Unexpected multiplicities!!!!')\n",
    "        print(filename2prefixes[filename])\n",
    "    \n",
    "\n",
    "filename2dataset_id = pd.DataFrame.from_dict(filename2prefixes, orient='index').reset_index()\n",
    "filename2dataset_id.columns = ['filename', 'dataset_id']"
   ]
  },
  {
   "cell_type": "code",
   "execution_count": null,
   "metadata": {},
   "outputs": [],
   "source": []
  },
  {
   "cell_type": "code",
   "execution_count": 5,
   "metadata": {},
   "outputs": [],
   "source": [
    "# Reading the files and converting into a common taxa file\n",
    "bracken_results = []\n",
    "for filename in bracken_filenames:\n",
    "    act_bracken = pd.read_csv(join(bracken_output_folder,filename), sep='\\t')\n",
    "    act_bracken['filename'] = filename\n",
    "    act_bracken_id = act_bracken.merge(filename2dataset_id, how='left', left_on = 'filename', right_on = 'filename')\n",
    "    bracken_results.append(act_bracken_id)    \n",
    "bracken_results = pd.concat(bracken_results)\n",
    "bracken_results = bracken_results.merge(metadata, how='left', left_on = 'dataset_id', right_on = 'Dataset prefix')\n",
    "bracken_results.to_csv(taxa_profile_file, index=False, sep='\\t')"
   ]
  },
  {
   "cell_type": "markdown",
   "metadata": {},
   "source": [
    "# generate downloadable and portable output\n"
   ]
  },
  {
   "cell_type": "code",
   "execution_count": 7,
   "metadata": {},
   "outputs": [
    {
     "data": {
      "text/plain": [
       "0"
      ]
     },
     "execution_count": 7,
     "metadata": {},
     "output_type": "execute_result"
    }
   ],
   "source": [
    "# generate downloadable and portable output\n",
    "compressed_reports_cmd = 'zip {0} {1}'.format(join(compressed_results, 'kraken2_reports.out.zip'), join(kraken_output_folder, '*.report.out'))\n",
    "compressed_outputs_cmd = 'zip {0} {1}'.format(join(compressed_results, 'kraken2_output.out.zip'), join(kraken_output_folder, '*.output.out'))\n",
    "compressed_bracken_results_cmd = 'zip {0} {1}'.format(join(compressed_results, 'bracken_output.out.zip'), join(bracken_output_folder, '*.txt'))\n",
    "\n",
    "\n",
    "os.system(compressed_reports_cmd)\n",
    "os.system(compressed_outputs_cmd)\n",
    "os.system(compressed_bracken_results_cmd)\n",
    "\n"
   ]
  },
  {
   "cell_type": "code",
   "execution_count": null,
   "metadata": {},
   "outputs": [],
   "source": []
  }
 ],
 "metadata": {
  "kernelspec": {
   "display_name": "Python 3",
   "language": "python",
   "name": "python3"
  },
  "language_info": {
   "codemirror_mode": {
    "name": "ipython",
    "version": 3
   },
   "file_extension": ".py",
   "mimetype": "text/x-python",
   "name": "python",
   "nbconvert_exporter": "python",
   "pygments_lexer": "ipython3",
   "version": "3.6.6"
  }
 },
 "nbformat": 4,
 "nbformat_minor": 2
}
