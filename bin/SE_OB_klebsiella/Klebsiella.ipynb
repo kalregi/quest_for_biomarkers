{
 "cells": [
  {
   "cell_type": "code",
   "execution_count": 62,
   "metadata": {},
   "outputs": [],
   "source": [
    "import pandas as pd\n",
    "import os\n",
    "import seaborn as sns\n",
    "from skbio.diversity import alpha_diversity\n",
    "from skbio.diversity import beta_diversity\n",
    "from skbio import TreeNode\n",
    "from io import StringIO"
   ]
  },
  {
   "cell_type": "markdown",
   "metadata": {},
   "source": [
    "Metaadatok beolvasása"
   ]
  },
  {
   "cell_type": "code",
   "execution_count": 3,
   "metadata": {},
   "outputs": [
    {
     "data": {
      "text/html": [
       "<div>\n",
       "<style scoped>\n",
       "    .dataframe tbody tr th:only-of-type {\n",
       "        vertical-align: middle;\n",
       "    }\n",
       "\n",
       "    .dataframe tbody tr th {\n",
       "        vertical-align: top;\n",
       "    }\n",
       "\n",
       "    .dataframe thead th {\n",
       "        text-align: right;\n",
       "    }\n",
       "</style>\n",
       "<table border=\"1\" class=\"dataframe\">\n",
       "  <thead>\n",
       "    <tr style=\"text-align: right;\">\n",
       "      <th></th>\n",
       "      <th>#SampleID</th>\n",
       "      <th>MouseId</th>\n",
       "      <th>TSampleId</th>\n",
       "      <th>Treatment</th>\n",
       "      <th>TreatmentDate</th>\n",
       "      <th>TreatmentDateCat</th>\n",
       "      <th>TreatmentExt</th>\n",
       "      <th>MiSeqId2</th>\n",
       "    </tr>\n",
       "  </thead>\n",
       "  <tbody>\n",
       "    <tr>\n",
       "      <th>0</th>\n",
       "      <td>1</td>\n",
       "      <td>Ciprofloxacin_0.1_1</td>\n",
       "      <td>1_S1</td>\n",
       "      <td>Ciprofloxacin_0.1</td>\n",
       "      <td>6/22/2018</td>\n",
       "      <td>622.0</td>\n",
       "      <td>Ciprofloxacin_0.1_622</td>\n",
       "      <td>1</td>\n",
       "    </tr>\n",
       "    <tr>\n",
       "      <th>1</th>\n",
       "      <td>2</td>\n",
       "      <td>Ciprofloxacin_0.1_2</td>\n",
       "      <td>2_S2</td>\n",
       "      <td>Ciprofloxacin_0.1</td>\n",
       "      <td>6/22/2018</td>\n",
       "      <td>622.0</td>\n",
       "      <td>Ciprofloxacin_0.1_622</td>\n",
       "      <td>2</td>\n",
       "    </tr>\n",
       "    <tr>\n",
       "      <th>2</th>\n",
       "      <td>3</td>\n",
       "      <td>Ciprofloxacin_0.1_3</td>\n",
       "      <td>3_S3</td>\n",
       "      <td>Ciprofloxacin_0.1</td>\n",
       "      <td>6/22/2018</td>\n",
       "      <td>622.0</td>\n",
       "      <td>Ciprofloxacin_0.1_622</td>\n",
       "      <td>3</td>\n",
       "    </tr>\n",
       "    <tr>\n",
       "      <th>3</th>\n",
       "      <td>4</td>\n",
       "      <td>Ciprofloxacin_0.1_4</td>\n",
       "      <td>4_S4</td>\n",
       "      <td>Ciprofloxacin_0.1</td>\n",
       "      <td>6/22/2018</td>\n",
       "      <td>622.0</td>\n",
       "      <td>Ciprofloxacin_0.1_622</td>\n",
       "      <td>4</td>\n",
       "    </tr>\n",
       "    <tr>\n",
       "      <th>4</th>\n",
       "      <td>5</td>\n",
       "      <td>Ciprofloxacin_0.1_5</td>\n",
       "      <td>5_S5</td>\n",
       "      <td>Ciprofloxacin_0.1</td>\n",
       "      <td>6/22/2018</td>\n",
       "      <td>622.0</td>\n",
       "      <td>Ciprofloxacin_0.1_622</td>\n",
       "      <td>5</td>\n",
       "    </tr>\n",
       "  </tbody>\n",
       "</table>\n",
       "</div>"
      ]
     },
     "output_type": "execute_result",
     "metadata": {}
    }
   ],
   "source": [
    "path_to_metadata = 'metadata_table.txt'\n",
    "meta_df = pd.read_csv(path_to_metadata, delimiter = '\\t', skiprows = [1])\n",
    "meta_df.head()"
   ]
  },
  {
   "cell_type": "markdown",
   "metadata": {},
   "source": [
    "Sample adatok beolvasása"
   ]
  },
  {
   "cell_type": "markdown",
   "metadata": {},
   "source": [
    "Egy adott fájl feldolgozása"
   ]
  },
  {
   "cell_type": "code",
   "execution_count": 27,
   "metadata": {},
   "outputs": [],
   "source": [
    "def get_data_for_sample(path_to_file):\n",
    "    df = pd.read_csv(path_to_file, delimiter = '\\t')\n",
    "    sample_id = '_'.join(path_to_file.split('/')[-1].split('_')[0:2])\n",
    "    df['TSampleId'] = sample_id\n",
    "    not_found_files = set()\n",
    "    try:\n",
    "        df['Treatment'] = meta_df.loc[meta_df['TSampleId'] == sample_id]['Treatment'].item()\n",
    "        df = df[['TSampleId', 'Treatment', 'name', 'taxonomy_lvl', 'new_est_reads', 'fraction_total_reads']]\n",
    "        return df\n",
    "    except: \n",
    "        #print(meta_df.loc[meta_df['TSampleId'] == sample_id]['Treatment'])\n",
    "        #print(\"Not found file: \", sample_id)\n",
    "        pass"
   ]
  },
  {
   "cell_type": "markdown",
   "metadata": {},
   "source": [
    "Szükséges fájlok összegyűjtése"
   ]
  },
  {
   "cell_type": "code",
   "execution_count": 12,
   "metadata": {},
   "outputs": [],
   "source": [
    "path = '//gfs/data/SE-OM/Klebsiella/trimmed_bracken/'\n",
    "\n",
    "files = []\n",
    "# r=root, d=directories, f = files\n",
    "for r, d, f in os.walk(path):\n",
    "    for file in f:\n",
    "        if '.txt' in file:\n",
    "            files.append(os.path.join(r, file))"
   ]
  },
  {
   "cell_type": "markdown",
   "metadata": {},
   "source": [
    "Fájlok beolvasása és egy dataframebe gyűjtése"
   ]
  },
  {
   "cell_type": "code",
   "execution_count": 28,
   "metadata": {},
   "outputs": [],
   "source": [
    "df_list = []\n",
    "for file in files:\n",
    "    df = get_data_for_sample(file)\n",
    "    if df is not None:\n",
    "        df_list.append(get_data_for_sample(file))\n",
    "df_union_all= pd.concat(df_list)"
   ]
  },
  {
   "cell_type": "code",
   "execution_count": 18,
   "metadata": {},
   "outputs": [
    {
     "data": {
      "text/html": [
       "<div>\n",
       "<style scoped>\n",
       "    .dataframe tbody tr th:only-of-type {\n",
       "        vertical-align: middle;\n",
       "    }\n",
       "\n",
       "    .dataframe tbody tr th {\n",
       "        vertical-align: top;\n",
       "    }\n",
       "\n",
       "    .dataframe thead th {\n",
       "        text-align: right;\n",
       "    }\n",
       "</style>\n",
       "<table border=\"1\" class=\"dataframe\">\n",
       "  <thead>\n",
       "    <tr style=\"text-align: right;\">\n",
       "      <th></th>\n",
       "      <th>TSampleId</th>\n",
       "      <th>Treatment</th>\n",
       "      <th>name</th>\n",
       "      <th>taxonomy_lvl</th>\n",
       "      <th>new_est_reads</th>\n",
       "      <th>fraction_total_reads</th>\n",
       "    </tr>\n",
       "  </thead>\n",
       "  <tbody>\n",
       "    <tr>\n",
       "      <th>0</th>\n",
       "      <td>19_S19</td>\n",
       "      <td>Ceftazidime_0.1</td>\n",
       "      <td>Muribaculaceae</td>\n",
       "      <td>F</td>\n",
       "      <td>65203</td>\n",
       "      <td>0.49823</td>\n",
       "    </tr>\n",
       "    <tr>\n",
       "      <th>1</th>\n",
       "      <td>19_S19</td>\n",
       "      <td>Ceftazidime_0.1</td>\n",
       "      <td>Bacteroidaceae</td>\n",
       "      <td>F</td>\n",
       "      <td>27395</td>\n",
       "      <td>0.20934</td>\n",
       "    </tr>\n",
       "    <tr>\n",
       "      <th>2</th>\n",
       "      <td>19_S19</td>\n",
       "      <td>Ceftazidime_0.1</td>\n",
       "      <td>Prevotellaceae</td>\n",
       "      <td>F</td>\n",
       "      <td>17232</td>\n",
       "      <td>0.13167</td>\n",
       "    </tr>\n",
       "    <tr>\n",
       "      <th>3</th>\n",
       "      <td>19_S19</td>\n",
       "      <td>Ceftazidime_0.1</td>\n",
       "      <td>Rikenellaceae</td>\n",
       "      <td>F</td>\n",
       "      <td>1421</td>\n",
       "      <td>0.01086</td>\n",
       "    </tr>\n",
       "    <tr>\n",
       "      <th>4</th>\n",
       "      <td>19_S19</td>\n",
       "      <td>Ceftazidime_0.1</td>\n",
       "      <td>Tannerellaceae</td>\n",
       "      <td>F</td>\n",
       "      <td>1595</td>\n",
       "      <td>0.01219</td>\n",
       "    </tr>\n",
       "  </tbody>\n",
       "</table>\n",
       "</div>"
      ]
     },
     "output_type": "execute_result",
     "metadata": {}
    }
   ],
   "source": [
    "df_union_all.head()"
   ]
  },
  {
   "cell_type": "markdown",
   "metadata": {},
   "source": [
    "Egy szint kiválasztása: P (Pyhulm)"
   ]
  },
  {
   "cell_type": "code",
   "execution_count": 19,
   "metadata": {},
   "outputs": [],
   "source": [
    "df_P = df_union_all.loc[df_union_all['taxonomy_lvl'] == 'P']"
   ]
  },
  {
   "cell_type": "code",
   "execution_count": 20,
   "metadata": {},
   "outputs": [
    {
     "data": {
      "text/html": [
       "<div>\n",
       "<style scoped>\n",
       "    .dataframe tbody tr th:only-of-type {\n",
       "        vertical-align: middle;\n",
       "    }\n",
       "\n",
       "    .dataframe tbody tr th {\n",
       "        vertical-align: top;\n",
       "    }\n",
       "\n",
       "    .dataframe thead th {\n",
       "        text-align: right;\n",
       "    }\n",
       "</style>\n",
       "<table border=\"1\" class=\"dataframe\">\n",
       "  <thead>\n",
       "    <tr style=\"text-align: right;\">\n",
       "      <th></th>\n",
       "      <th>TSampleId</th>\n",
       "      <th>Treatment</th>\n",
       "      <th>name</th>\n",
       "      <th>taxonomy_lvl</th>\n",
       "      <th>new_est_reads</th>\n",
       "      <th>fraction_total_reads</th>\n",
       "    </tr>\n",
       "  </thead>\n",
       "  <tbody>\n",
       "    <tr>\n",
       "      <th>0</th>\n",
       "      <td>11_S11</td>\n",
       "      <td>Ciprofloxacin_0.5</td>\n",
       "      <td>Bacteroidetes</td>\n",
       "      <td>P</td>\n",
       "      <td>127506</td>\n",
       "      <td>0.70613</td>\n",
       "    </tr>\n",
       "    <tr>\n",
       "      <th>1</th>\n",
       "      <td>11_S11</td>\n",
       "      <td>Ciprofloxacin_0.5</td>\n",
       "      <td>Firmicutes</td>\n",
       "      <td>P</td>\n",
       "      <td>25400</td>\n",
       "      <td>0.14067</td>\n",
       "    </tr>\n",
       "    <tr>\n",
       "      <th>2</th>\n",
       "      <td>11_S11</td>\n",
       "      <td>Ciprofloxacin_0.5</td>\n",
       "      <td>Verrucomicrobia</td>\n",
       "      <td>P</td>\n",
       "      <td>18288</td>\n",
       "      <td>0.10128</td>\n",
       "    </tr>\n",
       "    <tr>\n",
       "      <th>3</th>\n",
       "      <td>11_S11</td>\n",
       "      <td>Ciprofloxacin_0.5</td>\n",
       "      <td>Proteobacteria</td>\n",
       "      <td>P</td>\n",
       "      <td>7759</td>\n",
       "      <td>0.04297</td>\n",
       "    </tr>\n",
       "    <tr>\n",
       "      <th>4</th>\n",
       "      <td>11_S11</td>\n",
       "      <td>Ciprofloxacin_0.5</td>\n",
       "      <td>Cyanobacteria</td>\n",
       "      <td>P</td>\n",
       "      <td>1013</td>\n",
       "      <td>0.00561</td>\n",
       "    </tr>\n",
       "  </tbody>\n",
       "</table>\n",
       "</div>"
      ]
     },
     "output_type": "execute_result",
     "metadata": {}
    }
   ],
   "source": [
    "df_P.head()"
   ]
  },
  {
   "cell_type": "code",
   "execution_count": 24,
   "metadata": {},
   "outputs": [
    {
     "data": {
      "text/plain": [
       "0    11_S11\n",
       "0    18_S18\n",
       "0    30_S30\n",
       "0    24_S24\n",
       "0    33_S33\n",
       "Name: TSampleId, dtype: object"
      ]
     },
     "execution_count": 24,
     "output_type": "execute_result",
     "metadata": {}
    }
   ],
   "source": [
    "sampleids = df_P[\"TSampleId\"].drop_duplicates()\n",
    "sampleids.head()"
   ]
  },
  {
   "cell_type": "code",
   "execution_count": 30,
   "metadata": {},
   "outputs": [
    {
     "data": {
      "text/plain": [
       "['Acidobacteria', 'Actinobacteria', 'Armatimonadetes', 'BRC1', 'Bacteroidetes']"
      ]
     },
     "execution_count": 30,
     "output_type": "execute_result",
     "metadata": {}
    }
   ],
   "source": [
    "names = df_P[\"name\"].drop_duplicates()\n",
    "names = list(names)\n",
    "names.sort()\n",
    "names[0:5]"
   ]
  },
  {
   "cell_type": "markdown",
   "metadata": {},
   "source": [
    "Adathalmaz mátrix létrehozása"
   ]
  },
  {
   "cell_type": "code",
   "execution_count": 31,
   "metadata": {},
   "outputs": [],
   "source": [
    "data = []\n",
    "for sample in sampleids:\n",
    "    rows = df_P.loc[df_P[\"TSampleId\"] == sample]\n",
    "    values = []\n",
    "    for name in names:\n",
    "        value = rows.loc[rows[\"name\"] == name]\n",
    "        if len(value) > 0:\n",
    "            try:\n",
    "                values.append(int(value.new_est_reads))\n",
    "            except:\n",
    "                print(value.new_est_reads)\n",
    "        else:\n",
    "            values.append(0)\n",
    "    data.append(values)"
   ]
  },
  {
   "cell_type": "code",
   "execution_count": 34,
   "metadata": {},
   "outputs": [],
   "source": [
    "ids = sampleids"
   ]
  },
  {
   "cell_type": "markdown",
   "metadata": {},
   "source": [
    "Observed otus alpha diverzitás számolása"
   ]
  },
  {
   "cell_type": "code",
   "execution_count": 36,
   "metadata": {},
   "outputs": [],
   "source": [
    "adiv_obs_otus = alpha_diversity('observed_otus', data, ids)"
   ]
  },
  {
   "cell_type": "code",
   "execution_count": 38,
   "metadata": {},
   "outputs": [
    {
     "data": {
      "text/plain": [
       "TSampleId\n",
       "11_S11    13\n",
       "18_S18    13\n",
       "30_S30    11\n",
       "24_S24    11\n",
       "33_S33    12\n",
       "dtype: int64"
      ]
     },
     "execution_count": 38,
     "output_type": "execute_result",
     "metadata": {}
    }
   ],
   "source": [
    "adiv_obs_otus.head()"
   ]
  },
  {
   "cell_type": "markdown",
   "metadata": {},
   "source": [
    "Metaadatok csatolása és eredmény ábrázolása"
   ]
  },
  {
   "cell_type": "code",
   "execution_count": 57,
   "metadata": {},
   "outputs": [],
   "source": [
    "meta = meta_df\n",
    "meta.index = meta[\"TSampleId\"]\n",
    "joined = meta[[\"TSampleId\", \"MouseId\", \"Treatment\"]].join(pd.DataFrame(adiv_obs_otus))\n",
    "joined[\"ADIV\"] = joined[0]\n",
    "joined = joined.drop(columns=[0])"
   ]
  },
  {
   "cell_type": "code",
   "execution_count": 58,
   "metadata": {},
   "outputs": [
    {
     "data": {
      "text/html": [
       "<div>\n",
       "<style scoped>\n",
       "    .dataframe tbody tr th:only-of-type {\n",
       "        vertical-align: middle;\n",
       "    }\n",
       "\n",
       "    .dataframe tbody tr th {\n",
       "        vertical-align: top;\n",
       "    }\n",
       "\n",
       "    .dataframe thead th {\n",
       "        text-align: right;\n",
       "    }\n",
       "</style>\n",
       "<table border=\"1\" class=\"dataframe\">\n",
       "  <thead>\n",
       "    <tr style=\"text-align: right;\">\n",
       "      <th></th>\n",
       "      <th>TSampleId</th>\n",
       "      <th>MouseId</th>\n",
       "      <th>Treatment</th>\n",
       "      <th>ADIV</th>\n",
       "    </tr>\n",
       "    <tr>\n",
       "      <th>TSampleId</th>\n",
       "      <th></th>\n",
       "      <th></th>\n",
       "      <th></th>\n",
       "      <th></th>\n",
       "    </tr>\n",
       "  </thead>\n",
       "  <tbody>\n",
       "    <tr>\n",
       "      <th>1_S1</th>\n",
       "      <td>1_S1</td>\n",
       "      <td>Ciprofloxacin_0.1_1</td>\n",
       "      <td>Ciprofloxacin_0.1</td>\n",
       "      <td>6.0</td>\n",
       "    </tr>\n",
       "    <tr>\n",
       "      <th>2_S2</th>\n",
       "      <td>2_S2</td>\n",
       "      <td>Ciprofloxacin_0.1_2</td>\n",
       "      <td>Ciprofloxacin_0.1</td>\n",
       "      <td>7.0</td>\n",
       "    </tr>\n",
       "    <tr>\n",
       "      <th>3_S3</th>\n",
       "      <td>3_S3</td>\n",
       "      <td>Ciprofloxacin_0.1_3</td>\n",
       "      <td>Ciprofloxacin_0.1</td>\n",
       "      <td>11.0</td>\n",
       "    </tr>\n",
       "    <tr>\n",
       "      <th>4_S4</th>\n",
       "      <td>4_S4</td>\n",
       "      <td>Ciprofloxacin_0.1_4</td>\n",
       "      <td>Ciprofloxacin_0.1</td>\n",
       "      <td>9.0</td>\n",
       "    </tr>\n",
       "    <tr>\n",
       "      <th>5_S5</th>\n",
       "      <td>5_S5</td>\n",
       "      <td>Ciprofloxacin_0.1_5</td>\n",
       "      <td>Ciprofloxacin_0.1</td>\n",
       "      <td>9.0</td>\n",
       "    </tr>\n",
       "  </tbody>\n",
       "</table>\n",
       "</div>"
      ]
     },
     "output_type": "execute_result",
     "metadata": {}
    }
   ],
   "source": [
    "joined.head()"
   ]
  },
  {
   "cell_type": "code",
   "execution_count": 66,
   "metadata": {},
   "outputs": [
    {
     "data": {
      "text/plain": [
       "[Text(0, 0, 'Ciprofloxacin_0.1'),\n",
       " Text(0, 0, 'Ciprofloxacin_0.5'),\n",
       " Text(0, 0, 'Ceftazidime_0.1'),\n",
       " Text(0, 0, 'Ceftazidime_0.5'),\n",
       " Text(0, 0, 'Ampicillin_0.5'),\n",
       " Text(0, 0, 'Control'),\n",
       " Text(0, 0, 'Radak'),\n",
       " Text(0, 0, 'EFB_OB')]"
      ]
     },
     "execution_count": 66,
     "output_type": "execute_result",
     "metadata": {}
    },
    {
     "data": {
      "image/png": "[encoded data removed]"
     },
     "output_type": "display_data",
     "metadata": {}
    }
   ],
   "source": [
    "plt = sns.boxplot(x=\"Treatment\", y=\"ADIV\", data=joined)\n",
    "plt.set_xticklabels(plt.get_xticklabels(),rotation=45)"
   ]
  },
  {
   "cell_type": "markdown",
   "metadata": {},
   "source": [
    "Béta diverzitás számolása"
   ]
  },
  {
   "cell_type": "code",
   "execution_count": 63,
   "metadata": {},
   "outputs": [],
   "source": [
    "bc_dm = beta_diversity(\"braycurtis\", data, ids)"
   ]
  },
  {
   "cell_type": "code",
   "execution_count": 64,
   "metadata": {},
   "outputs": [
    {
     "data": {
      "image/png": "[encoded data removed]"
     },
     "output_type": "display_data",
     "metadata": {}
    }
   ],
   "source": [
    "bc_dm"
   ]
  },
  {
   "cell_type": "code",
   "execution_count": null,
   "metadata": {},
   "outputs": [],
   "source": [
    ""
   ]
  }
 ],
 "metadata": {
  "kernelspec": {
   "display_name": "Python 3",
   "language": "python",
   "name": "python3"
  },
  "language_info": {
   "codemirror_mode": {
    "name": "ipython",
    "version": 3.0
   },
   "file_extension": ".py",
   "mimetype": "text/x-python",
   "name": "python",
   "nbconvert_exporter": "python",
   "pygments_lexer": "ipython3",
   "version": "3.6.6"
  }
 },
 "nbformat": 4,
 "nbformat_minor": 2
}