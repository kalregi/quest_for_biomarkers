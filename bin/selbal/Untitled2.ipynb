{
 "cells": [
  {
   "cell_type": "code",
   "execution_count": 93,
   "metadata": {},
   "outputs": [
    {
     "name": "stdout",
     "output_type": "stream",
     "text": [
      "0.8538845331432644\n"
     ]
    }
   ],
   "source": [
    "# Python stuff\n",
    "\n",
    "import pandas as pd\n",
    "\n",
    "input_file = 'y_FengQ_2015_metaphlan2_p.tsv'\n",
    "input_file = 'y_atcimkezett_FengQ_2015_metaphlan2_p.tsv'\n",
    "input_values = 'balance_values_FengQ_2015_metaphlan2_p.tsv'\n",
    "y = pd.read_csv(input_file, sep='\\t').reset_index(drop=True)\n",
    "x = pd.read_csv(input_values, sep='\\t').reset_index(drop=True)\n",
    "\n",
    "x['class'] = y\n",
    "x['value'] = x['x']\n",
    "\n",
    "fpr, tpr, thresholds = metrics.roc_curve(x['class'], x['value'], pos_label='CRC')\n",
    "print(1-metrics.auc(fpr, tpr))\n",
    "\n",
    "\n",
    "\n"
   ]
  },
  {
   "cell_type": "code",
   "execution_count": 88,
   "metadata": {},
   "outputs": [],
   "source": [
    "x_sorted = x.sort_values(by='value',ascending='True')\n",
    "x_sorted2 = x_sorted[(x_sorted['class'] == 'CRC') | (x_sorted['class'] == 'control')][['class', 'value']]\n",
    "x_sorted2['classbin'] = x_sorted2.apply(lambda x: 1 if x['class'] == 'CRC' else 0 ,axis=1)\n",
    "x_sorted2['classsure'] = x_sorted2.apply(lambda x: 6 if x['class'] == 'CRC' else 1 ,axis=1)\n",
    "x_sorted2\n",
    "x_sorted2[['classbin', 'classsure']].to_csv('fgffgfd.tsv', sep=' ', index=False, header=False)\n",
    "\n",
    "x_sorted2.to_csv('output.tsv', sep='\\t', index=False)"
   ]
  },
  {
   "cell_type": "code",
   "execution_count": 57,
   "metadata": {},
   "outputs": [],
   "source": []
  },
  {
   "cell_type": "code",
   "execution_count": 89,
   "metadata": {},
   "outputs": [
    {
     "data": {
      "text/plain": [
       "0.8538845331432644"
      ]
     },
     "execution_count": 89,
     "metadata": {},
     "output_type": "execute_result"
    }
   ],
   "source": [
    "import numpy as np\n",
    "from sklearn import metrics\n",
    "fpr, tpr, thresholds = metrics.roc_curve(x_sorted2['classbin'], x_sorted2['value'], pos_label=1)\n",
    "1-metrics.auc(fpr, tpr)\n"
   ]
  },
  {
   "cell_type": "code",
   "execution_count": null,
   "metadata": {},
   "outputs": [],
   "source": []
  }
 ],
 "metadata": {
  "kernelspec": {
   "display_name": "Python 3",
   "language": "python",
   "name": "python3"
  },
  "language_info": {
   "codemirror_mode": {
    "name": "ipython",
    "version": 3
   },
   "file_extension": ".py",
   "mimetype": "text/x-python",
   "name": "python",
   "nbconvert_exporter": "python",
   "pygments_lexer": "ipython3",
   "version": "3.6.6"
  }
 },
 "nbformat": 4,
 "nbformat_minor": 2
}
