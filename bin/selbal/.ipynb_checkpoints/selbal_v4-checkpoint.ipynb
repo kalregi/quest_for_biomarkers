{
 "cells": [
  {
   "cell_type": "code",
   "execution_count": 1,
   "metadata": {},
   "outputs": [],
   "source": [
    "import pandas as pd\n",
    "import os\n",
    "import seaborn as sns\n",
    "import matplotlib.pyplot as plt\n",
    "import time\n",
    "\n",
    "\n",
    "#from skbio.diversity import alpha_diversity\n",
    "#from skbio.diversity import beta_diversity\n",
    "#from skbio import TreeNode\n",
    "from io import StringIO\n",
    "#from skbio.stats.ordination import pcoa\n",
    "from skbio.stats.composition import ancom\n",
    "import math\n",
    "from skbio.stats.composition import multiplicative_replacement\n",
    "import numpy as np\n",
    "\n",
    "from sklearn.metrics import roc_curve, auc, confusion_matrix\n",
    "from sklearn.model_selection import train_test_split\n",
    "from sklearn.linear_model import LogisticRegression\n",
    "from sklearn.model_selection import cross_val_score\n",
    "from sklearn import tree\n",
    "from sklearn.model_selection import KFold\n",
    "\n",
    "import cx_Oracle\n",
    "\n",
    "SERVER = 'dboracle.itk.ppke.hu'\n",
    "PORT = 1521\n",
    "SERVICE = 'rsc.itk.ppke.hu'\n",
    "USER = 'metagenome'\n",
    "PASSWORD = 'LrJPRUS73r84'\n",
    "\n",
    "class Connection():\n",
    "\n",
    "    def __init__(self):\n",
    "        dsn_tns = cx_Oracle.makedsn(SERVER, PORT, service_name=SERVICE)\n",
    "        self.connection = cx_Oracle.connect(USER, PASSWORD, dsn_tns)\n",
    "\n",
    "    def get_connection(self):\n",
    "        return self.connection\n",
    "\n",
    "    def select(self, sql):\n",
    "        return pd.read_sql(sql, con=self.connection)\n",
    "\n",
    "con = Connection()"
   ]
  },
  {
   "cell_type": "code",
   "execution_count": 54,
   "metadata": {},
   "outputs": [],
   "source": [
    "def get_data_for_sample(path_to_file):\n",
    "    dataset = path_to_file.split('/')[-1]\n",
    "    df = pd.read_csv(path_to_file, delimiter = ',')\n",
    "    df['Dataset'] = dataset\n",
    "    df[\"Name\"] = [n.strip() for n in df[\"Name\"]]\n",
    "    return df\n",
    "\n",
    "def get_table_and_grouping(df_name, table_files, column_to_group='STUDY_CONDITION', rank='F', \n",
    "                           use_percent= True, percent=30, group=None, group_to_drop = None, counts=True):\n",
    "\n",
    "    for file in table_files:\n",
    "        if df_name in file:\n",
    "            index = table_files.index(file)\n",
    "            \n",
    "    df = get_data_for_sample(table_files[index])\n",
    "    print(df.head())\n",
    "    df_2 = df.loc[df['Rank'] == rank]\n",
    "    \n",
    "    if len(df_2) == 0:\n",
    "        raise WrongRank(rank)\n",
    "    \n",
    "    df_2 = df_2[['Sample_ID', 'Name', 'Abundance', column_to_group]]\n",
    "    df_2 = df_2.loc[[i == i for i in df_2[column_to_group]]]\n",
    "\n",
    "    if group is not None:\n",
    "        df_2[column_to_group] = [group if group in v else \"Control\" for v in df_2[column_to_group]]\n",
    "\n",
    "    if group_to_drop is not None:\n",
    "        df_2 = df_2.loc[df_2[column_to_group] != group_to_drop]\n",
    "                       \n",
    "    table = df_2.pivot(index='Sample_ID', columns='Name', values='Abundance')\n",
    "    \n",
    "    # Dropping sparse columns\n",
    "    if use_percent:\n",
    "        counts = {}\n",
    "        to_drop = []\n",
    "        for column in table.columns:\n",
    "            counts[column] = table[column].loc[table[column].notnull()].count() + table[column].loc[table[column] != 0].count()\n",
    "            \n",
    "            if counts[column] < table.shape[1]/100*percent:\n",
    "                to_drop.append(column)\n",
    "        table = table.drop(columns = to_drop)\n",
    "    \n",
    "    print(\"Shape of table:\", table.shape)\n",
    "    \n",
    "    # Handling remaining Nan values and zero values\n",
    "    table = table.fillna(0)\n",
    "    table_repl = pd.DataFrame(multiplicative_replacement(table.values),\n",
    "                      index=table.index,\n",
    "                      columns=table.columns)\n",
    "    \n",
    "\n",
    "    \n",
    "    # Addong \"one\" to all of them\n",
    "    if False:\n",
    "        columns = table_repl.columns\n",
    "        def add_one(row):\n",
    "            min_ab = max(row)\n",
    "            for col in columns:\n",
    "                if row[col] != 0 and row[col] < min_ab:\n",
    "                    min_ab = row[col]\n",
    "            for col in columns:\n",
    "                row[col] = row[col] + min_ab\n",
    "            return row\n",
    "\n",
    "        table_repl = table_repl.apply(add_one,axis=1)\n",
    "    \n",
    "    # Switching from abundance to counts\n",
    "    if False and counts:\n",
    "        columns = table_repl.columns\n",
    "        def calc_count(row):\n",
    "            min_ab = min(row)\n",
    "            to_mult = 1 / min_ab\n",
    "            for col in columns:\n",
    "                row[col] = round(row[col]*to_mult)\n",
    "            return row\n",
    "\n",
    "        table_repl = table_repl.apply(calc_count,axis=1)\n",
    "    \n",
    "    # Log of all abundance\n",
    "    table_repl = table_repl.apply(np.log,axis=1)\n",
    "\n",
    "    grouping = df_2[['Sample_ID', column_to_group]].drop_duplicates()\n",
    "    grouping.index = grouping[\"Sample_ID\"]\n",
    "    grouping = grouping.drop(columns = [\"Sample_ID\"])\n",
    "    \n",
    "    grouping_ser = grouping[column_to_group]\n",
    "\n",
    "    return table_repl, grouping_ser"
   ]
  },
  {
   "cell_type": "code",
   "execution_count": 4,
   "metadata": {},
   "outputs": [
    {
     "name": "stdout",
     "output_type": "stream",
     "text": [
      "['//gfs/data/curated_metagenomes_metaphlan2/AsnicarF_2017.csv', '//gfs/data/curated_metagenomes_metaphlan2/ChngKR_2016.csv', '//gfs/data/curated_metagenomes_metaphlan2/FengQ_2015.csv', '//gfs/data/curated_metagenomes_metaphlan2/VogtmannE_2016.csv', '//gfs/data/curated_metagenomes_metaphlan2/YuJ_2015.csv']\n",
      "['//gfs/data/curated_metagenomes_kraken2/RampelliS_2015.csv', '//gfs/data/curated_metagenomes_kraken2/AsnicarF_2017.csv', '//gfs/data/curated_metagenomes_kraken2/ChngKR_2016.csv', '//gfs/data/curated_metagenomes_kraken2/FengQ_2015.csv', '//gfs/data/curated_metagenomes_kraken2/Heitz-BuschartA_2016.csv', '//gfs/data/curated_metagenomes_kraken2/KarlssonFH_2013.csv', '//gfs/data/curated_metagenomes_kraken2/LeChatelierE_2013.csv', '//gfs/data/curated_metagenomes_kraken2/LiuW_2016.csv', '//gfs/data/curated_metagenomes_kraken2/LomanNJ_2013.csv', '//gfs/data/curated_metagenomes_kraken2/Obregon-TitoAJ_2015.csv', '//gfs/data/curated_metagenomes_kraken2/QinJ_2012.csv', '//gfs/data/curated_metagenomes_kraken2/QinN_2014.csv', '//gfs/data/curated_metagenomes_kraken2/SchirmerM_2016.csv', '//gfs/data/curated_metagenomes_kraken2/VatanenT_2016.csv', '//gfs/data/curated_metagenomes_kraken2/VogtmannE_2016.csv', '//gfs/data/curated_metagenomes_kraken2/XieH_2016.csv', '//gfs/data/curated_metagenomes_kraken2/YuJ_2015.csv', '//gfs/data/curated_metagenomes_kraken2/ZellerG_2014.csv']\n"
     ]
    }
   ],
   "source": [
    "path_metaphlan = '//gfs/data/curated_metagenomes_metaphlan2/'\n",
    "\n",
    "files_metaphlan = []\n",
    "# r=root, d=directories, f = files\n",
    "for r, d, f in os.walk(path_metaphlan):\n",
    "    for file in f:\n",
    "        if '.csv' in file:\n",
    "            files_metaphlan.append(os.path.join(path_metaphlan, file))\n",
    "print(files_metaphlan)\n",
    "\n",
    "path_kraken = '//gfs/data/curated_metagenomes_kraken2/'\n",
    "\n",
    "files_kraken = []\n",
    "# r=root, d=directories, f = files\n",
    "for r, d, f in os.walk(path_kraken):\n",
    "    for file in f:\n",
    "        if '.csv' in file:\n",
    "            files_kraken.append(os.path.join(path_kraken, file))\n",
    "print(files_kraken)"
   ]
  },
  {
   "cell_type": "code",
   "execution_count": 41,
   "metadata": {},
   "outputs": [],
   "source": [
    "def balance_for_sets(pos_set, neg_set):\n",
    "    pos_k = pos_set.shape[1]\n",
    "    neg_k = neg_set.shape[1]\n",
    "    \n",
    "    #sqrt((k1*k2)/(k1+k2))*(rowM(logc[,NUM])- rowM(logc[,DEN]))\n",
    "    \n",
    "    pos_bal = np.zeros((pos_set.shape[0]))\n",
    "    for k in range(pos_k):\n",
    "        pos_bal = np.add(pos_bal, np.log(pos_set[:,k]))\n",
    "    pos_bal = pos_bal * 1/(pos_k)\n",
    "    \n",
    "    neg_bal = np.zeros((neg_set.shape[0]))\n",
    "    for k in range(neg_k):\n",
    "        neg_bal = neg_bal+np.log(neg_set[:,k])\n",
    "    neg_bal = neg_bal * 1/(neg_k)\n",
    "    \n",
    "    B = np.sqrt((pos_k*neg_k)/(pos_k+neg_k)) * (pos_bal - neg_bal)\n",
    "    \n",
    "    return B"
   ]
  },
  {
   "cell_type": "code",
   "execution_count": 48,
   "metadata": {},
   "outputs": [],
   "source": [
    "def test_for_AUC(dataset_name, method, rank, pos_set_names, neg_set_names, percent=0.2):\n",
    "    start = time.time()\n",
    "\n",
    "    # Find path to dataset file\n",
    "    if method == \"Kraken\":\n",
    "        table_files = files_kraken\n",
    "        rank = rank.upper()\n",
    "    else:\n",
    "        if method == \"Metaphlan\":\n",
    "            table_files = files_metaphlan\n",
    "            rank = rank.lower()\n",
    "        else:\n",
    "            print(\"Wrong method! Method should be 'Kraken' or 'Metaphlan'\")\n",
    "            raise\n",
    "    \n",
    "    \n",
    "   \n",
    "    table_repl, grouping_ser = get_table_and_grouping(dataset_name, table_files, rank = rank, percent=percent, group_to_drop=\"adenoma\")\n",
    "    \n",
    "    # Split to train and test data\n",
    "    X_train, X_test, y_train, y_test = train_test_split(table_repl, \n",
    "     grouping_ser, test_size=0.2, random_state=1)\n",
    "    \n",
    "    # Training on training data with selected model, then test it on test data\n",
    "    roc_auc, B_test, y_test = test_model(X_train, X_test, y_train, y_test, pos_set_names, neg_set_names)\n",
    "\n",
    "    end2 = time.time()\n",
    "    print(\"Elapsed time whole:\", end2 - start)\n",
    "\n",
    "    return roc_auc, B_test, y_test"
   ]
  },
  {
   "cell_type": "code",
   "execution_count": 35,
   "metadata": {},
   "outputs": [],
   "source": [
    "def ROC(df):\n",
    "    TPR_list = []\n",
    "    FPR_list = []\n",
    "    df[\"TARGET\"] = df[\"STUDY_CONDITION\"] == \"CRC\"\n",
    "    print(df[\"Balance\"])\n",
    "    min_bal = df[\"Balance\"].min()\n",
    "    max_bal = df[\"Balance\"].max()\n",
    "    step = (max_bal-min_bal) / 100\n",
    "    for treshold in np.arange(min_bal, max_bal, step):\n",
    "        df[\"PREDICATE\"] = [i>treshold for i in df[\"Balance\"]]\n",
    "\n",
    "        TP = len(df.loc[(df[\"PREDICATE\"] == True )&\n",
    "                                (df[\"TARGET\"] == True)])\n",
    "        FP = len(df.loc[(df[\"PREDICATE\"] == True )&\n",
    "                                (df[\"TARGET\"] == False)])\n",
    "        FN = len(df.loc[(df[\"PREDICATE\"] == False )&\n",
    "                                (df[\"TARGET\"] == True)])\n",
    "        TN = len(df.loc[(df[\"PREDICATE\"] == False )&\n",
    "                                (df[\"TARGET\"] == False)])\n",
    "        TPR = TP / (TP+FN)\n",
    "        FPR = FP / (TN+FP)\n",
    "\n",
    "        TPR_list.append(TPR)\n",
    "        FPR_list.append(FPR)\n",
    "    return FPR_list, TPR_list"
   ]
  },
  {
   "cell_type": "code",
   "execution_count": 12,
   "metadata": {},
   "outputs": [],
   "source": [
    "def test_model(x_train, x_test, y_train, y_test, pos_set_names, neg_set_names):\n",
    "    \n",
    "    Y = [1 if v == \"CRC\" else 0 for v in y_train]\n",
    "    pos_set = np.array(x_train[pos_set_names])\n",
    "    neg_set = np.array(x_train[neg_set_names])\n",
    "    \n",
    "    B = balance_for_sets(pos_set, neg_set)\n",
    "\n",
    "    x_train_2 = B.reshape(-1, 1)\n",
    "    y_train_2 = Y\n",
    "    \n",
    "    Y_test = [1 if v == \"CRC\" else 0 for v in y_test]\n",
    "    pos_set_test = np.array(x_test[pos_set_names])\n",
    "    neg_set_test = np.array(x_test[neg_set_names])\n",
    "    \n",
    "    B_test = balance_for_sets(pos_set_test, neg_set_test)\n",
    "    \n",
    "    x_test_2 = B_test.reshape(-1, 1)\n",
    "    y_test_2 = Y_test\n",
    "\n",
    "    order = list(y_train.drop_duplicates())\n",
    "\n",
    "    #Balanceok ábrázolása\n",
    "    plt.figure()\n",
    "    df_train = pd.DataFrame(y_train)\n",
    "    df_train[\"Balance\"] = B\n",
    "    sns.boxplot(x=\"STUDY_CONDITION\", y=\"Balance\", order=order, data=df_train).set_title(\"Train balances\")\n",
    "\n",
    "    plt.figure()\n",
    "    df_test = pd.DataFrame(y_test)\n",
    "    df_test[\"Balance\"] = B_test\n",
    "    sns.boxplot(x=\"STUDY_CONDITION\", y=\"Balance\", order=order, data=df_test).set_title(\"Test balances\")\n",
    "\n",
    "    \n",
    "    #ROC görbe számolása\n",
    "    fpr, tpr = ROC(df_test)\n",
    "    roc_auc = auc(fpr, tpr)\n",
    "    \n",
    "    plt.figure()\n",
    "    lw = 2\n",
    "    plt.plot(fpr, tpr, color='darkorange',\n",
    "             lw=lw, label='ROC curve (area = %0.2f)' % roc_auc)\n",
    "    plt.plot([0, 1], [0, 1], color='navy', lw=lw, linestyle='--')\n",
    "    plt.xlim([0.0, 1.0])\n",
    "    plt.ylim([0.0, 1.05])\n",
    "    plt.xlabel('False Positive Rate')\n",
    "    plt.ylabel('True Positive Rate')\n",
    "    plt.title( 'ROC curve')\n",
    "    plt.legend(loc=\"lower right\")\n",
    "\n",
    "    return roc_auc, B_test, y_test"
   ]
  },
  {
   "cell_type": "code",
   "execution_count": 55,
   "metadata": {},
   "outputs": [
    {
     "name": "stdout",
     "output_type": "stream",
     "text": [
      "   Unnamed: 0  Sample_ID         Dataset Rank            Name  Abundance  \\\n",
      "0           0  ERR688526  FengQ_2015.csv    k        Bacteria   99.99747   \n",
      "1           1  ERR688526  FengQ_2015.csv    k         Viruses    0.00253   \n",
      "2           2  ERR688526  FengQ_2015.csv    p      Firmicutes   81.81372   \n",
      "3           3  ERR688526  FengQ_2015.csv    p  Actinobacteria   12.04277   \n",
      "4           4  ERR688526  FengQ_2015.csv    p   Bacteroidetes    4.97884   \n",
      "\n",
      "  STUDY_CONDITION BODY_SITE SUBJECTID COUNTRY              DISEASE  AGE  \\\n",
      "0         adenoma     stool  SID31282     AUT  adenoma;fatty_liver   63   \n",
      "1         adenoma     stool  SID31282     AUT  adenoma;fatty_liver   63   \n",
      "2         adenoma     stool  SID31282     AUT  adenoma;fatty_liver   63   \n",
      "3         adenoma     stool  SID31282     AUT  adenoma;fatty_liver   63   \n",
      "4         adenoma     stool  SID31282     AUT  adenoma;fatty_liver   63   \n",
      "\n",
      "  AGE_CATEGORY  \n",
      "0        adult  \n",
      "1        adult  \n",
      "2        adult  \n",
      "3        adult  \n",
      "4        adult  \n",
      "Shape of table: (107, 510)\n",
      "Sample_ID\n",
      "ERR688618   NaN\n",
      "ERR688570   NaN\n",
      "ERR688590   NaN\n",
      "ERR688594   NaN\n",
      "ERR688548   NaN\n",
      "ERR688582   NaN\n",
      "ERR688575   NaN\n",
      "ERR688650   NaN\n",
      "ERR688569   NaN\n",
      "ERR688583   NaN\n",
      "ERR710427   NaN\n",
      "ERR688607   NaN\n",
      "ERR688636   NaN\n",
      "ERR688610   NaN\n",
      "ERR688562   NaN\n",
      "ERR688643   NaN\n",
      "ERR688571   NaN\n",
      "ERR688644   NaN\n",
      "ERR688515   NaN\n",
      "ERR688647   NaN\n",
      "ERR710429   NaN\n",
      "ERR688624   NaN\n",
      "Name: Balance, dtype: float64\n"
     ]
    },
    {
     "name": "stderr",
     "output_type": "stream",
     "text": [
      "/gfs/progs/miniconda3/lib/python3.6/site-packages/ipykernel_launcher.py:9: RuntimeWarning: invalid value encountered in log\n",
      "  if __name__ == '__main__':\n",
      "/gfs/progs/miniconda3/lib/python3.6/site-packages/ipykernel_launcher.py:14: RuntimeWarning: invalid value encountered in log\n",
      "  \n"
     ]
    },
    {
     "ename": "ValueError",
     "evalue": "arange: cannot compute length",
     "output_type": "error",
     "traceback": [
      "\u001b[0;31m---------------------------------------------------------------------------\u001b[0m",
      "\u001b[0;31mValueError\u001b[0m                                Traceback (most recent call last)",
      "\u001b[0;32m<ipython-input-55-1f1a188157eb>\u001b[0m in \u001b[0;36m<module>\u001b[0;34m\u001b[0m\n\u001b[1;32m      1\u001b[0m test_for_AUC(\"FengQ_2015\", \"Metaphlan\", \"s\", pos_set_names =[\"Prevotella_copri\",\n\u001b[0;32m----> 2\u001b[0;31m     \"Fusobacterium_nucleatum\", \"Lachnospiraceae_bacterium_7_1_58FAA\"], neg_set_names=[\"Pseudomonas_unclassified\"])\n\u001b[0m",
      "\u001b[0;32m<ipython-input-48-e41af6548e7b>\u001b[0m in \u001b[0;36mtest_for_AUC\u001b[0;34m(dataset_name, method, rank, pos_set_names, neg_set_names, percent)\u001b[0m\n\u001b[1;32m     23\u001b[0m \u001b[0;34m\u001b[0m\u001b[0m\n\u001b[1;32m     24\u001b[0m     \u001b[0;31m# Training on training data with selected model, then test it on test data\u001b[0m\u001b[0;34m\u001b[0m\u001b[0;34m\u001b[0m\u001b[0m\n\u001b[0;32m---> 25\u001b[0;31m     \u001b[0mroc_auc\u001b[0m\u001b[0;34m,\u001b[0m \u001b[0mB_test\u001b[0m\u001b[0;34m,\u001b[0m \u001b[0my_test\u001b[0m \u001b[0;34m=\u001b[0m \u001b[0mtest_model\u001b[0m\u001b[0;34m(\u001b[0m\u001b[0mX_train\u001b[0m\u001b[0;34m,\u001b[0m \u001b[0mX_test\u001b[0m\u001b[0;34m,\u001b[0m \u001b[0my_train\u001b[0m\u001b[0;34m,\u001b[0m \u001b[0my_test\u001b[0m\u001b[0;34m,\u001b[0m \u001b[0mpos_set_names\u001b[0m\u001b[0;34m,\u001b[0m \u001b[0mneg_set_names\u001b[0m\u001b[0;34m)\u001b[0m\u001b[0;34m\u001b[0m\u001b[0m\n\u001b[0m\u001b[1;32m     26\u001b[0m \u001b[0;34m\u001b[0m\u001b[0m\n\u001b[1;32m     27\u001b[0m     \u001b[0mend2\u001b[0m \u001b[0;34m=\u001b[0m \u001b[0mtime\u001b[0m\u001b[0;34m.\u001b[0m\u001b[0mtime\u001b[0m\u001b[0;34m(\u001b[0m\u001b[0;34m)\u001b[0m\u001b[0;34m\u001b[0m\u001b[0m\n",
      "\u001b[0;32m<ipython-input-12-042ca26ead7e>\u001b[0m in \u001b[0;36mtest_model\u001b[0;34m(x_train, x_test, y_train, y_test, pos_set_names, neg_set_names)\u001b[0m\n\u001b[1;32m     34\u001b[0m \u001b[0;34m\u001b[0m\u001b[0m\n\u001b[1;32m     35\u001b[0m     \u001b[0;31m#ROC görbe számolása\u001b[0m\u001b[0;34m\u001b[0m\u001b[0;34m\u001b[0m\u001b[0m\n\u001b[0;32m---> 36\u001b[0;31m     \u001b[0mfpr\u001b[0m\u001b[0;34m,\u001b[0m \u001b[0mtpr\u001b[0m \u001b[0;34m=\u001b[0m \u001b[0mROC\u001b[0m\u001b[0;34m(\u001b[0m\u001b[0mdf_test\u001b[0m\u001b[0;34m)\u001b[0m\u001b[0;34m\u001b[0m\u001b[0m\n\u001b[0m\u001b[1;32m     37\u001b[0m     \u001b[0mroc_auc\u001b[0m \u001b[0;34m=\u001b[0m \u001b[0mauc\u001b[0m\u001b[0;34m(\u001b[0m\u001b[0mfpr\u001b[0m\u001b[0;34m,\u001b[0m \u001b[0mtpr\u001b[0m\u001b[0;34m)\u001b[0m\u001b[0;34m\u001b[0m\u001b[0m\n\u001b[1;32m     38\u001b[0m \u001b[0;34m\u001b[0m\u001b[0m\n",
      "\u001b[0;32m<ipython-input-35-3bb40d3cc775>\u001b[0m in \u001b[0;36mROC\u001b[0;34m(df)\u001b[0m\n\u001b[1;32m      7\u001b[0m     \u001b[0mmax_bal\u001b[0m \u001b[0;34m=\u001b[0m \u001b[0mdf\u001b[0m\u001b[0;34m[\u001b[0m\u001b[0;34m\"Balance\"\u001b[0m\u001b[0;34m]\u001b[0m\u001b[0;34m.\u001b[0m\u001b[0mmax\u001b[0m\u001b[0;34m(\u001b[0m\u001b[0;34m)\u001b[0m\u001b[0;34m\u001b[0m\u001b[0m\n\u001b[1;32m      8\u001b[0m     \u001b[0mstep\u001b[0m \u001b[0;34m=\u001b[0m \u001b[0;34m(\u001b[0m\u001b[0mmax_bal\u001b[0m\u001b[0;34m-\u001b[0m\u001b[0mmin_bal\u001b[0m\u001b[0;34m)\u001b[0m \u001b[0;34m/\u001b[0m \u001b[0;36m100\u001b[0m\u001b[0;34m\u001b[0m\u001b[0m\n\u001b[0;32m----> 9\u001b[0;31m     \u001b[0;32mfor\u001b[0m \u001b[0mtreshold\u001b[0m \u001b[0;32min\u001b[0m \u001b[0mnp\u001b[0m\u001b[0;34m.\u001b[0m\u001b[0marange\u001b[0m\u001b[0;34m(\u001b[0m\u001b[0mmin_bal\u001b[0m\u001b[0;34m,\u001b[0m \u001b[0mmax_bal\u001b[0m\u001b[0;34m,\u001b[0m \u001b[0mstep\u001b[0m\u001b[0;34m)\u001b[0m\u001b[0;34m:\u001b[0m\u001b[0;34m\u001b[0m\u001b[0m\n\u001b[0m\u001b[1;32m     10\u001b[0m         \u001b[0mdf\u001b[0m\u001b[0;34m[\u001b[0m\u001b[0;34m\"PREDICATE\"\u001b[0m\u001b[0;34m]\u001b[0m \u001b[0;34m=\u001b[0m \u001b[0;34m[\u001b[0m\u001b[0mi\u001b[0m\u001b[0;34m>\u001b[0m\u001b[0mtreshold\u001b[0m \u001b[0;32mfor\u001b[0m \u001b[0mi\u001b[0m \u001b[0;32min\u001b[0m \u001b[0mdf\u001b[0m\u001b[0;34m[\u001b[0m\u001b[0;34m\"Balance\"\u001b[0m\u001b[0;34m]\u001b[0m\u001b[0;34m]\u001b[0m\u001b[0;34m\u001b[0m\u001b[0m\n\u001b[1;32m     11\u001b[0m \u001b[0;34m\u001b[0m\u001b[0m\n",
      "\u001b[0;31mValueError\u001b[0m: arange: cannot compute length"
     ]
    },
    {
     "data": {
      "image/png": "[encoded data removed]",
      "text/plain": [
       "<Figure size 432x288 with 1 Axes>"
      ]
     },
     "metadata": {
      "needs_background": "light"
     },
     "output_type": "display_data"
    },
    {
     "data": {
      "image/png": "[encoded data removed]",
      "text/plain": [
       "<Figure size 432x288 with 1 Axes>"
      ]
     },
     "metadata": {
      "needs_background": "light"
     },
     "output_type": "display_data"
    }
   ],
   "source": [
    "test_for_AUC(\"FengQ_2015\", \"Metaphlan\", \"s\", pos_set_names =[\"Prevotella_copri\",\n",
    "    \"Fusobacterium_nucleatum\", \"Lachnospiraceae_bacterium_7_1_58FAA\"], neg_set_names=[\"Pseudomonas_unclassified\"])"
   ]
  },
  {
   "cell_type": "code",
   "execution_count": 21,
   "metadata": {},
   "outputs": [
    {
     "name": "stdout",
     "output_type": "stream",
     "text": [
      "   Unnamed: 0  Sample_ID         Dataset Rank                 Name  Abundance  \\\n",
      "0           0  ERR688526  FengQ_2015.csv    U         unclassified      70.88   \n",
      "1           1  ERR688526  FengQ_2015.csv    R                 root      29.12   \n",
      "2           2  ERR688526  FengQ_2015.csv   R1   cellular organisms      29.11   \n",
      "3           3  ERR688526  FengQ_2015.csv    D             Bacteria      29.05   \n",
      "4           4  ERR688526  FengQ_2015.csv   D1  Terrabacteria group      25.38   \n",
      "\n",
      "  STUDY_CONDITION BODY_SITE SUBJECTID COUNTRY              DISEASE  AGE  \\\n",
      "0         adenoma     stool  SID31282     AUT  adenoma;fatty_liver   63   \n",
      "1         adenoma     stool  SID31282     AUT  adenoma;fatty_liver   63   \n",
      "2         adenoma     stool  SID31282     AUT  adenoma;fatty_liver   63   \n",
      "3         adenoma     stool  SID31282     AUT  adenoma;fatty_liver   63   \n",
      "4         adenoma     stool  SID31282     AUT  adenoma;fatty_liver   63   \n",
      "\n",
      "  AGE_CATEGORY  \n",
      "0        adult  \n",
      "1        adult  \n",
      "2        adult  \n",
      "3        adult  \n",
      "4        adult  \n",
      "Shape of table: (107, 81)\n",
      "Elapsed time whole: 8.339636087417603\n"
     ]
    },
    {
     "data": {
      "text/plain": [
       "(0.3958333333333333,\n",
       " array([2.84982851, 3.07448733, 2.46563568, 3.19545254, 2.89194392,\n",
       "        2.81700078, 2.68461152, 3.01439468, 2.92997559, 2.461896  ,\n",
       "        2.47862638, 3.03582555, 2.92508889, 2.53839873, 2.827835  ,\n",
       "        2.30548984, 1.55591979, 2.82497653, 2.74190987, 3.24775362,\n",
       "        2.56307921, 2.51434021]),\n",
       " Sample_ID\n",
       " ERR688642        CRC\n",
       " ERR688511    control\n",
       " ERR688638        CRC\n",
       " ERR688617    control\n",
       " ERR688544    control\n",
       " ERR688618        CRC\n",
       " ERR688563    control\n",
       " ERR710428    control\n",
       " ERR688639        CRC\n",
       " ERR688537    control\n",
       " ERR688599    control\n",
       " ERR688622    control\n",
       " ERR688515        CRC\n",
       " ERR688554    control\n",
       " ERR710426    control\n",
       " ERR688547        CRC\n",
       " ERR688581        CRC\n",
       " ERR688614    control\n",
       " ERR688513        CRC\n",
       " ERR688644        CRC\n",
       " ERR688648    control\n",
       " ERR688651        CRC\n",
       " Name: STUDY_CONDITION, dtype: object)"
      ]
     },
     "execution_count": 21,
     "metadata": {},
     "output_type": "execute_result"
    },
    {
     "data": {
      "image/png": "[encoded data removed]",
      "text/plain": [
       "<Figure size 432x288 with 1 Axes>"
      ]
     },
     "metadata": {
      "needs_background": "light"
     },
     "output_type": "display_data"
    },
    {
     "data": {
      "image/png": "[encoded data removed]",
      "text/plain": [
       "<Figure size 432x288 with 1 Axes>"
      ]
     },
     "metadata": {
      "needs_background": "light"
     },
     "output_type": "display_data"
    },
    {
     "data": {
      "image/png": "[encoded data removed]",
      "text/plain": [
       "<Figure size 432x288 with 1 Axes>"
      ]
     },
     "metadata": {
      "needs_background": "light"
     },
     "output_type": "display_data"
    }
   ],
   "source": [
    "test_for_AUC(\"FengQ_2015\", \"Kraken\", \"c\", neg_set_names=[\"Flavobacteriia\",\n",
    "    \"Fusobacteriia\", \"Mammalia\"], pos_set_names=[\"Clostridia\", \"Spirochaetia\"])"
   ]
  },
  {
   "cell_type": "code",
   "execution_count": null,
   "metadata": {},
   "outputs": [],
   "source": []
  }
 ],
 "metadata": {
  "kernelspec": {
   "display_name": "Python 3",
   "language": "python",
   "name": "python3"
  },
  "language_info": {
   "codemirror_mode": {
    "name": "ipython",
    "version": 3
   },
   "file_extension": ".py",
   "mimetype": "text/x-python",
   "name": "python",
   "nbconvert_exporter": "python",
   "pygments_lexer": "ipython3",
   "version": "3.6.6"
  }
 },
 "nbformat": 4,
 "nbformat_minor": 2
}
