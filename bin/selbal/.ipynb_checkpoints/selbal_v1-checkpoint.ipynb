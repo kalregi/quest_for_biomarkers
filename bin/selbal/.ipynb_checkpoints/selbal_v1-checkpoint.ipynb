{
 "cells": [
  {
   "cell_type": "code",
   "execution_count": 22,
   "metadata": {},
   "outputs": [],
   "source": [
    "import pandas as pd\n",
    "import os\n",
    "import seaborn as sns\n",
    "#from skbio.diversity import alpha_diversity\n",
    "#from skbio.diversity import beta_diversity\n",
    "#from skbio import TreeNode\n",
    "from io import StringIO\n",
    "#from skbio.stats.ordination import pcoa\n",
    "from skbio.stats.composition import ancom\n",
    "import math\n",
    "from skbio.stats.composition import multiplicative_replacement\n",
    "import numpy as np"
   ]
  },
  {
   "cell_type": "code",
   "execution_count": 60,
   "metadata": {},
   "outputs": [],
   "source": [
    "from sklearn.metrics import roc_curve, auc, confusion_matrix\n",
    "from sklearn.model_selection import train_test_split\n",
    "from sklearn.linear_model import LogisticRegression\n",
    "from sklearn.model_selection import cross_val_score\n",
    "from sklearn import tree"
   ]
  },
  {
   "cell_type": "code",
   "execution_count": 1,
   "metadata": {},
   "outputs": [],
   "source": [
    "import cx_Oracle\n",
    "\n",
    "SERVER = 'dboracle.itk.ppke.hu'\n",
    "PORT = 1521\n",
    "SERVICE = 'rsc.itk.ppke.hu'\n",
    "USER = 'metagenome'\n",
    "PASSWORD = 'LrJPRUS73r84'\n",
    "\n",
    "class Connection():\n",
    "\n",
    "    def __init__(self):\n",
    "        dsn_tns = cx_Oracle.makedsn(SERVER, PORT, service_name=SERVICE)\n",
    "        self.connection = cx_Oracle.connect(USER, PASSWORD, dsn_tns)\n",
    "\n",
    "    def get_connection(self):\n",
    "        return self.connection\n",
    "\n",
    "    def select(self, sql):\n",
    "        return pd.read_sql(sql, con=self.connection)\n",
    "\n",
    "con = Connection()"
   ]
  },
  {
   "cell_type": "markdown",
   "metadata": {},
   "source": [
    "# Dataset"
   ]
  },
  {
   "cell_type": "code",
   "execution_count": 10,
   "metadata": {},
   "outputs": [],
   "source": [
    "class WrongRank(Exception):\n",
    "    def __init__(self, value):\n",
    "        self.value = value\n",
    "    def __str__(self):\n",
    "        return repr(self.value)"
   ]
  },
  {
   "cell_type": "code",
   "execution_count": 2,
   "metadata": {},
   "outputs": [],
   "source": [
    "def get_table_and_grouping(df_name, table_files, column_to_group='STUDY_CONDITION', rank='F', \n",
    "                           use_percent= True, percent=30, group=None):\n",
    "\n",
    "    for file in table_files:\n",
    "        if df_name in file:\n",
    "            index = table_files.index(file)\n",
    "            \n",
    "    df = get_data_for_sample(table_files[index])\n",
    "    print(df.head())\n",
    "    df_2 = df.loc[df['Rank'] == rank]\n",
    "    \n",
    "    if len(df_2) == 0:\n",
    "        raise WrongRank(rank)\n",
    "    \n",
    "    df_2 = df_2[['Sample_ID', 'Name', 'Abundance', column_to_group]]\n",
    "    df_2 = df_2.loc[[i == i for i in df_2[column_to_group]]]\n",
    "\n",
    "    if group is not None:\n",
    "        df_2[column_to_group] = [group if group in v else \"Control\" for v in df_2[column_to_group]]\n",
    "                       \n",
    "    table = df_2.pivot(index='Sample_ID', columns='Name', values='Abundance')\n",
    "    \n",
    "    # Dropping sparse columns\n",
    "    if use_percent:\n",
    "        counts = {}\n",
    "        to_drop = []\n",
    "        for column in table.columns:\n",
    "            counts[column] = table[column].loc[table[column].notnull()].count() + table[column].loc[table[column] != 0].count()\n",
    "            \n",
    "            if counts[column] < table.shape[1]/100*percent:\n",
    "                to_drop.append(column)\n",
    "        table = table.drop(columns = to_drop)\n",
    "    \n",
    "    print(\"Shape of table:\", table.shape)\n",
    "    \n",
    "    # Handling remaining Nan values and zero values\n",
    "    table = table.fillna(0)\n",
    "    table_repl = pd.DataFrame(multiplicative_replacement(table.values),\n",
    "                      index=table.index,\n",
    "                      columns=table.columns)\n",
    "\n",
    "    grouping = df_2[['Sample_ID', column_to_group]].drop_duplicates()\n",
    "    grouping.index = grouping[\"Sample_ID\"]\n",
    "    grouping = grouping.drop(columns = [\"Sample_ID\"])\n",
    "    \n",
    "    grouping_ser = grouping[column_to_group]\n",
    "\n",
    "    return table_repl, grouping_ser"
   ]
  },
  {
   "cell_type": "code",
   "execution_count": 3,
   "metadata": {},
   "outputs": [],
   "source": [
    "def get_data_for_sample(path_to_file):\n",
    "    dataset = path_to_file.split('/')[-1]\n",
    "    df = pd.read_csv(path_to_file, delimiter = ',')\n",
    "    df['Dataset'] = dataset\n",
    "    df[\"Name\"] = [n.strip() for n in df[\"Name\"]]\n",
    "    return df"
   ]
  },
  {
   "cell_type": "code",
   "execution_count": 8,
   "metadata": {},
   "outputs": [
    {
     "name": "stdout",
     "output_type": "stream",
     "text": [
      "['//gfs/data/curated_metagenomes_metaphlan2/AsnicarF_2017.csv', '//gfs/data/curated_metagenomes_metaphlan2/ChngKR_2016.csv', '//gfs/data/curated_metagenomes_metaphlan2/FengQ_2015.csv', '//gfs/data/curated_metagenomes_metaphlan2/VogtmannE_2016.csv', '//gfs/data/curated_metagenomes_metaphlan2/YuJ_2015.csv']\n"
     ]
    }
   ],
   "source": [
    "path_metaphlan = '//gfs/data/curated_metagenomes_metaphlan2/'\n",
    "\n",
    "files_metaphlan = []\n",
    "# r=root, d=directories, f = files\n",
    "for r, d, f in os.walk(path_metaphlan):\n",
    "    for file in f:\n",
    "        if '.csv' in file:\n",
    "            files_metaphlan.append(os.path.join(path_metaphlan, file))\n",
    "print(files_metaphlan)"
   ]
  },
  {
   "cell_type": "code",
   "execution_count": 14,
   "metadata": {},
   "outputs": [
    {
     "name": "stdout",
     "output_type": "stream",
     "text": [
      "   Unnamed: 0   Sample_ID             Dataset Rank             Name  \\\n",
      "0           0  ERR1293543  VogtmannE_2016.csv    k         Bacteria   \n",
      "1           1  ERR1293543  VogtmannE_2016.csv    p       Firmicutes   \n",
      "2           2  ERR1293543  VogtmannE_2016.csv    p    Bacteroidetes   \n",
      "3           3  ERR1293543  VogtmannE_2016.csv    p   Actinobacteria   \n",
      "4           4  ERR1293543  VogtmannE_2016.csv    p  Verrucomicrobia   \n",
      "\n",
      "   Abundance STUDY_CONDITION BODY_SITE              SUBJECTID COUNTRY DISEASE  \\\n",
      "0  100.00000             NaN     stool  MMRS92727331ST-27-0-0     USA     NaN   \n",
      "1   60.42390             NaN     stool  MMRS92727331ST-27-0-0     USA     NaN   \n",
      "2   34.15000             NaN     stool  MMRS92727331ST-27-0-0     USA     NaN   \n",
      "3    4.87067             NaN     stool  MMRS92727331ST-27-0-0     USA     NaN   \n",
      "4    0.55544             NaN     stool  MMRS92727331ST-27-0-0     USA     NaN   \n",
      "\n",
      "   AGE AGE_CATEGORY  \n",
      "0  NaN        adult  \n",
      "1  NaN        adult  \n",
      "2  NaN        adult  \n",
      "3  NaN        adult  \n",
      "4  NaN        adult  \n",
      "Shape of table: (417, 84)\n"
     ]
    }
   ],
   "source": [
    "path = \"//gfs/data/curated_metagenomes_metaphlan2/VogtmannE_2016.csv\"\n",
    "\n",
    "table_repl, grouping_ser = get_table_and_grouping(path, files_metaphlan, rank = 'g')"
   ]
  },
  {
   "cell_type": "code",
   "execution_count": 15,
   "metadata": {},
   "outputs": [
    {
     "data": {
      "text/html": [
       "<div>\n",
       "<style scoped>\n",
       "    .dataframe tbody tr th:only-of-type {\n",
       "        vertical-align: middle;\n",
       "    }\n",
       "\n",
       "    .dataframe tbody tr th {\n",
       "        vertical-align: top;\n",
       "    }\n",
       "\n",
       "    .dataframe thead th {\n",
       "        text-align: right;\n",
       "    }\n",
       "</style>\n",
       "<table border=\"1\" class=\"dataframe\">\n",
       "  <thead>\n",
       "    <tr style=\"text-align: right;\">\n",
       "      <th>Name</th>\n",
       "      <th>Acidaminococcaceae_unclassified</th>\n",
       "      <th>Acidaminococcus</th>\n",
       "      <th>Actinomyces</th>\n",
       "      <th>Adlercreutzia</th>\n",
       "      <th>Akkermansia</th>\n",
       "      <th>Alistipes</th>\n",
       "      <th>Anaerococcus</th>\n",
       "      <th>Anaerofustis</th>\n",
       "      <th>Anaerostipes</th>\n",
       "      <th>Anaerotruncus</th>\n",
       "      <th>...</th>\n",
       "      <th>Ruminococcus</th>\n",
       "      <th>Siphoviridae_noname</th>\n",
       "      <th>Slackia</th>\n",
       "      <th>Solobacterium</th>\n",
       "      <th>Streptococcus</th>\n",
       "      <th>Subdoligranulum</th>\n",
       "      <th>Sutterella</th>\n",
       "      <th>Sutterellaceae_unclassified</th>\n",
       "      <th>Turicibacter</th>\n",
       "      <th>Veillonella</th>\n",
       "    </tr>\n",
       "    <tr>\n",
       "      <th>Sample_ID</th>\n",
       "      <th></th>\n",
       "      <th></th>\n",
       "      <th></th>\n",
       "      <th></th>\n",
       "      <th></th>\n",
       "      <th></th>\n",
       "      <th></th>\n",
       "      <th></th>\n",
       "      <th></th>\n",
       "      <th></th>\n",
       "      <th></th>\n",
       "      <th></th>\n",
       "      <th></th>\n",
       "      <th></th>\n",
       "      <th></th>\n",
       "      <th></th>\n",
       "      <th></th>\n",
       "      <th></th>\n",
       "      <th></th>\n",
       "      <th></th>\n",
       "      <th></th>\n",
       "    </tr>\n",
       "  </thead>\n",
       "  <tbody>\n",
       "    <tr>\n",
       "      <th>ERR1293497</th>\n",
       "      <td>0.000142</td>\n",
       "      <td>0.000142</td>\n",
       "      <td>0.000142</td>\n",
       "      <td>0.000664</td>\n",
       "      <td>0.007777</td>\n",
       "      <td>0.051931</td>\n",
       "      <td>0.000142</td>\n",
       "      <td>0.000142</td>\n",
       "      <td>0.013660</td>\n",
       "      <td>0.000404</td>\n",
       "      <td>...</td>\n",
       "      <td>0.083284</td>\n",
       "      <td>0.000142</td>\n",
       "      <td>0.000142</td>\n",
       "      <td>0.000142</td>\n",
       "      <td>0.002169</td>\n",
       "      <td>0.046098</td>\n",
       "      <td>0.000142</td>\n",
       "      <td>0.000142</td>\n",
       "      <td>0.000142</td>\n",
       "      <td>0.002977</td>\n",
       "    </tr>\n",
       "    <tr>\n",
       "      <th>ERR1293498</th>\n",
       "      <td>0.000142</td>\n",
       "      <td>0.000142</td>\n",
       "      <td>0.000142</td>\n",
       "      <td>0.000708</td>\n",
       "      <td>0.008262</td>\n",
       "      <td>0.055026</td>\n",
       "      <td>0.000142</td>\n",
       "      <td>0.000142</td>\n",
       "      <td>0.015261</td>\n",
       "      <td>0.000832</td>\n",
       "      <td>...</td>\n",
       "      <td>0.083028</td>\n",
       "      <td>0.000142</td>\n",
       "      <td>0.000142</td>\n",
       "      <td>0.000142</td>\n",
       "      <td>0.001866</td>\n",
       "      <td>0.043990</td>\n",
       "      <td>0.000142</td>\n",
       "      <td>0.000142</td>\n",
       "      <td>0.000142</td>\n",
       "      <td>0.003441</td>\n",
       "    </tr>\n",
       "    <tr>\n",
       "      <th>ERR1293499</th>\n",
       "      <td>0.000142</td>\n",
       "      <td>0.000142</td>\n",
       "      <td>0.000142</td>\n",
       "      <td>0.000614</td>\n",
       "      <td>0.008643</td>\n",
       "      <td>0.057695</td>\n",
       "      <td>0.000142</td>\n",
       "      <td>0.000142</td>\n",
       "      <td>0.014270</td>\n",
       "      <td>0.000142</td>\n",
       "      <td>...</td>\n",
       "      <td>0.088951</td>\n",
       "      <td>0.000142</td>\n",
       "      <td>0.000142</td>\n",
       "      <td>0.000142</td>\n",
       "      <td>0.002068</td>\n",
       "      <td>0.051729</td>\n",
       "      <td>0.000142</td>\n",
       "      <td>0.000142</td>\n",
       "      <td>0.000142</td>\n",
       "      <td>0.003225</td>\n",
       "    </tr>\n",
       "    <tr>\n",
       "      <th>ERR1293500</th>\n",
       "      <td>0.000142</td>\n",
       "      <td>0.000142</td>\n",
       "      <td>0.000142</td>\n",
       "      <td>0.000659</td>\n",
       "      <td>0.008028</td>\n",
       "      <td>0.054997</td>\n",
       "      <td>0.000142</td>\n",
       "      <td>0.000142</td>\n",
       "      <td>0.014251</td>\n",
       "      <td>0.000142</td>\n",
       "      <td>...</td>\n",
       "      <td>0.085211</td>\n",
       "      <td>0.000142</td>\n",
       "      <td>0.000142</td>\n",
       "      <td>0.000142</td>\n",
       "      <td>0.002094</td>\n",
       "      <td>0.042908</td>\n",
       "      <td>0.000142</td>\n",
       "      <td>0.000142</td>\n",
       "      <td>0.000142</td>\n",
       "      <td>0.002765</td>\n",
       "    </tr>\n",
       "    <tr>\n",
       "      <th>ERR1293501</th>\n",
       "      <td>0.000142</td>\n",
       "      <td>0.000142</td>\n",
       "      <td>0.000142</td>\n",
       "      <td>0.000142</td>\n",
       "      <td>0.000142</td>\n",
       "      <td>0.016568</td>\n",
       "      <td>0.000142</td>\n",
       "      <td>0.000142</td>\n",
       "      <td>0.001093</td>\n",
       "      <td>0.000259</td>\n",
       "      <td>...</td>\n",
       "      <td>0.021568</td>\n",
       "      <td>0.000142</td>\n",
       "      <td>0.000142</td>\n",
       "      <td>0.000142</td>\n",
       "      <td>0.000024</td>\n",
       "      <td>0.072611</td>\n",
       "      <td>0.000142</td>\n",
       "      <td>0.000142</td>\n",
       "      <td>0.000142</td>\n",
       "      <td>0.000142</td>\n",
       "    </tr>\n",
       "  </tbody>\n",
       "</table>\n",
       "<p>5 rows × 84 columns</p>\n",
       "</div>"
      ],
      "text/plain": [
       "Name        Acidaminococcaceae_unclassified  Acidaminococcus  Actinomyces  \\\n",
       "Sample_ID                                                                   \n",
       "ERR1293497                         0.000142         0.000142     0.000142   \n",
       "ERR1293498                         0.000142         0.000142     0.000142   \n",
       "ERR1293499                         0.000142         0.000142     0.000142   \n",
       "ERR1293500                         0.000142         0.000142     0.000142   \n",
       "ERR1293501                         0.000142         0.000142     0.000142   \n",
       "\n",
       "Name        Adlercreutzia  Akkermansia  Alistipes  Anaerococcus  Anaerofustis  \\\n",
       "Sample_ID                                                                       \n",
       "ERR1293497       0.000664     0.007777   0.051931      0.000142      0.000142   \n",
       "ERR1293498       0.000708     0.008262   0.055026      0.000142      0.000142   \n",
       "ERR1293499       0.000614     0.008643   0.057695      0.000142      0.000142   \n",
       "ERR1293500       0.000659     0.008028   0.054997      0.000142      0.000142   \n",
       "ERR1293501       0.000142     0.000142   0.016568      0.000142      0.000142   \n",
       "\n",
       "Name        Anaerostipes  Anaerotruncus     ...       Ruminococcus  \\\n",
       "Sample_ID                                   ...                      \n",
       "ERR1293497      0.013660       0.000404     ...           0.083284   \n",
       "ERR1293498      0.015261       0.000832     ...           0.083028   \n",
       "ERR1293499      0.014270       0.000142     ...           0.088951   \n",
       "ERR1293500      0.014251       0.000142     ...           0.085211   \n",
       "ERR1293501      0.001093       0.000259     ...           0.021568   \n",
       "\n",
       "Name        Siphoviridae_noname   Slackia  Solobacterium  Streptococcus  \\\n",
       "Sample_ID                                                                 \n",
       "ERR1293497             0.000142  0.000142       0.000142       0.002169   \n",
       "ERR1293498             0.000142  0.000142       0.000142       0.001866   \n",
       "ERR1293499             0.000142  0.000142       0.000142       0.002068   \n",
       "ERR1293500             0.000142  0.000142       0.000142       0.002094   \n",
       "ERR1293501             0.000142  0.000142       0.000142       0.000024   \n",
       "\n",
       "Name        Subdoligranulum  Sutterella  Sutterellaceae_unclassified  \\\n",
       "Sample_ID                                                              \n",
       "ERR1293497         0.046098    0.000142                     0.000142   \n",
       "ERR1293498         0.043990    0.000142                     0.000142   \n",
       "ERR1293499         0.051729    0.000142                     0.000142   \n",
       "ERR1293500         0.042908    0.000142                     0.000142   \n",
       "ERR1293501         0.072611    0.000142                     0.000142   \n",
       "\n",
       "Name        Turicibacter  Veillonella  \n",
       "Sample_ID                              \n",
       "ERR1293497      0.000142     0.002977  \n",
       "ERR1293498      0.000142     0.003441  \n",
       "ERR1293499      0.000142     0.003225  \n",
       "ERR1293500      0.000142     0.002765  \n",
       "ERR1293501      0.000142     0.000142  \n",
       "\n",
       "[5 rows x 84 columns]"
      ]
     },
     "execution_count": 15,
     "metadata": {},
     "output_type": "execute_result"
    }
   ],
   "source": [
    "table_repl.head()"
   ]
  },
  {
   "cell_type": "code",
   "execution_count": 16,
   "metadata": {},
   "outputs": [
    {
     "data": {
      "text/plain": [
       "Sample_ID\n",
       "ERR1293589    control\n",
       "ERR1293497    control\n",
       "ERR1293566        CRC\n",
       "ERR1293520        CRC\n",
       "ERR1293590    control\n",
       "Name: STUDY_CONDITION, dtype: object"
      ]
     },
     "execution_count": 16,
     "metadata": {},
     "output_type": "execute_result"
    }
   ],
   "source": [
    "grouping_ser.head()"
   ]
  },
  {
   "cell_type": "code",
   "execution_count": 17,
   "metadata": {},
   "outputs": [
    {
     "data": {
      "text/plain": [
       "Sample_ID\n",
       "ERR1293589    control\n",
       "ERR1293566        CRC\n",
       "Name: STUDY_CONDITION, dtype: object"
      ]
     },
     "execution_count": 17,
     "metadata": {},
     "output_type": "execute_result"
    }
   ],
   "source": [
    "grouping_ser.drop_duplicates()"
   ]
  },
  {
   "cell_type": "markdown",
   "metadata": {},
   "source": [
    "# SELBAL\n",
    "Our algorithm for balance selection, selbal, starts with a first thorough search of the\n",
    "two taxa whose balance, or log ratio, is most closely associated with the response. Once\n",
    "the first two-taxon balance is selected, the algorithm performs a forward selection\n",
    "process where, at each step, a new taxon is added to the existing balance such that the\n",
    "specified criterion is improved (area under the receiver operating characteristic [ROC]\n",
    "curve [AUC] or mean squared error [MSE]). The algorithm stops when there is no\n",
    "additional variable that improves the current optimization parameter or when the\n",
    "maximum number of components to be included in the balance is achieved. This\n",
    "number is established with a cross-validation (CV) procedure, which is also used to\n",
    "explore the robustness of the identified balance. A more detailed description of the\n",
    "algorithm is given in Materials and Methods"
   ]
  },
  {
   "cell_type": "markdown",
   "metadata": {},
   "source": [
    "1. thorough search of the two taxa whose balance, or log ratio, is most closely associated with the response\n",
    "2. performs a forward selection process where, at each step, a new taxon is added to the existing balance such that the specified criterion is improved\n",
    "3. The algorithm stops when there is no additional variable that improves the current optimization parameter or when the maximum number of components to be included in the balance is achieved"
   ]
  },
  {
   "cell_type": "markdown",
   "metadata": {},
   "source": [
    "## Balance"
   ]
  },
  {
   "cell_type": "code",
   "execution_count": 31,
   "metadata": {},
   "outputs": [],
   "source": [
    "def balance(X_i, X_j):\n",
    "    if len(X_i) != len(X_j):\n",
    "        raise(\"Columns' length not equal\")\n",
    "    k = len(X_i)\n",
    "    B = math.sqrt(1/2)*(np.log(X_i) - np.log(X_j))\n",
    "    return B"
   ]
  },
  {
   "cell_type": "code",
   "execution_count": 68,
   "metadata": {},
   "outputs": [
    {
     "data": {
      "text/plain": [
       "array([ 1.62817353,  0.64791539,  0.64791539,  0.01554143, -3.75000286,\n",
       "       -2.11830261])"
      ]
     },
     "execution_count": 68,
     "metadata": {},
     "output_type": "execute_result"
    }
   ],
   "source": [
    "X_i = np.array([10,5,30,46,1,2])\n",
    "X_j = np.array([1,2,12,45,201,40])\n",
    "B = balance(X_i, X_j)\n",
    "B"
   ]
  },
  {
   "cell_type": "code",
   "execution_count": 69,
   "metadata": {},
   "outputs": [
    {
     "data": {
      "text/plain": [
       "array([[ 1.62817353],\n",
       "       [ 0.64791539],\n",
       "       [ 0.64791539],\n",
       "       [ 0.01554143],\n",
       "       [-3.75000286],\n",
       "       [-2.11830261]])"
      ]
     },
     "execution_count": 69,
     "metadata": {},
     "output_type": "execute_result"
    }
   ],
   "source": [
    "B.reshape(-1, 1)"
   ]
  },
  {
   "cell_type": "markdown",
   "metadata": {},
   "source": [
    "## Logit"
   ]
  },
  {
   "cell_type": "code",
   "execution_count": 137,
   "metadata": {},
   "outputs": [],
   "source": [
    "def get_AUC(data, target):\n",
    "    x_train, x_test, y_train, y_test = train_test_split(data, \n",
    "            target, test_size=0.2, random_state=0)\n",
    "\n",
    "    logisticRegr = LogisticRegression(solver= 'liblinear')\n",
    "    logisticRegr.fit(x_train, y_train)\n",
    "\n",
    "    #Konfidencia scoreok a teszt halmazhoz\n",
    "    y_score = logisticRegr.decision_function(x_test)\n",
    "\n",
    "    #ROC görbe számolása\n",
    "    fpr, tpr, _ = roc_curve(y_test, y_score)\n",
    "    roc_auc = auc(fpr, tpr)\n",
    "    return roc_auc"
   ]
  },
  {
   "cell_type": "code",
   "execution_count": 96,
   "metadata": {},
   "outputs": [
    {
     "name": "stderr",
     "output_type": "stream",
     "text": [
      "/gfs/progs/miniconda3/lib/python3.6/site-packages/sklearn/linear_model/logistic.py:433: FutureWarning: Default solver will be changed to 'lbfgs' in 0.22. Specify a solver to silence this warning.\n",
      "  FutureWarning)\n"
     ]
    },
    {
     "data": {
      "text/plain": [
       "0.5208810068649886"
      ]
     },
     "execution_count": 96,
     "metadata": {},
     "output_type": "execute_result"
    }
   ],
   "source": [
    "cols = table_repl.columns\n",
    "X = np.array(table_repl[cols[0:2]])\n",
    "B = balance(X[:,0], X[:,1])\n",
    "              \n",
    "Y = [1 if v == \"CRC\" else 0 for v in grouping_ser]\n",
    "\n",
    "get_AUC(B.reshape(-1, 1),Y)"
   ]
  },
  {
   "cell_type": "markdown",
   "metadata": {},
   "source": [
    "### Step 1: optimal balance between two components."
   ]
  },
  {
   "cell_type": "code",
   "execution_count": 109,
   "metadata": {},
   "outputs": [],
   "source": [
    "def opt_bal_for_two(table, target):\n",
    "    Y = [1 if v == \"CRC\" else 0 for v in grouping_ser]\n",
    "    max_col1 = table.columns[0]\n",
    "    max_col2 = table.columns[1]\n",
    "    max_auc = 0\n",
    "    for col1 in table.columns:\n",
    "        for col2 in table.columns:\n",
    "            X = np.array(table[[col1,col2]])\n",
    "            B = balance(X[:,0], X[:,1])\n",
    "\n",
    "            roc_auc = get_AUC(B.reshape(-1, 1),Y)\n",
    "            if roc_auc > max_auc:\n",
    "                max_auc = roc_auc\n",
    "                max_col1 = col1\n",
    "                max_col2 = col2\n",
    "    return max_col1, max_col2, max_auc"
   ]
  },
  {
   "cell_type": "code",
   "execution_count": 369,
   "metadata": {},
   "outputs": [],
   "source": [
    "max_col1, max_col2, max_auc = opt_bal_for_two(table_repl, grouping_ser)"
   ]
  },
  {
   "cell_type": "code",
   "execution_count": 370,
   "metadata": {},
   "outputs": [
    {
     "data": {
      "text/plain": [
       "0.7093821510297482"
      ]
     },
     "execution_count": 370,
     "metadata": {},
     "output_type": "execute_result"
    }
   ],
   "source": [
    "max_auc"
   ]
  },
  {
   "cell_type": "code",
   "execution_count": 371,
   "metadata": {},
   "outputs": [
    {
     "data": {
      "text/plain": [
       "'Bacteroides'"
      ]
     },
     "execution_count": 371,
     "metadata": {},
     "output_type": "execute_result"
    }
   ],
   "source": [
    "max_col1"
   ]
  },
  {
   "cell_type": "code",
   "execution_count": 372,
   "metadata": {},
   "outputs": [
    {
     "data": {
      "text/plain": [
       "'Siphoviridae_noname'"
      ]
     },
     "execution_count": 372,
     "metadata": {},
     "output_type": "execute_result"
    }
   ],
   "source": [
    "max_col2"
   ]
  },
  {
   "cell_type": "markdown",
   "metadata": {},
   "source": [
    "### Step s: optimal balance—adding a new component."
   ]
  },
  {
   "cell_type": "code",
   "execution_count": 376,
   "metadata": {},
   "outputs": [],
   "source": [
    "def balance_for_sets(pos_set, neg_set):\n",
    "    pos_k = pos_set.shape[1]\n",
    "    neg_k = neg_set.shape[1]\n",
    "    \n",
    "    pos_bal = np.zeros((pos_set.shape[0]))\n",
    "    for k in range(pos_k):\n",
    "        pos_bal = np.add(pos_bal, np.log(pos_set[:,k]))\n",
    "    pos_bal = pos_bal * 1/(pos_k)\n",
    "    \n",
    "    neg_bal = np.zeros((neg_set.shape[0]))\n",
    "    for k in range(neg_k):\n",
    "        neg_bal = neg_bal+np.log(neg_set[:,k])\n",
    "    neg_bal = neg_bal * 1/(neg_k)\n",
    "    \n",
    "    B = pos_bal - neg_bal\n",
    "    return B"
   ]
  },
  {
   "cell_type": "code",
   "execution_count": 374,
   "metadata": {},
   "outputs": [],
   "source": [
    "def test_assoc(table, target, pos_set_col_names, neg_set_col_names):\n",
    "    Y = [1 if v == \"CRC\" else 0 for v in target]\n",
    "    pos_set = np.array(table[pos_set_col_names])\n",
    "    neg_set = np.array(table[neg_set_col_names])\n",
    "    \n",
    "    B = balance_for_sets(pos_set, neg_set)\n",
    "\n",
    "    roc_auc = get_AUC(B.reshape(-1, 1),Y)\n",
    "    return roc_auc"
   ]
  },
  {
   "cell_type": "code",
   "execution_count": 375,
   "metadata": {},
   "outputs": [
    {
     "data": {
      "text/plain": [
       "0.6716247139588101"
      ]
     },
     "execution_count": 375,
     "metadata": {},
     "output_type": "execute_result"
    }
   ],
   "source": [
    "pos_set_col_names = ['Bacteroides','Acidaminococcus']\n",
    "neg_set_col_names = ['Siphoviridae_noname']\n",
    "table = table_repl\n",
    "target = grouping_ser\n",
    "\n",
    "test_assoc(table, target, pos_set_col_names, neg_set_col_names)"
   ]
  },
  {
   "cell_type": "code",
   "execution_count": 316,
   "metadata": {},
   "outputs": [
    {
     "data": {
      "text/plain": [
       "(417,)"
      ]
     },
     "execution_count": 316,
     "metadata": {},
     "output_type": "execute_result"
    }
   ],
   "source": [
    "np.log(pos_set[:,k]).shape"
   ]
  },
  {
   "cell_type": "code",
   "execution_count": 318,
   "metadata": {},
   "outputs": [],
   "source": [
    "pos_bal = np.zeros((pos_set.shape[0]))"
   ]
  },
  {
   "cell_type": "code",
   "execution_count": 319,
   "metadata": {},
   "outputs": [
    {
     "data": {
      "text/plain": [
       "(417,)"
      ]
     },
     "execution_count": 319,
     "metadata": {},
     "output_type": "execute_result"
    }
   ],
   "source": [
    "pos_bal.shape"
   ]
  },
  {
   "cell_type": "code",
   "execution_count": 320,
   "metadata": {},
   "outputs": [
    {
     "data": {
      "text/plain": [
       "(417,)"
      ]
     },
     "execution_count": 320,
     "metadata": {},
     "output_type": "execute_result"
    }
   ],
   "source": [
    "np.add(pos_bal, np.log(pos_set[:,k])).shape"
   ]
  },
  {
   "cell_type": "code",
   "execution_count": 362,
   "metadata": {},
   "outputs": [],
   "source": [
    "def adding_new_comp(table, target, pos_set_names, neg_set_names, max_auc):\n",
    "    \n",
    "    columns = [col for col in table.columns if col not in pos_set_names \n",
    "               and col not in neg_set_names]\n",
    "    max_auc_pos = max_auc\n",
    "    max_auc_neg = max_auc\n",
    "    which = None\n",
    "\n",
    "    for col in columns:\n",
    "        \n",
    "        tmp_pos_set = []\n",
    "        tmp_pos_set.extend(pos_set_names)\n",
    "        tmp_pos_set.append(col)\n",
    "        pos_auc = test_assoc(table, target, tmp_pos_set, neg_set_names)\n",
    "        \n",
    "        tmp_neg_set = []\n",
    "        tmp_neg_set.extend(neg_set_names)\n",
    "        tmp_neg_set.append(col)\n",
    "        neg_auc = test_assoc(table, target, pos_set_names, tmp_neg_set)\n",
    "\n",
    "        if pos_auc > neg_auc:\n",
    "            if pos_auc > max_auc_pos:\n",
    "                max_auc_pos = pos_auc\n",
    "                pos_col = col\n",
    "                which = \"POS\"\n",
    "        else:\n",
    "            if neg_auc > max_auc_neg:\n",
    "                max_auc_neg = neg_auc\n",
    "                neg_col = col\n",
    "                which = \"NEG\"\n",
    "    \n",
    "    if which == \"POS\":\n",
    "        pos_set_names.append(pos_col)\n",
    "        max_auc = max_auc_pos\n",
    "    elif which == \"NEG\":\n",
    "        neg_set_names.append(neg_col)\n",
    "        max_auc = max_auc_neg\n",
    "        \n",
    "    return pos_set_names, neg_set_names, max_auc\n",
    "    "
   ]
  },
  {
   "cell_type": "code",
   "execution_count": 363,
   "metadata": {},
   "outputs": [],
   "source": [
    "def opt_bal(table, target, threshold = 0, max_comp = 20):\n",
    "    print(\"Optimal balance for 2 ...\")\n",
    "    max_col1, max_col2, max_auc = opt_bal_for_two(table, target)\n",
    "    \n",
    "    pos_set_names = [max_col1]\n",
    "    neg_set_names = [max_col2]\n",
    "    \n",
    "    auc_list = [max_auc]\n",
    "    \n",
    "    comp_size = len(pos_set_names) + len(neg_set_names)\n",
    "    \n",
    "    crit = True\n",
    "    while(crit):\n",
    "        print(\"Optimal balance for\", comp_size+1, \"...\")\n",
    "\n",
    "        tmp_pos, tmp_neg, tmp_auc = adding_new_comp(table,\n",
    "            target, pos_set_names, neg_set_names, max_auc)\n",
    "        auc_groth = tmp_auc-max_auc\n",
    "        if auc_groth > threshold:\n",
    "            pos_set_names = tmp_pos\n",
    "            neg_set_names = tmp_neg\n",
    "            auc_list.append(tmp_auc)\n",
    "            max_auc = tmp_auc\n",
    "            comp_size = comp_size + 1\n",
    "            crit = max_comp < comp_size\n",
    "        else:\n",
    "            crit = False\n",
    "        print(\"AUC:\", max_auc)\n",
    "    return pos_set_names, neg_set_names, max_auc, auc_list\n",
    "        "
   ]
  },
  {
   "cell_type": "code",
   "execution_count": 364,
   "metadata": {},
   "outputs": [
    {
     "name": "stdout",
     "output_type": "stream",
     "text": [
      "Optimal balance for 2 ...\n",
      "Optimal balance for 3 ...\n",
      "AUC: 0.7820366132723112\n",
      "Optimal balance for 4 ...\n",
      "AUC: 0.7957665903890161\n",
      "Optimal balance for 5 ...\n",
      "AUC: 0.8054919908466819\n",
      "Optimal balance for 6 ...\n",
      "AUC: 0.8329519450800915\n",
      "Optimal balance for 7 ...\n",
      "AUC: 0.8524027459954233\n",
      "Optimal balance for 8 ...\n",
      "AUC: 0.8535469107551488\n",
      "Optimal balance for 9 ...\n",
      "AUC: 0.8546910755148742\n",
      "Optimal balance for 10 ...\n",
      "AUC: 0.8598398169336385\n",
      "Optimal balance for 11 ...\n",
      "AUC: 0.8827231121281465\n",
      "Optimal balance for 12 ...\n",
      "AUC: 0.8878718535469108\n",
      "Optimal balance for 13 ...\n",
      "AUC: 0.8941647597254004\n",
      "Optimal balance for 14 ...\n",
      "AUC: 0.8987414187643019\n",
      "Optimal balance for 15 ...\n",
      "AUC: 0.9067505720823797\n",
      "Optimal balance for 16 ...\n",
      "AUC: 0.9113272311212814\n",
      "Optimal balance for 17 ...\n",
      "AUC: 0.9147597254004577\n",
      "Optimal balance for 18 ...\n",
      "AUC: 0.9164759725400458\n",
      "Optimal balance for 19 ...\n",
      "AUC: 0.919908466819222\n",
      "Optimal balance for 20 ...\n",
      "AUC: 0.9221967963386728\n",
      "Optimal balance for 21 ...\n",
      "AUC: 0.9221967963386728\n"
     ]
    }
   ],
   "source": [
    "pos_set_names, neg_set_names, max_auc = opt_bal(table_repl, \n",
    "    grouping_ser, threshold = 0, max_comp = 2)"
   ]
  },
  {
   "cell_type": "code",
   "execution_count": 365,
   "metadata": {},
   "outputs": [
    {
     "data": {
      "text/plain": [
       "11"
      ]
     },
     "execution_count": 365,
     "metadata": {},
     "output_type": "execute_result"
    }
   ],
   "source": [
    "len(pos_set_names)"
   ]
  },
  {
   "cell_type": "code",
   "execution_count": 366,
   "metadata": {},
   "outputs": [
    {
     "data": {
      "text/plain": [
       "9"
      ]
     },
     "execution_count": 366,
     "metadata": {},
     "output_type": "execute_result"
    }
   ],
   "source": [
    "len(neg_set_names)"
   ]
  },
  {
   "cell_type": "code",
   "execution_count": 367,
   "metadata": {},
   "outputs": [
    {
     "data": {
      "text/plain": [
       "['Bacteroides',\n",
       " 'Sutterellaceae_unclassified',\n",
       " 'Solobacterium',\n",
       " 'C2likevirus',\n",
       " 'Parasutterella',\n",
       " 'Peptostreptococcaceae_noname',\n",
       " 'Lachnospiraceae_noname',\n",
       " 'Rothia',\n",
       " 'Olsenella',\n",
       " 'Acidaminococcaceae_unclassified',\n",
       " 'Gordonibacter']"
      ]
     },
     "execution_count": 367,
     "metadata": {},
     "output_type": "execute_result"
    }
   ],
   "source": [
    "pos_set_names"
   ]
  },
  {
   "cell_type": "code",
   "execution_count": 368,
   "metadata": {},
   "outputs": [
    {
     "data": {
      "text/plain": [
       "['Siphoviridae_noname',\n",
       " 'Peptostreptococcus',\n",
       " 'Clostridiaceae_noname',\n",
       " 'Granulicatella',\n",
       " 'Megasphaera',\n",
       " 'Pseudoflavonifractor',\n",
       " 'Turicibacter',\n",
       " 'Anaerococcus',\n",
       " 'Enterobacter']"
      ]
     },
     "execution_count": 368,
     "metadata": {},
     "output_type": "execute_result"
    }
   ],
   "source": [
    "neg_set_names"
   ]
  },
  {
   "cell_type": "markdown",
   "metadata": {},
   "source": [
    "### Iterative cross validation"
   ]
  },
  {
   "cell_type": "code",
   "execution_count": null,
   "metadata": {},
   "outputs": [],
   "source": []
  }
 ],
 "metadata": {
  "kernelspec": {
   "display_name": "Python 3",
   "language": "python",
   "name": "python3"
  },
  "language_info": {
   "codemirror_mode": {
    "name": "ipython",
    "version": 3
   },
   "file_extension": ".py",
   "mimetype": "text/x-python",
   "name": "python",
   "nbconvert_exporter": "python",
   "pygments_lexer": "ipython3",
   "version": "3.6.6"
  }
 },
 "nbformat": 4,
 "nbformat_minor": 2
}
