{
 "cells": [
  {
   "cell_type": "code",
   "execution_count": 5,
   "metadata": {},
   "outputs": [],
   "source": [
    "import pandas as pd\n",
    "import os\n",
    "import seaborn as sns\n",
    "import matplotlib.pyplot as plt\n",
    "import time\n",
    "\n",
    "\n",
    "#from skbio.diversity import alpha_diversity\n",
    "#from skbio.diversity import beta_diversity\n",
    "#from skbio import TreeNode\n",
    "from io import StringIO\n",
    "#from skbio.stats.ordination import pcoa\n",
    "from skbio.stats.composition import ancom\n",
    "import math\n",
    "from skbio.stats.composition import multiplicative_replacement\n",
    "import numpy as np\n",
    "\n",
    "from sklearn.metrics import roc_curve, auc, confusion_matrix\n",
    "from sklearn.model_selection import train_test_split\n",
    "from sklearn.linear_model import LogisticRegression\n",
    "from sklearn.model_selection import cross_val_score\n",
    "from sklearn import tree\n",
    "from sklearn.model_selection import KFold\n",
    "\n",
    "import cx_Oracle\n",
    "\n",
    "SERVER = 'dboracle.itk.ppke.hu'\n",
    "PORT = 1521\n",
    "SERVICE = 'rsc.itk.ppke.hu'\n",
    "USER = 'metagenome'\n",
    "PASSWORD = 'LrJPRUS73r84'\n",
    "\n",
    "class Connection():\n",
    "\n",
    "    def __init__(self):\n",
    "        dsn_tns = cx_Oracle.makedsn(SERVER, PORT, service_name=SERVICE)\n",
    "        self.connection = cx_Oracle.connect(USER, PASSWORD, dsn_tns)\n",
    "\n",
    "    def get_connection(self):\n",
    "        return self.connection\n",
    "\n",
    "    def select(self, sql):\n",
    "        return pd.read_sql(sql, con=self.connection)\n",
    "\n",
    "con = Connection()"
   ]
  },
  {
   "cell_type": "code",
   "execution_count": 17,
   "metadata": {},
   "outputs": [],
   "source": [
    "def get_data_for_sample(path_to_file):\n",
    "    dataset = path_to_file.split('/')[-1]\n",
    "    df = pd.read_csv(path_to_file, delimiter = ',')\n",
    "    df['Dataset'] = dataset\n",
    "    df[\"Name\"] = [n.strip() for n in df[\"Name\"]]\n",
    "    return df\n",
    "\n",
    "def get_table_and_grouping(df_name, table_files, column_to_group='STUDY_CONDITION', rank='F', \n",
    "                           use_percent= True, percent=30, group=None, group_to_drop = None, counts=True):\n",
    "\n",
    "    for file in table_files:\n",
    "        if df_name in file:\n",
    "            index = table_files.index(file)\n",
    "            \n",
    "    df = get_data_for_sample(table_files[index])\n",
    "    print(df.head())\n",
    "    df_2 = df.loc[df['Rank'] == rank]\n",
    "    \n",
    "    if len(df_2) == 0:\n",
    "        raise WrongRank(rank)\n",
    "    \n",
    "    df_2 = df_2[['Sample_ID', 'Name', 'Abundance', column_to_group]]\n",
    "    df_2 = df_2.loc[[i == i for i in df_2[column_to_group]]]\n",
    "\n",
    "    if group is not None:\n",
    "        df_2[column_to_group] = [group if group in v else \"Control\" for v in df_2[column_to_group]]\n",
    "\n",
    "    if group_to_drop is not None:\n",
    "        df_2 = df_2.loc[df_2[column_to_group] != group_to_drop]\n",
    "                       \n",
    "    table = df_2.pivot(index='Sample_ID', columns='Name', values='Abundance')\n",
    "    \n",
    "    # Dropping sparse columns\n",
    "    if use_percent:\n",
    "        counts = {}\n",
    "        to_drop = []\n",
    "        for column in table.columns:\n",
    "            counts[column] = table[column].loc[table[column].notnull()].count() + table[column].loc[table[column] != 0].count()\n",
    "            \n",
    "            if counts[column] < table.shape[1]/100*percent:\n",
    "                to_drop.append(column)\n",
    "        table = table.drop(columns = to_drop)\n",
    "    \n",
    "    print(\"Shape of table:\", table.shape)\n",
    "    \n",
    "    # Handling remaining Nan values and zero values\n",
    "    table = table.fillna(0)\n",
    "    table_repl = pd.DataFrame(multiplicative_replacement(table.values),\n",
    "                      index=table.index,\n",
    "                      columns=table.columns)\n",
    "    \n",
    "\n",
    "    \n",
    "    # Addong \"one\" to all of them\n",
    "    if False:\n",
    "        columns = table_repl.columns\n",
    "        def add_one(row):\n",
    "            min_ab = max(row)\n",
    "            for col in columns:\n",
    "                if row[col] != 0 and row[col] < min_ab:\n",
    "                    min_ab = row[col]\n",
    "            for col in columns:\n",
    "                row[col] = row[col] + min_ab\n",
    "            return row\n",
    "\n",
    "        table_repl = table_repl.apply(add_one,axis=1)\n",
    "    \n",
    "    # Switching from abundance to counts\n",
    "    if False and counts:\n",
    "        columns = table_repl.columns\n",
    "        def calc_count(row):\n",
    "            min_ab = min(row)\n",
    "            to_mult = 1 / min_ab\n",
    "            for col in columns:\n",
    "                row[col] = round(row[col]*to_mult)\n",
    "            return row\n",
    "\n",
    "        table_repl = table_repl.apply(calc_count,axis=1)\n",
    "    \n",
    "    # Log of all abundance\n",
    "    #table_repl = table_repl.apply(np.log,axis=1)\n",
    "\n",
    "    grouping = df_2[['Sample_ID', column_to_group]].drop_duplicates()\n",
    "    grouping.index = grouping[\"Sample_ID\"]\n",
    "    grouping = grouping.drop(columns = [\"Sample_ID\"])\n",
    "    \n",
    "    grouping_ser = grouping[column_to_group]\n",
    "\n",
    "    return table_repl, grouping_ser"
   ]
  },
  {
   "cell_type": "code",
   "execution_count": 8,
   "metadata": {},
   "outputs": [
    {
     "name": "stdout",
     "output_type": "stream",
     "text": [
      "['//gfs/data/curated_metagenomes_metaphlan2/AsnicarF_2017.csv', '//gfs/data/curated_metagenomes_metaphlan2/ChngKR_2016.csv', '//gfs/data/curated_metagenomes_metaphlan2/FengQ_2015.csv', '//gfs/data/curated_metagenomes_metaphlan2/VogtmannE_2016.csv', '//gfs/data/curated_metagenomes_metaphlan2/YuJ_2015.csv']\n",
      "['//gfs/data/curated_metagenomes_kraken2/RampelliS_2015.csv', '//gfs/data/curated_metagenomes_kraken2/AsnicarF_2017.csv', '//gfs/data/curated_metagenomes_kraken2/ChngKR_2016.csv', '//gfs/data/curated_metagenomes_kraken2/FengQ_2015.csv', '//gfs/data/curated_metagenomes_kraken2/Heitz-BuschartA_2016.csv', '//gfs/data/curated_metagenomes_kraken2/KarlssonFH_2013.csv', '//gfs/data/curated_metagenomes_kraken2/LeChatelierE_2013.csv', '//gfs/data/curated_metagenomes_kraken2/LiuW_2016.csv', '//gfs/data/curated_metagenomes_kraken2/LomanNJ_2013.csv', '//gfs/data/curated_metagenomes_kraken2/Obregon-TitoAJ_2015.csv', '//gfs/data/curated_metagenomes_kraken2/QinJ_2012.csv', '//gfs/data/curated_metagenomes_kraken2/QinN_2014.csv', '//gfs/data/curated_metagenomes_kraken2/SchirmerM_2016.csv', '//gfs/data/curated_metagenomes_kraken2/VatanenT_2016.csv', '//gfs/data/curated_metagenomes_kraken2/VogtmannE_2016.csv', '//gfs/data/curated_metagenomes_kraken2/XieH_2016.csv', '//gfs/data/curated_metagenomes_kraken2/YuJ_2015.csv', '//gfs/data/curated_metagenomes_kraken2/ZellerG_2014.csv']\n"
     ]
    }
   ],
   "source": [
    "path_metaphlan = '//gfs/data/curated_metagenomes_metaphlan2/'\n",
    "\n",
    "files_metaphlan = []\n",
    "# r=root, d=directories, f = files\n",
    "for r, d, f in os.walk(path_metaphlan):\n",
    "    for file in f:\n",
    "        if '.csv' in file:\n",
    "            files_metaphlan.append(os.path.join(path_metaphlan, file))\n",
    "print(files_metaphlan)\n",
    "\n",
    "path_kraken = '//gfs/data/curated_metagenomes_kraken2/'\n",
    "\n",
    "files_kraken = []\n",
    "# r=root, d=directories, f = files\n",
    "for r, d, f in os.walk(path_kraken):\n",
    "    for file in f:\n",
    "        if '.csv' in file:\n",
    "            files_kraken.append(os.path.join(path_kraken, file))\n",
    "print(files_kraken)"
   ]
  },
  {
   "cell_type": "code",
   "execution_count": 23,
   "metadata": {},
   "outputs": [],
   "source": [
    "data = pd.read_csv(\"balance_FengQ_2015_metaphlan2_p_.csv\", delimiter = '\\t')"
   ]
  },
  {
   "cell_type": "code",
   "execution_count": 24,
   "metadata": {},
   "outputs": [
    {
     "data": {
      "text/html": [
       "<div>\n",
       "<style scoped>\n",
       "    .dataframe tbody tr th:only-of-type {\n",
       "        vertical-align: middle;\n",
       "    }\n",
       "\n",
       "    .dataframe tbody tr th {\n",
       "        vertical-align: top;\n",
       "    }\n",
       "\n",
       "    .dataframe thead th {\n",
       "        text-align: right;\n",
       "    }\n",
       "</style>\n",
       "<table border=\"1\" class=\"dataframe\">\n",
       "  <thead>\n",
       "    <tr style=\"text-align: right;\">\n",
       "      <th></th>\n",
       "      <th>x</th>\n",
       "    </tr>\n",
       "  </thead>\n",
       "  <tbody>\n",
       "    <tr>\n",
       "      <th>1</th>\n",
       "      <td>6.105360</td>\n",
       "    </tr>\n",
       "    <tr>\n",
       "      <th>2</th>\n",
       "      <td>6.181964</td>\n",
       "    </tr>\n",
       "    <tr>\n",
       "      <th>3</th>\n",
       "      <td>6.433774</td>\n",
       "    </tr>\n",
       "    <tr>\n",
       "      <th>5</th>\n",
       "      <td>7.264521</td>\n",
       "    </tr>\n",
       "    <tr>\n",
       "      <th>6</th>\n",
       "      <td>6.883195</td>\n",
       "    </tr>\n",
       "  </tbody>\n",
       "</table>\n",
       "</div>"
      ],
      "text/plain": [
       "          x\n",
       "1  6.105360\n",
       "2  6.181964\n",
       "3  6.433774\n",
       "5  7.264521\n",
       "6  6.883195"
      ]
     },
     "execution_count": 24,
     "metadata": {},
     "output_type": "execute_result"
    }
   ],
   "source": [
    "data.head()"
   ]
  },
  {
   "cell_type": "code",
   "execution_count": 31,
   "metadata": {},
   "outputs": [],
   "source": [
    "y = pd.read_csv(\"y.csv\", delimiter = ',')\n",
    "y = y[\"STUDY_CONDITION\"]"
   ]
  },
  {
   "cell_type": "code",
   "execution_count": 32,
   "metadata": {},
   "outputs": [
    {
     "data": {
      "text/plain": [
       "0        CRC\n",
       "1    control\n",
       "2    control\n",
       "3    control\n",
       "4    control\n",
       "Name: STUDY_CONDITION, dtype: object"
      ]
     },
     "execution_count": 32,
     "metadata": {},
     "output_type": "execute_result"
    }
   ],
   "source": [
    "y.head()"
   ]
  },
  {
   "cell_type": "code",
   "execution_count": 9,
   "metadata": {},
   "outputs": [],
   "source": [
    "def balance_for_sets(pos_set, neg_set):\n",
    "    pos_k = pos_set.shape[1]\n",
    "    neg_k = neg_set.shape[1]\n",
    "    \n",
    "    #sqrt((k1*k2)/(k1+k2))*(rowM(logc[,NUM])- rowM(logc[,DEN]))\n",
    "    \n",
    "    pos_bal = np.zeros((pos_set.shape[0]))\n",
    "    for k in range(pos_k):\n",
    "        pos_bal = np.add(pos_bal, np.log(pos_set[:,k]))\n",
    "    pos_bal = pos_bal * 1/(pos_k)\n",
    "    \n",
    "    neg_bal = np.zeros((neg_set.shape[0]))\n",
    "    for k in range(neg_k):\n",
    "        neg_bal = neg_bal+np.log(neg_set[:,k])\n",
    "    neg_bal = neg_bal * 1/(neg_k)\n",
    "    \n",
    "    B = np.sqrt((pos_k*neg_k)/(pos_k+neg_k)) * (pos_bal - neg_bal)\n",
    "    \n",
    "    return B"
   ]
  },
  {
   "cell_type": "code",
   "execution_count": 10,
   "metadata": {},
   "outputs": [],
   "source": [
    "def get_table_from_logc(path_to_file):\n",
    "    df = pd.read_csv(filename, delimiter = ',')"
   ]
  },
  {
   "cell_type": "code",
   "execution_count": 15,
   "metadata": {},
   "outputs": [],
   "source": [
    "def test_for_AUC(dataset_name, method, rank, pos_set_names, neg_set_names, percent=0.2):\n",
    "    start = time.time()\n",
    "\n",
    "    # Find path to dataset file\n",
    "    if method == \"Kraken\":\n",
    "        table_files = files_kraken\n",
    "        rank = rank.upper()\n",
    "    else:\n",
    "        if method == \"Metaphlan\":\n",
    "            table_files = files_metaphlan\n",
    "            rank = rank.lower()\n",
    "        else:\n",
    "            print(\"Wrong method! Method should be 'Kraken' or 'Metaphlan'\")\n",
    "            raise\n",
    "    \n",
    "    \n",
    "   \n",
    "    table_repl, grouping_ser = get_table_and_grouping(dataset_name, table_files, rank = rank, percent=percent, group_to_drop=\"adenoma\")\n",
    "    \n",
    "    #table_repl, grouping_ser = get_table_from_logc(path_to_file)\n",
    "    # Split to train and test data\n",
    "    X_train, X_test, y_train, y_test = train_test_split(table_repl, \n",
    "     grouping_ser, test_size=0.2, random_state=1)\n",
    "    \n",
    "    # Training on training data with selected model, then test it on test data\n",
    "    roc_auc, B_test, y_test = test_model(table_repl, grouping_ser, pos_set_names, neg_set_names)\n",
    "\n",
    "    end2 = time.time()\n",
    "    print(\"Elapsed time whole:\", end2 - start)\n",
    "\n",
    "    return roc_auc, B_test, y_test"
   ]
  },
  {
   "cell_type": "code",
   "execution_count": 148,
   "metadata": {},
   "outputs": [],
   "source": [
    "data = pd.read_csv(\"balance_values_FengQ_2015_metaphlan2_p (1).tsv\", delimiter = '\\t')\n",
    "y = pd.read_csv(\"y_FengQ_2015_metaphlan2_p (1).tsv\", delimiter = '\\t')\n",
    "\n",
    "y = y.reset_index()\n",
    "data = data.reset_index()\n",
    "\n",
    "data = data.join(y, lsuffix = \"_data\", rsuffix=\"_y\")\n",
    "\n",
    "data[\"STUDY_CONDITION\"] = data[\"x_y\"]\n",
    "data[\"Balance\"] = data[\"x_data\"]"
   ]
  },
  {
   "cell_type": "code",
   "execution_count": 149,
   "metadata": {},
   "outputs": [
    {
     "data": {
      "text/plain": [
       "<matplotlib.legend.Legend at 0x7faaa4447a20>"
      ]
     },
     "execution_count": 149,
     "metadata": {},
     "output_type": "execute_result"
    },
    {
     "data": {
      "image/png": "[encoded data removed]",
      "text/plain": [
       "<Figure size 432x288 with 1 Axes>"
      ]
     },
     "metadata": {
      "needs_background": "light"
     },
     "output_type": "display_data"
    }
   ],
   "source": [
    "#ROC görbe számolása\n",
    "fpr, tpr = ROC(data)\n",
    "roc_auc = auc(fpr, tpr)\n",
    "\n",
    "plt.figure()\n",
    "lw = 2\n",
    "plt.plot(fpr, tpr, color='darkorange',\n",
    "         lw=lw, label='ROC curve (area = %0.2f)' % roc_auc)\n",
    "plt.plot([0, 1], [0, 1], color='navy', lw=lw, linestyle='--')\n",
    "plt.xlim([0.0, 1.0])\n",
    "plt.ylim([0.0, 1.05])\n",
    "plt.xlabel('False Positive Rate')\n",
    "plt.ylabel('True Positive Rate')\n",
    "plt.title( 'ROC curve')\n",
    "plt.legend(loc=\"lower right\")"
   ]
  },
  {
   "cell_type": "code",
   "execution_count": 143,
   "metadata": {},
   "outputs": [],
   "source": [
    "data = pd.read_csv(\"2_balance_FengQ_2015_metaphlan2_p_glm.csv\", delimiter = '\\t')\n",
    "y = pd.read_csv(\"y.csv\", delimiter = ',')\n",
    "y = y[\"STUDY_CONDITION\"]\n",
    "data[\"STUDY_CONDITION\"] = y\n",
    "data[\"Balance\"] = data[\"x\"]"
   ]
  },
  {
   "cell_type": "code",
   "execution_count": 144,
   "metadata": {},
   "outputs": [
    {
     "data": {
      "text/plain": [
       "<matplotlib.legend.Legend at 0x7faaa45a3dd8>"
      ]
     },
     "execution_count": 144,
     "metadata": {},
     "output_type": "execute_result"
    },
    {
     "data": {
      "image/png": "[encoded data removed]",
      "text/plain": [
       "<Figure size 432x288 with 1 Axes>"
      ]
     },
     "metadata": {
      "needs_background": "light"
     },
     "output_type": "display_data"
    }
   ],
   "source": [
    "#ROC görbe számolása\n",
    "fpr, tpr = ROC(data)\n",
    "roc_auc = auc(fpr, tpr)\n",
    "\n",
    "plt.figure()\n",
    "lw = 2\n",
    "plt.plot(fpr, tpr, color='darkorange',\n",
    "         lw=lw, label='ROC curve (area = %0.2f)' % roc_auc)\n",
    "plt.plot([0, 1], [0, 1], color='navy', lw=lw, linestyle='--')\n",
    "plt.xlim([0.0, 1.0])\n",
    "plt.ylim([0.0, 1.05])\n",
    "plt.xlabel('False Positive Rate')\n",
    "plt.ylabel('True Positive Rate')\n",
    "plt.title( 'ROC curve')\n",
    "plt.legend(loc=\"lower right\")"
   ]
  },
  {
   "cell_type": "code",
   "execution_count": 141,
   "metadata": {},
   "outputs": [],
   "source": [
    "data = pd.read_csv(\"balance_FengQ_2015_metaphlan2_p_.csv\", delimiter = '\\t')\n",
    "y = pd.read_csv(\"y.csv\", delimiter = ',')\n",
    "y = y[\"STUDY_CONDITION\"]\n",
    "data[\"STUDY_CONDITION\"] = y\n",
    "data[\"Balance\"] = data[\"x\"]"
   ]
  },
  {
   "cell_type": "code",
   "execution_count": 142,
   "metadata": {},
   "outputs": [
    {
     "data": {
      "text/plain": [
       "<matplotlib.legend.Legend at 0x7faaa468ae10>"
      ]
     },
     "execution_count": 142,
     "metadata": {},
     "output_type": "execute_result"
    },
    {
     "data": {
      "image/png": "[encoded data removed]",
      "text/plain": [
       "<Figure size 432x288 with 1 Axes>"
      ]
     },
     "metadata": {
      "needs_background": "light"
     },
     "output_type": "display_data"
    }
   ],
   "source": [
    "#ROC görbe számolása\n",
    "fpr, tpr = ROC(data)\n",
    "roc_auc = auc(fpr, tpr)\n",
    "\n",
    "plt.figure()\n",
    "lw = 2\n",
    "plt.plot(fpr, tpr, color='darkorange',\n",
    "         lw=lw, label='ROC curve (area = %0.2f)' % roc_auc)\n",
    "plt.plot([0, 1], [0, 1], color='navy', lw=lw, linestyle='--')\n",
    "plt.xlim([0.0, 1.0])\n",
    "plt.ylim([0.0, 1.05])\n",
    "plt.xlabel('False Positive Rate')\n",
    "plt.ylabel('True Positive Rate')\n",
    "plt.title( 'ROC curve')\n",
    "plt.legend(loc=\"lower right\")"
   ]
  },
  {
   "cell_type": "code",
   "execution_count": 140,
   "metadata": {},
   "outputs": [],
   "source": [
    "def ROC(df):\n",
    "    TPR_list = []\n",
    "    FPR_list = []\n",
    "    df[\"TARGET\"] = df[\"STUDY_CONDITION\"] == \"CRC\"\n",
    "\n",
    "    min_bal = df[\"Balance\"].min()\n",
    "    max_bal = df[\"Balance\"].max()\n",
    "    step = (max_bal-min_bal) / 100\n",
    "    for treshold in np.arange(min_bal, max_bal, step):\n",
    "        df[\"PREDICATE\"] = [i>treshold for i in df[\"Balance\"]]\n",
    "\n",
    "        TP = len(df.loc[(df[\"PREDICATE\"] == True )&\n",
    "                                (df[\"TARGET\"] == True)])\n",
    "        FP = len(df.loc[(df[\"PREDICATE\"] == True )&\n",
    "                                (df[\"TARGET\"] == False)])\n",
    "        FN = len(df.loc[(df[\"PREDICATE\"] == False )&\n",
    "                                (df[\"TARGET\"] == True)])\n",
    "        TN = len(df.loc[(df[\"PREDICATE\"] == False )&\n",
    "                                (df[\"TARGET\"] == False)])\n",
    "\n",
    "        TPR = TP / (TP+FN)\n",
    "        FPR = FP / (TN+FP)\n",
    "\n",
    "        TPR_list.append(TPR)\n",
    "        FPR_list.append(FPR)\n",
    "\n",
    "    return FPR_list, TPR_list"
   ]
  },
  {
   "cell_type": "code",
   "execution_count": 19,
   "metadata": {},
   "outputs": [],
   "source": [
    "def test_model(x_train, y_train, pos_set_names, neg_set_names):\n",
    "    \n",
    "    Y = [1 if v == \"CRC\" else 0 for v in y_train]\n",
    "    pos_set = np.array(x_train[pos_set_names])\n",
    "    neg_set = np.array(x_train[neg_set_names])\n",
    "    \n",
    "    B = balance_for_sets(pos_set, neg_set)\n",
    "\n",
    "    x_train_2 = B.reshape(-1, 1)\n",
    "    y_train_2 = Y\n",
    "\n",
    "    order = list(y_train.drop_duplicates())\n",
    "\n",
    "    #Balanceok ábrázolása\n",
    "    plt.figure()\n",
    "    df_train = pd.DataFrame(y_train)\n",
    "    df_train[\"Balance\"] = B\n",
    "    sns.boxplot(x=\"STUDY_CONDITION\", y=\"Balance\", order=order, data=df_train).set_title(\"Train balances\")\n",
    "\n",
    "    \n",
    "    #ROC görbe számolása\n",
    "    fpr, tpr = ROC(df_train)\n",
    "    roc_auc = auc(fpr, tpr)\n",
    "    \n",
    "    plt.figure()\n",
    "    lw = 2\n",
    "    plt.plot(fpr, tpr, color='darkorange',\n",
    "             lw=lw, label='ROC curve (area = %0.2f)' % roc_auc)\n",
    "    plt.plot([0, 1], [0, 1], color='navy', lw=lw, linestyle='--')\n",
    "    plt.xlim([0.0, 1.0])\n",
    "    plt.ylim([0.0, 1.05])\n",
    "    plt.xlabel('False Positive Rate')\n",
    "    plt.ylabel('True Positive Rate')\n",
    "    plt.title( 'ROC curve')\n",
    "    plt.legend(loc=\"lower right\")\n",
    "\n",
    "    return roc_auc,"
   ]
  },
  {
   "cell_type": "code",
   "execution_count": 20,
   "metadata": {},
   "outputs": [
    {
     "name": "stdout",
     "output_type": "stream",
     "text": [
      "   Unnamed: 0  Sample_ID         Dataset Rank            Name  Abundance  \\\n",
      "0           0  ERR688526  FengQ_2015.csv    k        Bacteria   99.99747   \n",
      "1           1  ERR688526  FengQ_2015.csv    k         Viruses    0.00253   \n",
      "2           2  ERR688526  FengQ_2015.csv    p      Firmicutes   81.81372   \n",
      "3           3  ERR688526  FengQ_2015.csv    p  Actinobacteria   12.04277   \n",
      "4           4  ERR688526  FengQ_2015.csv    p   Bacteroidetes    4.97884   \n",
      "\n",
      "  STUDY_CONDITION BODY_SITE SUBJECTID COUNTRY              DISEASE  AGE  \\\n",
      "0         adenoma     stool  SID31282     AUT  adenoma;fatty_liver   63   \n",
      "1         adenoma     stool  SID31282     AUT  adenoma;fatty_liver   63   \n",
      "2         adenoma     stool  SID31282     AUT  adenoma;fatty_liver   63   \n",
      "3         adenoma     stool  SID31282     AUT  adenoma;fatty_liver   63   \n",
      "4         adenoma     stool  SID31282     AUT  adenoma;fatty_liver   63   \n",
      "\n",
      "  AGE_CATEGORY  \n",
      "0        adult  \n",
      "1        adult  \n",
      "2        adult  \n",
      "3        adult  \n",
      "4        adult  \n",
      "Shape of table: (107, 510)\n",
      "Sample_ID\n",
      "ERR688511    6.661571e-01\n",
      "ERR688505   -3.361562e+00\n",
      "ERR688517    5.983932e-01\n",
      "ERR688544   -2.997751e+00\n",
      "ERR688529   -2.256648e+00\n",
      "ERR688535   -1.841065e+00\n",
      "ERR688541   -8.934860e-01\n",
      "ERR688514    2.523449e+00\n",
      "ERR688547    4.302833e-01\n",
      "ERR688520   -3.863898e+00\n",
      "ERR688532    2.982487e+00\n",
      "ERR688523   -2.215041e+00\n",
      "ERR688506   -2.037084e-01\n",
      "ERR688513    9.006970e-01\n",
      "ERR688521    3.404423e+00\n",
      "ERR688537    2.416582e+00\n",
      "ERR688530   -1.754148e+00\n",
      "ERR688515    1.205396e+00\n",
      "ERR688507    7.365992e-01\n",
      "ERR688539   -1.948344e+00\n",
      "ERR688516    1.396243e+00\n",
      "ERR688533    1.467753e+00\n",
      "ERR688525   -1.079013e+00\n",
      "ERR688509   -1.538370e-15\n",
      "ERR688534   -1.442424e+00\n",
      "ERR688510    2.274813e+00\n",
      "ERR688527   -2.514122e+00\n",
      "ERR688543   -2.822833e+00\n",
      "ERR688528    3.198222e+00\n",
      "ERR688553   -1.764498e-01\n",
      "                 ...     \n",
      "ERR688599   -2.045749e+00\n",
      "ERR688607    1.557119e+00\n",
      "ERR688622   -2.623757e+00\n",
      "ERR688600    1.157019e+00\n",
      "ERR688608   -1.296906e+00\n",
      "ERR688616    2.126875e+00\n",
      "ERR688641    3.543044e+00\n",
      "ERR688649    1.225391e+00\n",
      "ERR688624    3.853365e+00\n",
      "ERR688642    3.588761e+00\n",
      "ERR688634    5.453107e+00\n",
      "ERR688650    2.494089e+00\n",
      "ERR710429    2.571255e+00\n",
      "ERR688635   -1.922597e+00\n",
      "ERR688643    2.736102e+00\n",
      "ERR710430    1.579750e+00\n",
      "ERR688651    4.732409e+00\n",
      "ERR688636    1.944809e+00\n",
      "ERR688644   -1.847900e+00\n",
      "ERR688637    3.664018e+00\n",
      "ERR710432   -3.429425e+00\n",
      "ERR688646    8.692377e-02\n",
      "ERR688638    2.527341e+00\n",
      "ERR710426    2.631228e+00\n",
      "ERR710427    9.886987e-01\n",
      "ERR688647    1.014124e+00\n",
      "ERR688639    1.296541e+00\n",
      "ERR688648    9.948093e-01\n",
      "ERR710428   -1.538370e-15\n",
      "ERR688640    1.467654e+00\n",
      "Name: Balance, Length: 107, dtype: float64\n"
     ]
    },
    {
     "ename": "ValueError",
     "evalue": "not enough values to unpack (expected 3, got 1)",
     "output_type": "error",
     "traceback": [
      "\u001b[0;31m---------------------------------------------------------------------------\u001b[0m",
      "\u001b[0;31mValueError\u001b[0m                                Traceback (most recent call last)",
      "\u001b[0;32m<ipython-input-20-1f1a188157eb>\u001b[0m in \u001b[0;36m<module>\u001b[0;34m\u001b[0m\n\u001b[1;32m      1\u001b[0m test_for_AUC(\"FengQ_2015\", \"Metaphlan\", \"s\", pos_set_names =[\"Prevotella_copri\",\n\u001b[0;32m----> 2\u001b[0;31m     \"Fusobacterium_nucleatum\", \"Lachnospiraceae_bacterium_7_1_58FAA\"], neg_set_names=[\"Pseudomonas_unclassified\"])\n\u001b[0m",
      "\u001b[0;32m<ipython-input-15-591847912695>\u001b[0m in \u001b[0;36mtest_for_AUC\u001b[0;34m(dataset_name, method, rank, pos_set_names, neg_set_names, percent)\u001b[0m\n\u001b[1;32m     24\u001b[0m \u001b[0;34m\u001b[0m\u001b[0m\n\u001b[1;32m     25\u001b[0m     \u001b[0;31m# Training on training data with selected model, then test it on test data\u001b[0m\u001b[0;34m\u001b[0m\u001b[0;34m\u001b[0m\u001b[0m\n\u001b[0;32m---> 26\u001b[0;31m     \u001b[0mroc_auc\u001b[0m\u001b[0;34m,\u001b[0m \u001b[0mB_test\u001b[0m\u001b[0;34m,\u001b[0m \u001b[0my_test\u001b[0m \u001b[0;34m=\u001b[0m \u001b[0mtest_model\u001b[0m\u001b[0;34m(\u001b[0m\u001b[0mtable_repl\u001b[0m\u001b[0;34m,\u001b[0m \u001b[0mgrouping_ser\u001b[0m\u001b[0;34m,\u001b[0m \u001b[0mpos_set_names\u001b[0m\u001b[0;34m,\u001b[0m \u001b[0mneg_set_names\u001b[0m\u001b[0;34m)\u001b[0m\u001b[0;34m\u001b[0m\u001b[0m\n\u001b[0m\u001b[1;32m     27\u001b[0m \u001b[0;34m\u001b[0m\u001b[0m\n\u001b[1;32m     28\u001b[0m     \u001b[0mend2\u001b[0m \u001b[0;34m=\u001b[0m \u001b[0mtime\u001b[0m\u001b[0;34m.\u001b[0m\u001b[0mtime\u001b[0m\u001b[0;34m(\u001b[0m\u001b[0;34m)\u001b[0m\u001b[0;34m\u001b[0m\u001b[0m\n",
      "\u001b[0;31mValueError\u001b[0m: not enough values to unpack (expected 3, got 1)"
     ]
    },
    {
     "data": {
      "image/png": "[encoded data removed]",
      "text/plain": [
       "<Figure size 432x288 with 1 Axes>"
      ]
     },
     "metadata": {
      "needs_background": "light"
     },
     "output_type": "display_data"
    },
    {
     "data": {
      "image/png": "[encoded data removed]",
      "text/plain": [
       "<Figure size 432x288 with 1 Axes>"
      ]
     },
     "metadata": {
      "needs_background": "light"
     },
     "output_type": "display_data"
    }
   ],
   "source": [
    "test_for_AUC(\"FengQ_2015\", \"Metaphlan\", \"s\", pos_set_names =[\"Prevotella_copri\",\n",
    "    \"Fusobacterium_nucleatum\", \"Lachnospiraceae_bacterium_7_1_58FAA\"], neg_set_names=[\"Pseudomonas_unclassified\"])"
   ]
  },
  {
   "cell_type": "code",
   "execution_count": 21,
   "metadata": {},
   "outputs": [
    {
     "name": "stdout",
     "output_type": "stream",
     "text": [
      "   Unnamed: 0  Sample_ID         Dataset Rank                 Name  Abundance  \\\n",
      "0           0  ERR688526  FengQ_2015.csv    U         unclassified      70.88   \n",
      "1           1  ERR688526  FengQ_2015.csv    R                 root      29.12   \n",
      "2           2  ERR688526  FengQ_2015.csv   R1   cellular organisms      29.11   \n",
      "3           3  ERR688526  FengQ_2015.csv    D             Bacteria      29.05   \n",
      "4           4  ERR688526  FengQ_2015.csv   D1  Terrabacteria group      25.38   \n",
      "\n",
      "  STUDY_CONDITION BODY_SITE SUBJECTID COUNTRY              DISEASE  AGE  \\\n",
      "0         adenoma     stool  SID31282     AUT  adenoma;fatty_liver   63   \n",
      "1         adenoma     stool  SID31282     AUT  adenoma;fatty_liver   63   \n",
      "2         adenoma     stool  SID31282     AUT  adenoma;fatty_liver   63   \n",
      "3         adenoma     stool  SID31282     AUT  adenoma;fatty_liver   63   \n",
      "4         adenoma     stool  SID31282     AUT  adenoma;fatty_liver   63   \n",
      "\n",
      "  AGE_CATEGORY  \n",
      "0        adult  \n",
      "1        adult  \n",
      "2        adult  \n",
      "3        adult  \n",
      "4        adult  \n",
      "Shape of table: (107, 81)\n",
      "Elapsed time whole: 8.339636087417603\n"
     ]
    },
    {
     "data": {
      "text/plain": [
       "(0.3958333333333333,\n",
       " array([2.84982851, 3.07448733, 2.46563568, 3.19545254, 2.89194392,\n",
       "        2.81700078, 2.68461152, 3.01439468, 2.92997559, 2.461896  ,\n",
       "        2.47862638, 3.03582555, 2.92508889, 2.53839873, 2.827835  ,\n",
       "        2.30548984, 1.55591979, 2.82497653, 2.74190987, 3.24775362,\n",
       "        2.56307921, 2.51434021]),\n",
       " Sample_ID\n",
       " ERR688642        CRC\n",
       " ERR688511    control\n",
       " ERR688638        CRC\n",
       " ERR688617    control\n",
       " ERR688544    control\n",
       " ERR688618        CRC\n",
       " ERR688563    control\n",
       " ERR710428    control\n",
       " ERR688639        CRC\n",
       " ERR688537    control\n",
       " ERR688599    control\n",
       " ERR688622    control\n",
       " ERR688515        CRC\n",
       " ERR688554    control\n",
       " ERR710426    control\n",
       " ERR688547        CRC\n",
       " ERR688581        CRC\n",
       " ERR688614    control\n",
       " ERR688513        CRC\n",
       " ERR688644        CRC\n",
       " ERR688648    control\n",
       " ERR688651        CRC\n",
       " Name: STUDY_CONDITION, dtype: object)"
      ]
     },
     "execution_count": 21,
     "metadata": {},
     "output_type": "execute_result"
    },
    {
     "data": {
      "image/png": "[encoded data removed]",
      "text/plain": [
       "<Figure size 432x288 with 1 Axes>"
      ]
     },
     "metadata": {
      "needs_background": "light"
     },
     "output_type": "display_data"
    },
    {
     "data": {
      "image/png": "[encoded data removed]",
      "text/plain": [
       "<Figure size 432x288 with 1 Axes>"
      ]
     },
     "metadata": {
      "needs_background": "light"
     },
     "output_type": "display_data"
    },
    {
     "data": {
      "image/png": "[encoded data removed]",
      "text/plain": [
       "<Figure size 432x288 with 1 Axes>"
      ]
     },
     "metadata": {
      "needs_background": "light"
     },
     "output_type": "display_data"
    }
   ],
   "source": [
    "test_for_AUC(\"FengQ_2015\", \"Kraken\", \"c\", neg_set_names=[\"Flavobacteriia\",\n",
    "    \"Fusobacteriia\", \"Mammalia\"], pos_set_names=[\"Clostridia\", \"Spirochaetia\"])"
   ]
  },
  {
   "cell_type": "code",
   "execution_count": null,
   "metadata": {},
   "outputs": [],
   "source": []
  }
 ],
 "metadata": {
  "kernelspec": {
   "display_name": "Python 3",
   "language": "python",
   "name": "python3"
  },
  "language_info": {
   "codemirror_mode": {
    "name": "ipython",
    "version": 3
   },
   "file_extension": ".py",
   "mimetype": "text/x-python",
   "name": "python",
   "nbconvert_exporter": "python",
   "pygments_lexer": "ipython3",
   "version": "3.6.6"
  }
 },
 "nbformat": 4,
 "nbformat_minor": 2
}
