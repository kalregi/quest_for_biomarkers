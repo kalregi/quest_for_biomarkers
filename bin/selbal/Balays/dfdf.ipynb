{
 "cells": [
  {
   "cell_type": "code",
   "execution_count": 1,
   "metadata": {},
   "outputs": [
    {
     "name": "stderr",
     "output_type": "stream",
     "text": [
      "\n",
      "Attaching package: 'tidyr'\n",
      "\n",
      "The following objects are masked from 'package:reshape':\n",
      "\n",
      "    expand, smiths\n",
      "\n"
     ]
    }
   ],
   "source": [
    "library(selbal)\n",
    "library(reshape)\n",
    "library(tidyr)"
   ]
  },
  {
   "cell_type": "code",
   "execution_count": 2,
   "metadata": {},
   "outputs": [],
   "source": [
    "run_selbal <- function(dataset_name, method, rank) {\n",
    "    #metaphlan2/VogtmannE_2016.csv\"\n",
    "\n",
    "    path <- \"/gfs/data/curated_metagenomes_\"\n",
    "    path = paste(path, method, sep=\"\")\n",
    "    path = paste(path, dataset_name, sep=\"/\")\n",
    "    path = paste(path, \"csv\", sep=\".\")\n",
    "\n",
    "    \n",
    "    print('Reading file')\n",
    "    mydata <- read.csv(path, header = TRUE, strip.white=TRUE)\n",
    "    df <- data.frame(mydata)\n",
    "    print('df ready')\n",
    "\n",
    "    df_g <- df[df$Rank==rank,]\n",
    "    df_g <- df_g[df_g$STUDY_CONDITION != '',]\n",
    "    print('df_g ready.')\n",
    "    df_g_subset <- subset(df_g, select=c(\"Sample_ID\", \"Name\", \"Abundance\"))\n",
    "    \n",
    "    print('pivot started....')\n",
    "\n",
    "    pivot <- spread(df_g_subset, Name, Abundance)\n",
    "    \n",
    "    #pivot <- cast(df_g_subset, Sample_ID ~ Name)\n",
    "    print('Pivot ready.')\n",
    "\n",
    "    df_cond <- unique(subset(df_g, select=c(\"Sample_ID\", \"STUDY_CONDITION\")))\n",
    "\n",
    "    merged <- merge(x = pivot, y = df_cond, by = \"Sample_ID\", )\n",
    "    print('Merge ready.')\n",
    "\n",
    "    merged_sel <- merged[merged$STUDY_CONDITION!='adenoma',]\n",
    "    head(merged_sel)\n",
    "\n",
    "    cols = dim(merged_sel)[2]\n",
    "\n",
    "    # Define x, y and z\n",
    "    x <- merged_sel[,3:cols-1]\n",
    "    print('x ready.')\n",
    "    #y <- merged_sel[,cols]\n",
    "\n",
    "    #merged_sel$CRC <- merged_sel$STUDY_CONDITION == \"CRC\"\n",
    "    #merged_sel$CRC <- replace(merged_sel$CRC, merged_sel$CRC, \"Pos\")\n",
    "    #merged_sel$CRC <- replace(merged_sel$CRC, merged_sel$CRC != \"Pos\", \"Neg\")\n",
    "    #y <- merged_sel$CRC\n",
    "    #y_fact <- factor(c(y))\n",
    "\n",
    "    #y_fact <- factor(c(merged_sel$STUDY_CONDITION))\n",
    "    y_fact <- factor(merged_sel$STUDY_CONDITION)\n",
    "    print('y ready.')\n",
    "    #merged_sel$STUDY_CONDITION[merged_sel$STUDY_CONDITION != 1]  <- 0\n",
    "\n",
    "    #min(merged_sel[!is.na(merged_sel)])\n",
    "    #b = apply(merged_sel, 1, function(x) 1/as.numeric(min(x, na.rm = TRUE)))\n",
    "    x_2 = x\n",
    "\n",
    "    #for (r in 1:dim(x_2)[1]){\n",
    "    #    x_2[r,] = round(x_2[r,]*b[r])\n",
    "    #}\n",
    "\n",
    "    x_2[is.na(x_2)] <- 0\n",
    "    \n",
    "    print('x2 un-zerod.')\n",
    "\n",
    "    rows = dim(x_2)[1]\n",
    "\n",
    "    for (col_name in colnames(x_2)){\n",
    "    col = x_2[col_name]\n",
    "    if (sum(col != 0) <= rows*0.2){\n",
    "      drop <- c(col_name)\n",
    "      x_2 = x_2[,!(names(x_2) %in% drop)]\n",
    "    }\n",
    "    }\n",
    "    print('x2 ready.')\n",
    "    x_2[is.na(x_2)] <- 0\n",
    "    \n",
    "    print('Selbal started.')\n",
    "    \n",
    "    \n",
    "    result <- selbal.cv(x = x_2, y = y_fact, covar = NULL, n.fold = 5, n.iter = 10, logit.acc = \"AUC\")\n",
    "    print('Selbal finished.')\n",
    "    \n",
    "    path_for_plot = \"save/\"\n",
    "    path_for_plot = paste(path_for_plot, dataset_name, sep=\"\")\n",
    "    path_for_plot = paste(path_for_plot, method, sep=\"_\")\n",
    "    path_for_plot = paste(path_for_plot, rank, sep=\"_\")\n",
    "\n",
    "    svg(paste(path_for_plot, \"accuracy.svg\", sep=\"_\"))\n",
    "    plot(result$accuracy.nvar)\n",
    "    dev.off()\n",
    "\n",
    "    svg(paste(path_for_plot, \"barplot.svg\", sep=\"_\"))\n",
    "    plot(result$var.barplot)\n",
    "    dev.off()\n",
    "\n",
    "    svg(paste(path_for_plot, \"globalplot.svg\", sep=\"_\"))\n",
    "    grid.draw(result$global.plot)\n",
    "    dev.off()\n",
    "\n",
    "    svg(paste(path_for_plot, \"cvtab.svg\", sep=\"_\"))\n",
    "    plot.tab(result$cv.tab)\n",
    "    dev.off()\n",
    "\n",
    "    return (result)\n",
    "}"
   ]
  },
  {
   "cell_type": "code",
   "execution_count": 3,
   "metadata": {},
   "outputs": [
    {
     "name": "stdout",
     "output_type": "stream",
     "text": [
      "[1] \"Reading file\"\n",
      "[1] \"df ready\"\n",
      "[1] \"df_g ready.\"\n",
      "[1] \"pivot started....\"\n",
      "[1] \"Pivot ready.\"\n",
      "[1] \"Merge ready.\"\n",
      "[1] \"x ready.\"\n",
      "[1] \"y ready.\"\n",
      "[1] \"x2 un-zerod.\"\n",
      "[1] \"x2 ready.\"\n",
      "[1] \"Selbal started.\"\n",
      "\n",
      "\n",
      "############################################################### \n",
      " STARTING selbal.cv FUNCTION \n",
      "###############################################################\n",
      "\n",
      "#-------------------------------------------------------------# \n",
      "# ZERO REPLACEMENT . . .\n",
      "\n"
     ]
    },
    {
     "name": "stderr",
     "output_type": "stream",
     "text": [
      "Loading required package: MASS\n",
      "Loading required package: NADA\n",
      "Loading required package: survival\n",
      "\n",
      "Attaching package: 'NADA'\n",
      "\n",
      "The following object is masked from 'package:stats':\n",
      "\n",
      "    cor\n",
      "\n",
      "Loading required package: truncnorm\n"
     ]
    },
    {
     "name": "stdout",
     "output_type": "stream",
     "text": [
      "\n",
      ", . . . FINISHED. \n",
      "#-------------------------------------------------------------#\n",
      "\n",
      "#-------------------------------------------------------------# \n",
      "# Starting the cross - validation procedure . . .\n",
      " . . . finished. \n",
      "#-------------------------------------------------------------# \n",
      "###############################################################\n",
      "\n",
      " The optimal number of variables is: 3 \n",
      "\n"
     ]
    },
    {
     "name": "stderr",
     "output_type": "stream",
     "text": [
      "Setting levels: control = CRC, case = control\n",
      "Setting direction: controls < cases\n",
      "Setting levels: control = 0, case = 1\n",
      "Setting direction: controls < cases\n",
      "\n",
      "Attaching package: 'gridExtra'\n",
      "\n",
      "The following object is masked from 'package:Biobase':\n",
      "\n",
      "    combine\n",
      "\n",
      "The following object is masked from 'package:BiocGenerics':\n",
      "\n",
      "    combine\n",
      "\n"
     ]
    },
    {
     "name": "stdout",
     "output_type": "stream",
     "text": [
      "\n",
      "\n",
      "############################################################### \n",
      " . . . FINISHED. \n",
      "###############################################################[1] \"Selbal finished.\"\n"
     ]
    },
    {
     "name": "stderr",
     "output_type": "stream",
     "text": [
      "Warning message in svg(paste(path_for_plot, \"accuracy.svg\", sep = \"_\")):\n",
      "\"cairo error 'error while writing to output stream'\""
     ]
    },
    {
     "ename": "ERROR",
     "evalue": "Error in svg(paste(path_for_plot, \"accuracy.svg\", sep = \"_\")): unable to start device 'svg'\n",
     "output_type": "error",
     "traceback": [
      "Error in svg(paste(path_for_plot, \"accuracy.svg\", sep = \"_\")): unable to start device 'svg'\nTraceback:\n",
      "1. run_selbal(\"FengQ_2015\", \"metaphlan2\", \"p\")",
      "2. svg(paste(path_for_plot, \"accuracy.svg\", sep = \"_\"))   # at line 88 of file <text>"
     ]
    }
   ],
   "source": [
    "result = run_selbal(\"FengQ_2015\", \"metaphlan2\", \"p\")"
   ]
  },
  {
   "cell_type": "code",
   "execution_count": null,
   "metadata": {},
   "outputs": [],
   "source": [
    "\n"
   ]
  },
  {
   "cell_type": "code",
   "execution_count": null,
   "metadata": {},
   "outputs": [],
   "source": []
  }
 ],
 "metadata": {
  "kernelspec": {
   "display_name": "R",
   "language": "R",
   "name": "ir"
  },
  "language_info": {
   "codemirror_mode": "r",
   "file_extension": ".r",
   "mimetype": "text/x-r-source",
   "name": "R",
   "pygments_lexer": "r",
   "version": "3.4.1"
  }
 },
 "nbformat": 4,
 "nbformat_minor": 2
}
