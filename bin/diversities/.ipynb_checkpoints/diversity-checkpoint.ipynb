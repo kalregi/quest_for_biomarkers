{
 "cells": [
  {
   "cell_type": "code",
   "execution_count": 73,
   "metadata": {},
   "outputs": [],
   "source": [
    "from imports import *\n",
    "\n",
    "\n",
    "def get_data_for_sample(path_to_file):\n",
    "    dataset = path_to_file.split('/')[-1]\n",
    "    df = pd.read_csv(path_to_file, delimiter = ',')\n",
    "    df['Dataset'] = dataset\n",
    "    df[\"Name\"] = [n.strip() for n in df[\"Name\"]]\n",
    "    return df\n",
    "\n",
    "def get_table_and_grouping(df_name, table_files, column_to_group='STUDY_CONDITION', rank='F', \n",
    "                           use_percent= True, percent=30, group=None, group_to_drop = None, counts=True):\n",
    "\n",
    "    for file in table_files:\n",
    "        if df_name in file:\n",
    "            index = table_files.index(file)\n",
    "            \n",
    "    df = get_data_for_sample(table_files[index])\n",
    "    df_2 = df.loc[df['Rank'] == rank]\n",
    "    \n",
    "    if len(df_2) == 0:\n",
    "        raise WrongRank(rank)\n",
    "    \n",
    "    df_2 = df_2[['Sample_ID', 'Name', 'Abundance', column_to_group]]\n",
    "    df_2 = df_2.loc[[i == i for i in df_2[column_to_group]]]\n",
    "\n",
    "    if group is not None:\n",
    "        df_2[column_to_group] = [group if group in v else \"Control\" for v in df_2[column_to_group]]\n",
    "\n",
    "    if group_to_drop is not None:\n",
    "        df_2 = df_2.loc[df_2[column_to_group] != group_to_drop]\n",
    "                       \n",
    "    table = df_2.pivot(index='Sample_ID', columns='Name', values='Abundance')\n",
    "        \n",
    "    # Handling remaining Nan values\n",
    "    table_repl = table.fillna(0)\n",
    "\n",
    "    # Switching from abundance to counts\n",
    "    if counts:\n",
    "        columns = table_repl.columns\n",
    "        def calc_count(row):\n",
    "            min_val = max(row)\n",
    "            for col in columns:\n",
    "                if row[col] > 0 and row[col] < min_val:\n",
    "                    min_val = row[col]\n",
    "                    \n",
    "            to_mult = 1 / min_val\n",
    "            for col in columns:\n",
    "                if row[col] > 0:\n",
    "                    row[col] = round(row[col]*to_mult)\n",
    "            return row\n",
    "\n",
    "        table_repl = table_repl.apply(calc_count,axis=1)\n",
    "\n",
    "    grouping = df_2[['Sample_ID', column_to_group]].drop_duplicates()\n",
    "    grouping.index = grouping[\"Sample_ID\"]\n",
    "    grouping = grouping.drop(columns = [\"Sample_ID\"])\n",
    "    \n",
    "    grouping_ser = grouping[column_to_group]\n",
    "    \n",
    "\n",
    "    return table_repl, grouping_ser"
   ]
  },
  {
   "cell_type": "code",
   "execution_count": 3,
   "metadata": {},
   "outputs": [
    {
     "name": "stdout",
     "output_type": "stream",
     "text": [
      "['//gfs/data/curated_metagenomes_metaphlan2/AsnicarF_2017.csv', '//gfs/data/curated_metagenomes_metaphlan2/ChngKR_2016.csv', '//gfs/data/curated_metagenomes_metaphlan2/FengQ_2015.csv', '//gfs/data/curated_metagenomes_metaphlan2/VogtmannE_2016.csv', '//gfs/data/curated_metagenomes_metaphlan2/YuJ_2015.csv']\n",
      "['//gfs/data/curated_metagenomes_kraken2/RampelliS_2015.csv', '//gfs/data/curated_metagenomes_kraken2/AsnicarF_2017.csv', '//gfs/data/curated_metagenomes_kraken2/ChngKR_2016.csv', '//gfs/data/curated_metagenomes_kraken2/FengQ_2015.csv', '//gfs/data/curated_metagenomes_kraken2/Heitz-BuschartA_2016.csv', '//gfs/data/curated_metagenomes_kraken2/KarlssonFH_2013.csv', '//gfs/data/curated_metagenomes_kraken2/LeChatelierE_2013.csv', '//gfs/data/curated_metagenomes_kraken2/LiuW_2016.csv', '//gfs/data/curated_metagenomes_kraken2/LomanNJ_2013.csv', '//gfs/data/curated_metagenomes_kraken2/Obregon-TitoAJ_2015.csv', '//gfs/data/curated_metagenomes_kraken2/QinJ_2012.csv', '//gfs/data/curated_metagenomes_kraken2/QinN_2014.csv', '//gfs/data/curated_metagenomes_kraken2/SchirmerM_2016.csv', '//gfs/data/curated_metagenomes_kraken2/VatanenT_2016.csv', '//gfs/data/curated_metagenomes_kraken2/VogtmannE_2016.csv', '//gfs/data/curated_metagenomes_kraken2/XieH_2016.csv', '//gfs/data/curated_metagenomes_kraken2/YuJ_2015.csv', '//gfs/data/curated_metagenomes_kraken2/ZellerG_2014.csv']\n"
     ]
    }
   ],
   "source": [
    "from imports import *\n",
    "\n",
    "path_metaphlan = '//gfs/data/curated_metagenomes_metaphlan2/'\n",
    "\n",
    "files_metaphlan = []\n",
    "# r=root, d=directories, f = files\n",
    "for r, d, f in os.walk(path_metaphlan):\n",
    "    for file in f:\n",
    "        if '.csv' in file:\n",
    "            files_metaphlan.append(os.path.join(path_metaphlan, file))\n",
    "print(files_metaphlan)\n",
    "\n",
    "path_kraken = '//gfs/data/curated_metagenomes_kraken2/'\n",
    "\n",
    "files_kraken = []\n",
    "# r=root, d=directories, f = files\n",
    "for r, d, f in os.walk(path_kraken):\n",
    "    for file in f:\n",
    "        if '.csv' in file:\n",
    "            files_kraken.append(os.path.join(path_kraken, file))\n",
    "print(files_kraken)"
   ]
  },
  {
   "cell_type": "code",
   "execution_count": 11,
   "metadata": {},
   "outputs": [
    {
     "ename": "NameError",
     "evalue": "name 'df_name' is not defined",
     "output_type": "error",
     "traceback": [
      "\u001b[0;31m---------------------------------------------------------------------------\u001b[0m",
      "\u001b[0;31mNameError\u001b[0m                                 Traceback (most recent call last)",
      "\u001b[0;32m<ipython-input-11-7ebda70a08f5>\u001b[0m in \u001b[0;36m<module>\u001b[0;34m\u001b[0m\n\u001b[0;32m----> 1\u001b[0;31m get_table_and_grouping(df_name, files_metaphlan, column_to_group='STUDY_CONDITION', rank='F', \n\u001b[0m\u001b[1;32m      2\u001b[0m                            use_percent= True, percent=30, group=None, group_to_drop = None, counts=True)\n",
      "\u001b[0;31mNameError\u001b[0m: name 'df_name' is not defined"
     ]
    }
   ],
   "source": [
    "get_table_and_grouping(df_name, files_metaphlan, column_to_group='STUDY_CONDITION', rank='F', \n",
    "                           use_percent= True, percent=30, group=None, group_to_drop = None, counts=True)"
   ]
  },
  {
   "cell_type": "code",
   "execution_count": 63,
   "metadata": {},
   "outputs": [
    {
     "name": "stdout",
     "output_type": "stream",
     "text": [
      "   Unnamed: 0   Sample_ID             Dataset Rank             Name  \\\n",
      "0           0  ERR1293543  VogtmannE_2016.csv    k         Bacteria   \n",
      "1           1  ERR1293543  VogtmannE_2016.csv    p       Firmicutes   \n",
      "2           2  ERR1293543  VogtmannE_2016.csv    p    Bacteroidetes   \n",
      "3           3  ERR1293543  VogtmannE_2016.csv    p   Actinobacteria   \n",
      "4           4  ERR1293543  VogtmannE_2016.csv    p  Verrucomicrobia   \n",
      "\n",
      "   Abundance STUDY_CONDITION BODY_SITE              SUBJECTID COUNTRY DISEASE  \\\n",
      "0  100.00000             NaN     stool  MMRS92727331ST-27-0-0     USA     NaN   \n",
      "1   60.42390             NaN     stool  MMRS92727331ST-27-0-0     USA     NaN   \n",
      "2   34.15000             NaN     stool  MMRS92727331ST-27-0-0     USA     NaN   \n",
      "3    4.87067             NaN     stool  MMRS92727331ST-27-0-0     USA     NaN   \n",
      "4    0.55544             NaN     stool  MMRS92727331ST-27-0-0     USA     NaN   \n",
      "\n",
      "   AGE AGE_CATEGORY  \n",
      "0  NaN        adult  \n",
      "1  NaN        adult  \n",
      "2  NaN        adult  \n",
      "3  NaN        adult  \n",
      "4  NaN        adult  \n",
      "Shape of table: (417, 428)\n",
      "Switching from abundance to counts\n"
     ]
    }
   ],
   "source": [
    "table, groups = get_table_and_grouping(\"VogtmannE_2016\", files_metaphlan, rank = \"s\", counts = True)"
   ]
  },
  {
   "cell_type": "code",
   "execution_count": 64,
   "metadata": {},
   "outputs": [
    {
     "data": {
      "text/html": [
       "<div>\n",
       "<style scoped>\n",
       "    .dataframe tbody tr th:only-of-type {\n",
       "        vertical-align: middle;\n",
       "    }\n",
       "\n",
       "    .dataframe tbody tr th {\n",
       "        vertical-align: top;\n",
       "    }\n",
       "\n",
       "    .dataframe thead th {\n",
       "        text-align: right;\n",
       "    }\n",
       "</style>\n",
       "<table border=\"1\" class=\"dataframe\">\n",
       "  <thead>\n",
       "    <tr style=\"text-align: right;\">\n",
       "      <th>Name</th>\n",
       "      <th>Abiotrophia_defectiva</th>\n",
       "      <th>Acidaminococcus_fermentans</th>\n",
       "      <th>Acidaminococcus_intestini</th>\n",
       "      <th>Acidaminococcus_sp_D21</th>\n",
       "      <th>Acidaminococcus_sp_HPA0509</th>\n",
       "      <th>Acidaminococcus_unclassified</th>\n",
       "      <th>Acinetobacter_pittii_calcoaceticus_nosocomialis</th>\n",
       "      <th>Acinetobacter_unclassified</th>\n",
       "      <th>Actinobacillus_unclassified</th>\n",
       "      <th>Actinomyces_cardiffensis</th>\n",
       "      <th>...</th>\n",
       "      <th>Treponema_socranskii</th>\n",
       "      <th>Turicibacter_sanguinis</th>\n",
       "      <th>Turicibacter_unclassified</th>\n",
       "      <th>Veillonella_atypica</th>\n",
       "      <th>Veillonella_dispar</th>\n",
       "      <th>Veillonella_parvula</th>\n",
       "      <th>Veillonella_unclassified</th>\n",
       "      <th>Weissella_cibaria</th>\n",
       "      <th>Weissella_confusa</th>\n",
       "      <th>Weissella_unclassified</th>\n",
       "    </tr>\n",
       "    <tr>\n",
       "      <th>Sample_ID</th>\n",
       "      <th></th>\n",
       "      <th></th>\n",
       "      <th></th>\n",
       "      <th></th>\n",
       "      <th></th>\n",
       "      <th></th>\n",
       "      <th></th>\n",
       "      <th></th>\n",
       "      <th></th>\n",
       "      <th></th>\n",
       "      <th></th>\n",
       "      <th></th>\n",
       "      <th></th>\n",
       "      <th></th>\n",
       "      <th></th>\n",
       "      <th></th>\n",
       "      <th></th>\n",
       "      <th></th>\n",
       "      <th></th>\n",
       "      <th></th>\n",
       "      <th></th>\n",
       "    </tr>\n",
       "  </thead>\n",
       "  <tbody>\n",
       "    <tr>\n",
       "      <th>ERR1293497</th>\n",
       "      <td>0.0</td>\n",
       "      <td>0.0</td>\n",
       "      <td>0.0</td>\n",
       "      <td>0.0</td>\n",
       "      <td>0.0</td>\n",
       "      <td>0.0</td>\n",
       "      <td>0.0</td>\n",
       "      <td>0.0</td>\n",
       "      <td>0.0</td>\n",
       "      <td>0.0</td>\n",
       "      <td>...</td>\n",
       "      <td>0.0</td>\n",
       "      <td>0.0</td>\n",
       "      <td>0.0</td>\n",
       "      <td>12.0</td>\n",
       "      <td>59.0</td>\n",
       "      <td>126.0</td>\n",
       "      <td>126.0</td>\n",
       "      <td>0.0</td>\n",
       "      <td>0.0</td>\n",
       "      <td>0.0</td>\n",
       "    </tr>\n",
       "    <tr>\n",
       "      <th>ERR1293498</th>\n",
       "      <td>0.0</td>\n",
       "      <td>0.0</td>\n",
       "      <td>0.0</td>\n",
       "      <td>0.0</td>\n",
       "      <td>0.0</td>\n",
       "      <td>0.0</td>\n",
       "      <td>0.0</td>\n",
       "      <td>0.0</td>\n",
       "      <td>0.0</td>\n",
       "      <td>0.0</td>\n",
       "      <td>...</td>\n",
       "      <td>0.0</td>\n",
       "      <td>0.0</td>\n",
       "      <td>0.0</td>\n",
       "      <td>6.0</td>\n",
       "      <td>18.0</td>\n",
       "      <td>57.0</td>\n",
       "      <td>73.0</td>\n",
       "      <td>0.0</td>\n",
       "      <td>0.0</td>\n",
       "      <td>0.0</td>\n",
       "    </tr>\n",
       "    <tr>\n",
       "      <th>ERR1293499</th>\n",
       "      <td>0.0</td>\n",
       "      <td>0.0</td>\n",
       "      <td>0.0</td>\n",
       "      <td>0.0</td>\n",
       "      <td>0.0</td>\n",
       "      <td>0.0</td>\n",
       "      <td>0.0</td>\n",
       "      <td>0.0</td>\n",
       "      <td>0.0</td>\n",
       "      <td>0.0</td>\n",
       "      <td>...</td>\n",
       "      <td>0.0</td>\n",
       "      <td>0.0</td>\n",
       "      <td>0.0</td>\n",
       "      <td>6.0</td>\n",
       "      <td>12.0</td>\n",
       "      <td>37.0</td>\n",
       "      <td>38.0</td>\n",
       "      <td>0.0</td>\n",
       "      <td>0.0</td>\n",
       "      <td>0.0</td>\n",
       "    </tr>\n",
       "    <tr>\n",
       "      <th>ERR1293500</th>\n",
       "      <td>0.0</td>\n",
       "      <td>0.0</td>\n",
       "      <td>0.0</td>\n",
       "      <td>0.0</td>\n",
       "      <td>0.0</td>\n",
       "      <td>0.0</td>\n",
       "      <td>0.0</td>\n",
       "      <td>0.0</td>\n",
       "      <td>0.0</td>\n",
       "      <td>0.0</td>\n",
       "      <td>...</td>\n",
       "      <td>0.0</td>\n",
       "      <td>0.0</td>\n",
       "      <td>0.0</td>\n",
       "      <td>8.0</td>\n",
       "      <td>30.0</td>\n",
       "      <td>84.0</td>\n",
       "      <td>62.0</td>\n",
       "      <td>0.0</td>\n",
       "      <td>0.0</td>\n",
       "      <td>0.0</td>\n",
       "    </tr>\n",
       "    <tr>\n",
       "      <th>ERR1293501</th>\n",
       "      <td>0.0</td>\n",
       "      <td>0.0</td>\n",
       "      <td>0.0</td>\n",
       "      <td>0.0</td>\n",
       "      <td>0.0</td>\n",
       "      <td>0.0</td>\n",
       "      <td>0.0</td>\n",
       "      <td>0.0</td>\n",
       "      <td>0.0</td>\n",
       "      <td>0.0</td>\n",
       "      <td>...</td>\n",
       "      <td>0.0</td>\n",
       "      <td>0.0</td>\n",
       "      <td>0.0</td>\n",
       "      <td>0.0</td>\n",
       "      <td>0.0</td>\n",
       "      <td>0.0</td>\n",
       "      <td>0.0</td>\n",
       "      <td>0.0</td>\n",
       "      <td>0.0</td>\n",
       "      <td>0.0</td>\n",
       "    </tr>\n",
       "  </tbody>\n",
       "</table>\n",
       "<p>5 rows × 428 columns</p>\n",
       "</div>"
      ],
      "text/plain": [
       "Name        Abiotrophia_defectiva  Acidaminococcus_fermentans  \\\n",
       "Sample_ID                                                       \n",
       "ERR1293497                    0.0                         0.0   \n",
       "ERR1293498                    0.0                         0.0   \n",
       "ERR1293499                    0.0                         0.0   \n",
       "ERR1293500                    0.0                         0.0   \n",
       "ERR1293501                    0.0                         0.0   \n",
       "\n",
       "Name        Acidaminococcus_intestini  Acidaminococcus_sp_D21  \\\n",
       "Sample_ID                                                       \n",
       "ERR1293497                        0.0                     0.0   \n",
       "ERR1293498                        0.0                     0.0   \n",
       "ERR1293499                        0.0                     0.0   \n",
       "ERR1293500                        0.0                     0.0   \n",
       "ERR1293501                        0.0                     0.0   \n",
       "\n",
       "Name        Acidaminococcus_sp_HPA0509  Acidaminococcus_unclassified  \\\n",
       "Sample_ID                                                              \n",
       "ERR1293497                         0.0                           0.0   \n",
       "ERR1293498                         0.0                           0.0   \n",
       "ERR1293499                         0.0                           0.0   \n",
       "ERR1293500                         0.0                           0.0   \n",
       "ERR1293501                         0.0                           0.0   \n",
       "\n",
       "Name        Acinetobacter_pittii_calcoaceticus_nosocomialis  \\\n",
       "Sample_ID                                                     \n",
       "ERR1293497                                              0.0   \n",
       "ERR1293498                                              0.0   \n",
       "ERR1293499                                              0.0   \n",
       "ERR1293500                                              0.0   \n",
       "ERR1293501                                              0.0   \n",
       "\n",
       "Name        Acinetobacter_unclassified  Actinobacillus_unclassified  \\\n",
       "Sample_ID                                                             \n",
       "ERR1293497                         0.0                          0.0   \n",
       "ERR1293498                         0.0                          0.0   \n",
       "ERR1293499                         0.0                          0.0   \n",
       "ERR1293500                         0.0                          0.0   \n",
       "ERR1293501                         0.0                          0.0   \n",
       "\n",
       "Name        Actinomyces_cardiffensis           ...            \\\n",
       "Sample_ID                                      ...             \n",
       "ERR1293497                       0.0           ...             \n",
       "ERR1293498                       0.0           ...             \n",
       "ERR1293499                       0.0           ...             \n",
       "ERR1293500                       0.0           ...             \n",
       "ERR1293501                       0.0           ...             \n",
       "\n",
       "Name        Treponema_socranskii  Turicibacter_sanguinis  \\\n",
       "Sample_ID                                                  \n",
       "ERR1293497                   0.0                     0.0   \n",
       "ERR1293498                   0.0                     0.0   \n",
       "ERR1293499                   0.0                     0.0   \n",
       "ERR1293500                   0.0                     0.0   \n",
       "ERR1293501                   0.0                     0.0   \n",
       "\n",
       "Name        Turicibacter_unclassified  Veillonella_atypica  \\\n",
       "Sample_ID                                                    \n",
       "ERR1293497                        0.0                 12.0   \n",
       "ERR1293498                        0.0                  6.0   \n",
       "ERR1293499                        0.0                  6.0   \n",
       "ERR1293500                        0.0                  8.0   \n",
       "ERR1293501                        0.0                  0.0   \n",
       "\n",
       "Name        Veillonella_dispar  Veillonella_parvula  Veillonella_unclassified  \\\n",
       "Sample_ID                                                                       \n",
       "ERR1293497                59.0                126.0                     126.0   \n",
       "ERR1293498                18.0                 57.0                      73.0   \n",
       "ERR1293499                12.0                 37.0                      38.0   \n",
       "ERR1293500                30.0                 84.0                      62.0   \n",
       "ERR1293501                 0.0                  0.0                       0.0   \n",
       "\n",
       "Name        Weissella_cibaria  Weissella_confusa  Weissella_unclassified  \n",
       "Sample_ID                                                                 \n",
       "ERR1293497                0.0                0.0                     0.0  \n",
       "ERR1293498                0.0                0.0                     0.0  \n",
       "ERR1293499                0.0                0.0                     0.0  \n",
       "ERR1293500                0.0                0.0                     0.0  \n",
       "ERR1293501                0.0                0.0                     0.0  \n",
       "\n",
       "[5 rows x 428 columns]"
      ]
     },
     "execution_count": 64,
     "metadata": {},
     "output_type": "execute_result"
    }
   ],
   "source": [
    "table.head()"
   ]
  },
  {
   "cell_type": "code",
   "execution_count": 65,
   "metadata": {},
   "outputs": [
    {
     "data": {
      "text/plain": [
       "Sample_ID\n",
       "ERR1293589    control\n",
       "ERR1293497    control\n",
       "ERR1293566        CRC\n",
       "ERR1293520        CRC\n",
       "ERR1293590    control\n",
       "Name: STUDY_CONDITION, dtype: object"
      ]
     },
     "execution_count": 65,
     "metadata": {},
     "output_type": "execute_result"
    }
   ],
   "source": [
    "groups.head()"
   ]
  },
  {
   "cell_type": "code",
   "execution_count": 13,
   "metadata": {},
   "outputs": [],
   "source": [
    "import pandas as pd\n",
    "import os\n",
    "import seaborn as sns\n",
    "from skbio.diversity import alpha_diversity\n",
    "from skbio.diversity import beta_diversity\n",
    "from skbio import TreeNode\n",
    "from io import StringIO"
   ]
  },
  {
   "cell_type": "code",
   "execution_count": 52,
   "metadata": {},
   "outputs": [
    {
     "data": {
      "text/html": [
       "<div>\n",
       "<style scoped>\n",
       "    .dataframe tbody tr th:only-of-type {\n",
       "        vertical-align: middle;\n",
       "    }\n",
       "\n",
       "    .dataframe tbody tr th {\n",
       "        vertical-align: top;\n",
       "    }\n",
       "\n",
       "    .dataframe thead th {\n",
       "        text-align: right;\n",
       "    }\n",
       "</style>\n",
       "<table border=\"1\" class=\"dataframe\">\n",
       "  <thead>\n",
       "    <tr style=\"text-align: right;\">\n",
       "      <th>Name</th>\n",
       "      <th>Acidaminococcus_unclassified</th>\n",
       "      <th>Adlercreutzia_equolifaciens</th>\n",
       "      <th>Akkermansia_muciniphila</th>\n",
       "      <th>Alistipes_finegoldii</th>\n",
       "      <th>Alistipes_indistinctus</th>\n",
       "      <th>Alistipes_onderdonkii</th>\n",
       "      <th>Alistipes_putredinis</th>\n",
       "      <th>Alistipes_senegalensis</th>\n",
       "      <th>Alistipes_shahii</th>\n",
       "      <th>Anaerostipes_hadrus</th>\n",
       "      <th>...</th>\n",
       "      <th>Streptococcus_mitis_oralis_pneumoniae</th>\n",
       "      <th>Streptococcus_parasanguinis</th>\n",
       "      <th>Streptococcus_salivarius</th>\n",
       "      <th>Streptococcus_sanguinis</th>\n",
       "      <th>Subdoligranulum_unclassified</th>\n",
       "      <th>Sutterella_wadsworthensis</th>\n",
       "      <th>Veillonella_atypica</th>\n",
       "      <th>Veillonella_dispar</th>\n",
       "      <th>Veillonella_parvula</th>\n",
       "      <th>Veillonella_unclassified</th>\n",
       "    </tr>\n",
       "    <tr>\n",
       "      <th>Sample_ID</th>\n",
       "      <th></th>\n",
       "      <th></th>\n",
       "      <th></th>\n",
       "      <th></th>\n",
       "      <th></th>\n",
       "      <th></th>\n",
       "      <th></th>\n",
       "      <th></th>\n",
       "      <th></th>\n",
       "      <th></th>\n",
       "      <th></th>\n",
       "      <th></th>\n",
       "      <th></th>\n",
       "      <th></th>\n",
       "      <th></th>\n",
       "      <th></th>\n",
       "      <th></th>\n",
       "      <th></th>\n",
       "      <th></th>\n",
       "      <th></th>\n",
       "      <th></th>\n",
       "    </tr>\n",
       "  </thead>\n",
       "  <tbody>\n",
       "    <tr>\n",
       "      <th>ERR1293497</th>\n",
       "      <td>5.0</td>\n",
       "      <td>72.0</td>\n",
       "      <td>842.0</td>\n",
       "      <td>75.0</td>\n",
       "      <td>20.0</td>\n",
       "      <td>4043.0</td>\n",
       "      <td>893.0</td>\n",
       "      <td>5.0</td>\n",
       "      <td>589.0</td>\n",
       "      <td>1478.0</td>\n",
       "      <td>...</td>\n",
       "      <td>5.0</td>\n",
       "      <td>153.0</td>\n",
       "      <td>82.0</td>\n",
       "      <td>5.0</td>\n",
       "      <td>4989.0</td>\n",
       "      <td>5.0</td>\n",
       "      <td>12.0</td>\n",
       "      <td>59.0</td>\n",
       "      <td>126.0</td>\n",
       "      <td>126.0</td>\n",
       "    </tr>\n",
       "    <tr>\n",
       "      <th>ERR1293498</th>\n",
       "      <td>2.0</td>\n",
       "      <td>23.0</td>\n",
       "      <td>272.0</td>\n",
       "      <td>26.0</td>\n",
       "      <td>9.0</td>\n",
       "      <td>1306.0</td>\n",
       "      <td>283.0</td>\n",
       "      <td>2.0</td>\n",
       "      <td>186.0</td>\n",
       "      <td>502.0</td>\n",
       "      <td>...</td>\n",
       "      <td>2.0</td>\n",
       "      <td>39.0</td>\n",
       "      <td>22.0</td>\n",
       "      <td>2.0</td>\n",
       "      <td>1445.0</td>\n",
       "      <td>2.0</td>\n",
       "      <td>4.0</td>\n",
       "      <td>13.0</td>\n",
       "      <td>42.0</td>\n",
       "      <td>54.0</td>\n",
       "    </tr>\n",
       "    <tr>\n",
       "      <th>ERR1293499</th>\n",
       "      <td>1.0</td>\n",
       "      <td>18.0</td>\n",
       "      <td>249.0</td>\n",
       "      <td>21.0</td>\n",
       "      <td>9.0</td>\n",
       "      <td>1193.0</td>\n",
       "      <td>269.0</td>\n",
       "      <td>1.0</td>\n",
       "      <td>168.0</td>\n",
       "      <td>410.0</td>\n",
       "      <td>...</td>\n",
       "      <td>1.0</td>\n",
       "      <td>41.0</td>\n",
       "      <td>18.0</td>\n",
       "      <td>1.0</td>\n",
       "      <td>1488.0</td>\n",
       "      <td>1.0</td>\n",
       "      <td>6.0</td>\n",
       "      <td>12.0</td>\n",
       "      <td>37.0</td>\n",
       "      <td>38.0</td>\n",
       "    </tr>\n",
       "    <tr>\n",
       "      <th>ERR1293500</th>\n",
       "      <td>3.0</td>\n",
       "      <td>44.0</td>\n",
       "      <td>532.0</td>\n",
       "      <td>51.0</td>\n",
       "      <td>9.0</td>\n",
       "      <td>2644.0</td>\n",
       "      <td>581.0</td>\n",
       "      <td>3.0</td>\n",
       "      <td>357.0</td>\n",
       "      <td>944.0</td>\n",
       "      <td>...</td>\n",
       "      <td>3.0</td>\n",
       "      <td>94.0</td>\n",
       "      <td>44.0</td>\n",
       "      <td>3.0</td>\n",
       "      <td>2841.0</td>\n",
       "      <td>3.0</td>\n",
       "      <td>8.0</td>\n",
       "      <td>30.0</td>\n",
       "      <td>84.0</td>\n",
       "      <td>62.0</td>\n",
       "    </tr>\n",
       "    <tr>\n",
       "      <th>ERR1293501</th>\n",
       "      <td>3.0</td>\n",
       "      <td>3.0</td>\n",
       "      <td>3.0</td>\n",
       "      <td>3.0</td>\n",
       "      <td>3.0</td>\n",
       "      <td>3.0</td>\n",
       "      <td>3.0</td>\n",
       "      <td>3.0</td>\n",
       "      <td>933.0</td>\n",
       "      <td>62.0</td>\n",
       "      <td>...</td>\n",
       "      <td>3.0</td>\n",
       "      <td>1.0</td>\n",
       "      <td>3.0</td>\n",
       "      <td>3.0</td>\n",
       "      <td>4088.0</td>\n",
       "      <td>3.0</td>\n",
       "      <td>3.0</td>\n",
       "      <td>3.0</td>\n",
       "      <td>3.0</td>\n",
       "      <td>3.0</td>\n",
       "    </tr>\n",
       "  </tbody>\n",
       "</table>\n",
       "<p>5 rows × 145 columns</p>\n",
       "</div>"
      ],
      "text/plain": [
       "Name        Acidaminococcus_unclassified  Adlercreutzia_equolifaciens  \\\n",
       "Sample_ID                                                               \n",
       "ERR1293497                           5.0                         72.0   \n",
       "ERR1293498                           2.0                         23.0   \n",
       "ERR1293499                           1.0                         18.0   \n",
       "ERR1293500                           3.0                         44.0   \n",
       "ERR1293501                           3.0                          3.0   \n",
       "\n",
       "Name        Akkermansia_muciniphila  Alistipes_finegoldii  \\\n",
       "Sample_ID                                                   \n",
       "ERR1293497                    842.0                  75.0   \n",
       "ERR1293498                    272.0                  26.0   \n",
       "ERR1293499                    249.0                  21.0   \n",
       "ERR1293500                    532.0                  51.0   \n",
       "ERR1293501                      3.0                   3.0   \n",
       "\n",
       "Name        Alistipes_indistinctus  Alistipes_onderdonkii  \\\n",
       "Sample_ID                                                   \n",
       "ERR1293497                    20.0                 4043.0   \n",
       "ERR1293498                     9.0                 1306.0   \n",
       "ERR1293499                     9.0                 1193.0   \n",
       "ERR1293500                     9.0                 2644.0   \n",
       "ERR1293501                     3.0                    3.0   \n",
       "\n",
       "Name        Alistipes_putredinis  Alistipes_senegalensis  Alistipes_shahii  \\\n",
       "Sample_ID                                                                    \n",
       "ERR1293497                 893.0                     5.0             589.0   \n",
       "ERR1293498                 283.0                     2.0             186.0   \n",
       "ERR1293499                 269.0                     1.0             168.0   \n",
       "ERR1293500                 581.0                     3.0             357.0   \n",
       "ERR1293501                   3.0                     3.0             933.0   \n",
       "\n",
       "Name        Anaerostipes_hadrus            ...             \\\n",
       "Sample_ID                                  ...              \n",
       "ERR1293497               1478.0            ...              \n",
       "ERR1293498                502.0            ...              \n",
       "ERR1293499                410.0            ...              \n",
       "ERR1293500                944.0            ...              \n",
       "ERR1293501                 62.0            ...              \n",
       "\n",
       "Name        Streptococcus_mitis_oralis_pneumoniae  \\\n",
       "Sample_ID                                           \n",
       "ERR1293497                                    5.0   \n",
       "ERR1293498                                    2.0   \n",
       "ERR1293499                                    1.0   \n",
       "ERR1293500                                    3.0   \n",
       "ERR1293501                                    3.0   \n",
       "\n",
       "Name        Streptococcus_parasanguinis  Streptococcus_salivarius  \\\n",
       "Sample_ID                                                           \n",
       "ERR1293497                        153.0                      82.0   \n",
       "ERR1293498                         39.0                      22.0   \n",
       "ERR1293499                         41.0                      18.0   \n",
       "ERR1293500                         94.0                      44.0   \n",
       "ERR1293501                          1.0                       3.0   \n",
       "\n",
       "Name        Streptococcus_sanguinis  Subdoligranulum_unclassified  \\\n",
       "Sample_ID                                                           \n",
       "ERR1293497                      5.0                        4989.0   \n",
       "ERR1293498                      2.0                        1445.0   \n",
       "ERR1293499                      1.0                        1488.0   \n",
       "ERR1293500                      3.0                        2841.0   \n",
       "ERR1293501                      3.0                        4088.0   \n",
       "\n",
       "Name        Sutterella_wadsworthensis  Veillonella_atypica  \\\n",
       "Sample_ID                                                    \n",
       "ERR1293497                        5.0                 12.0   \n",
       "ERR1293498                        2.0                  4.0   \n",
       "ERR1293499                        1.0                  6.0   \n",
       "ERR1293500                        3.0                  8.0   \n",
       "ERR1293501                        3.0                  3.0   \n",
       "\n",
       "Name        Veillonella_dispar  Veillonella_parvula  Veillonella_unclassified  \n",
       "Sample_ID                                                                      \n",
       "ERR1293497                59.0                126.0                     126.0  \n",
       "ERR1293498                13.0                 42.0                      54.0  \n",
       "ERR1293499                12.0                 37.0                      38.0  \n",
       "ERR1293500                30.0                 84.0                      62.0  \n",
       "ERR1293501                 3.0                  3.0                       3.0  \n",
       "\n",
       "[5 rows x 145 columns]"
      ]
     },
     "execution_count": 52,
     "metadata": {},
     "output_type": "execute_result"
    }
   ],
   "source": [
    "table.head()"
   ]
  },
  {
   "cell_type": "code",
   "execution_count": 66,
   "metadata": {},
   "outputs": [],
   "source": [
    "div_table = pd.DataFrame(alpha_diversity('observed_otus', np.array(table), np.array(table.index)))\n",
    "div_table['observed_otus'] = div_table[0]\n",
    "div_table = div_table.drop(columns=0)\n",
    "div_table[\"groups\"] = groups"
   ]
  },
  {
   "cell_type": "code",
   "execution_count": 53,
   "metadata": {},
   "outputs": [
    {
     "data": {
      "text/plain": [
       "array([[  5.,  72., 842., ...,  59., 126., 126.],\n",
       "       [  2.,  23., 272., ...,  13.,  42.,  54.],\n",
       "       [  1.,  18., 249., ...,  12.,  37.,  38.],\n",
       "       ...,\n",
       "       [  1.,   1.,   1., ...,   1.,   1.,   1.],\n",
       "       [  3.,   3.,   3., ...,   3.,   3.,   6.],\n",
       "       [  1.,   1.,   1., ...,   1.,   1.,   2.]])"
      ]
     },
     "execution_count": 53,
     "metadata": {},
     "output_type": "execute_result"
    }
   ],
   "source": [
    " np.array(table)"
   ]
  },
  {
   "cell_type": "code",
   "execution_count": 49,
   "metadata": {},
   "outputs": [],
   "source": [
    "adiv_obs_otus = alpha_diversity('observed_otus', np.array(table), np.array(table.index))"
   ]
  },
  {
   "cell_type": "code",
   "execution_count": 67,
   "metadata": {},
   "outputs": [
    {
     "data": {
      "text/html": [
       "<div>\n",
       "<style scoped>\n",
       "    .dataframe tbody tr th:only-of-type {\n",
       "        vertical-align: middle;\n",
       "    }\n",
       "\n",
       "    .dataframe tbody tr th {\n",
       "        vertical-align: top;\n",
       "    }\n",
       "\n",
       "    .dataframe thead th {\n",
       "        text-align: right;\n",
       "    }\n",
       "</style>\n",
       "<table border=\"1\" class=\"dataframe\">\n",
       "  <thead>\n",
       "    <tr style=\"text-align: right;\">\n",
       "      <th></th>\n",
       "      <th>observed_otus</th>\n",
       "      <th>groups</th>\n",
       "    </tr>\n",
       "  </thead>\n",
       "  <tbody>\n",
       "    <tr>\n",
       "      <th>ERR1293497</th>\n",
       "      <td>80</td>\n",
       "      <td>control</td>\n",
       "    </tr>\n",
       "    <tr>\n",
       "      <th>ERR1293498</th>\n",
       "      <td>79</td>\n",
       "      <td>control</td>\n",
       "    </tr>\n",
       "    <tr>\n",
       "      <th>ERR1293499</th>\n",
       "      <td>78</td>\n",
       "      <td>control</td>\n",
       "    </tr>\n",
       "    <tr>\n",
       "      <th>ERR1293500</th>\n",
       "      <td>80</td>\n",
       "      <td>control</td>\n",
       "    </tr>\n",
       "    <tr>\n",
       "      <th>ERR1293501</th>\n",
       "      <td>45</td>\n",
       "      <td>CRC</td>\n",
       "    </tr>\n",
       "  </tbody>\n",
       "</table>\n",
       "</div>"
      ],
      "text/plain": [
       "            observed_otus   groups\n",
       "ERR1293497             80  control\n",
       "ERR1293498             79  control\n",
       "ERR1293499             78  control\n",
       "ERR1293500             80  control\n",
       "ERR1293501             45      CRC"
      ]
     },
     "execution_count": 67,
     "metadata": {},
     "output_type": "execute_result"
    }
   ],
   "source": [
    "div_table.head()"
   ]
  },
  {
   "cell_type": "code",
   "execution_count": 70,
   "metadata": {},
   "outputs": [
    {
     "data": {
      "text/plain": [
       "Text(0.5, 1.0, 'VogtmannE_2016, Metaphlan2, s, alpha diversity')"
      ]
     },
     "execution_count": 70,
     "metadata": {},
     "output_type": "execute_result"
    },
    {
     "data": {
      "image/png": "[encoded data removed]",
      "text/plain": [
       "<Figure size 432x288 with 1 Axes>"
      ]
     },
     "metadata": {
      "needs_background": "light"
     },
     "output_type": "display_data"
    }
   ],
   "source": [
    "plt = sns.boxplot(x=\"groups\", y=\"observed_otus\", data=div_table)\n",
    "plt.set_xticklabels(plt.get_xticklabels(),rotation=45)\n",
    "plt.set_title(\"VogtmannE_2016, Metaphlan2, s, alpha diversity\")"
   ]
  },
  {
   "cell_type": "code",
   "execution_count": 146,
   "metadata": {},
   "outputs": [
    {
     "data": {
      "image/png": "[encoded data removed]",
      "text/plain": [
       "<Figure size 432x288 with 1 Axes>"
      ]
     },
     "metadata": {
      "needs_background": "light"
     },
     "output_type": "display_data"
    }
   ],
   "source": [
    "_ = calc_div(\"VogtmannE_2016\", \"Metaphlan\", \"s\", \"chao1\")"
   ]
  },
  {
   "cell_type": "code",
   "execution_count": 144,
   "metadata": {},
   "outputs": [],
   "source": [
    "def calc_div (dataset_name, method, rank, div_measure):\n",
    "    # Find path to dataset file\n",
    "    if method == \"Kraken\":\n",
    "        table_files = files_kraken\n",
    "        rank = rank.upper()\n",
    "    else:\n",
    "        if method == \"Metaphlan\":\n",
    "            table_files = files_metaphlan\n",
    "            rank = rank.lower()\n",
    "        else:\n",
    "            print(\"Wrong method! Method should be 'Kraken' or 'Metaphlan'\")\n",
    "            raise\n",
    "    \n",
    "    table, groups = get_table_and_grouping(dataset_name, table_files, rank = rank, counts = True)\n",
    "    \n",
    "    div_table = pd.DataFrame(alpha_diversity(div_measure, np.array(table), np.array(table.index)))\n",
    "    div_table[div_measure] = div_table[0]\n",
    "    div_table = div_table.drop(columns=0)\n",
    "    div_table[\"groups\"] = groups\n",
    "    \n",
    "\n",
    "    if \"adenoma\" in list(groups.drop_duplicates()):\n",
    "        group_order = [\"control\", \"CRC\", \"adenoma\"]\n",
    "    else:\n",
    "        group_order = [\"control\", \"CRC\"]\n",
    "    \n",
    "    plt = sns.boxplot(x=\"groups\", y=div_measure, data=div_table, order=group_order)\n",
    "    #plt.set_xticklabels(plt.get_xticklabels(),rotation=45)\n",
    "    plt.set_title(\", \".join([dataset_name, method, rank, \"alpha diversity\"]))\n",
    "    plt.get_figure().savefig(\"_\".join([dataset_name, method, rank, div_measure, \"alphadiversity.png\"]))\n",
    "    return div_table"
   ]
  },
  {
   "cell_type": "code",
   "execution_count": 107,
   "metadata": {},
   "outputs": [
    {
     "data": {
      "image/png": "[encoded data removed]",
      "text/plain": [
       "<Figure size 432x288 with 1 Axes>"
      ]
     },
     "metadata": {
      "needs_background": "light"
     },
     "output_type": "display_data"
    }
   ],
   "source": [
    "_ = calc_div(\"VogtmannE_2016\", \"Metaphlan\", \"s\", \"shannon\")"
   ]
  },
  {
   "cell_type": "code",
   "execution_count": 148,
   "metadata": {},
   "outputs": [
    {
     "data": {
      "image/png": "[encoded data removed]",
      "text/plain": [
       "<Figure size 432x288 with 1 Axes>"
      ]
     },
     "metadata": {
      "needs_background": "light"
     },
     "output_type": "display_data"
    }
   ],
   "source": [
    "_ = calc_div(\"VogtmannE_2016\", \"Kraken\", \"s\", \"shannon\")"
   ]
  },
  {
   "cell_type": "code",
   "execution_count": 145,
   "metadata": {},
   "outputs": [
    {
     "data": {
      "image/png": "[encoded data removed]",
      "text/plain": [
       "<Figure size 432x288 with 1 Axes>"
      ]
     },
     "metadata": {
      "needs_background": "light"
     },
     "output_type": "display_data"
    }
   ],
   "source": [
    "VogtmannE_2016_s = calc_div(\"VogtmannE_2016\", \"Metaphlan\", \"s\", \"observed_otus\")"
   ]
  },
  {
   "cell_type": "code",
   "execution_count": 147,
   "metadata": {},
   "outputs": [
    {
     "data": {
      "image/png": "[encoded data removed]",
      "text/plain": [
       "<Figure size 432x288 with 1 Axes>"
      ]
     },
     "metadata": {
      "needs_background": "light"
     },
     "output_type": "display_data"
    }
   ],
   "source": [
    "VogtmannE_2016_s_k = calc_div(\"VogtmannE_2016\", \"Kraken\", \"s\", \"observed_otus\")"
   ]
  },
  {
   "cell_type": "code",
   "execution_count": 149,
   "metadata": {},
   "outputs": [
    {
     "data": {
      "image/png": "[encoded data removed]",
      "text/plain": [
       "<Figure size 432x288 with 1 Axes>"
      ]
     },
     "metadata": {
      "needs_background": "light"
     },
     "output_type": "display_data"
    }
   ],
   "source": [
    "_ = calc_div(\"VogtmannE_2016\", \"Metaphlan\", \"s\", \"chao1\")"
   ]
  },
  {
   "cell_type": "code",
   "execution_count": 150,
   "metadata": {},
   "outputs": [
    {
     "data": {
      "image/png": "[encoded data removed]",
      "text/plain": [
       "<Figure size 432x288 with 1 Axes>"
      ]
     },
     "metadata": {
      "needs_background": "light"
     },
     "output_type": "display_data"
    }
   ],
   "source": [
    "_ = calc_div(\"VogtmannE_2016\", \"Kraken\", \"s\", \"chao1\")"
   ]
  },
  {
   "cell_type": "code",
   "execution_count": 105,
   "metadata": {},
   "outputs": [
    {
     "data": {
      "image/png": "[encoded data removed]",
      "text/plain": [
       "<Figure size 432x288 with 1 Axes>"
      ]
     },
     "metadata": {
      "needs_background": "light"
     },
     "output_type": "display_data"
    }
   ],
   "source": [
    "_ = calc_div(\"FengQ_2015\", \"Metaphlan\", \"s\", \"observed_otus\")"
   ]
  },
  {
   "cell_type": "code",
   "execution_count": 151,
   "metadata": {},
   "outputs": [
    {
     "data": {
      "image/png": "[encoded data removed]",
      "text/plain": [
       "<Figure size 432x288 with 1 Axes>"
      ]
     },
     "metadata": {
      "needs_background": "light"
     },
     "output_type": "display_data"
    }
   ],
   "source": [
    "_ = calc_div(\"FengQ_2015\", \"Kraken\", \"s\", \"observed_otus\")"
   ]
  },
  {
   "cell_type": "code",
   "execution_count": 106,
   "metadata": {},
   "outputs": [
    {
     "data": {
      "image/png": "[encoded data removed]",
      "text/plain": [
       "<Figure size 432x288 with 1 Axes>"
      ]
     },
     "metadata": {
      "needs_background": "light"
     },
     "output_type": "display_data"
    }
   ],
   "source": [
    "_ = calc_div(\"FengQ_2015\", \"Metaphlan\", \"s\", \"chao1\")"
   ]
  },
  {
   "cell_type": "code",
   "execution_count": 152,
   "metadata": {},
   "outputs": [
    {
     "data": {
      "image/png": "[encoded data removed]",
      "text/plain": [
       "<Figure size 432x288 with 1 Axes>"
      ]
     },
     "metadata": {
      "needs_background": "light"
     },
     "output_type": "display_data"
    }
   ],
   "source": [
    "_ = calc_div(\"FengQ_2015\", \"Kraken\", \"s\", \"chao1\")"
   ]
  },
  {
   "cell_type": "code",
   "execution_count": 153,
   "metadata": {},
   "outputs": [
    {
     "data": {
      "image/png": "[encoded data removed]",
      "text/plain": [
       "<Figure size 432x288 with 1 Axes>"
      ]
     },
     "metadata": {
      "needs_background": "light"
     },
     "output_type": "display_data"
    }
   ],
   "source": [
    "_ = calc_div(\"FengQ_2015\", \"Metaphlan\", \"s\", \"shannon\")"
   ]
  },
  {
   "cell_type": "code",
   "execution_count": 154,
   "metadata": {},
   "outputs": [
    {
     "data": {
      "image/png": "[encoded data removed]",
      "text/plain": [
       "<Figure size 432x288 with 1 Axes>"
      ]
     },
     "metadata": {
      "needs_background": "light"
     },
     "output_type": "display_data"
    }
   ],
   "source": [
    "_ = calc_div(\"FengQ_2015\", \"Kraken\", \"s\", \"shannon\")"
   ]
  },
  {
   "cell_type": "code",
   "execution_count": null,
   "metadata": {},
   "outputs": [],
   "source": [
    "def calc_beta_div (dataset_name, method, rank, div_measure):\n",
    "    # Find path to dataset file\n",
    "    if method == \"Kraken\":\n",
    "        table_files = files_kraken\n",
    "        rank = rank.upper()\n",
    "    else:\n",
    "        if method == \"Metaphlan\":\n",
    "            table_files = files_metaphlan\n",
    "            rank = rank.lower()\n",
    "        else:\n",
    "            print(\"Wrong method! Method should be 'Kraken' or 'Metaphlan'\")\n",
    "            raise\n",
    "    \n",
    "    table, groups = get_table_and_grouping(dataset_name, table_files, rank = rank, counts = True)\n",
    "    \n",
    "    div_table = pd.DataFrame(beta_diversity(div_measure, np.array(table), np.array(table.index)))\n",
    "    return div_table"
   ]
  }
 ],
 "metadata": {
  "kernelspec": {
   "display_name": "Python 3",
   "language": "python",
   "name": "python3"
  },
  "language_info": {
   "codemirror_mode": {
    "name": "ipython",
    "version": 3
   },
   "file_extension": ".py",
   "mimetype": "text/x-python",
   "name": "python",
   "nbconvert_exporter": "python",
   "pygments_lexer": "ipython3",
   "version": "3.6.6"
  }
 },
 "nbformat": 4,
 "nbformat_minor": 2
}
