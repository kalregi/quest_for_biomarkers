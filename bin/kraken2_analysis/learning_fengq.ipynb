{
 "cells": [
  {
   "cell_type": "markdown",
   "metadata": {},
   "source": [
    "Fusobacterium nucleatum - Fusobacteria\n",
    "Porphyromonas - Porphyromonadaceae\n",
    "Gemella - Firmicutes "
   ]
  },
  {
   "cell_type": "code",
   "execution_count": 169,
   "metadata": {},
   "outputs": [],
   "source": [
    "Learning_features = [\"Firmicutes\", \"Fusobacteria\", \"Bacteroidia\", \"Porphyromonadaceae\", \"Gemella\",\n",
    "                     \"Porphyromonas\", \"Prevotella\", \"Fusobacterium nucleatum\"]"
   ]
  },
  {
   "cell_type": "code",
   "execution_count": 43,
   "metadata": {},
   "outputs": [],
   "source": [
    "Learning_features = [\"Firmicutes\", \"Fusobacteria\", \"Bacteroidia\", \"Porphyromonadaceae\",\n",
    "                     \"Prevotella\"]"
   ]
  },
  {
   "cell_type": "code",
   "execution_count": 53,
   "metadata": {},
   "outputs": [],
   "source": [
    "Learning_features_kraken = [\"Firmicutes\", \"Fusobacteria\", \"Bacteroidia\", \"Porphyromonadaceae\", \"Porphyromonas\",\n",
    "                            \"Porphyromonas asaccharolytica\", \"Prevotella intermedia\", \"Fusobacterium nucleatum\", \n",
    "                            \"Parvimonas micra\"]"
   ]
  },
  {
   "cell_type": "code",
   "execution_count": 38,
   "metadata": {},
   "outputs": [],
   "source": [
    "import pandas as pd\n",
    "import os\n",
    "import seaborn as sns\n",
    "import matplotlib.pyplot as plt\n",
    "\n",
    "#from skbio.diversity import alpha_diversity\n",
    "#from skbio.diversity import beta_diversity\n",
    "#from skbio import TreeNode\n",
    "from io import StringIO\n",
    "#from skbio.stats.ordination import pcoa\n",
    "from skbio.stats.composition import ancom\n",
    "import math\n",
    "from skbio.stats.composition import multiplicative_replacement\n",
    "\n",
    "from sklearn.metrics import roc_curve, auc, confusion_matrix\n",
    "from sklearn.model_selection import train_test_split\n",
    "from sklearn.linear_model import LogisticRegression\n",
    "from sklearn.model_selection import cross_val_score\n",
    "from sklearn import tree"
   ]
  },
  {
   "cell_type": "code",
   "execution_count": 3,
   "metadata": {},
   "outputs": [
    {
     "name": "stdout",
     "output_type": "stream",
     "text": [
      "['//gfs/data/curated_metagenomes_kraken2/RampelliS_2015.csv', '//gfs/data/curated_metagenomes_kraken2/AsnicarF_2017.csv', '//gfs/data/curated_metagenomes_kraken2/ChngKR_2016.csv', '//gfs/data/curated_metagenomes_kraken2/FengQ_2015.csv', '//gfs/data/curated_metagenomes_kraken2/Heitz-BuschartA_2016.csv', '//gfs/data/curated_metagenomes_kraken2/KarlssonFH_2013.csv', '//gfs/data/curated_metagenomes_kraken2/LeChatelierE_2013.csv', '//gfs/data/curated_metagenomes_kraken2/LiuW_2016.csv', '//gfs/data/curated_metagenomes_kraken2/LomanNJ_2013.csv', '//gfs/data/curated_metagenomes_kraken2/Obregon-TitoAJ_2015.csv', '//gfs/data/curated_metagenomes_kraken2/QinJ_2012.csv', '//gfs/data/curated_metagenomes_kraken2/QinN_2014.csv', '//gfs/data/curated_metagenomes_kraken2/SchirmerM_2016.csv', '//gfs/data/curated_metagenomes_kraken2/VatanenT_2016.csv', '//gfs/data/curated_metagenomes_kraken2/VogtmannE_2016.csv', '//gfs/data/curated_metagenomes_kraken2/XieH_2016.csv', '//gfs/data/curated_metagenomes_kraken2/YuJ_2015.csv', '//gfs/data/curated_metagenomes_kraken2/ZellerG_2014.csv']\n"
     ]
    }
   ],
   "source": [
    "path_kraken = '//gfs/data/curated_metagenomes_kraken2/'\n",
    "\n",
    "files_kraken = []\n",
    "# r=root, d=directories, f = files\n",
    "for r, d, f in os.walk(path_kraken):\n",
    "    for file in f:\n",
    "        if '.csv' in file:\n",
    "            files_kraken.append(os.path.join(path_kraken, file))\n",
    "print(files_kraken)"
   ]
  },
  {
   "cell_type": "code",
   "execution_count": 4,
   "metadata": {},
   "outputs": [
    {
     "name": "stdout",
     "output_type": "stream",
     "text": [
      "['//gfs/data/curated_metagenomes_metaphlan2/AsnicarF_2017.csv', '//gfs/data/curated_metagenomes_metaphlan2/ChngKR_2016.csv', '//gfs/data/curated_metagenomes_metaphlan2/FengQ_2015.csv']\n"
     ]
    }
   ],
   "source": [
    "path_metaphlan = '//gfs/data/curated_metagenomes_metaphlan2/'\n",
    "\n",
    "files_metaphlan = []\n",
    "# r=root, d=directories, f = files\n",
    "for r, d, f in os.walk(path_metaphlan):\n",
    "    for file in f:\n",
    "        if '.csv' in file:\n",
    "            files_metaphlan.append(os.path.join(path_metaphlan, file))\n",
    "print(files_metaphlan)"
   ]
  },
  {
   "cell_type": "code",
   "execution_count": 5,
   "metadata": {},
   "outputs": [],
   "source": [
    "def get_data_for_sample(path_to_file):\n",
    "    dataset = path_to_file.split('/')[-1]\n",
    "    df = pd.read_csv(path_to_file, delimiter = ',')\n",
    "    df['Dataset'] = dataset\n",
    "    df[\"Name\"] = [n.strip() for n in df[\"Name\"]]\n",
    "    return df"
   ]
  },
  {
   "cell_type": "code",
   "execution_count": 162,
   "metadata": {},
   "outputs": [],
   "source": [
    "def get_df(df_name, table_files, features):\n",
    "\n",
    "    for file in table_files:\n",
    "        if df_name in file:\n",
    "            index = table_files.index(file)\n",
    "            \n",
    "    #df = get_data_for_sample(table_files[index])\n",
    "    df = df.loc[[name in features for name in df[\"Name\"]]]\n",
    "    #df = df.loc[df[\"Rank\"]==\"S\"]\n",
    "    \n",
    "    return df\n",
    "    \n",
    "    "
   ]
  },
  {
   "cell_type": "code",
   "execution_count": 163,
   "metadata": {},
   "outputs": [],
   "source": [
    "df = get_df(\"FengQ_2015\", files_kraken, Learning_features_kraken)"
   ]
  },
  {
   "cell_type": "code",
   "execution_count": 136,
   "metadata": {},
   "outputs": [],
   "source": []
  },
  {
   "cell_type": "code",
   "execution_count": 127,
   "metadata": {},
   "outputs": [
    {
     "data": {
      "text/html": [
       "<div>\n",
       "<style scoped>\n",
       "    .dataframe tbody tr th:only-of-type {\n",
       "        vertical-align: middle;\n",
       "    }\n",
       "\n",
       "    .dataframe tbody tr th {\n",
       "        vertical-align: top;\n",
       "    }\n",
       "\n",
       "    .dataframe thead th {\n",
       "        text-align: right;\n",
       "    }\n",
       "</style>\n",
       "<table border=\"1\" class=\"dataframe\">\n",
       "  <thead>\n",
       "    <tr style=\"text-align: right;\">\n",
       "      <th></th>\n",
       "      <th>Unnamed: 0</th>\n",
       "      <th>Sample_ID</th>\n",
       "      <th>Dataset</th>\n",
       "      <th>Rank</th>\n",
       "      <th>Name</th>\n",
       "      <th>Abundance</th>\n",
       "      <th>STUDY_CONDITION</th>\n",
       "      <th>BODY_SITE</th>\n",
       "      <th>SUBJECTID</th>\n",
       "      <th>COUNTRY</th>\n",
       "      <th>DISEASE</th>\n",
       "      <th>AGE</th>\n",
       "      <th>AGE_CATEGORY</th>\n",
       "    </tr>\n",
       "  </thead>\n",
       "  <tbody>\n",
       "    <tr>\n",
       "      <th>0</th>\n",
       "      <td>0</td>\n",
       "      <td>ERR688526</td>\n",
       "      <td>FengQ_2015.csv</td>\n",
       "      <td>U</td>\n",
       "      <td>unclassified</td>\n",
       "      <td>70.88</td>\n",
       "      <td>adenoma</td>\n",
       "      <td>stool</td>\n",
       "      <td>SID31282</td>\n",
       "      <td>AUT</td>\n",
       "      <td>adenoma;fatty_liver</td>\n",
       "      <td>63</td>\n",
       "      <td>adult</td>\n",
       "    </tr>\n",
       "    <tr>\n",
       "      <th>1</th>\n",
       "      <td>1</td>\n",
       "      <td>ERR688526</td>\n",
       "      <td>FengQ_2015.csv</td>\n",
       "      <td>R</td>\n",
       "      <td>root</td>\n",
       "      <td>29.12</td>\n",
       "      <td>adenoma</td>\n",
       "      <td>stool</td>\n",
       "      <td>SID31282</td>\n",
       "      <td>AUT</td>\n",
       "      <td>adenoma;fatty_liver</td>\n",
       "      <td>63</td>\n",
       "      <td>adult</td>\n",
       "    </tr>\n",
       "    <tr>\n",
       "      <th>2</th>\n",
       "      <td>2</td>\n",
       "      <td>ERR688526</td>\n",
       "      <td>FengQ_2015.csv</td>\n",
       "      <td>R1</td>\n",
       "      <td>cellular organisms</td>\n",
       "      <td>29.11</td>\n",
       "      <td>adenoma</td>\n",
       "      <td>stool</td>\n",
       "      <td>SID31282</td>\n",
       "      <td>AUT</td>\n",
       "      <td>adenoma;fatty_liver</td>\n",
       "      <td>63</td>\n",
       "      <td>adult</td>\n",
       "    </tr>\n",
       "    <tr>\n",
       "      <th>3</th>\n",
       "      <td>3</td>\n",
       "      <td>ERR688526</td>\n",
       "      <td>FengQ_2015.csv</td>\n",
       "      <td>D</td>\n",
       "      <td>Bacteria</td>\n",
       "      <td>29.05</td>\n",
       "      <td>adenoma</td>\n",
       "      <td>stool</td>\n",
       "      <td>SID31282</td>\n",
       "      <td>AUT</td>\n",
       "      <td>adenoma;fatty_liver</td>\n",
       "      <td>63</td>\n",
       "      <td>adult</td>\n",
       "    </tr>\n",
       "    <tr>\n",
       "      <th>4</th>\n",
       "      <td>4</td>\n",
       "      <td>ERR688526</td>\n",
       "      <td>FengQ_2015.csv</td>\n",
       "      <td>D1</td>\n",
       "      <td>Terrabacteria group</td>\n",
       "      <td>25.38</td>\n",
       "      <td>adenoma</td>\n",
       "      <td>stool</td>\n",
       "      <td>SID31282</td>\n",
       "      <td>AUT</td>\n",
       "      <td>adenoma;fatty_liver</td>\n",
       "      <td>63</td>\n",
       "      <td>adult</td>\n",
       "    </tr>\n",
       "  </tbody>\n",
       "</table>\n",
       "</div>"
      ],
      "text/plain": [
       "   Unnamed: 0  Sample_ID         Dataset Rank                 Name  Abundance  \\\n",
       "0           0  ERR688526  FengQ_2015.csv    U         unclassified      70.88   \n",
       "1           1  ERR688526  FengQ_2015.csv    R                 root      29.12   \n",
       "2           2  ERR688526  FengQ_2015.csv   R1   cellular organisms      29.11   \n",
       "3           3  ERR688526  FengQ_2015.csv    D             Bacteria      29.05   \n",
       "4           4  ERR688526  FengQ_2015.csv   D1  Terrabacteria group      25.38   \n",
       "\n",
       "  STUDY_CONDITION BODY_SITE SUBJECTID COUNTRY              DISEASE  AGE  \\\n",
       "0         adenoma     stool  SID31282     AUT  adenoma;fatty_liver   63   \n",
       "1         adenoma     stool  SID31282     AUT  adenoma;fatty_liver   63   \n",
       "2         adenoma     stool  SID31282     AUT  adenoma;fatty_liver   63   \n",
       "3         adenoma     stool  SID31282     AUT  adenoma;fatty_liver   63   \n",
       "4         adenoma     stool  SID31282     AUT  adenoma;fatty_liver   63   \n",
       "\n",
       "  AGE_CATEGORY  \n",
       "0        adult  \n",
       "1        adult  \n",
       "2        adult  \n",
       "3        adult  \n",
       "4        adult  "
      ]
     },
     "execution_count": 127,
     "metadata": {},
     "output_type": "execute_result"
    }
   ],
   "source": [
    "df.head()"
   ]
  },
  {
   "cell_type": "code",
   "execution_count": 164,
   "metadata": {},
   "outputs": [],
   "source": [
    "data_1 = df[[\"Sample_ID\", \"Name\", \"Abundance\"]]"
   ]
  },
  {
   "cell_type": "code",
   "execution_count": 165,
   "metadata": {},
   "outputs": [],
   "source": [
    "target_1 = df[[\"Sample_ID\", \"STUDY_CONDITION\"]].drop_duplicates()"
   ]
  },
  {
   "cell_type": "code",
   "execution_count": 166,
   "metadata": {},
   "outputs": [],
   "source": [
    "data = data_1.pivot(index='Sample_ID', columns='Name', values='Abundance')\n",
    "data = data.fillna(0)"
   ]
  },
  {
   "cell_type": "code",
   "execution_count": 152,
   "metadata": {},
   "outputs": [
    {
     "data": {
      "text/html": [
       "<div>\n",
       "<style scoped>\n",
       "    .dataframe tbody tr th:only-of-type {\n",
       "        vertical-align: middle;\n",
       "    }\n",
       "\n",
       "    .dataframe tbody tr th {\n",
       "        vertical-align: top;\n",
       "    }\n",
       "\n",
       "    .dataframe thead th {\n",
       "        text-align: right;\n",
       "    }\n",
       "</style>\n",
       "<table border=\"1\" class=\"dataframe\">\n",
       "  <thead>\n",
       "    <tr style=\"text-align: right;\">\n",
       "      <th>Name</th>\n",
       "      <th>Bacteroidia</th>\n",
       "      <th>Firmicutes</th>\n",
       "      <th>Fusobacteria</th>\n",
       "      <th>Fusobacterium nucleatum</th>\n",
       "      <th>Parvimonas micra</th>\n",
       "      <th>Porphyromonadaceae</th>\n",
       "      <th>Porphyromonas</th>\n",
       "      <th>Porphyromonas asaccharolytica</th>\n",
       "      <th>Prevotella intermedia</th>\n",
       "    </tr>\n",
       "    <tr>\n",
       "      <th>Sample_ID</th>\n",
       "      <th></th>\n",
       "      <th></th>\n",
       "      <th></th>\n",
       "      <th></th>\n",
       "      <th></th>\n",
       "      <th></th>\n",
       "      <th></th>\n",
       "      <th></th>\n",
       "      <th></th>\n",
       "    </tr>\n",
       "  </thead>\n",
       "  <tbody>\n",
       "    <tr>\n",
       "      <th>ERR688505</th>\n",
       "      <td>6.77</td>\n",
       "      <td>25.10</td>\n",
       "      <td>0.01</td>\n",
       "      <td>0.0</td>\n",
       "      <td>0.00</td>\n",
       "      <td>0.01</td>\n",
       "      <td>0.0</td>\n",
       "      <td>0.0</td>\n",
       "      <td>0.01</td>\n",
       "    </tr>\n",
       "    <tr>\n",
       "      <th>ERR688506</th>\n",
       "      <td>2.84</td>\n",
       "      <td>15.95</td>\n",
       "      <td>0.02</td>\n",
       "      <td>0.0</td>\n",
       "      <td>0.00</td>\n",
       "      <td>0.01</td>\n",
       "      <td>0.0</td>\n",
       "      <td>0.0</td>\n",
       "      <td>0.00</td>\n",
       "    </tr>\n",
       "    <tr>\n",
       "      <th>ERR688507</th>\n",
       "      <td>1.89</td>\n",
       "      <td>23.13</td>\n",
       "      <td>0.01</td>\n",
       "      <td>0.0</td>\n",
       "      <td>0.00</td>\n",
       "      <td>0.00</td>\n",
       "      <td>0.0</td>\n",
       "      <td>0.0</td>\n",
       "      <td>0.00</td>\n",
       "    </tr>\n",
       "    <tr>\n",
       "      <th>ERR688508</th>\n",
       "      <td>3.20</td>\n",
       "      <td>14.70</td>\n",
       "      <td>0.03</td>\n",
       "      <td>0.0</td>\n",
       "      <td>0.01</td>\n",
       "      <td>0.01</td>\n",
       "      <td>0.0</td>\n",
       "      <td>0.0</td>\n",
       "      <td>0.01</td>\n",
       "    </tr>\n",
       "    <tr>\n",
       "      <th>ERR688509</th>\n",
       "      <td>0.82</td>\n",
       "      <td>20.35</td>\n",
       "      <td>0.02</td>\n",
       "      <td>0.0</td>\n",
       "      <td>0.00</td>\n",
       "      <td>0.00</td>\n",
       "      <td>0.0</td>\n",
       "      <td>0.0</td>\n",
       "      <td>0.00</td>\n",
       "    </tr>\n",
       "  </tbody>\n",
       "</table>\n",
       "</div>"
      ],
      "text/plain": [
       "Name       Bacteroidia  Firmicutes  Fusobacteria  Fusobacterium nucleatum  \\\n",
       "Sample_ID                                                                   \n",
       "ERR688505         6.77       25.10          0.01                      0.0   \n",
       "ERR688506         2.84       15.95          0.02                      0.0   \n",
       "ERR688507         1.89       23.13          0.01                      0.0   \n",
       "ERR688508         3.20       14.70          0.03                      0.0   \n",
       "ERR688509         0.82       20.35          0.02                      0.0   \n",
       "\n",
       "Name       Parvimonas micra  Porphyromonadaceae  Porphyromonas  \\\n",
       "Sample_ID                                                        \n",
       "ERR688505              0.00                0.01            0.0   \n",
       "ERR688506              0.00                0.01            0.0   \n",
       "ERR688507              0.00                0.00            0.0   \n",
       "ERR688508              0.01                0.01            0.0   \n",
       "ERR688509              0.00                0.00            0.0   \n",
       "\n",
       "Name       Porphyromonas asaccharolytica  Prevotella intermedia  \n",
       "Sample_ID                                                        \n",
       "ERR688505                            0.0                   0.01  \n",
       "ERR688506                            0.0                   0.00  \n",
       "ERR688507                            0.0                   0.00  \n",
       "ERR688508                            0.0                   0.01  \n",
       "ERR688509                            0.0                   0.00  "
      ]
     },
     "execution_count": 152,
     "metadata": {},
     "output_type": "execute_result"
    }
   ],
   "source": [
    "data.head()"
   ]
  },
  {
   "cell_type": "code",
   "execution_count": 153,
   "metadata": {},
   "outputs": [],
   "source": [
    "data = data[[\"Fusobacteria\", \"Parvimonas micra\", \"Porphyromonadaceae\", \"Porphyromonas\",\n",
    "             \"Porphyromonas asaccharolytica\", \"Prevotella intermedia\"]]"
   ]
  },
  {
   "cell_type": "code",
   "execution_count": 87,
   "metadata": {},
   "outputs": [],
   "source": [
    "data_m = data[[\"Fusobacteria\", \"Porphyromonadaceae\"]]"
   ]
  },
  {
   "cell_type": "code",
   "execution_count": 167,
   "metadata": {},
   "outputs": [],
   "source": [
    "target = target_1.set_index(\"Sample_ID\")\n",
    "target[\"TARGET\"] = [1 if s in [\"CRC\"] else 0 for s in target[\"STUDY_CONDITION\"]]"
   ]
  },
  {
   "cell_type": "code",
   "execution_count": 168,
   "metadata": {},
   "outputs": [
    {
     "name": "stderr",
     "output_type": "stream",
     "text": [
      "/gfs/progs/miniconda3/lib/python3.6/site-packages/sklearn/linear_model/logistic.py:433: FutureWarning: Default solver will be changed to 'lbfgs' in 0.22. Specify a solver to silence this warning.\n",
      "  FutureWarning)\n"
     ]
    },
    {
     "data": {
      "image/png": "[encoded data removed]",
      "text/plain": [
       "<Figure size 432x288 with 1 Axes>"
      ]
     },
     "metadata": {
      "needs_background": "light"
     },
     "output_type": "display_data"
    }
   ],
   "source": [
    "# Logisztikus regresszió\n",
    "x_train, x_test, y_train, y_test = train_test_split(data, target.TARGET, test_size=0.2, random_state=0)\n",
    "logisticRegr = LogisticRegression()\n",
    "logisticRegr.fit(x_train, y_train)\n",
    "\n",
    "#Konfidencia scoreok a teszt halmazhoz\n",
    "y_score = logisticRegr.decision_function(x_test)\n",
    "\n",
    "#ROC görbe számolása\n",
    "fpr, tpr, _ = roc_curve(y_test, y_score)\n",
    "roc_auc = auc(fpr, tpr)\n",
    "\n",
    "plt.figure()\n",
    "lw = 2\n",
    "plt.plot(fpr, tpr, color='darkorange',\n",
    "         lw=lw, label='ROC curve (area = %0.2f)' % roc_auc)\n",
    "plt.plot([0, 1], [0, 1], color='navy', lw=lw, linestyle='--')\n",
    "plt.xlim([0.0, 1.0])\n",
    "plt.ylim([0.0, 1.05])\n",
    "plt.xlabel('False Positive Rate')\n",
    "plt.ylabel('True Positive Rate')\n",
    "plt.title( 'ROC curve')\n",
    "plt.legend(loc=\"lower right\")\n",
    "\n",
    "plt.savefig(\"ancom_log_reg_roc_fengq.png\", dpi=200)\n",
    "\n",
    "coef = logisticRegr.coef_[0]\n",
    "columns = data.columns\n",
    "\n",
    "weights = []\n",
    "for i in range(len(coef)):\n",
    "    weights.append((coef[i], columns[i]))\n",
    "weights = sorted(weights, key = lambda weight: weight[0])"
   ]
  },
  {
   "cell_type": "code",
   "execution_count": 84,
   "metadata": {},
   "outputs": [],
   "source": [
    "coef = logisticRegr.coef_[0]"
   ]
  },
  {
   "cell_type": "code",
   "execution_count": 85,
   "metadata": {},
   "outputs": [
    {
     "data": {
      "text/plain": [
       "array([ 0.68760261,  0.10568887,  0.31459904,  0.3000402 ,  0.29359556,\n",
       "       -0.34632811])"
      ]
     },
     "execution_count": 85,
     "metadata": {},
     "output_type": "execute_result"
    }
   ],
   "source": [
    "coef"
   ]
  },
  {
   "cell_type": "code",
   "execution_count": 96,
   "metadata": {},
   "outputs": [
    {
     "data": {
      "text/plain": [
       "array([0.01, 0.01, 0.  , 0.01, 0.  , 0.  , 0.  , 0.  , 0.  , 0.01, 0.01,\n",
       "       0.  , 0.01, 0.  , 0.  , 0.  , 0.  , 0.  , 0.  , 0.  , 0.01, 0.01,\n",
       "       0.01, 0.  , 0.  , 0.  , 0.  , 0.01, 0.02, 0.01, 0.01, 0.  , 0.  ,\n",
       "       0.01, 0.01, 0.  , 0.  , 0.01, 0.  , 0.  , 0.  , 0.01, 0.  , 0.  ,\n",
       "       0.  , 0.  , 0.  , 0.  , 0.  , 0.  , 0.  , 0.  , 0.01, 0.  , 0.  ,\n",
       "       0.  , 0.  , 0.01, 0.  , 0.  , 0.  , 0.01, 0.02, 0.05, 0.  , 0.  ,\n",
       "       0.01, 0.65, 1.65, 0.01, 0.3 , 0.02, 0.55, 0.13, 0.02, 0.01, 1.34,\n",
       "       0.  , 0.  , 0.02, 0.  , 0.  , 0.  , 0.03, 0.  , 0.  , 0.  , 0.  ,\n",
       "       0.  , 0.  , 0.  , 0.  , 0.  , 0.  , 0.  , 0.  , 0.  , 0.01, 0.  ,\n",
       "       0.  , 0.  , 0.  , 0.01, 0.01, 0.  , 0.  , 0.  , 0.01, 0.  , 0.01,\n",
       "       0.  , 0.01, 0.02, 0.  , 0.  , 0.  , 0.  , 0.01, 0.01, 0.01, 0.02,\n",
       "       0.  , 0.01, 0.03, 0.01, 0.01, 0.01, 0.02, 0.02, 0.  , 0.04, 0.02,\n",
       "       0.02, 0.  , 0.  , 0.01, 0.05, 0.03, 0.  , 0.  , 0.05, 0.01, 0.27,\n",
       "       0.02, 0.  , 0.01, 0.03, 0.  , 0.01, 0.01, 0.01, 0.  , 0.01, 0.01])"
      ]
     },
     "execution_count": 96,
     "metadata": {},
     "output_type": "execute_result"
    }
   ],
   "source": [
    "X[:, 1]"
   ]
  },
  {
   "cell_type": "markdown",
   "metadata": {},
   "source": [
    "https://scikit-learn.org/stable/auto_examples/linear_model/plot_iris_logistic.html"
   ]
  },
  {
   "cell_type": "code",
   "execution_count": 101,
   "metadata": {},
   "outputs": [
    {
     "name": "stdout",
     "output_type": "stream",
     "text": [
      "Automatically created module for IPython interactive environment\n"
     ]
    },
    {
     "data": {
      "text/plain": [
       "LogisticRegression(C=100000.0, class_weight=None, dual=False,\n",
       "          fit_intercept=True, intercept_scaling=1, max_iter=100,\n",
       "          multi_class='multinomial', n_jobs=None, penalty='l2',\n",
       "          random_state=None, solver='lbfgs', tol=0.0001, verbose=0,\n",
       "          warm_start=False)"
      ]
     },
     "execution_count": 101,
     "metadata": {},
     "output_type": "execute_result"
    }
   ],
   "source": [
    "print(__doc__)\n",
    "\n",
    "# Code source: Gaël Varoquaux\n",
    "# Modified for documentation by Jaques Grobler\n",
    "# License: BSD 3 clause\n",
    "\n",
    "import numpy as np\n",
    "import matplotlib.pyplot as plt\n",
    "from sklearn.linear_model import LogisticRegression\n",
    "from sklearn import datasets\n",
    "\n",
    "# import some data to play with\n",
    "\n",
    "x_train, x_test, y_train, y_test = train_test_split(data_m, target.STUDY_CONDITION, test_size=0.2, random_state=0)\n",
    "\n",
    "#X = data_m.values  # we only take the first two features.\n",
    "#Y = target.STUDY_CONDITION\n",
    "\n",
    "logreg = LogisticRegression(C=1e5, solver='lbfgs', multi_class='multinomial')\n",
    "\n",
    "# Create an instance of Logistic Regression Classifier and fit the data.\n",
    "logreg.fit(x_train, y_train)\n"
   ]
  },
  {
   "cell_type": "code",
   "execution_count": 103,
   "metadata": {},
   "outputs": [
    {
     "data": {
      "text/plain": [
       "array([[-0.22330079, -0.17443075,  0.39773155],\n",
       "       [-0.18954212, -0.14887061,  0.33841273],\n",
       "       [-0.15578345, -0.12331046,  0.27909391],\n",
       "       [-0.1761013 , -0.13981348,  0.31591478],\n",
       "       [-0.18954212, -0.14887061,  0.33841273],\n",
       "       [-0.18954212, -0.14887061,  0.33841273],\n",
       "       [-0.18954212, -0.14887061,  0.33841273],\n",
       "       [-0.1761013 , -0.13981348,  0.31591478],\n",
       "       [-0.12202477, -0.09775032,  0.21977509],\n",
       "       [-0.18954212, -0.14887061,  0.33841273],\n",
       "       [-0.18954212, -0.14887061,  0.33841273],\n",
       "       [-0.18954212, -0.14887061,  0.33841273],\n",
       "       [-0.1560967 , -0.12914511,  0.28524181],\n",
       "       [-0.18954212, -0.14887061,  0.33841273],\n",
       "       [-0.18954212, -0.14887061,  0.33841273],\n",
       "       [-0.15578345, -0.12331046,  0.27909391],\n",
       "       [-0.14234263, -0.11425333,  0.25659596],\n",
       "       [-0.15578345, -0.12331046,  0.27909391],\n",
       "       [-0.16266048, -0.13075635,  0.29341683],\n",
       "       [-0.1761013 , -0.13981348,  0.31591478],\n",
       "       [-0.1761013 , -0.13981348,  0.31591478],\n",
       "       [ 0.28307932,  0.20897143, -0.49205075],\n",
       "       [-0.14921966, -0.12169922,  0.27091889],\n",
       "       [-0.1761013 , -0.13981348,  0.31591478],\n",
       "       [-0.1761013 , -0.13981348,  0.31591478],\n",
       "       [-0.18954212, -0.14887061,  0.33841273],\n",
       "       [-0.14921966, -0.12169922,  0.27091889],\n",
       "       [-0.07482528, -0.06313304,  0.13795832],\n",
       "       [-0.15578345, -0.12331046,  0.27909391],\n",
       "       [-0.15578345, -0.12331046,  0.27909391],\n",
       "       [-0.18954212, -0.14887061,  0.33841273]])"
      ]
     },
     "execution_count": 103,
     "metadata": {},
     "output_type": "execute_result"
    }
   ],
   "source": [
    "#Konfidencia scoreok a teszt halmazhoz\n",
    "y_score = logreg.decision_function(x_test)\n",
    "\n",
    "#ROC görbe számolása\n",
    "fpr, tpr, _ = roc_curve(y_test, y_score)\n",
    "roc_auc = auc(fpr, tpr)\n",
    "\n",
    "plt.figure()\n",
    "lw = 2\n",
    "plt.plot(fpr, tpr, color='darkorange',\n",
    "         lw=lw, label='ROC curve (area = %0.2f)' % roc_auc)\n",
    "plt.plot([0, 1], [0, 1], color='navy', lw=lw, linestyle='--')\n",
    "plt.xlim([0.0, 1.0])\n",
    "plt.ylim([0.0, 1.05])\n",
    "plt.xlabel('False Positive Rate')\n",
    "plt.ylabel('True Positive Rate')\n",
    "plt.title( 'CRC ROC görbe')\n",
    "plt.legend(loc=\"lower right\")\n",
    "plt.show()\n",
    "\n",
    "coef = logisticRegr.coef_[0]\n",
    "columns = data.columns\n",
    "\n",
    "weights = []\n",
    "for i in range(len(coef)):\n",
    "    weights.append((coef[i], columns[i]))\n",
    "weights = sorted(weights, key = lambda weight: weight[0])"
   ]
  },
  {
   "cell_type": "code",
   "execution_count": null,
   "metadata": {},
   "outputs": [],
   "source": [
    "\n",
    "# Plot the decision boundary. For that, we will assign a color to each\n",
    "# point in the mesh [x_min, x_max]x[y_min, y_max].\n",
    "x_min, x_max = X[:, 0].min() - .5, X[:, 0].max() + .5\n",
    "y_min, y_max = X[:, 1].min() - .5, X[:, 1].max() + .5\n",
    "h = .02  # step size in the mesh\n",
    "xx, yy = np.meshgrid(np.arange(x_min, x_max, h), np.arange(y_min, y_max, h))\n",
    "Z = logreg.predict(np.c_[xx.ravel(), yy.ravel()])\n",
    "\n",
    "# Put the result into a color plot\n",
    "Z = Z.reshape(xx.shape)\n",
    "plt.figure(1, figsize=(4, 3))\n",
    "plt.pcolormesh(xx, yy, Z, cmap=plt.cm.Paired)\n",
    "\n",
    "# Plot also the training points\n",
    "#plt.scatter(X[:, 0], X[:, 1], c=Y, edgecolors='k', cmap=plt.cm.Paired)\n",
    "plt.scatter(X[:, 0], X[:, 1])\n",
    "plt.xlabel('Sepal length')\n",
    "plt.ylabel('Sepal width')\n",
    "\n",
    "plt.xlim(xx.min(), xx.max())\n",
    "plt.ylim(yy.min(), yy.max())\n",
    "plt.xticks(())\n",
    "plt.yticks(())\n",
    "\n",
    "plt.show()"
   ]
  },
  {
   "cell_type": "markdown",
   "metadata": {},
   "source": [
    "https://scikit-learn.org/stable/auto_examples/model_selection/plot_roc.html"
   ]
  },
  {
   "cell_type": "code",
   "execution_count": 124,
   "metadata": {},
   "outputs": [
    {
     "ename": "ValueError",
     "evalue": "Can only tuple-index with a MultiIndex",
     "output_type": "error",
     "traceback": [
      "\u001b[0;31m---------------------------------------------------------------------------\u001b[0m",
      "\u001b[0;31mValueError\u001b[0m                                Traceback (most recent call last)",
      "\u001b[0;32m<ipython-input-124-864fa94f9383>\u001b[0m in \u001b[0;36m<module>\u001b[0;34m\u001b[0m\n\u001b[1;32m     26\u001b[0m \u001b[0;34m\u001b[0m\u001b[0m\n\u001b[1;32m     27\u001b[0m \u001b[0;32mfor\u001b[0m \u001b[0mi\u001b[0m \u001b[0;32min\u001b[0m \u001b[0mrange\u001b[0m\u001b[0;34m(\u001b[0m\u001b[0mn_classes\u001b[0m\u001b[0;34m)\u001b[0m\u001b[0;34m:\u001b[0m\u001b[0;34m\u001b[0m\u001b[0m\n\u001b[0;32m---> 28\u001b[0;31m     \u001b[0mfpr\u001b[0m\u001b[0;34m[\u001b[0m\u001b[0mi\u001b[0m\u001b[0;34m]\u001b[0m\u001b[0;34m,\u001b[0m \u001b[0mtpr\u001b[0m\u001b[0;34m[\u001b[0m\u001b[0mi\u001b[0m\u001b[0;34m]\u001b[0m\u001b[0;34m,\u001b[0m \u001b[0m_\u001b[0m \u001b[0;34m=\u001b[0m \u001b[0mroc_curve\u001b[0m\u001b[0;34m(\u001b[0m\u001b[0my_test\u001b[0m\u001b[0;34m[\u001b[0m\u001b[0;34m:\u001b[0m\u001b[0;34m,\u001b[0m \u001b[0mi\u001b[0m\u001b[0;34m]\u001b[0m\u001b[0;34m,\u001b[0m \u001b[0my_score\u001b[0m\u001b[0;34m[\u001b[0m\u001b[0;34m:\u001b[0m\u001b[0;34m,\u001b[0m \u001b[0mi\u001b[0m\u001b[0;34m]\u001b[0m\u001b[0;34m)\u001b[0m\u001b[0;34m\u001b[0m\u001b[0m\n\u001b[0m\u001b[1;32m     29\u001b[0m     \u001b[0mroc_auc\u001b[0m\u001b[0;34m[\u001b[0m\u001b[0mi\u001b[0m\u001b[0;34m]\u001b[0m \u001b[0;34m=\u001b[0m \u001b[0mauc\u001b[0m\u001b[0;34m(\u001b[0m\u001b[0mfpr\u001b[0m\u001b[0;34m[\u001b[0m\u001b[0mi\u001b[0m\u001b[0;34m]\u001b[0m\u001b[0;34m,\u001b[0m \u001b[0mtpr\u001b[0m\u001b[0;34m[\u001b[0m\u001b[0mi\u001b[0m\u001b[0;34m]\u001b[0m\u001b[0;34m)\u001b[0m\u001b[0;34m\u001b[0m\u001b[0m\n\u001b[1;32m     30\u001b[0m \u001b[0;34m\u001b[0m\u001b[0m\n",
      "\u001b[0;32m/gfs/progs/miniconda3/lib/python3.6/site-packages/pandas/core/series.py\u001b[0m in \u001b[0;36m__getitem__\u001b[0;34m(self, key)\u001b[0m\n\u001b[1;32m    808\u001b[0m             \u001b[0mkey\u001b[0m \u001b[0;34m=\u001b[0m \u001b[0mcheck_bool_indexer\u001b[0m\u001b[0;34m(\u001b[0m\u001b[0mself\u001b[0m\u001b[0;34m.\u001b[0m\u001b[0mindex\u001b[0m\u001b[0;34m,\u001b[0m \u001b[0mkey\u001b[0m\u001b[0;34m)\u001b[0m\u001b[0;34m\u001b[0m\u001b[0m\n\u001b[1;32m    809\u001b[0m \u001b[0;34m\u001b[0m\u001b[0m\n\u001b[0;32m--> 810\u001b[0;31m         \u001b[0;32mreturn\u001b[0m \u001b[0mself\u001b[0m\u001b[0;34m.\u001b[0m\u001b[0m_get_with\u001b[0m\u001b[0;34m(\u001b[0m\u001b[0mkey\u001b[0m\u001b[0;34m)\u001b[0m\u001b[0;34m\u001b[0m\u001b[0m\n\u001b[0m\u001b[1;32m    811\u001b[0m \u001b[0;34m\u001b[0m\u001b[0m\n\u001b[1;32m    812\u001b[0m     \u001b[0;32mdef\u001b[0m \u001b[0m_get_with\u001b[0m\u001b[0;34m(\u001b[0m\u001b[0mself\u001b[0m\u001b[0;34m,\u001b[0m \u001b[0mkey\u001b[0m\u001b[0;34m)\u001b[0m\u001b[0;34m:\u001b[0m\u001b[0;34m\u001b[0m\u001b[0m\n",
      "\u001b[0;32m/gfs/progs/miniconda3/lib/python3.6/site-packages/pandas/core/series.py\u001b[0m in \u001b[0;36m_get_with\u001b[0;34m(self, key)\u001b[0m\n\u001b[1;32m    821\u001b[0m             \u001b[0;32mif\u001b[0m \u001b[0misinstance\u001b[0m\u001b[0;34m(\u001b[0m\u001b[0mkey\u001b[0m\u001b[0;34m,\u001b[0m \u001b[0mtuple\u001b[0m\u001b[0;34m)\u001b[0m\u001b[0;34m:\u001b[0m\u001b[0;34m\u001b[0m\u001b[0m\n\u001b[1;32m    822\u001b[0m                 \u001b[0;32mtry\u001b[0m\u001b[0;34m:\u001b[0m\u001b[0;34m\u001b[0m\u001b[0m\n\u001b[0;32m--> 823\u001b[0;31m                     \u001b[0;32mreturn\u001b[0m \u001b[0mself\u001b[0m\u001b[0;34m.\u001b[0m\u001b[0m_get_values_tuple\u001b[0m\u001b[0;34m(\u001b[0m\u001b[0mkey\u001b[0m\u001b[0;34m)\u001b[0m\u001b[0;34m\u001b[0m\u001b[0m\n\u001b[0m\u001b[1;32m    824\u001b[0m                 \u001b[0;32mexcept\u001b[0m \u001b[0mException\u001b[0m\u001b[0;34m:\u001b[0m\u001b[0;34m\u001b[0m\u001b[0m\n\u001b[1;32m    825\u001b[0m                     \u001b[0;32mif\u001b[0m \u001b[0mlen\u001b[0m\u001b[0;34m(\u001b[0m\u001b[0mkey\u001b[0m\u001b[0;34m)\u001b[0m \u001b[0;34m==\u001b[0m \u001b[0;36m1\u001b[0m\u001b[0;34m:\u001b[0m\u001b[0;34m\u001b[0m\u001b[0m\n",
      "\u001b[0;32m/gfs/progs/miniconda3/lib/python3.6/site-packages/pandas/core/series.py\u001b[0m in \u001b[0;36m_get_values_tuple\u001b[0;34m(self, key)\u001b[0m\n\u001b[1;32m    866\u001b[0m \u001b[0;34m\u001b[0m\u001b[0m\n\u001b[1;32m    867\u001b[0m         \u001b[0;32mif\u001b[0m \u001b[0;32mnot\u001b[0m \u001b[0misinstance\u001b[0m\u001b[0;34m(\u001b[0m\u001b[0mself\u001b[0m\u001b[0;34m.\u001b[0m\u001b[0mindex\u001b[0m\u001b[0;34m,\u001b[0m \u001b[0mMultiIndex\u001b[0m\u001b[0;34m)\u001b[0m\u001b[0;34m:\u001b[0m\u001b[0;34m\u001b[0m\u001b[0m\n\u001b[0;32m--> 868\u001b[0;31m             \u001b[0;32mraise\u001b[0m \u001b[0mValueError\u001b[0m\u001b[0;34m(\u001b[0m\u001b[0;34m'Can only tuple-index with a MultiIndex'\u001b[0m\u001b[0;34m)\u001b[0m\u001b[0;34m\u001b[0m\u001b[0m\n\u001b[0m\u001b[1;32m    869\u001b[0m \u001b[0;34m\u001b[0m\u001b[0m\n\u001b[1;32m    870\u001b[0m         \u001b[0;31m# If key is contained, would have returned by now\u001b[0m\u001b[0;34m\u001b[0m\u001b[0;34m\u001b[0m\u001b[0m\n",
      "\u001b[0;31mValueError\u001b[0m: Can only tuple-index with a MultiIndex"
     ]
    }
   ],
   "source": [
    "import numpy as np\n",
    "import matplotlib.pyplot as plt\n",
    "from itertools import cycle\n",
    "\n",
    "from sklearn import svm, datasets\n",
    "from sklearn.metrics import roc_curve, auc\n",
    "from sklearn.model_selection import train_test_split\n",
    "from sklearn.preprocessing import label_binarize\n",
    "from sklearn.multiclass import OneVsRestClassifier\n",
    "from scipy import interp\n",
    "\n",
    "y = label_binarize(target.STUDY_CONDITION, classes=[0, 1, 2])\n",
    "n_classes = y.shape[1]\n",
    "\n",
    "X_train, X_test, Y_train, Y_test = train_test_split(data_m.values, y, test_size=0.2, random_state=0)\n",
    "\n",
    "# Learn to predict each class against the other\n",
    "classifier = OneVsRestClassifier(svm.SVC(kernel='linear', probability=True,\n",
    "                                 random_state=0))\n",
    "y_score = classifier.fit(X_train, y_train).decision_function(X_test)\n",
    "\n",
    "# Compute ROC curve and ROC area for each class\n",
    "fpr = dict()\n",
    "tpr = dict()\n",
    "roc_auc = dict()\n",
    "\n",
    "for i in range(n_classes):\n",
    "    fpr[i], tpr[i], _ = roc_curve(y_test[:, i], y_score[:, i])\n",
    "    roc_auc[i] = auc(fpr[i], tpr[i])\n",
    "\n",
    "# Compute micro-average ROC curve and ROC area\n",
    "fpr[\"micro\"], tpr[\"micro\"], _ = roc_curve(y_test.ravel(), y_score.ravel())\n",
    "roc_auc[\"micro\"] = auc(fpr[\"micro\"], tpr[\"micro\"])"
   ]
  },
  {
   "cell_type": "code",
   "execution_count": null,
   "metadata": {},
   "outputs": [],
   "source": []
  }
 ],
 "metadata": {
  "kernelspec": {
   "display_name": "Python 3",
   "language": "python",
   "name": "python3"
  },
  "language_info": {
   "codemirror_mode": {
    "name": "ipython",
    "version": 3
   },
   "file_extension": ".py",
   "mimetype": "text/x-python",
   "name": "python",
   "nbconvert_exporter": "python",
   "pygments_lexer": "ipython3",
   "version": "3.6.6"
  }
 },
 "nbformat": 4,
 "nbformat_minor": 2
}
