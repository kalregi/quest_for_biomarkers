{
 "cells": [
  {
   "cell_type": "code",
   "execution_count": 115,
   "metadata": {},
   "outputs": [],
   "source": [
    "import pandas as pd\n",
    "import os\n",
    "import seaborn as sns\n",
    "#from skbio.diversity import alpha_diversity\n",
    "#from skbio.diversity import beta_diversity\n",
    "#from skbio import TreeNode\n",
    "from io import StringIO\n",
    "#from skbio.stats.ordination import pcoa\n",
    "from skbio.stats.composition import ancom\n",
    "import math\n",
    "from skbio.stats.composition import multiplicative_replacement"
   ]
  },
  {
   "cell_type": "code",
   "execution_count": 2,
   "metadata": {},
   "outputs": [],
   "source": [
    "import cx_Oracle\n",
    "\n",
    "SERVER = 'dboracle.itk.ppke.hu'\n",
    "PORT = 1521\n",
    "SERVICE = 'rsc.itk.ppke.hu'\n",
    "USER = 'metagenome'\n",
    "PASSWORD = 'LrJPRUS73r84'\n",
    "\n",
    "class Connection():\n",
    "\n",
    "    def __init__(self):\n",
    "        dsn_tns = cx_Oracle.makedsn(SERVER, PORT, service_name=SERVICE)\n",
    "        self.connection = cx_Oracle.connect(USER, PASSWORD, dsn_tns)\n",
    "\n",
    "    def get_connection(self):\n",
    "        return self.connection\n",
    "\n",
    "    def select(self, sql):\n",
    "        return pd.read_sql(sql, con=self.connection)\n",
    "\n",
    "con = Connection()"
   ]
  },
  {
   "cell_type": "code",
   "execution_count": null,
   "metadata": {},
   "outputs": [],
   "source": []
  },
  {
   "cell_type": "code",
   "execution_count": 3,
   "metadata": {},
   "outputs": [],
   "source": [
    "def get_read_count(dataset_name, sample_id):\n",
    "    SQL = \"\"\"\n",
    "    select\n",
    "        DATASET_NAME,\n",
    "        NCBI_ACCESSION,\n",
    "        NUMBER_READS\n",
    "    from METADATA\n",
    "    where dataset_name = '{DATASET_NAME}'\n",
    "    and NCBI_ACCESSION like '%{SAMPLE_ID}%'\n",
    "    \"\"\".replace(\"{DATASET_NAME}\",dataset_name).replace(\"{SAMPLE_ID}\",sample_id)\n",
    "    df = con.select(SQL)\n",
    "    return int(df.NUMBER_READS)"
   ]
  },
  {
   "cell_type": "code",
   "execution_count": 4,
   "metadata": {},
   "outputs": [
    {
     "data": {
      "text/plain": [
       "77841428"
      ]
     },
     "execution_count": 4,
     "metadata": {},
     "output_type": "execute_result"
    }
   ],
   "source": [
    "get_read_count(\"RampelliS_2015\", \"SRR1930123\")"
   ]
  },
  {
   "cell_type": "code",
   "execution_count": 7,
   "metadata": {},
   "outputs": [
    {
     "name": "stdout",
     "output_type": "stream",
     "text": [
      "['//gfs/data/curated_metagenomes_kraken2/RampelliS_2015.csv', '//gfs/data/curated_metagenomes_kraken2/AsnicarF_2017.csv', '//gfs/data/curated_metagenomes_kraken2/ChngKR_2016.csv', '//gfs/data/curated_metagenomes_kraken2/FengQ_2015.csv', '//gfs/data/curated_metagenomes_kraken2/Heitz-BuschartA_2016.csv', '//gfs/data/curated_metagenomes_kraken2/KarlssonFH_2013.csv', '//gfs/data/curated_metagenomes_kraken2/LeChatelierE_2013.csv', '//gfs/data/curated_metagenomes_kraken2/LiuW_2016.csv', '//gfs/data/curated_metagenomes_kraken2/LomanNJ_2013.csv', '//gfs/data/curated_metagenomes_kraken2/Obregon-TitoAJ_2015.csv', '//gfs/data/curated_metagenomes_kraken2/QinJ_2012.csv', '//gfs/data/curated_metagenomes_kraken2/QinN_2014.csv', '//gfs/data/curated_metagenomes_kraken2/SchirmerM_2016.csv', '//gfs/data/curated_metagenomes_kraken2/VatanenT_2016.csv', '//gfs/data/curated_metagenomes_kraken2/VogtmannE_2016.csv', '//gfs/data/curated_metagenomes_kraken2/XieH_2016.csv', '//gfs/data/curated_metagenomes_kraken2/YuJ_2015.csv', '//gfs/data/curated_metagenomes_kraken2/ZellerG_2014.csv']\n"
     ]
    }
   ],
   "source": [
    "path_kraken = '//gfs/data/curated_metagenomes_kraken2/'\n",
    "\n",
    "files_kraken = []\n",
    "# r=root, d=directories, f = files\n",
    "for r, d, f in os.walk(path_kraken):\n",
    "    for file in f:\n",
    "        if '.csv' in file:\n",
    "            files_kraken.append(os.path.join(path_kraken, file))\n",
    "print(files_kraken)"
   ]
  },
  {
   "cell_type": "code",
   "execution_count": 47,
   "metadata": {},
   "outputs": [
    {
     "name": "stdout",
     "output_type": "stream",
     "text": [
      "['//gfs/data/curated_metagenomes_metaphlan2/AsnicarF_2017.csv', '//gfs/data/curated_metagenomes_metaphlan2/ChngKR_2016.csv', '//gfs/data/curated_metagenomes_metaphlan2/FengQ_2015.csv']\n"
     ]
    }
   ],
   "source": [
    "path_metaphlan = '//gfs/data/curated_metagenomes_metaphlan2/'\n",
    "\n",
    "files_metaphlan = []\n",
    "# r=root, d=directories, f = files\n",
    "for r, d, f in os.walk(path_metaphlan):\n",
    "    for file in f:\n",
    "        if '.csv' in file:\n",
    "            files_metaphlan.append(os.path.join(path_metaphlan, file))\n",
    "print(files_metaphlan)"
   ]
  },
  {
   "cell_type": "code",
   "execution_count": 9,
   "metadata": {},
   "outputs": [],
   "source": [
    "def get_data_for_sample(path_to_file):\n",
    "    dataset = path_to_file.split('/')[-1]\n",
    "    df = pd.read_csv(path_to_file, delimiter = ',')\n",
    "    df['Dataset'] = dataset\n",
    "    df[\"Name\"] = [n.strip() for n in df[\"Name\"]]\n",
    "    return df"
   ]
  },
  {
   "cell_type": "code",
   "execution_count": 10,
   "metadata": {},
   "outputs": [],
   "source": [
    "class WrongRank(Exception):\n",
    "    def __init__(self, value):\n",
    "        self.value = value\n",
    "    def __str__(self):\n",
    "        return repr(self.value)"
   ]
  },
  {
   "cell_type": "code",
   "execution_count": 142,
   "metadata": {},
   "outputs": [],
   "source": [
    "def get_table_and_grouping(df_name, table_files, column_to_group='STUDY_CONDITION', rank='F', \n",
    "                           use_percent= True, percent=30, group=None):\n",
    "\n",
    "    for file in table_files:\n",
    "        if df_name in file:\n",
    "            index = table_files.index(file)\n",
    "            \n",
    "    print(table_files[index])\n",
    "    df = get_data_for_sample(table_files[index])\n",
    "    \n",
    "    print(df.head())\n",
    "    \n",
    "    df_2 = df.loc[df['Rank'] == rank]\n",
    "    if len(df_2) == 0:\n",
    "        raise WrongRank(rank)\n",
    "    \n",
    "    df_2 = df_2[['Sample_ID', 'Name', 'Abundance', column_to_group]]\n",
    "    df_2 = df_2.loc[[i == i for i in df_2[column_to_group]]]\n",
    "    print(df_2.columns)\n",
    "    if group is not None:\n",
    "        df_2[column_to_group] = [group if group in v else \"Control\" for v in df_2[column_to_group]]\n",
    "    \n",
    "    print(\"Groups:\", df_2[column_to_group].drop_duplicates())\n",
    "                   \n",
    "    table = df_2.pivot(index='Sample_ID', columns='Name', values='Abundance')\n",
    "    \n",
    "    # Dropping sparse columns\n",
    "    if use_percent:\n",
    "        counts = {}\n",
    "        to_drop = []\n",
    "        for column in table.columns:\n",
    "            counts[column] = table[column].loc[table[column].notnull()].count() + table[column].loc[table[column] != 0].count()\n",
    "            \n",
    "            if counts[column] < table.shape[1]/100*percent:\n",
    "                to_drop.append(column)\n",
    "        table = table.drop(columns = to_drop)\n",
    "    \n",
    "    print(\"Shape of table:\", table.shape)\n",
    "    \n",
    "    # Handling remaining Nan values and zero values: pseudo-count = 1, \n",
    "    #abundance calcuated: 1/read_count*100\n",
    "    \n",
    "    def get_abudance_percent_for_zeros(row):\n",
    "        read_count = get_read_count(df_name, row.name)\n",
    "        for col in row.keys():\n",
    "            if math.isnan(row[col]) or row[col] == 0:\n",
    "                #row[col] = 1/read_count*100\n",
    "                row[col] = 1\n",
    "            else:\n",
    "                row[col] = row[col]/100*read_count + 1\n",
    "        return row    \n",
    "    \n",
    "    table = table.fillna(0)\n",
    "    #table = table.apply(get_abudance_percent_for_zeros, axis=1)\n",
    "    table_repl = pd.DataFrame(multiplicative_replacement(table.values),\n",
    "                      index=table.index,\n",
    "                      columns=table.columns)\n",
    "    \n",
    "    # NOT GOOD: \n",
    "    #table = table.fillna(1)\n",
    "    \n",
    "    grouping = df_2[['Sample_ID', column_to_group]].drop_duplicates()\n",
    "    grouping.index = grouping[\"Sample_ID\"]\n",
    "    grouping = grouping.drop(columns = [\"Sample_ID\"])\n",
    "    \n",
    "    grouping_ser = grouping[column_to_group]\n",
    "    results = ancom(table_repl, grouping_ser)\n",
    "    return results"
   ]
  },
  {
   "cell_type": "code",
   "execution_count": 23,
   "metadata": {},
   "outputs": [],
   "source": [
    "def analyse(dataset_name, table_files, column_to_group = \"STUDY_CONDITION\", rank='F', \n",
    "            use_percent = False, percent=30, group=None):\n",
    "    result_df, percentile_df = get_table_and_grouping(dataset_name, table_files,\n",
    "                                                  column_to_group,\n",
    "                                                  rank, use_percent, percent, group)\n",
    "    differences = list(result_df.loc[[i for i in result_df[\"Reject null hypothesis\"]]].index)\n",
    "    print(\"------------------- RESULTS ------------------- \")\n",
    "    df_list = []\n",
    "    for d in differences:\n",
    "        print(percentile_df[50.0].loc[d])\n",
    "        df = pd.DataFrame(percentile_df[50.0].loc[d])\n",
    "        df_list.append(df.transpose())\n",
    "    try:\n",
    "        df_dataset = pd.concat(df_list)\n",
    "    except:\n",
    "        return differences\n",
    "    \n",
    "    unpivot = pd.DataFrame(df_dataset.unstack(level=1))\n",
    "    unpivot = unpivot.reset_index()\n",
    "    unpivot[\"Abundance\"] = unpivot[0]\n",
    "    unpivot[\"Name\"] = unpivot['level_1']\n",
    "    unpivot = unpivot.drop(columns=[0, 'level_1'])\n",
    "    \n",
    "    g = sns.catplot(x=\"Name\", y=\"Abundance\", hue=\"Group\", data=unpivot,\n",
    "                kind=\"bar\", palette=\"muted\")\n",
    "    return result_df, percentile_df, unpivot"
   ]
  },
  {
   "cell_type": "code",
   "execution_count": 51,
   "metadata": {},
   "outputs": [
    {
     "name": "stdout",
     "output_type": "stream",
     "text": [
      "//gfs/data/curated_metagenomes_kraken2/FengQ_2015.csv\n",
      "   Unnamed: 0  Sample_ID         Dataset Rank                 Name  Abundance  \\\n",
      "0           0  ERR688526  FengQ_2015.csv    U         unclassified      70.88   \n",
      "1           1  ERR688526  FengQ_2015.csv    R                 root      29.12   \n",
      "2           2  ERR688526  FengQ_2015.csv   R1   cellular organisms      29.11   \n",
      "3           3  ERR688526  FengQ_2015.csv    D             Bacteria      29.05   \n",
      "4           4  ERR688526  FengQ_2015.csv   D1  Terrabacteria group      25.38   \n",
      "\n",
      "  STUDY_CONDITION BODY_SITE SUBJECTID COUNTRY              DISEASE  AGE  \\\n",
      "0         adenoma     stool  SID31282     AUT  adenoma;fatty_liver   63   \n",
      "1         adenoma     stool  SID31282     AUT  adenoma;fatty_liver   63   \n",
      "2         adenoma     stool  SID31282     AUT  adenoma;fatty_liver   63   \n",
      "3         adenoma     stool  SID31282     AUT  adenoma;fatty_liver   63   \n",
      "4         adenoma     stool  SID31282     AUT  adenoma;fatty_liver   63   \n",
      "\n",
      "  AGE_CATEGORY  \n",
      "0        adult  \n",
      "1        adult  \n",
      "2        adult  \n",
      "3        adult  \n",
      "4        adult  \n",
      "Groups: 3\n",
      "Shape of table: (154, 1191)\n",
      "------------------- RESULTS ------------------- \n",
      "Group\n",
      "CRC        0.000002\n",
      "adenoma    0.000002\n",
      "control    0.000002\n",
      "Name: Gemella, dtype: float64\n",
      "Group\n",
      "CRC        0.000002\n",
      "adenoma    0.000002\n",
      "control    0.000002\n",
      "Name: Parvimonas, dtype: float64\n",
      "Group\n",
      "CRC        0.010000\n",
      "adenoma    0.000002\n",
      "control    0.000002\n",
      "Name: Porphyromonas, dtype: float64\n"
     ]
    },
    {
     "data": {
      "image/png": "[encoded data removed]",
      "text/plain": [
       "<Figure size 442.75x360 with 1 Axes>"
      ]
     },
     "metadata": {
      "needs_background": "light"
     },
     "output_type": "display_data"
    }
   ],
   "source": [
    "x = df_dataset_ChngKR_2016_kraken = analyse(\"FengQ_2015\", table_files = files_kraken,\n",
    "                     column_to_group = \"STUDY_CONDITION\", rank='G', use_percent = True, percent=5)"
   ]
  },
  {
   "cell_type": "code",
   "execution_count": 52,
   "metadata": {},
   "outputs": [
    {
     "name": "stdout",
     "output_type": "stream",
     "text": [
      "//gfs/data/curated_metagenomes_metaphlan2/FengQ_2015.csv\n",
      "   Unnamed: 0  Sample_ID         Dataset Rank            Name  Abundance  \\\n",
      "0           0  ERR688526  FengQ_2015.csv    k        Bacteria   99.99747   \n",
      "1           1  ERR688526  FengQ_2015.csv    k         Viruses    0.00253   \n",
      "2           2  ERR688526  FengQ_2015.csv    p      Firmicutes   81.81372   \n",
      "3           3  ERR688526  FengQ_2015.csv    p  Actinobacteria   12.04277   \n",
      "4           4  ERR688526  FengQ_2015.csv    p   Bacteroidetes    4.97884   \n",
      "\n",
      "  STUDY_CONDITION BODY_SITE SUBJECTID COUNTRY              DISEASE  AGE  \\\n",
      "0         adenoma     stool  SID31282     AUT  adenoma;fatty_liver   63   \n",
      "1         adenoma     stool  SID31282     AUT  adenoma;fatty_liver   63   \n",
      "2         adenoma     stool  SID31282     AUT  adenoma;fatty_liver   63   \n",
      "3         adenoma     stool  SID31282     AUT  adenoma;fatty_liver   63   \n",
      "4         adenoma     stool  SID31282     AUT  adenoma;fatty_liver   63   \n",
      "\n",
      "  AGE_CATEGORY  \n",
      "0        adult  \n",
      "1        adult  \n",
      "2        adult  \n",
      "3        adult  \n",
      "4        adult  \n",
      "Groups: 3\n",
      "Shape of table: (154, 115)\n",
      "------------------- RESULTS ------------------- \n",
      "Group\n",
      "CRC        0.031335\n",
      "adenoma    0.000002\n",
      "control    0.000002\n",
      "Name: Prevotella, dtype: float64\n"
     ]
    },
    {
     "data": {
      "image/png": "[encoded data removed]",
      "text/plain": [
       "<Figure size 442.75x360 with 1 Axes>"
      ]
     },
     "metadata": {
      "needs_background": "light"
     },
     "output_type": "display_data"
    }
   ],
   "source": [
    "x = df_dataset_ChngKR_2016_kraken = analyse(\"FengQ_2015\", table_files = files_metaphlan,\n",
    "                     column_to_group = \"STUDY_CONDITION\", rank='g', use_percent = True, percent=5)"
   ]
  },
  {
   "cell_type": "code",
   "execution_count": 54,
   "metadata": {},
   "outputs": [
    {
     "name": "stdout",
     "output_type": "stream",
     "text": [
      "//gfs/data/curated_metagenomes_kraken2/FengQ_2015.csv\n",
      "   Unnamed: 0  Sample_ID         Dataset Rank                 Name  Abundance  \\\n",
      "0           0  ERR688526  FengQ_2015.csv    U         unclassified      70.88   \n",
      "1           1  ERR688526  FengQ_2015.csv    R                 root      29.12   \n",
      "2           2  ERR688526  FengQ_2015.csv   R1   cellular organisms      29.11   \n",
      "3           3  ERR688526  FengQ_2015.csv    D             Bacteria      29.05   \n",
      "4           4  ERR688526  FengQ_2015.csv   D1  Terrabacteria group      25.38   \n",
      "\n",
      "  STUDY_CONDITION BODY_SITE SUBJECTID COUNTRY              DISEASE  AGE  \\\n",
      "0         adenoma     stool  SID31282     AUT  adenoma;fatty_liver   63   \n",
      "1         adenoma     stool  SID31282     AUT  adenoma;fatty_liver   63   \n",
      "2         adenoma     stool  SID31282     AUT  adenoma;fatty_liver   63   \n",
      "3         adenoma     stool  SID31282     AUT  adenoma;fatty_liver   63   \n",
      "4         adenoma     stool  SID31282     AUT  adenoma;fatty_liver   63   \n",
      "\n",
      "  AGE_CATEGORY  \n",
      "0        adult  \n",
      "1        adult  \n",
      "2        adult  \n",
      "3        adult  \n",
      "4        adult  \n",
      "Groups: 3\n",
      "Shape of table: (154, 3576)\n",
      "------------------- RESULTS ------------------- \n",
      "Group\n",
      "CRC        0.000002\n",
      "adenoma    0.000002\n",
      "control    0.000002\n",
      "Name: Fusobacterium nucleatum, dtype: float64\n",
      "Group\n",
      "CRC        0.000002\n",
      "adenoma    0.000002\n",
      "control    0.000002\n",
      "Name: Parvimonas micra, dtype: float64\n",
      "Group\n",
      "CRC        0.000002\n",
      "adenoma    0.000002\n",
      "control    0.000002\n",
      "Name: Porphyromonas asaccharolytica, dtype: float64\n"
     ]
    },
    {
     "data": {
      "image/png": "[encoded data removed]",
      "text/plain": [
       "<Figure size 442.75x360 with 1 Axes>"
      ]
     },
     "metadata": {
      "needs_background": "light"
     },
     "output_type": "display_data"
    }
   ],
   "source": [
    "x = df_dataset_ChngKR_2016_kraken = analyse(\"FengQ_2015\", table_files = files_kraken,\n",
    "                     column_to_group = \"STUDY_CONDITION\", rank='S', use_percent = True, percent=2)"
   ]
  },
  {
   "cell_type": "code",
   "execution_count": 55,
   "metadata": {},
   "outputs": [
    {
     "name": "stdout",
     "output_type": "stream",
     "text": [
      "//gfs/data/curated_metagenomes_metaphlan2/FengQ_2015.csv\n",
      "   Unnamed: 0  Sample_ID         Dataset Rank            Name  Abundance  \\\n",
      "0           0  ERR688526  FengQ_2015.csv    k        Bacteria   99.99747   \n",
      "1           1  ERR688526  FengQ_2015.csv    k         Viruses    0.00253   \n",
      "2           2  ERR688526  FengQ_2015.csv    p      Firmicutes   81.81372   \n",
      "3           3  ERR688526  FengQ_2015.csv    p  Actinobacteria   12.04277   \n",
      "4           4  ERR688526  FengQ_2015.csv    p   Bacteroidetes    4.97884   \n",
      "\n",
      "  STUDY_CONDITION BODY_SITE SUBJECTID COUNTRY              DISEASE  AGE  \\\n",
      "0         adenoma     stool  SID31282     AUT  adenoma;fatty_liver   63   \n",
      "1         adenoma     stool  SID31282     AUT  adenoma;fatty_liver   63   \n",
      "2         adenoma     stool  SID31282     AUT  adenoma;fatty_liver   63   \n",
      "3         adenoma     stool  SID31282     AUT  adenoma;fatty_liver   63   \n",
      "4         adenoma     stool  SID31282     AUT  adenoma;fatty_liver   63   \n",
      "\n",
      "  AGE_CATEGORY  \n",
      "0        adult  \n",
      "1        adult  \n",
      "2        adult  \n",
      "3        adult  \n",
      "4        adult  \n",
      "Groups: 3\n",
      "Shape of table: (154, 275)\n",
      "------------------- RESULTS ------------------- \n",
      "Group\n",
      "CRC        0.014295\n",
      "adenoma    0.000002\n",
      "control    0.000002\n",
      "Name: Prevotella_copri, dtype: float64\n"
     ]
    },
    {
     "data": {
      "image/png": "[encoded data removed]",
      "text/plain": [
       "<Figure size 442.75x360 with 1 Axes>"
      ]
     },
     "metadata": {
      "needs_background": "light"
     },
     "output_type": "display_data"
    }
   ],
   "source": [
    "x = df_dataset_ChngKR_2016_kraken = analyse(\"FengQ_2015\", table_files = files_metaphlan,\n",
    "                     column_to_group = \"STUDY_CONDITION\", rank='s', use_percent = True, percent=2)"
   ]
  },
  {
   "cell_type": "code",
   "execution_count": 67,
   "metadata": {},
   "outputs": [
    {
     "name": "stdout",
     "output_type": "stream",
     "text": [
      "//gfs/data/curated_metagenomes_kraken2/ChngKR_2016.csv\n",
      "   Unnamed: 0   Sample_ID          Dataset Rank                Name  \\\n",
      "0           0  SRR1950714  ChngKR_2016.csv    U        unclassified   \n",
      "1           1  SRR1950714  ChngKR_2016.csv    R                root   \n",
      "2           2  SRR1950714  ChngKR_2016.csv   R1  cellular organisms   \n",
      "3           3  SRR1950714  ChngKR_2016.csv    D           Eukaryota   \n",
      "4           4  SRR1950714  ChngKR_2016.csv   D1        Opisthokonta   \n",
      "\n",
      "   Abundance STUDY_CONDITION BODY_SITE SUBJECTID COUNTRY DISEASE  AGE  \\\n",
      "0      17.79         control      skin      Sub1     IDN    none   30   \n",
      "1      82.21         control      skin      Sub1     IDN    none   30   \n",
      "2      82.14         control      skin      Sub1     IDN    none   30   \n",
      "3      68.55         control      skin      Sub1     IDN    none   30   \n",
      "4      68.55         control      skin      Sub1     IDN    none   30   \n",
      "\n",
      "  AGE_CATEGORY  \n",
      "0        adult  \n",
      "1        adult  \n",
      "2        adult  \n",
      "3        adult  \n",
      "4        adult  \n",
      "Index(['Sample_ID', 'Name', 'Abundance', 'STUDY_CONDITION'], dtype='object')\n",
      "Groups: 9         control\n",
      "151256         AD\n",
      "Name: STUDY_CONDITION, dtype: object\n",
      "Shape of table: (78, 42)\n",
      "------------------- RESULTS ------------------- \n",
      "Group\n",
      "AD         1134.3050\n",
      "control    1945.6999\n",
      "Name: Cyanobacteria, dtype: float64\n",
      "Group\n",
      "AD         1211.9078\n",
      "control    3683.0661\n",
      "Name: Deinococcus-Thermus, dtype: float64\n",
      "Group\n",
      "AD         3930.3742\n",
      "control    1790.1732\n",
      "Name: Fusobacteria, dtype: float64\n"
     ]
    },
    {
     "data": {
      "image/png": "[encoded data removed]",
      "text/plain": [
       "<Figure size 430.75x360 with 1 Axes>"
      ]
     },
     "metadata": {
      "needs_background": "light"
     },
     "output_type": "display_data"
    }
   ],
   "source": [
    "df_dataset_ChngKR_2016_kraken = analyse(\"ChngKR_2016\", table_files = files_kraken,\n",
    "                     column_to_group = \"STUDY_CONDITION\", rank='P')"
   ]
  },
  {
   "cell_type": "code",
   "execution_count": 68,
   "metadata": {},
   "outputs": [
    {
     "name": "stdout",
     "output_type": "stream",
     "text": [
      "//gfs/data/curated_metagenomes_kraken2/FengQ_2015.csv\n",
      "   Unnamed: 0  Sample_ID         Dataset Rank                 Name  Abundance  \\\n",
      "0           0  ERR688526  FengQ_2015.csv    U         unclassified      70.88   \n",
      "1           1  ERR688526  FengQ_2015.csv    R                 root      29.12   \n",
      "2           2  ERR688526  FengQ_2015.csv   R1   cellular organisms      29.11   \n",
      "3           3  ERR688526  FengQ_2015.csv    D             Bacteria      29.05   \n",
      "4           4  ERR688526  FengQ_2015.csv   D1  Terrabacteria group      25.38   \n",
      "\n",
      "  STUDY_CONDITION BODY_SITE SUBJECTID COUNTRY              DISEASE  AGE  \\\n",
      "0         adenoma     stool  SID31282     AUT  adenoma;fatty_liver   63   \n",
      "1         adenoma     stool  SID31282     AUT  adenoma;fatty_liver   63   \n",
      "2         adenoma     stool  SID31282     AUT  adenoma;fatty_liver   63   \n",
      "3         adenoma     stool  SID31282     AUT  adenoma;fatty_liver   63   \n",
      "4         adenoma     stool  SID31282     AUT  adenoma;fatty_liver   63   \n",
      "\n",
      "  AGE_CATEGORY  \n",
      "0        adult  \n",
      "1        adult  \n",
      "2        adult  \n",
      "3        adult  \n",
      "4        adult  \n",
      "Index(['Sample_ID', 'Name', 'Abundance', 'STUDY_CONDITION'], dtype='object')\n",
      "Groups: 5        adenoma\n",
      "15714    control\n",
      "23059        CRC\n",
      "Name: STUDY_CONDITION, dtype: object\n",
      "Shape of table: (154, 42)\n",
      "------------------- RESULTS ------------------- \n",
      "Group\n",
      "CRC        2.674047e+06\n",
      "adenoma    1.212871e+06\n",
      "control    6.899347e+05\n",
      "Name: Bacteroidetes, dtype: float64\n"
     ]
    },
    {
     "data": {
      "image/png": "[encoded data removed]",
      "text/plain": [
       "<Figure size 442.75x360 with 1 Axes>"
      ]
     },
     "metadata": {
      "needs_background": "light"
     },
     "output_type": "display_data"
    }
   ],
   "source": [
    "df_dataset_ChngKR_2016_kraken = analyse(\"FengQ_2015\", table_files = files_kraken,\n",
    "                     column_to_group = \"STUDY_CONDITION\", rank='P')"
   ]
  },
  {
   "cell_type": "code",
   "execution_count": 138,
   "metadata": {},
   "outputs": [
    {
     "name": "stdout",
     "output_type": "stream",
     "text": [
      "//gfs/data/curated_metagenomes_metaphlan2/FengQ_2015.csv\n",
      "   Unnamed: 0  Sample_ID         Dataset Rank            Name  Abundance  \\\n",
      "0           0  ERR688526  FengQ_2015.csv    k        Bacteria   99.99747   \n",
      "1           1  ERR688526  FengQ_2015.csv    k         Viruses    0.00253   \n",
      "2           2  ERR688526  FengQ_2015.csv    p      Firmicutes   81.81372   \n",
      "3           3  ERR688526  FengQ_2015.csv    p  Actinobacteria   12.04277   \n",
      "4           4  ERR688526  FengQ_2015.csv    p   Bacteroidetes    4.97884   \n",
      "\n",
      "  STUDY_CONDITION BODY_SITE SUBJECTID COUNTRY              DISEASE  AGE  \\\n",
      "0         adenoma     stool  SID31282     AUT  adenoma;fatty_liver   63   \n",
      "1         adenoma     stool  SID31282     AUT  adenoma;fatty_liver   63   \n",
      "2         adenoma     stool  SID31282     AUT  adenoma;fatty_liver   63   \n",
      "3         adenoma     stool  SID31282     AUT  adenoma;fatty_liver   63   \n",
      "4         adenoma     stool  SID31282     AUT  adenoma;fatty_liver   63   \n",
      "\n",
      "  AGE_CATEGORY  \n",
      "0        adult  \n",
      "1        adult  \n",
      "2        adult  \n",
      "3        adult  \n",
      "4        adult  \n",
      "Index(['Sample_ID', 'Name', 'Abundance', 'STUDY_CONDITION'], dtype='object')\n",
      "Groups: 2      adenoma\n",
      "586    control\n",
      "894        CRC\n",
      "Name: STUDY_CONDITION, dtype: object\n",
      "Shape of table: (154, 13)\n",
      "------------------- RESULTS ------------------- \n",
      "Group\n",
      "CRC        0.101506\n",
      "adenoma    0.047726\n",
      "control    0.025876\n",
      "Name: Bacteroidetes, dtype: float64\n",
      "Group\n",
      "CRC        0.534537\n",
      "adenoma    0.662380\n",
      "control    0.685157\n",
      "Name: Firmicutes, dtype: float64\n",
      "Group\n",
      "CRC        0.005917\n",
      "adenoma    0.005917\n",
      "control    0.005917\n",
      "Name: Fusobacteria, dtype: float64\n",
      "Group\n",
      "CRC        0.011444\n",
      "adenoma    0.002799\n",
      "control    0.005008\n",
      "Name: Proteobacteria, dtype: float64\n"
     ]
    },
    {
     "data": {
      "image/png": "[encoded data removed]",
      "text/plain": [
       "<Figure size 442.75x360 with 1 Axes>"
      ]
     },
     "metadata": {
      "needs_background": "light"
     },
     "output_type": "display_data"
    }
   ],
   "source": [
    "df_dataset_ChngKR_2016_kraken = analyse(\"FengQ_2015\", table_files = files_metaphlan,\n",
    "                     column_to_group = \"STUDY_CONDITION\", rank='p')"
   ]
  },
  {
   "cell_type": "code",
   "execution_count": 144,
   "metadata": {},
   "outputs": [
    {
     "name": "stdout",
     "output_type": "stream",
     "text": [
      "//gfs/data/curated_metagenomes_kraken2/FengQ_2015.csv\n",
      "   Unnamed: 0  Sample_ID         Dataset Rank                 Name  Abundance  \\\n",
      "0           0  ERR688526  FengQ_2015.csv    U         unclassified      70.88   \n",
      "1           1  ERR688526  FengQ_2015.csv    R                 root      29.12   \n",
      "2           2  ERR688526  FengQ_2015.csv   R1   cellular organisms      29.11   \n",
      "3           3  ERR688526  FengQ_2015.csv    D             Bacteria      29.05   \n",
      "4           4  ERR688526  FengQ_2015.csv   D1  Terrabacteria group      25.38   \n",
      "\n",
      "  STUDY_CONDITION BODY_SITE SUBJECTID COUNTRY              DISEASE  AGE  \\\n",
      "0         adenoma     stool  SID31282     AUT  adenoma;fatty_liver   63   \n",
      "1         adenoma     stool  SID31282     AUT  adenoma;fatty_liver   63   \n",
      "2         adenoma     stool  SID31282     AUT  adenoma;fatty_liver   63   \n",
      "3         adenoma     stool  SID31282     AUT  adenoma;fatty_liver   63   \n",
      "4         adenoma     stool  SID31282     AUT  adenoma;fatty_liver   63   \n",
      "\n",
      "  AGE_CATEGORY  \n",
      "0        adult  \n",
      "1        adult  \n",
      "2        adult  \n",
      "3        adult  \n",
      "4        adult  \n",
      "Index(['Sample_ID', 'Name', 'Abundance', 'STUDY_CONDITION'], dtype='object')\n",
      "Groups: 15       adenoma\n",
      "15718    control\n",
      "23063        CRC\n",
      "Name: STUDY_CONDITION, dtype: object\n",
      "Shape of table: (154, 152)\n",
      "------------------- RESULTS ------------------- \n",
      "Group\n",
      "CRC        0.000261\n",
      "adenoma    0.000043\n",
      "control    0.000043\n",
      "Name: Porphyromonas, dtype: float64\n"
     ]
    },
    {
     "data": {
      "image/png": "[encoded data removed]",
      "text/plain": [
       "<Figure size 442.75x360 with 1 Axes>"
      ]
     },
     "metadata": {
      "needs_background": "light"
     },
     "output_type": "display_data"
    }
   ],
   "source": [
    "df_dataset_ChngKR_2016_kraken = analyse(\"FengQ_2015\", table_files = files_kraken,\n",
    "                     column_to_group = \"STUDY_CONDITION\", rank='G', use_percent= True, percent=10)"
   ]
  },
  {
   "cell_type": "code",
   "execution_count": 77,
   "metadata": {},
   "outputs": [
    {
     "name": "stdout",
     "output_type": "stream",
     "text": [
      "//gfs/data/curated_metagenomes_metaphlan2/FengQ_2015.csv\n",
      "   Unnamed: 0  Sample_ID         Dataset Rank            Name  Abundance  \\\n",
      "0           0  ERR688526  FengQ_2015.csv    k        Bacteria   99.99747   \n",
      "1           1  ERR688526  FengQ_2015.csv    k         Viruses    0.00253   \n",
      "2           2  ERR688526  FengQ_2015.csv    p      Firmicutes   81.81372   \n",
      "3           3  ERR688526  FengQ_2015.csv    p  Actinobacteria   12.04277   \n",
      "4           4  ERR688526  FengQ_2015.csv    p   Bacteroidetes    4.97884   \n",
      "\n",
      "  STUDY_CONDITION BODY_SITE SUBJECTID COUNTRY              DISEASE  AGE  \\\n",
      "0         adenoma     stool  SID31282     AUT  adenoma;fatty_liver   63   \n",
      "1         adenoma     stool  SID31282     AUT  adenoma;fatty_liver   63   \n",
      "2         adenoma     stool  SID31282     AUT  adenoma;fatty_liver   63   \n",
      "3         adenoma     stool  SID31282     AUT  adenoma;fatty_liver   63   \n",
      "4         adenoma     stool  SID31282     AUT  adenoma;fatty_liver   63   \n",
      "\n",
      "  AGE_CATEGORY  \n",
      "0        adult  \n",
      "1        adult  \n",
      "2        adult  \n",
      "3        adult  \n",
      "4        adult  \n",
      "Index(['Sample_ID', 'Name', 'Abundance', 'STUDY_CONDITION'], dtype='object')\n",
      "Groups: 59     adenoma\n",
      "649    control\n",
      "955        CRC\n",
      "Name: STUDY_CONDITION, dtype: object\n",
      "Shape of table: (154, 115)\n",
      "------------------- RESULTS ------------------- \n",
      "Group\n",
      "CRC        21833.816971\n",
      "adenoma        1.000000\n",
      "control        1.000000\n",
      "Name: Prevotella, dtype: float64\n"
     ]
    },
    {
     "data": {
      "image/png": "[encoded data removed]",
      "text/plain": [
       "<Figure size 442.75x360 with 1 Axes>"
      ]
     },
     "metadata": {
      "needs_background": "light"
     },
     "output_type": "display_data"
    }
   ],
   "source": [
    "df_dataset_ChngKR_2016_kraken = analyse(\"FengQ_2015\", table_files = files_metaphlan,\n",
    "                     column_to_group = \"STUDY_CONDITION\", rank='g', use_percent= True, percent=5)"
   ]
  },
  {
   "cell_type": "code",
   "execution_count": 91,
   "metadata": {},
   "outputs": [
    {
     "name": "stdout",
     "output_type": "stream",
     "text": [
      "//gfs/data/curated_metagenomes_kraken2/FengQ_2015.csv\n",
      "   Unnamed: 0  Sample_ID         Dataset Rank                 Name  Abundance  \\\n",
      "0           0  ERR688526  FengQ_2015.csv    U         unclassified      70.88   \n",
      "1           1  ERR688526  FengQ_2015.csv    R                 root      29.12   \n",
      "2           2  ERR688526  FengQ_2015.csv   R1   cellular organisms      29.11   \n",
      "3           3  ERR688526  FengQ_2015.csv    D             Bacteria      29.05   \n",
      "4           4  ERR688526  FengQ_2015.csv   D1  Terrabacteria group      25.38   \n",
      "\n",
      "  STUDY_CONDITION BODY_SITE SUBJECTID COUNTRY              DISEASE  AGE  \\\n",
      "0         adenoma     stool  SID31282     AUT  adenoma;fatty_liver   63   \n",
      "1         adenoma     stool  SID31282     AUT  adenoma;fatty_liver   63   \n",
      "2         adenoma     stool  SID31282     AUT  adenoma;fatty_liver   63   \n",
      "3         adenoma     stool  SID31282     AUT  adenoma;fatty_liver   63   \n",
      "4         adenoma     stool  SID31282     AUT  adenoma;fatty_liver   63   \n",
      "\n",
      "  AGE_CATEGORY  \n",
      "0        adult  \n",
      "1        adult  \n",
      "2        adult  \n",
      "3        adult  \n",
      "4        adult  \n",
      "Index(['Sample_ID', 'Name', 'Abundance', 'STUDY_CONDITION'], dtype='object')\n",
      "Groups: 10       adenoma\n",
      "15719    control\n",
      "23064        CRC\n",
      "Name: STUDY_CONDITION, dtype: object\n",
      "Shape of table: (154, 1655)\n",
      "------------------- RESULTS ------------------- \n",
      "Group\n",
      "CRC        1.0\n",
      "adenoma    1.0\n",
      "control    1.0\n",
      "Name: Fusobacterium nucleatum, dtype: float64\n",
      "Group\n",
      "CRC        1.0\n",
      "adenoma    1.0\n",
      "control    1.0\n",
      "Name: Parvimonas micra, dtype: float64\n",
      "Group\n",
      "CRC        5679.46865\n",
      "adenoma       1.00000\n",
      "control       1.00000\n",
      "Name: Prevotella intermedia, dtype: float64\n"
     ]
    },
    {
     "data": {
      "image/png": "[encoded data removed]",
      "text/plain": [
       "<Figure size 442.75x360 with 1 Axes>"
      ]
     },
     "metadata": {
      "needs_background": "light"
     },
     "output_type": "display_data"
    }
   ],
   "source": [
    "df_dataset_ChngKR_2016_kraken = analyse(\"FengQ_2015\", table_files = files_kraken,\n",
    "                     column_to_group = \"STUDY_CONDITION\", rank='S', use_percent = True, percent=2.65555)"
   ]
  },
  {
   "cell_type": "code",
   "execution_count": 79,
   "metadata": {},
   "outputs": [
    {
     "name": "stdout",
     "output_type": "stream",
     "text": [
      "//gfs/data/curated_metagenomes_metaphlan2/FengQ_2015.csv\n",
      "   Unnamed: 0  Sample_ID         Dataset Rank            Name  Abundance  \\\n",
      "0           0  ERR688526  FengQ_2015.csv    k        Bacteria   99.99747   \n",
      "1           1  ERR688526  FengQ_2015.csv    k         Viruses    0.00253   \n",
      "2           2  ERR688526  FengQ_2015.csv    p      Firmicutes   81.81372   \n",
      "3           3  ERR688526  FengQ_2015.csv    p  Actinobacteria   12.04277   \n",
      "4           4  ERR688526  FengQ_2015.csv    p   Bacteroidetes    4.97884   \n",
      "\n",
      "  STUDY_CONDITION BODY_SITE SUBJECTID COUNTRY              DISEASE  AGE  \\\n",
      "0         adenoma     stool  SID31282     AUT  adenoma;fatty_liver   63   \n",
      "1         adenoma     stool  SID31282     AUT  adenoma;fatty_liver   63   \n",
      "2         adenoma     stool  SID31282     AUT  adenoma;fatty_liver   63   \n",
      "3         adenoma     stool  SID31282     AUT  adenoma;fatty_liver   63   \n",
      "4         adenoma     stool  SID31282     AUT  adenoma;fatty_liver   63   \n",
      "\n",
      "  AGE_CATEGORY  \n",
      "0        adult  \n",
      "1        adult  \n",
      "2        adult  \n",
      "3        adult  \n",
      "4        adult  \n",
      "Index(['Sample_ID', 'Name', 'Abundance', 'STUDY_CONDITION'], dtype='object')\n",
      "Groups: 104     adenoma\n",
      "700     control\n",
      "1002        CRC\n",
      "Name: STUDY_CONDITION, dtype: object\n",
      "Shape of table: (154, 275)\n",
      "------------------- RESULTS ------------------- \n",
      "Group\n",
      "CRC        7825.020559\n",
      "adenoma       1.000000\n",
      "control       1.000000\n",
      "Name: Prevotella_copri, dtype: float64\n"
     ]
    },
    {
     "data": {
      "image/png": "[encoded data removed]",
      "text/plain": [
       "<Figure size 442.75x360 with 1 Axes>"
      ]
     },
     "metadata": {
      "needs_background": "light"
     },
     "output_type": "display_data"
    }
   ],
   "source": [
    "df_dataset_ChngKR_2016_kraken = analyse(\"FengQ_2015\", table_files = files_metaphlan,\n",
    "                     column_to_group = \"STUDY_CONDITION\", rank='s', use_percent = True, percent=2)"
   ]
  },
  {
   "cell_type": "code",
   "execution_count": 106,
   "metadata": {},
   "outputs": [
    {
     "name": "stdout",
     "output_type": "stream",
     "text": [
      "//gfs/data/curated_metagenomes_kraken2/FengQ_2015.csv\n",
      "   Unnamed: 0  Sample_ID         Dataset Rank                 Name  Abundance  \\\n",
      "0           0  ERR688526  FengQ_2015.csv    U         unclassified      70.88   \n",
      "1           1  ERR688526  FengQ_2015.csv    R                 root      29.12   \n",
      "2           2  ERR688526  FengQ_2015.csv   R1   cellular organisms      29.11   \n",
      "3           3  ERR688526  FengQ_2015.csv    D             Bacteria      29.05   \n",
      "4           4  ERR688526  FengQ_2015.csv   D1  Terrabacteria group      25.38   \n",
      "\n",
      "  STUDY_CONDITION BODY_SITE SUBJECTID COUNTRY              DISEASE  AGE  \\\n",
      "0         adenoma     stool  SID31282     AUT  adenoma;fatty_liver   63   \n",
      "1         adenoma     stool  SID31282     AUT  adenoma;fatty_liver   63   \n",
      "2         adenoma     stool  SID31282     AUT  adenoma;fatty_liver   63   \n",
      "3         adenoma     stool  SID31282     AUT  adenoma;fatty_liver   63   \n",
      "4         adenoma     stool  SID31282     AUT  adenoma;fatty_liver   63   \n",
      "\n",
      "  AGE_CATEGORY  \n",
      "0        adult  \n",
      "1        adult  \n",
      "2        adult  \n",
      "3        adult  \n",
      "4        adult  \n",
      "Index(['Sample_ID', 'Name', 'Abundance', 'STUDY_CONDITION'], dtype='object')\n",
      "Groups: 6        adenoma\n",
      "15715    control\n",
      "23060        CRC\n",
      "Name: STUDY_CONDITION, dtype: object\n",
      "Shape of table: (154, 81)\n",
      "------------------- RESULTS ------------------- \n",
      "Group\n",
      "CRC        2.621245e+06\n",
      "adenoma    1.169938e+06\n",
      "control    5.930994e+05\n",
      "Name: Bacteroidia, dtype: float64\n"
     ]
    },
    {
     "data": {
      "image/png": "[encoded data removed]",
      "text/plain": [
       "<Figure size 442.75x360 with 1 Axes>"
      ]
     },
     "metadata": {
      "needs_background": "light"
     },
     "output_type": "display_data"
    }
   ],
   "source": [
    "df_dataset_ChngKR_2016_kraken = analyse(\"FengQ_2015\", table_files = files_kraken,\n",
    "                     column_to_group = \"STUDY_CONDITION\", rank='C', use_percent = True, percent=30)"
   ]
  },
  {
   "cell_type": "code",
   "execution_count": 145,
   "metadata": {},
   "outputs": [
    {
     "name": "stdout",
     "output_type": "stream",
     "text": [
      "//gfs/data/curated_metagenomes_kraken2/FengQ_2015.csv\n",
      "   Unnamed: 0  Sample_ID         Dataset Rank                 Name  Abundance  \\\n",
      "0           0  ERR688526  FengQ_2015.csv    U         unclassified      70.88   \n",
      "1           1  ERR688526  FengQ_2015.csv    R                 root      29.12   \n",
      "2           2  ERR688526  FengQ_2015.csv   R1   cellular organisms      29.11   \n",
      "3           3  ERR688526  FengQ_2015.csv    D             Bacteria      29.05   \n",
      "4           4  ERR688526  FengQ_2015.csv   D1  Terrabacteria group      25.38   \n",
      "\n",
      "  STUDY_CONDITION BODY_SITE SUBJECTID COUNTRY              DISEASE  AGE  \\\n",
      "0         adenoma     stool  SID31282     AUT  adenoma;fatty_liver   63   \n",
      "1         adenoma     stool  SID31282     AUT  adenoma;fatty_liver   63   \n",
      "2         adenoma     stool  SID31282     AUT  adenoma;fatty_liver   63   \n",
      "3         adenoma     stool  SID31282     AUT  adenoma;fatty_liver   63   \n",
      "4         adenoma     stool  SID31282     AUT  adenoma;fatty_liver   63   \n",
      "\n",
      "  AGE_CATEGORY  \n",
      "0        adult  \n",
      "1        adult  \n",
      "2        adult  \n",
      "3        adult  \n",
      "4        adult  \n",
      "Index(['Sample_ID', 'Name', 'Abundance', 'STUDY_CONDITION'], dtype='object')\n",
      "Groups: 8        adenoma\n",
      "15717    control\n",
      "23062        CRC\n",
      "Name: STUDY_CONDITION, dtype: object\n",
      "Shape of table: (154, 371)\n",
      "------------------- RESULTS ------------------- \n",
      "Group\n",
      "CRC        0.000473\n",
      "adenoma    0.000007\n",
      "control    0.000007\n",
      "Name: Porphyromonadaceae, dtype: float64\n"
     ]
    },
    {
     "data": {
      "image/png": "[encoded data removed]",
      "text/plain": [
       "<Figure size 442.75x360 with 1 Axes>"
      ]
     },
     "metadata": {
      "needs_background": "light"
     },
     "output_type": "display_data"
    }
   ],
   "source": [
    "x = df_dataset_ChngKR_2016_kraken = analyse(\"FengQ_2015\", table_files = files_kraken,\n",
    "                     column_to_group = \"STUDY_CONDITION\", rank='F', use_percent = True, percent=30)"
   ]
  },
  {
   "cell_type": "code",
   "execution_count": 159,
   "metadata": {},
   "outputs": [
    {
     "data": {
      "text/html": [
       "<div>\n",
       "<style scoped>\n",
       "    .dataframe tbody tr th:only-of-type {\n",
       "        vertical-align: middle;\n",
       "    }\n",
       "\n",
       "    .dataframe tbody tr th {\n",
       "        vertical-align: top;\n",
       "    }\n",
       "\n",
       "    .dataframe thead th {\n",
       "        text-align: right;\n",
       "    }\n",
       "</style>\n",
       "<table border=\"1\" class=\"dataframe\">\n",
       "  <thead>\n",
       "    <tr style=\"text-align: right;\">\n",
       "      <th></th>\n",
       "      <th>W</th>\n",
       "      <th>Reject null hypothesis</th>\n",
       "    </tr>\n",
       "    <tr>\n",
       "      <th>Name</th>\n",
       "      <th></th>\n",
       "      <th></th>\n",
       "    </tr>\n",
       "  </thead>\n",
       "  <tbody>\n",
       "    <tr>\n",
       "      <th>Acholeplasmataceae</th>\n",
       "      <td>0</td>\n",
       "      <td>False</td>\n",
       "    </tr>\n",
       "    <tr>\n",
       "      <th>Acidaminococcaceae</th>\n",
       "      <td>0</td>\n",
       "      <td>False</td>\n",
       "    </tr>\n",
       "    <tr>\n",
       "      <th>Akkermansiaceae</th>\n",
       "      <td>0</td>\n",
       "      <td>False</td>\n",
       "    </tr>\n",
       "    <tr>\n",
       "      <th>Alcaligenaceae</th>\n",
       "      <td>0</td>\n",
       "      <td>False</td>\n",
       "    </tr>\n",
       "    <tr>\n",
       "      <th>Barnesiellaceae</th>\n",
       "      <td>0</td>\n",
       "      <td>False</td>\n",
       "    </tr>\n",
       "    <tr>\n",
       "      <th>Carnobacteriaceae</th>\n",
       "      <td>0</td>\n",
       "      <td>False</td>\n",
       "    </tr>\n",
       "    <tr>\n",
       "      <th>Chitinophagaceae</th>\n",
       "      <td>0</td>\n",
       "      <td>False</td>\n",
       "    </tr>\n",
       "    <tr>\n",
       "      <th>Chlorobiaceae</th>\n",
       "      <td>0</td>\n",
       "      <td>False</td>\n",
       "    </tr>\n",
       "    <tr>\n",
       "      <th>Coriobacteriaceae</th>\n",
       "      <td>0</td>\n",
       "      <td>False</td>\n",
       "    </tr>\n",
       "    <tr>\n",
       "      <th>Enterobacteriaceae</th>\n",
       "      <td>0</td>\n",
       "      <td>False</td>\n",
       "    </tr>\n",
       "    <tr>\n",
       "      <th>Erwiniaceae</th>\n",
       "      <td>0</td>\n",
       "      <td>False</td>\n",
       "    </tr>\n",
       "    <tr>\n",
       "      <th>Leptotrichiaceae</th>\n",
       "      <td>0</td>\n",
       "      <td>False</td>\n",
       "    </tr>\n",
       "    <tr>\n",
       "      <th>Leuconostocaceae</th>\n",
       "      <td>0</td>\n",
       "      <td>False</td>\n",
       "    </tr>\n",
       "    <tr>\n",
       "      <th>Mycoplasmataceae</th>\n",
       "      <td>0</td>\n",
       "      <td>False</td>\n",
       "    </tr>\n",
       "    <tr>\n",
       "      <th>Nocardiaceae</th>\n",
       "      <td>0</td>\n",
       "      <td>False</td>\n",
       "    </tr>\n",
       "    <tr>\n",
       "      <th>Pectobacteriaceae</th>\n",
       "      <td>0</td>\n",
       "      <td>False</td>\n",
       "    </tr>\n",
       "    <tr>\n",
       "      <th>Siphoviridae</th>\n",
       "      <td>0</td>\n",
       "      <td>False</td>\n",
       "    </tr>\n",
       "    <tr>\n",
       "      <th>Spiroplasmataceae</th>\n",
       "      <td>0</td>\n",
       "      <td>False</td>\n",
       "    </tr>\n",
       "    <tr>\n",
       "      <th>Synergistaceae</th>\n",
       "      <td>0</td>\n",
       "      <td>False</td>\n",
       "    </tr>\n",
       "  </tbody>\n",
       "</table>\n",
       "</div>"
      ],
      "text/plain": [
       "                    W  Reject null hypothesis\n",
       "Name                                         \n",
       "Acholeplasmataceae  0                   False\n",
       "Acidaminococcaceae  0                   False\n",
       "Akkermansiaceae     0                   False\n",
       "Alcaligenaceae      0                   False\n",
       "Barnesiellaceae     0                   False\n",
       "Carnobacteriaceae   0                   False\n",
       "Chitinophagaceae    0                   False\n",
       "Chlorobiaceae       0                   False\n",
       "Coriobacteriaceae   0                   False\n",
       "Enterobacteriaceae  0                   False\n",
       "Erwiniaceae         0                   False\n",
       "Leptotrichiaceae    0                   False\n",
       "Leuconostocaceae    0                   False\n",
       "Mycoplasmataceae    0                   False\n",
       "Nocardiaceae        0                   False\n",
       "Pectobacteriaceae   0                   False\n",
       "Siphoviridae        0                   False\n",
       "Spiroplasmataceae   0                   False\n",
       "Synergistaceae      0                   False"
      ]
     },
     "execution_count": 159,
     "metadata": {},
     "output_type": "execute_result"
    }
   ],
   "source": [
    "x[0].loc[x[0][\"W\"] == 0]"
   ]
  },
  {
   "cell_type": "code",
   "execution_count": 148,
   "metadata": {},
   "outputs": [],
   "source": []
  },
  {
   "cell_type": "code",
   "execution_count": 149,
   "metadata": {},
   "outputs": [],
   "source": []
  },
  {
   "cell_type": "code",
   "execution_count": 161,
   "metadata": {},
   "outputs": [
    {
     "name": "stdout",
     "output_type": "stream",
     "text": [
      "------------------- RESULTS ------------------- \n",
      "Group\n",
      "CRC        0.000473\n",
      "adenoma    0.000007\n",
      "control    0.000007\n",
      "Name: Porphyromonadaceae, dtype: float64\n",
      "Group\n",
      "CRC        0.001476\n",
      "adenoma    0.000744\n",
      "control    0.000476\n",
      "Name: Prevotellaceae, dtype: float64\n",
      "Group\n",
      "CRC        0.008993\n",
      "adenoma    0.003819\n",
      "control    0.003697\n",
      "Name: Rikenellaceae, dtype: float64\n",
      "Group\n",
      "CRC        0.000259\n",
      "adenoma    0.000364\n",
      "control    0.000341\n",
      "Name: Thermoanaerobacterales Family III. Incertae Sedis, dtype: float64\n"
     ]
    },
    {
     "data": {
      "text/plain": [
       "<seaborn.axisgrid.FacetGrid at 0x7f2ceba629b0>"
      ]
     },
     "execution_count": 161,
     "metadata": {},
     "output_type": "execute_result"
    },
    {
     "data": {
      "image/png": "[encoded data removed]",
      "text/plain": [
       "<Figure size 442.75x360 with 1 Axes>"
      ]
     },
     "metadata": {
      "needs_background": "light"
     },
     "output_type": "display_data"
    }
   ],
   "source": [
    "result_df = x[0]\n",
    "percentile_df = x[1]\n",
    "differences = list(result_df.loc[result_df[\"W\"] > 10].index)\n",
    "print(\"------------------- RESULTS ------------------- \")\n",
    "df_list = []\n",
    "for d in differences:\n",
    "    print(percentile_df[50.0].loc[d])\n",
    "    df = pd.DataFrame(percentile_df[50.0].loc[d])\n",
    "    df_list.append(df.transpose())\n",
    "\n",
    "    df_dataset = pd.concat(df_list)\n",
    "\n",
    "\n",
    "unpivot = pd.DataFrame(df_dataset.unstack(level=1))\n",
    "unpivot = unpivot.reset_index()\n",
    "unpivot[\"Abundance\"] = unpivot[0]\n",
    "unpivot[\"Name\"] = unpivot['level_1']\n",
    "unpivot = unpivot.drop(columns=[0, 'level_1'])\n",
    "\n",
    "g = sns.catplot(x=\"Name\", y=\"Abundance\", hue=\"Group\", data=unpivot,\n",
    "            kind=\"bar\", palette=\"muted\")\n",
    "g.set_xticklabels(rotation=90)"
   ]
  },
  {
   "cell_type": "code",
   "execution_count": 163,
   "metadata": {},
   "outputs": [
    {
     "name": "stdout",
     "output_type": "stream",
     "text": [
      "//gfs/data/curated_metagenomes_metaphlan2/FengQ_2015.csv\n",
      "   Unnamed: 0  Sample_ID         Dataset Rank            Name  Abundance  \\\n",
      "0           0  ERR688526  FengQ_2015.csv    k        Bacteria   99.99747   \n",
      "1           1  ERR688526  FengQ_2015.csv    k         Viruses    0.00253   \n",
      "2           2  ERR688526  FengQ_2015.csv    p      Firmicutes   81.81372   \n",
      "3           3  ERR688526  FengQ_2015.csv    p  Actinobacteria   12.04277   \n",
      "4           4  ERR688526  FengQ_2015.csv    p   Bacteroidetes    4.97884   \n",
      "\n",
      "  STUDY_CONDITION BODY_SITE SUBJECTID COUNTRY              DISEASE  AGE  \\\n",
      "0         adenoma     stool  SID31282     AUT  adenoma;fatty_liver   63   \n",
      "1         adenoma     stool  SID31282     AUT  adenoma;fatty_liver   63   \n",
      "2         adenoma     stool  SID31282     AUT  adenoma;fatty_liver   63   \n",
      "3         adenoma     stool  SID31282     AUT  adenoma;fatty_liver   63   \n",
      "4         adenoma     stool  SID31282     AUT  adenoma;fatty_liver   63   \n",
      "\n",
      "  AGE_CATEGORY  \n",
      "0        adult  \n",
      "1        adult  \n",
      "2        adult  \n",
      "3        adult  \n",
      "4        adult  \n",
      "Index(['Sample_ID', 'Name', 'Abundance', 'STUDY_CONDITION'], dtype='object')\n",
      "Groups: 33     adenoma\n",
      "619    control\n",
      "925        CRC\n",
      "Name: STUDY_CONDITION, dtype: object\n",
      "Shape of table: (154, 50)\n",
      "------------------- RESULTS ------------------- \n",
      "Group\n",
      "CRC        0.010524\n",
      "adenoma    0.002855\n",
      "control    0.002226\n",
      "Name: Porphyromonadaceae, dtype: float64\n"
     ]
    },
    {
     "data": {
      "image/png": "[encoded data removed]",
      "text/plain": [
       "<Figure size 442.75x360 with 1 Axes>"
      ]
     },
     "metadata": {
      "needs_background": "light"
     },
     "output_type": "display_data"
    }
   ],
   "source": [
    "x = df_dataset_ChngKR_2016_kraken = analyse(\"FengQ_2015\", table_files = files_metaphlan,\n",
    "                     column_to_group = \"STUDY_CONDITION\", rank='f', use_percent = True, percent=30)"
   ]
  },
  {
   "cell_type": "code",
   "execution_count": 167,
   "metadata": {},
   "outputs": [
    {
     "data": {
      "text/html": [
       "<div>\n",
       "<style scoped>\n",
       "    .dataframe tbody tr th:only-of-type {\n",
       "        vertical-align: middle;\n",
       "    }\n",
       "\n",
       "    .dataframe tbody tr th {\n",
       "        vertical-align: top;\n",
       "    }\n",
       "\n",
       "    .dataframe thead th {\n",
       "        text-align: right;\n",
       "    }\n",
       "</style>\n",
       "<table border=\"1\" class=\"dataframe\">\n",
       "  <thead>\n",
       "    <tr style=\"text-align: right;\">\n",
       "      <th></th>\n",
       "      <th>W</th>\n",
       "      <th>Reject null hypothesis</th>\n",
       "    </tr>\n",
       "    <tr>\n",
       "      <th>Name</th>\n",
       "      <th></th>\n",
       "      <th></th>\n",
       "    </tr>\n",
       "  </thead>\n",
       "  <tbody>\n",
       "    <tr>\n",
       "      <th>Lactobacillaceae</th>\n",
       "      <td>7</td>\n",
       "      <td>False</td>\n",
       "    </tr>\n",
       "    <tr>\n",
       "      <th>Porphyromonadaceae</th>\n",
       "      <td>34</td>\n",
       "      <td>True</td>\n",
       "    </tr>\n",
       "    <tr>\n",
       "      <th>Rikenellaceae</th>\n",
       "      <td>7</td>\n",
       "      <td>False</td>\n",
       "    </tr>\n",
       "  </tbody>\n",
       "</table>\n",
       "</div>"
      ],
      "text/plain": [
       "                     W  Reject null hypothesis\n",
       "Name                                          \n",
       "Lactobacillaceae     7                   False\n",
       "Porphyromonadaceae  34                    True\n",
       "Rikenellaceae        7                   False"
      ]
     },
     "execution_count": 167,
     "metadata": {},
     "output_type": "execute_result"
    }
   ],
   "source": [
    "result_df.loc[result_df[\"W\"] > 5]"
   ]
  },
  {
   "cell_type": "code",
   "execution_count": 168,
   "metadata": {},
   "outputs": [
    {
     "name": "stdout",
     "output_type": "stream",
     "text": [
      "------------------- RESULTS ------------------- \n",
      "Group\n",
      "CRC        0.000400\n",
      "adenoma    0.000400\n",
      "control    0.000768\n",
      "Name: Lactobacillaceae, dtype: float64\n",
      "Group\n",
      "CRC        0.010524\n",
      "adenoma    0.002855\n",
      "control    0.002226\n",
      "Name: Porphyromonadaceae, dtype: float64\n",
      "Group\n",
      "CRC        0.014762\n",
      "adenoma    0.006274\n",
      "control    0.003613\n",
      "Name: Rikenellaceae, dtype: float64\n"
     ]
    },
    {
     "data": {
      "text/plain": [
       "<seaborn.axisgrid.FacetGrid at 0x7f2cc39cf908>"
      ]
     },
     "execution_count": 168,
     "metadata": {},
     "output_type": "execute_result"
    },
    {
     "data": {
      "image/png": "[encoded data removed]",
      "text/plain": [
       "<Figure size 442.75x360 with 1 Axes>"
      ]
     },
     "metadata": {
      "needs_background": "light"
     },
     "output_type": "display_data"
    }
   ],
   "source": [
    "result_df = x[0]\n",
    "percentile_df = x[1]\n",
    "differences = list(result_df.loc[result_df[\"W\"] > 5].index)\n",
    "print(\"------------------- RESULTS ------------------- \")\n",
    "df_list = []\n",
    "for d in differences:\n",
    "    print(percentile_df[50.0].loc[d])\n",
    "    df = pd.DataFrame(percentile_df[50.0].loc[d])\n",
    "    df_list.append(df.transpose())\n",
    "\n",
    "    df_dataset = pd.concat(df_list)\n",
    "\n",
    "\n",
    "unpivot = pd.DataFrame(df_dataset.unstack(level=1))\n",
    "unpivot = unpivot.reset_index()\n",
    "unpivot[\"Abundance\"] = unpivot[0]\n",
    "unpivot[\"Name\"] = unpivot['level_1']\n",
    "unpivot = unpivot.drop(columns=[0, 'level_1'])\n",
    "\n",
    "g = sns.catplot(x=\"Name\", y=\"Abundance\", hue=\"Group\", data=unpivot,\n",
    "            kind=\"bar\", palette=\"muted\")\n",
    "g.set_xticklabels(rotation=90)"
   ]
  },
  {
   "cell_type": "code",
   "execution_count": 169,
   "metadata": {},
   "outputs": [
    {
     "name": "stdout",
     "output_type": "stream",
     "text": [
      "//gfs/data/curated_metagenomes_metaphlan2/FengQ_2015.csv\n",
      "   Unnamed: 0  Sample_ID         Dataset Rank            Name  Abundance  \\\n",
      "0           0  ERR688526  FengQ_2015.csv    k        Bacteria   99.99747   \n",
      "1           1  ERR688526  FengQ_2015.csv    k         Viruses    0.00253   \n",
      "2           2  ERR688526  FengQ_2015.csv    p      Firmicutes   81.81372   \n",
      "3           3  ERR688526  FengQ_2015.csv    p  Actinobacteria   12.04277   \n",
      "4           4  ERR688526  FengQ_2015.csv    p   Bacteroidetes    4.97884   \n",
      "\n",
      "  STUDY_CONDITION BODY_SITE SUBJECTID COUNTRY              DISEASE  AGE  \\\n",
      "0         adenoma     stool  SID31282     AUT  adenoma;fatty_liver   63   \n",
      "1         adenoma     stool  SID31282     AUT  adenoma;fatty_liver   63   \n",
      "2         adenoma     stool  SID31282     AUT  adenoma;fatty_liver   63   \n",
      "3         adenoma     stool  SID31282     AUT  adenoma;fatty_liver   63   \n",
      "4         adenoma     stool  SID31282     AUT  adenoma;fatty_liver   63   \n",
      "\n",
      "  AGE_CATEGORY  \n",
      "0        adult  \n",
      "1        adult  \n",
      "2        adult  \n",
      "3        adult  \n",
      "4        adult  \n",
      "Index(['Sample_ID', 'Name', 'Abundance', 'STUDY_CONDITION'], dtype='object')\n",
      "Groups: 59     adenoma\n",
      "649    control\n",
      "955        CRC\n",
      "Name: STUDY_CONDITION, dtype: object\n",
      "Shape of table: (154, 84)\n",
      "------------------- RESULTS ------------------- \n",
      "Group\n",
      "CRC        0.000312\n",
      "adenoma    0.000142\n",
      "control    0.000142\n",
      "Name: Prevotella, dtype: float64\n"
     ]
    },
    {
     "data": {
      "image/png": "[encoded data removed]",
      "text/plain": [
       "<Figure size 442.75x360 with 1 Axes>"
      ]
     },
     "metadata": {
      "needs_background": "light"
     },
     "output_type": "display_data"
    }
   ],
   "source": [
    "x = df_dataset_ChngKR_2016_kraken = analyse(\"FengQ_2015\", table_files = files_metaphlan,\n",
    "                     column_to_group = \"STUDY_CONDITION\", rank='g', use_percent = True, percent=30)"
   ]
  },
  {
   "cell_type": "code",
   "execution_count": 171,
   "metadata": {},
   "outputs": [],
   "source": [
    "result_df = x[0]\n",
    "percentile_df = x[1]"
   ]
  },
  {
   "cell_type": "code",
   "execution_count": 172,
   "metadata": {},
   "outputs": [
    {
     "data": {
      "text/html": [
       "<div>\n",
       "<style scoped>\n",
       "    .dataframe tbody tr th:only-of-type {\n",
       "        vertical-align: middle;\n",
       "    }\n",
       "\n",
       "    .dataframe tbody tr th {\n",
       "        vertical-align: top;\n",
       "    }\n",
       "\n",
       "    .dataframe thead th {\n",
       "        text-align: right;\n",
       "    }\n",
       "</style>\n",
       "<table border=\"1\" class=\"dataframe\">\n",
       "  <thead>\n",
       "    <tr style=\"text-align: right;\">\n",
       "      <th></th>\n",
       "      <th>W</th>\n",
       "      <th>Reject null hypothesis</th>\n",
       "    </tr>\n",
       "    <tr>\n",
       "      <th>Name</th>\n",
       "      <th></th>\n",
       "      <th></th>\n",
       "    </tr>\n",
       "  </thead>\n",
       "  <tbody>\n",
       "    <tr>\n",
       "      <th>Alistipes</th>\n",
       "      <td>9</td>\n",
       "      <td>False</td>\n",
       "    </tr>\n",
       "    <tr>\n",
       "      <th>Anaerostipes</th>\n",
       "      <td>8</td>\n",
       "      <td>False</td>\n",
       "    </tr>\n",
       "    <tr>\n",
       "      <th>Gemella</th>\n",
       "      <td>9</td>\n",
       "      <td>False</td>\n",
       "    </tr>\n",
       "    <tr>\n",
       "      <th>Lachnospiraceae_noname</th>\n",
       "      <td>7</td>\n",
       "      <td>False</td>\n",
       "    </tr>\n",
       "    <tr>\n",
       "      <th>Leuconostoc</th>\n",
       "      <td>6</td>\n",
       "      <td>False</td>\n",
       "    </tr>\n",
       "    <tr>\n",
       "      <th>Parabacteroides</th>\n",
       "      <td>14</td>\n",
       "      <td>False</td>\n",
       "    </tr>\n",
       "    <tr>\n",
       "      <th>Peptostreptococcus</th>\n",
       "      <td>7</td>\n",
       "      <td>False</td>\n",
       "    </tr>\n",
       "    <tr>\n",
       "      <th>Porphyromonas</th>\n",
       "      <td>11</td>\n",
       "      <td>False</td>\n",
       "    </tr>\n",
       "    <tr>\n",
       "      <th>Prevotella</th>\n",
       "      <td>41</td>\n",
       "      <td>True</td>\n",
       "    </tr>\n",
       "    <tr>\n",
       "      <th>Pseudoflavonifractor</th>\n",
       "      <td>6</td>\n",
       "      <td>False</td>\n",
       "    </tr>\n",
       "    <tr>\n",
       "      <th>Pseudomonas</th>\n",
       "      <td>7</td>\n",
       "      <td>False</td>\n",
       "    </tr>\n",
       "  </tbody>\n",
       "</table>\n",
       "</div>"
      ],
      "text/plain": [
       "                         W  Reject null hypothesis\n",
       "Name                                              \n",
       "Alistipes                9                   False\n",
       "Anaerostipes             8                   False\n",
       "Gemella                  9                   False\n",
       "Lachnospiraceae_noname   7                   False\n",
       "Leuconostoc              6                   False\n",
       "Parabacteroides         14                   False\n",
       "Peptostreptococcus       7                   False\n",
       "Porphyromonas           11                   False\n",
       "Prevotella              41                    True\n",
       "Pseudoflavonifractor     6                   False\n",
       "Pseudomonas              7                   False"
      ]
     },
     "execution_count": 172,
     "metadata": {},
     "output_type": "execute_result"
    }
   ],
   "source": [
    "result_df.loc[result_df[\"W\"] > 5]"
   ]
  },
  {
   "cell_type": "code",
   "execution_count": 173,
   "metadata": {},
   "outputs": [
    {
     "name": "stdout",
     "output_type": "stream",
     "text": [
      "------------------- RESULTS ------------------- \n",
      "Group\n",
      "CRC        0.014832\n",
      "adenoma    0.006310\n",
      "control    0.003626\n",
      "Name: Alistipes, dtype: float64\n",
      "Group\n",
      "CRC        0.000689\n",
      "adenoma    0.000898\n",
      "control    0.001614\n",
      "Name: Anaerostipes, dtype: float64\n",
      "Group\n",
      "CRC        0.000142\n",
      "adenoma    0.000142\n",
      "control    0.000142\n",
      "Name: Gemella, dtype: float64\n",
      "Group\n",
      "CRC        0.005920\n",
      "adenoma    0.008352\n",
      "control    0.009648\n",
      "Name: Lachnospiraceae_noname, dtype: float64\n",
      "Group\n",
      "CRC        0.000142\n",
      "adenoma    0.000142\n",
      "control    0.000142\n",
      "Name: Leuconostoc, dtype: float64\n",
      "Group\n",
      "CRC        0.004593\n",
      "adenoma    0.000554\n",
      "control    0.001319\n",
      "Name: Parabacteroides, dtype: float64\n",
      "Group\n",
      "CRC        0.000142\n",
      "adenoma    0.000142\n",
      "control    0.000142\n",
      "Name: Peptostreptococcus, dtype: float64\n",
      "Group\n",
      "CRC        0.000142\n",
      "adenoma    0.000142\n",
      "control    0.000142\n",
      "Name: Porphyromonas, dtype: float64\n",
      "Group\n",
      "CRC        0.000312\n",
      "adenoma    0.000142\n",
      "control    0.000142\n",
      "Name: Prevotella, dtype: float64\n",
      "Group\n",
      "CRC        0.000142\n",
      "adenoma    0.000142\n",
      "control    0.000142\n",
      "Name: Pseudoflavonifractor, dtype: float64\n",
      "Group\n",
      "CRC        0.000142\n",
      "adenoma    0.000142\n",
      "control    0.000142\n",
      "Name: Pseudomonas, dtype: float64\n"
     ]
    },
    {
     "data": {
      "text/plain": [
       "<seaborn.axisgrid.FacetGrid at 0x7f2ced6c7710>"
      ]
     },
     "execution_count": 173,
     "metadata": {},
     "output_type": "execute_result"
    },
    {
     "data": {
      "image/png": "[encoded data removed]",
      "text/plain": [
       "<Figure size 442.75x360 with 1 Axes>"
      ]
     },
     "metadata": {
      "needs_background": "light"
     },
     "output_type": "display_data"
    }
   ],
   "source": [
    "differences = list(result_df.loc[result_df[\"W\"] > 5].index)\n",
    "print(\"------------------- RESULTS ------------------- \")\n",
    "df_list = []\n",
    "for d in differences:\n",
    "    print(percentile_df[50.0].loc[d])\n",
    "    df = pd.DataFrame(percentile_df[50.0].loc[d])\n",
    "    df_list.append(df.transpose())\n",
    "\n",
    "    df_dataset = pd.concat(df_list)\n",
    "\n",
    "\n",
    "unpivot = pd.DataFrame(df_dataset.unstack(level=1))\n",
    "unpivot = unpivot.reset_index()\n",
    "unpivot[\"Abundance\"] = unpivot[0]\n",
    "unpivot[\"Name\"] = unpivot['level_1']\n",
    "unpivot = unpivot.drop(columns=[0, 'level_1'])\n",
    "\n",
    "g = sns.catplot(x=\"Name\", y=\"Abundance\", hue=\"Group\", data=unpivot,\n",
    "            kind=\"bar\", palette=\"muted\")\n",
    "g.set_xticklabels(rotation=90)"
   ]
  },
  {
   "cell_type": "code",
   "execution_count": 175,
   "metadata": {},
   "outputs": [
    {
     "name": "stdout",
     "output_type": "stream",
     "text": [
      "//gfs/data/curated_metagenomes_kraken2/FengQ_2015.csv\n",
      "   Unnamed: 0  Sample_ID         Dataset Rank                 Name  Abundance  \\\n",
      "0           0  ERR688526  FengQ_2015.csv    U         unclassified      70.88   \n",
      "1           1  ERR688526  FengQ_2015.csv    R                 root      29.12   \n",
      "2           2  ERR688526  FengQ_2015.csv   R1   cellular organisms      29.11   \n",
      "3           3  ERR688526  FengQ_2015.csv    D             Bacteria      29.05   \n",
      "4           4  ERR688526  FengQ_2015.csv   D1  Terrabacteria group      25.38   \n",
      "\n",
      "  STUDY_CONDITION BODY_SITE SUBJECTID COUNTRY              DISEASE  AGE  \\\n",
      "0         adenoma     stool  SID31282     AUT  adenoma;fatty_liver   63   \n",
      "1         adenoma     stool  SID31282     AUT  adenoma;fatty_liver   63   \n",
      "2         adenoma     stool  SID31282     AUT  adenoma;fatty_liver   63   \n",
      "3         adenoma     stool  SID31282     AUT  adenoma;fatty_liver   63   \n",
      "4         adenoma     stool  SID31282     AUT  adenoma;fatty_liver   63   \n",
      "\n",
      "  AGE_CATEGORY  \n",
      "0        adult  \n",
      "1        adult  \n",
      "2        adult  \n",
      "3        adult  \n",
      "4        adult  \n",
      "Index(['Sample_ID', 'Name', 'Abundance', 'STUDY_CONDITION'], dtype='object')\n",
      "Groups: 15       adenoma\n",
      "15718    control\n",
      "23063        CRC\n",
      "Name: STUDY_CONDITION, dtype: object\n",
      "Shape of table: (154, 152)\n",
      "------------------- RESULTS ------------------- \n",
      "Group\n",
      "CRC        0.000261\n",
      "adenoma    0.000043\n",
      "control    0.000043\n",
      "Name: Porphyromonas, dtype: float64\n"
     ]
    },
    {
     "data": {
      "image/png": "[encoded data removed]",
      "text/plain": [
       "<Figure size 442.75x360 with 1 Axes>"
      ]
     },
     "metadata": {
      "needs_background": "light"
     },
     "output_type": "display_data"
    }
   ],
   "source": [
    "x = df_dataset_ChngKR_2016_kraken = analyse(\"FengQ_2015\", table_files = files_kraken,\n",
    "                     column_to_group = \"STUDY_CONDITION\", rank='G', use_percent = True, percent=10)"
   ]
  },
  {
   "cell_type": "code",
   "execution_count": 176,
   "metadata": {},
   "outputs": [],
   "source": [
    "result_df = x[0]\n",
    "percentile_df = x[1]"
   ]
  },
  {
   "cell_type": "code",
   "execution_count": 178,
   "metadata": {},
   "outputs": [
    {
     "data": {
      "text/html": [
       "<div>\n",
       "<style scoped>\n",
       "    .dataframe tbody tr th:only-of-type {\n",
       "        vertical-align: middle;\n",
       "    }\n",
       "\n",
       "    .dataframe tbody tr th {\n",
       "        vertical-align: top;\n",
       "    }\n",
       "\n",
       "    .dataframe thead th {\n",
       "        text-align: right;\n",
       "    }\n",
       "</style>\n",
       "<table border=\"1\" class=\"dataframe\">\n",
       "  <thead>\n",
       "    <tr style=\"text-align: right;\">\n",
       "      <th></th>\n",
       "      <th>W</th>\n",
       "      <th>Reject null hypothesis</th>\n",
       "    </tr>\n",
       "    <tr>\n",
       "      <th>Name</th>\n",
       "      <th></th>\n",
       "      <th></th>\n",
       "    </tr>\n",
       "  </thead>\n",
       "  <tbody>\n",
       "    <tr>\n",
       "      <th>Alistipes</th>\n",
       "      <td>13</td>\n",
       "      <td>False</td>\n",
       "    </tr>\n",
       "    <tr>\n",
       "      <th>Bacteroides</th>\n",
       "      <td>13</td>\n",
       "      <td>False</td>\n",
       "    </tr>\n",
       "    <tr>\n",
       "      <th>Blautia</th>\n",
       "      <td>19</td>\n",
       "      <td>False</td>\n",
       "    </tr>\n",
       "    <tr>\n",
       "      <th>Faecalitalea</th>\n",
       "      <td>11</td>\n",
       "      <td>False</td>\n",
       "    </tr>\n",
       "    <tr>\n",
       "      <th>Fusobacterium</th>\n",
       "      <td>11</td>\n",
       "      <td>False</td>\n",
       "    </tr>\n",
       "    <tr>\n",
       "      <th>Gemella</th>\n",
       "      <td>100</td>\n",
       "      <td>False</td>\n",
       "    </tr>\n",
       "    <tr>\n",
       "      <th>Odoribacter</th>\n",
       "      <td>26</td>\n",
       "      <td>False</td>\n",
       "    </tr>\n",
       "    <tr>\n",
       "      <th>Parvimonas</th>\n",
       "      <td>109</td>\n",
       "      <td>False</td>\n",
       "    </tr>\n",
       "    <tr>\n",
       "      <th>Porphyromonas</th>\n",
       "      <td>134</td>\n",
       "      <td>True</td>\n",
       "    </tr>\n",
       "    <tr>\n",
       "      <th>Prevotella</th>\n",
       "      <td>103</td>\n",
       "      <td>False</td>\n",
       "    </tr>\n",
       "  </tbody>\n",
       "</table>\n",
       "</div>"
      ],
      "text/plain": [
       "                 W  Reject null hypothesis\n",
       "Name                                      \n",
       "Alistipes       13                   False\n",
       "Bacteroides     13                   False\n",
       "Blautia         19                   False\n",
       "Faecalitalea    11                   False\n",
       "Fusobacterium   11                   False\n",
       "Gemella        100                   False\n",
       "Odoribacter     26                   False\n",
       "Parvimonas     109                   False\n",
       "Porphyromonas  134                    True\n",
       "Prevotella     103                   False"
      ]
     },
     "execution_count": 178,
     "metadata": {},
     "output_type": "execute_result"
    }
   ],
   "source": [
    "result_df.loc[result_df[\"W\"] > 10]"
   ]
  },
  {
   "cell_type": "code",
   "execution_count": 179,
   "metadata": {},
   "outputs": [
    {
     "name": "stdout",
     "output_type": "stream",
     "text": [
      "------------------- RESULTS ------------------- \n",
      "Group\n",
      "CRC        0.000043\n",
      "adenoma    0.000043\n",
      "control    0.000043\n",
      "Name: Achromobacter, dtype: float64\n",
      "Group\n",
      "CRC        0.011301\n",
      "adenoma    0.004473\n",
      "control    0.004423\n",
      "Name: Alistipes, dtype: float64\n",
      "Group\n",
      "CRC        0.025085\n",
      "adenoma    0.069258\n",
      "control    0.071181\n",
      "Name: Anaerostipes, dtype: float64\n",
      "Group\n",
      "CRC        0.142414\n",
      "adenoma    0.047330\n",
      "control    0.043708\n",
      "Name: Bacteroides, dtype: float64\n",
      "Group\n",
      "CRC        0.007041\n",
      "adenoma    0.013658\n",
      "control    0.013438\n",
      "Name: Blautia, dtype: float64\n",
      "Group\n",
      "CRC        0.001311\n",
      "adenoma    0.002509\n",
      "control    0.002026\n",
      "Name: Butyrivibrio, dtype: float64\n",
      "Group\n",
      "CRC        0.000043\n",
      "adenoma    0.000043\n",
      "control    0.000043\n",
      "Name: Capnocytophaga, dtype: float64\n",
      "Group\n",
      "CRC        0.000380\n",
      "adenoma    0.000509\n",
      "control    0.000558\n",
      "Name: Christensenella, dtype: float64\n",
      "Group\n",
      "CRC        0.008524\n",
      "adenoma    0.010935\n",
      "control    0.010515\n",
      "Name: Clostridioides, dtype: float64\n",
      "Group\n",
      "CRC        0.000043\n",
      "adenoma    0.000043\n",
      "control    0.000043\n",
      "Name: Denitrobacterium, dtype: float64\n",
      "Group\n",
      "CRC        0.000043\n",
      "adenoma    0.000390\n",
      "control    0.000384\n",
      "Name: Faecalibaculum, dtype: float64\n",
      "Group\n",
      "CRC        0.006416\n",
      "adenoma    0.009762\n",
      "control    0.009083\n",
      "Name: Faecalitalea, dtype: float64\n",
      "Group\n",
      "CRC        0.000727\n",
      "adenoma    0.000458\n",
      "control    0.000428\n",
      "Name: Fusobacterium, dtype: float64\n",
      "Group\n",
      "CRC        0.000043\n",
      "adenoma    0.000043\n",
      "control    0.000043\n",
      "Name: Gemella, dtype: float64\n",
      "Group\n",
      "CRC        0.002273\n",
      "adenoma    0.001648\n",
      "control    0.001713\n",
      "Name: Homo, dtype: float64\n",
      "Group\n",
      "CRC        0.000043\n",
      "adenoma    0.000043\n",
      "control    0.000043\n",
      "Name: Mycobacterium, dtype: float64\n",
      "Group\n",
      "CRC        0.001884\n",
      "adenoma    0.000833\n",
      "control    0.000599\n",
      "Name: Odoribacter, dtype: float64\n",
      "Group\n",
      "CRC        0.000043\n",
      "adenoma    0.000043\n",
      "control    0.000043\n",
      "Name: Parvimonas, dtype: float64\n",
      "Group\n",
      "CRC        0.000261\n",
      "adenoma    0.000043\n",
      "control    0.000043\n",
      "Name: Porphyromonas, dtype: float64\n",
      "Group\n",
      "CRC        0.001656\n",
      "adenoma    0.000898\n",
      "control    0.000558\n",
      "Name: Prevotella, dtype: float64\n",
      "Group\n",
      "CRC        0.000275\n",
      "adenoma    0.000412\n",
      "control    0.000363\n",
      "Name: Rhizobium, dtype: float64\n",
      "Group\n",
      "CRC        0.000043\n",
      "adenoma    0.000043\n",
      "control    0.000043\n",
      "Name: Sphingomonas, dtype: float64\n",
      "Group\n",
      "CRC        0.000350\n",
      "adenoma    0.000447\n",
      "control    0.000423\n",
      "Name: Treponema, dtype: float64\n"
     ]
    },
    {
     "data": {
      "text/plain": [
       "<seaborn.axisgrid.FacetGrid at 0x7f2cf5161470>"
      ]
     },
     "execution_count": 179,
     "metadata": {},
     "output_type": "execute_result"
    },
    {
     "data": {
      "image/png": "[encoded data removed]",
      "text/plain": [
       "<Figure size 442.75x360 with 1 Axes>"
      ]
     },
     "metadata": {
      "needs_background": "light"
     },
     "output_type": "display_data"
    }
   ],
   "source": [
    "differences = list(result_df.loc[result_df[\"W\"] > 5].index)\n",
    "print(\"------------------- RESULTS ------------------- \")\n",
    "df_list = []\n",
    "for d in differences:\n",
    "    print(percentile_df[50.0].loc[d])\n",
    "    df = pd.DataFrame(percentile_df[50.0].loc[d])\n",
    "    df_list.append(df.transpose())\n",
    "\n",
    "    df_dataset = pd.concat(df_list)\n",
    "\n",
    "\n",
    "unpivot = pd.DataFrame(df_dataset.unstack(level=1))\n",
    "unpivot = unpivot.reset_index()\n",
    "unpivot[\"Abundance\"] = unpivot[0]\n",
    "unpivot[\"Name\"] = unpivot['level_1']\n",
    "unpivot = unpivot.drop(columns=[0, 'level_1'])\n",
    "\n",
    "g = sns.catplot(x=\"Name\", y=\"Abundance\", hue=\"Group\", data=unpivot,\n",
    "            kind=\"bar\", palette=\"muted\")\n",
    "g.set_xticklabels(rotation=90)"
   ]
  },
  {
   "cell_type": "code",
   "execution_count": 133,
   "metadata": {},
   "outputs": [],
   "source": [
    "t1 = pd.DataFrame([[12, 11, 10, 0, 10, 0, 0],\n",
    "                       [9,  11, 12, 10, 10, 10, 10],\n",
    "                       [1,  11, 0, 11, 10, 5,  9],\n",
    "                       [22, 21, 9,  0, 10, 10, 10],\n",
    "                       [20, 22, 0, 10, 13, 10, 10],\n",
    "                       [23, 21, 14, 10, 10, 10, 10]],\n",
    "                      index=['s1','s2','s3','s4','s5','s6'],\n",
    "                      columns=['b1','b2','b3','b4','b5','b6','b7'])\n",
    "    \n"
   ]
  },
  {
   "cell_type": "code",
   "execution_count": 122,
   "metadata": {},
   "outputs": [
    {
     "data": {
      "text/html": [
       "<div>\n",
       "<style scoped>\n",
       "    .dataframe tbody tr th:only-of-type {\n",
       "        vertical-align: middle;\n",
       "    }\n",
       "\n",
       "    .dataframe tbody tr th {\n",
       "        vertical-align: top;\n",
       "    }\n",
       "\n",
       "    .dataframe thead th {\n",
       "        text-align: right;\n",
       "    }\n",
       "</style>\n",
       "<table border=\"1\" class=\"dataframe\">\n",
       "  <thead>\n",
       "    <tr style=\"text-align: right;\">\n",
       "      <th></th>\n",
       "      <th>b1</th>\n",
       "      <th>b2</th>\n",
       "      <th>b3</th>\n",
       "      <th>b4</th>\n",
       "      <th>b5</th>\n",
       "      <th>b6</th>\n",
       "      <th>b7</th>\n",
       "    </tr>\n",
       "  </thead>\n",
       "  <tbody>\n",
       "    <tr>\n",
       "      <th>s1</th>\n",
       "      <td>12</td>\n",
       "      <td>11</td>\n",
       "      <td>10</td>\n",
       "      <td>10</td>\n",
       "      <td>10</td>\n",
       "      <td>10</td>\n",
       "      <td>10</td>\n",
       "    </tr>\n",
       "    <tr>\n",
       "      <th>s2</th>\n",
       "      <td>9</td>\n",
       "      <td>11</td>\n",
       "      <td>12</td>\n",
       "      <td>10</td>\n",
       "      <td>10</td>\n",
       "      <td>10</td>\n",
       "      <td>10</td>\n",
       "    </tr>\n",
       "    <tr>\n",
       "      <th>s3</th>\n",
       "      <td>1</td>\n",
       "      <td>11</td>\n",
       "      <td>10</td>\n",
       "      <td>11</td>\n",
       "      <td>10</td>\n",
       "      <td>5</td>\n",
       "      <td>9</td>\n",
       "    </tr>\n",
       "    <tr>\n",
       "      <th>s4</th>\n",
       "      <td>22</td>\n",
       "      <td>21</td>\n",
       "      <td>9</td>\n",
       "      <td>10</td>\n",
       "      <td>10</td>\n",
       "      <td>10</td>\n",
       "      <td>10</td>\n",
       "    </tr>\n",
       "    <tr>\n",
       "      <th>s5</th>\n",
       "      <td>20</td>\n",
       "      <td>22</td>\n",
       "      <td>10</td>\n",
       "      <td>10</td>\n",
       "      <td>13</td>\n",
       "      <td>10</td>\n",
       "      <td>10</td>\n",
       "    </tr>\n",
       "    <tr>\n",
       "      <th>s6</th>\n",
       "      <td>23</td>\n",
       "      <td>21</td>\n",
       "      <td>14</td>\n",
       "      <td>10</td>\n",
       "      <td>10</td>\n",
       "      <td>10</td>\n",
       "      <td>10</td>\n",
       "    </tr>\n",
       "  </tbody>\n",
       "</table>\n",
       "</div>"
      ],
      "text/plain": [
       "    b1  b2  b3  b4  b5  b6  b7\n",
       "s1  12  11  10  10  10  10  10\n",
       "s2   9  11  12  10  10  10  10\n",
       "s3   1  11  10  11  10   5   9\n",
       "s4  22  21   9  10  10  10  10\n",
       "s5  20  22  10  10  13  10  10\n",
       "s6  23  21  14  10  10  10  10"
      ]
     },
     "execution_count": 122,
     "metadata": {},
     "output_type": "execute_result"
    }
   ],
   "source": [
    "t1"
   ]
  },
  {
   "cell_type": "code",
   "execution_count": 123,
   "metadata": {},
   "outputs": [
    {
     "data": {
      "text/plain": [
       "Index(['s1', 's2', 's3', 's4', 's5', 's6'], dtype='object')"
      ]
     },
     "execution_count": 123,
     "metadata": {},
     "output_type": "execute_result"
    }
   ],
   "source": [
    "t1.index"
   ]
  },
  {
   "cell_type": "code",
   "execution_count": 124,
   "metadata": {},
   "outputs": [
    {
     "data": {
      "text/plain": [
       "Index(['b1', 'b2', 'b3', 'b4', 'b5', 'b6', 'b7'], dtype='object')"
      ]
     },
     "execution_count": 124,
     "metadata": {},
     "output_type": "execute_result"
    }
   ],
   "source": [
    "t1.columns"
   ]
  },
  {
   "cell_type": "code",
   "execution_count": 126,
   "metadata": {},
   "outputs": [
    {
     "data": {
      "text/plain": [
       "array([[12, 11, 10, 10, 10, 10, 10],\n",
       "       [ 9, 11, 12, 10, 10, 10, 10],\n",
       "       [ 1, 11, 10, 11, 10,  5,  9],\n",
       "       [22, 21,  9, 10, 10, 10, 10],\n",
       "       [20, 22, 10, 10, 13, 10, 10],\n",
       "       [23, 21, 14, 10, 10, 10, 10]])"
      ]
     },
     "execution_count": 126,
     "metadata": {},
     "output_type": "execute_result"
    }
   ],
   "source": [
    "t1.values"
   ]
  },
  {
   "cell_type": "code",
   "execution_count": 130,
   "metadata": {},
   "outputs": [],
   "source": [
    "t2 = multiplicative_replacement(t1.values)"
   ]
  },
  {
   "cell_type": "code",
   "execution_count": 131,
   "metadata": {},
   "outputs": [
    {
     "data": {
      "text/plain": [
       "array([[0.26198386, 0.24015187, 0.21831989, 0.02040816, 0.21831989,\n",
       "        0.02040816, 0.02040816],\n",
       "       [0.125     , 0.15277778, 0.16666667, 0.13888889, 0.13888889,\n",
       "        0.13888889, 0.13888889],\n",
       "       [0.02084238, 0.22926617, 0.02040816, 0.22926617, 0.2084238 ,\n",
       "        0.1042119 , 0.18758142],\n",
       "       [0.26281732, 0.25087108, 0.10751618, 0.02040816, 0.11946242,\n",
       "        0.11946242, 0.11946242],\n",
       "       [0.2304922 , 0.25354142, 0.02040816, 0.1152461 , 0.14981993,\n",
       "        0.1152461 , 0.1152461 ],\n",
       "       [0.23469388, 0.21428571, 0.14285714, 0.10204082, 0.10204082,\n",
       "        0.10204082, 0.10204082]])"
      ]
     },
     "execution_count": 131,
     "metadata": {},
     "output_type": "execute_result"
    }
   ],
   "source": [
    "t2"
   ]
  },
  {
   "cell_type": "code",
   "execution_count": 136,
   "metadata": {},
   "outputs": [],
   "source": [
    "t3 = pd.DataFrame(multiplicative_replacement(t1.values),\n",
    "                      index=t1.index,\n",
    "                      columns=t1.columns)\n",
    "    \n"
   ]
  },
  {
   "cell_type": "code",
   "execution_count": 135,
   "metadata": {},
   "outputs": [
    {
     "data": {
      "text/html": [
       "<div>\n",
       "<style scoped>\n",
       "    .dataframe tbody tr th:only-of-type {\n",
       "        vertical-align: middle;\n",
       "    }\n",
       "\n",
       "    .dataframe tbody tr th {\n",
       "        vertical-align: top;\n",
       "    }\n",
       "\n",
       "    .dataframe thead th {\n",
       "        text-align: right;\n",
       "    }\n",
       "</style>\n",
       "<table border=\"1\" class=\"dataframe\">\n",
       "  <thead>\n",
       "    <tr style=\"text-align: right;\">\n",
       "      <th></th>\n",
       "      <th>b1</th>\n",
       "      <th>b2</th>\n",
       "      <th>b3</th>\n",
       "      <th>b4</th>\n",
       "      <th>b5</th>\n",
       "      <th>b6</th>\n",
       "      <th>b7</th>\n",
       "    </tr>\n",
       "  </thead>\n",
       "  <tbody>\n",
       "    <tr>\n",
       "      <th>s1</th>\n",
       "      <td>0.261984</td>\n",
       "      <td>0.240152</td>\n",
       "      <td>0.218320</td>\n",
       "      <td>0.020408</td>\n",
       "      <td>0.218320</td>\n",
       "      <td>0.020408</td>\n",
       "      <td>0.020408</td>\n",
       "    </tr>\n",
       "    <tr>\n",
       "      <th>s2</th>\n",
       "      <td>0.125000</td>\n",
       "      <td>0.152778</td>\n",
       "      <td>0.166667</td>\n",
       "      <td>0.138889</td>\n",
       "      <td>0.138889</td>\n",
       "      <td>0.138889</td>\n",
       "      <td>0.138889</td>\n",
       "    </tr>\n",
       "    <tr>\n",
       "      <th>s3</th>\n",
       "      <td>0.020842</td>\n",
       "      <td>0.229266</td>\n",
       "      <td>0.020408</td>\n",
       "      <td>0.229266</td>\n",
       "      <td>0.208424</td>\n",
       "      <td>0.104212</td>\n",
       "      <td>0.187581</td>\n",
       "    </tr>\n",
       "    <tr>\n",
       "      <th>s4</th>\n",
       "      <td>0.262817</td>\n",
       "      <td>0.250871</td>\n",
       "      <td>0.107516</td>\n",
       "      <td>0.020408</td>\n",
       "      <td>0.119462</td>\n",
       "      <td>0.119462</td>\n",
       "      <td>0.119462</td>\n",
       "    </tr>\n",
       "    <tr>\n",
       "      <th>s5</th>\n",
       "      <td>0.230492</td>\n",
       "      <td>0.253541</td>\n",
       "      <td>0.020408</td>\n",
       "      <td>0.115246</td>\n",
       "      <td>0.149820</td>\n",
       "      <td>0.115246</td>\n",
       "      <td>0.115246</td>\n",
       "    </tr>\n",
       "    <tr>\n",
       "      <th>s6</th>\n",
       "      <td>0.234694</td>\n",
       "      <td>0.214286</td>\n",
       "      <td>0.142857</td>\n",
       "      <td>0.102041</td>\n",
       "      <td>0.102041</td>\n",
       "      <td>0.102041</td>\n",
       "      <td>0.102041</td>\n",
       "    </tr>\n",
       "  </tbody>\n",
       "</table>\n",
       "</div>"
      ],
      "text/plain": [
       "          b1        b2        b3        b4        b5        b6        b7\n",
       "s1  0.261984  0.240152  0.218320  0.020408  0.218320  0.020408  0.020408\n",
       "s2  0.125000  0.152778  0.166667  0.138889  0.138889  0.138889  0.138889\n",
       "s3  0.020842  0.229266  0.020408  0.229266  0.208424  0.104212  0.187581\n",
       "s4  0.262817  0.250871  0.107516  0.020408  0.119462  0.119462  0.119462\n",
       "s5  0.230492  0.253541  0.020408  0.115246  0.149820  0.115246  0.115246\n",
       "s6  0.234694  0.214286  0.142857  0.102041  0.102041  0.102041  0.102041"
      ]
     },
     "execution_count": 135,
     "metadata": {},
     "output_type": "execute_result"
    }
   ],
   "source": [
    "t3"
   ]
  },
  {
   "cell_type": "markdown",
   "metadata": {},
   "source": [
    "# From this point should not be considered"
   ]
  },
  {
   "cell_type": "code",
   "execution_count": null,
   "metadata": {},
   "outputs": [],
   "source": []
  },
  {
   "cell_type": "code",
   "execution_count": 259,
   "metadata": {},
   "outputs": [],
   "source": [
    "df = get_data_for_sample(\"//gfs/data/curated_metagenomes_metaphlan2/ChngKR_2016.csv\")"
   ]
  },
  {
   "cell_type": "code",
   "execution_count": 286,
   "metadata": {},
   "outputs": [],
   "source": [
    "def analyse_2(dataset_name, table_files, column_to_group = \"STUDY_CONDITION\", rank='F'):\n",
    "    result_df, percentile_df = get_table_and_grouping(dataset_name, table_files,\n",
    "                                                  column_to_group,\n",
    "                                                  rank)\n",
    "    differences = list(result_df.loc[[i for i in result_df[\"Reject null hypothesis\"]]].index)\n",
    "    print(\"------------------- RESULTS ------------------- \")\n",
    "    df_list = []\n",
    "    \n",
    "    differences = ['Nocardioidaceae', 'Methylobacteriaceae', 'Malasseziaceae', 'Potyviridae']\n",
    "    \n",
    "    for d in differences:\n",
    "        print(percentile_df[50.0].loc[d])\n",
    "        df = pd.DataFrame(percentile_df[50.0].loc[d])\n",
    "        df_list.append(df.transpose())\n",
    "    try:\n",
    "        df_dataset = pd.concat(df_list)\n",
    "    except:\n",
    "        return differences\n",
    "    unpivot = pd.DataFrame(df_dataset.unstack(level=1))\n",
    "    unpivot = unpivot.reset_index()\n",
    "    unpivot[\"Abundance\"] = unpivot[0]\n",
    "    unpivot[\"Name\"] = unpivot['level_1']\n",
    "    unpivot = unpivot.drop(columns=[0, 'level_1'])\n",
    "    \n",
    "    g = sns.catplot(x=\"Name\", y=\"Abundance\", hue=\"Group\", data=unpivot,\n",
    "                kind=\"bar\", palette=\"muted\")\n",
    "    return unpivot"
   ]
  },
  {
   "cell_type": "code",
   "execution_count": 265,
   "metadata": {},
   "outputs": [
    {
     "data": {
      "text/html": [
       "<div>\n",
       "<style scoped>\n",
       "    .dataframe tbody tr th:only-of-type {\n",
       "        vertical-align: middle;\n",
       "    }\n",
       "\n",
       "    .dataframe tbody tr th {\n",
       "        vertical-align: top;\n",
       "    }\n",
       "\n",
       "    .dataframe thead th {\n",
       "        text-align: right;\n",
       "    }\n",
       "</style>\n",
       "<table border=\"1\" class=\"dataframe\">\n",
       "  <thead>\n",
       "    <tr style=\"text-align: right;\">\n",
       "      <th></th>\n",
       "      <th>SUBJECTID</th>\n",
       "      <th>DISEASE</th>\n",
       "    </tr>\n",
       "  </thead>\n",
       "  <tbody>\n",
       "    <tr>\n",
       "      <th>35</th>\n",
       "      <td>Sub1</td>\n",
       "      <td>none</td>\n",
       "    </tr>\n",
       "    <tr>\n",
       "      <th>218</th>\n",
       "      <td>Sub6</td>\n",
       "      <td>none</td>\n",
       "    </tr>\n",
       "    <tr>\n",
       "      <th>376</th>\n",
       "      <td>Sub5</td>\n",
       "      <td>none</td>\n",
       "    </tr>\n",
       "    <tr>\n",
       "      <th>634</th>\n",
       "      <td>Sub12</td>\n",
       "      <td>none</td>\n",
       "    </tr>\n",
       "    <tr>\n",
       "      <th>818</th>\n",
       "      <td>Sub4</td>\n",
       "      <td>none</td>\n",
       "    </tr>\n",
       "    <tr>\n",
       "      <th>1008</th>\n",
       "      <td>Sub3</td>\n",
       "      <td>none</td>\n",
       "    </tr>\n",
       "    <tr>\n",
       "      <th>1255</th>\n",
       "      <td>Sub2</td>\n",
       "      <td>none</td>\n",
       "    </tr>\n",
       "    <tr>\n",
       "      <th>2820</th>\n",
       "      <td>Sub7</td>\n",
       "      <td>none</td>\n",
       "    </tr>\n",
       "  </tbody>\n",
       "</table>\n",
       "</div>"
      ],
      "text/plain": [
       "     SUBJECTID DISEASE\n",
       "35        Sub1    none\n",
       "218       Sub6    none\n",
       "376       Sub5    none\n",
       "634      Sub12    none\n",
       "818       Sub4    none\n",
       "1008      Sub3    none\n",
       "1255      Sub2    none\n",
       "2820      Sub7    none"
      ]
     },
     "execution_count": 265,
     "metadata": {},
     "output_type": "execute_result"
    }
   ],
   "source": [
    "df.loc[df[\"Rank\"] == \"f\"][[\"SUBJECTID\", \"DISEASE\"]].drop_duplicates()"
   ]
  },
  {
   "cell_type": "code",
   "execution_count": 267,
   "metadata": {},
   "outputs": [],
   "source": [
    "df_k = get_data_for_sample(\"//gfs/data/curated_metagenomes_kraken2/ChngKR_2016.csv\")"
   ]
  },
  {
   "cell_type": "code",
   "execution_count": null,
   "metadata": {},
   "outputs": [],
   "source": [
    "df_k.loc[df_k[\"Rank\"] == \"F\"][[\"SUBJECTID\", \"DISEASE\"]].drop_duplicates()"
   ]
  },
  {
   "cell_type": "code",
   "execution_count": 292,
   "metadata": {},
   "outputs": [
    {
     "name": "stdout",
     "output_type": "stream",
     "text": [
      "//gfs/data/curated_metagenomes_metaphlan2/ChngKR_2016.csv\n",
      "   Unnamed: 0   Sample_ID          Dataset Rank            Name  Abundance  \\\n",
      "0           0  SRR1950714  ChngKR_2016.csv    k        Bacteria   89.43953   \n",
      "1           1  SRR1950714  ChngKR_2016.csv    k         Viruses    9.57920   \n",
      "2           2  SRR1950714  ChngKR_2016.csv    k       Eukaryota    0.98127   \n",
      "3           3  SRR1950714  ChngKR_2016.csv    p  Actinobacteria   68.52375   \n",
      "4           4  SRR1950714  ChngKR_2016.csv    p  Proteobacteria   10.80472   \n",
      "\n",
      "  STUDY_CONDITION BODY_SITE SUBJECTID COUNTRY DISEASE  AGE AGE_CATEGORY  \n",
      "0         control      skin      Sub1     IDN    none   30        adult  \n",
      "1         control      skin      Sub1     IDN    none   30        adult  \n",
      "2         control      skin      Sub1     IDN    none   30        adult  \n",
      "3         control      skin      Sub1     IDN    none   30        adult  \n",
      "4         control      skin      Sub1     IDN    none   30        adult  \n",
      "Groups: 3                none\n",
      "5566            AD;AR\n",
      "8077               AD\n",
      "9179     AD;asthma;AR\n",
      "11334       AD;asthma\n",
      "14888       asthma;AR\n",
      "16143              AR\n",
      "Name: DISEASE, dtype: object\n",
      "Shape of table: (78, 12)\n",
      "------------------- RESULTS ------------------- \n",
      "Group\n",
      "AD              0.282835\n",
      "AD;AR           0.157280\n",
      "AD;asthma       0.268375\n",
      "AD;asthma;AR    0.374050\n",
      "AR              0.197085\n",
      "asthma;AR       0.903010\n",
      "none            0.928535\n",
      "Name: Basidiomycota, dtype: float64\n"
     ]
    },
    {
     "data": {
      "image/png": "[encoded data removed]",
      "text/plain": [
       "<Figure size 468.25x360 with 1 Axes>"
      ]
     },
     "metadata": {
      "needs_background": "light"
     },
     "output_type": "display_data"
    }
   ],
   "source": [
    "df_dataset_ChngKR_2016_kraken = analyse(\"ChngKR_2016\", table_files = files_metaphlan,\n",
    "                     column_to_group = \"DISEASE\", rank='g')"
   ]
  },
  {
   "cell_type": "code",
   "execution_count": 306,
   "metadata": {},
   "outputs": [
    {
     "name": "stdout",
     "output_type": "stream",
     "text": [
      "//gfs/data/curated_metagenomes_kraken2/AsnicarF_2017.csv\n",
      "   Unnamed: 0   Sample_ID            Dataset Rank                Name  \\\n",
      "0           0  SRR4052021  AsnicarF_2017.csv    U        unclassified   \n",
      "1           1  SRR4052021  AsnicarF_2017.csv    R                root   \n",
      "2           2  SRR4052021  AsnicarF_2017.csv   R1  cellular organisms   \n",
      "3           3  SRR4052021  AsnicarF_2017.csv    D            Bacteria   \n",
      "4           4  SRR4052021  AsnicarF_2017.csv    P      Proteobacteria   \n",
      "\n",
      "   Abundance STUDY_CONDITION BODY_SITE SUBJECTID COUNTRY  DISEASE  AGE  \\\n",
      "0       6.83         control     stool   MV_FEI1     ITA  healthy  1.0   \n",
      "1      93.17         control     stool   MV_FEI1     ITA  healthy  1.0   \n",
      "2      91.83         control     stool   MV_FEI1     ITA  healthy  1.0   \n",
      "3      91.83         control     stool   MV_FEI1     ITA  healthy  1.0   \n",
      "4      80.22         control     stool   MV_FEI1     ITA  healthy  1.0   \n",
      "\n",
      "  AGE_CATEGORY  \n",
      "0      newborn  \n",
      "1      newborn  \n",
      "2      newborn  \n",
      "3      newborn  \n",
      "4      newborn  \n",
      "Groups: 4       newborn\n",
      "8552      adult\n",
      "Name: AGE_CATEGORY, dtype: object\n",
      "Shape of table: (24, 42)\n",
      "------------------- RESULTS ------------------- \n"
     ]
    }
   ],
   "source": [
    "df_datasetAsnicarF_2017_kraken = analyse(\"AsnicarF_2017\", table_files = files_kraken, \n",
    "                     column_to_group = \"AGE_CATEGORY\", rank='P')"
   ]
  },
  {
   "cell_type": "code",
   "execution_count": 309,
   "metadata": {},
   "outputs": [
    {
     "name": "stdout",
     "output_type": "stream",
     "text": [
      "//gfs/data/curated_metagenomes_metaphlan2/AsnicarF_2017.csv\n",
      "   Unnamed: 0   Sample_ID            Dataset Rank            Name  Abundance  \\\n",
      "0           0  SRR4052021  AsnicarF_2017.csv    k        Bacteria   97.92389   \n",
      "1           1  SRR4052021  AsnicarF_2017.csv    k         Viruses    2.07611   \n",
      "2           2  SRR4052021  AsnicarF_2017.csv    p  Proteobacteria   78.59277   \n",
      "3           3  SRR4052021  AsnicarF_2017.csv    p  Actinobacteria   12.60032   \n",
      "4           4  SRR4052021  AsnicarF_2017.csv    p      Firmicutes    6.73081   \n",
      "\n",
      "  STUDY_CONDITION BODY_SITE SUBJECTID COUNTRY  DISEASE  AGE AGE_CATEGORY  \n",
      "0         control     stool   MV_FEI1     ITA  healthy  1.0      newborn  \n",
      "1         control     stool   MV_FEI1     ITA  healthy  1.0      newborn  \n",
      "2         control     stool   MV_FEI1     ITA  healthy  1.0      newborn  \n",
      "3         control     stool   MV_FEI1     ITA  healthy  1.0      newborn  \n",
      "4         control     stool   MV_FEI1     ITA  healthy  1.0      newborn  \n",
      "Groups: 2      newborn\n",
      "257      adult\n",
      "Name: AGE_CATEGORY, dtype: object\n",
      "Shape of table: (23, 9)\n",
      "------------------- RESULTS ------------------- \n",
      "Group\n",
      "adult      1.00000\n",
      "newborn    7.63306\n",
      "Name: Proteobacteria, dtype: float64\n"
     ]
    },
    {
     "data": {
      "image/png": "[encoded data removed]",
      "text/plain": [
       "<Figure size 439.375x360 with 1 Axes>"
      ]
     },
     "metadata": {
      "needs_background": "light"
     },
     "output_type": "display_data"
    }
   ],
   "source": [
    "df_datasetAsnicarF_2017_kraken = analyse(\"AsnicarF_2017\", table_files = files_metaphlan, \n",
    "                     column_to_group = \"AGE_CATEGORY\", rank='p')"
   ]
  },
  {
   "cell_type": "code",
   "execution_count": 248,
   "metadata": {},
   "outputs": [
    {
     "name": "stdout",
     "output_type": "stream",
     "text": [
      "//gfs/data/curated_metagenomes_metaphlan2/AsnicarF_2017.csv\n",
      "   Unnamed: 0   Sample_ID            Dataset Rank            Name  Abundance  \\\n",
      "0           0  SRR4052021  AsnicarF_2017.csv    k        Bacteria   97.92389   \n",
      "1           1  SRR4052021  AsnicarF_2017.csv    k         Viruses    2.07611   \n",
      "2           2  SRR4052021  AsnicarF_2017.csv    p  Proteobacteria   78.59277   \n",
      "3           3  SRR4052021  AsnicarF_2017.csv    p  Actinobacteria   12.60032   \n",
      "4           4  SRR4052021  AsnicarF_2017.csv    p      Firmicutes    6.73081   \n",
      "\n",
      "  STUDY_CONDITION BODY_SITE SUBJECTID COUNTRY  DISEASE  AGE AGE_CATEGORY  \n",
      "0         control     stool   MV_FEI1     ITA  healthy  1.0      newborn  \n",
      "1         control     stool   MV_FEI1     ITA  healthy  1.0      newborn  \n",
      "2         control     stool   MV_FEI1     ITA  healthy  1.0      newborn  \n",
      "3         control     stool   MV_FEI1     ITA  healthy  1.0      newborn  \n",
      "4         control     stool   MV_FEI1     ITA  healthy  1.0      newborn  \n",
      "Groups: 21     newborn\n",
      "286      adult\n",
      "Name: AGE_CATEGORY, dtype: object\n",
      "Shape of table: (23, 55)\n",
      "------------------- RESULTS ------------------- \n",
      "Group\n",
      "adult      1.000000\n",
      "newborn    4.505245\n",
      "Name: Enterobacteriaceae, dtype: float64\n"
     ]
    },
    {
     "data": {
      "text/html": [
       "<div>\n",
       "<style scoped>\n",
       "    .dataframe tbody tr th:only-of-type {\n",
       "        vertical-align: middle;\n",
       "    }\n",
       "\n",
       "    .dataframe tbody tr th {\n",
       "        vertical-align: top;\n",
       "    }\n",
       "\n",
       "    .dataframe thead th {\n",
       "        text-align: right;\n",
       "    }\n",
       "</style>\n",
       "<table border=\"1\" class=\"dataframe\">\n",
       "  <thead>\n",
       "    <tr style=\"text-align: right;\">\n",
       "      <th></th>\n",
       "      <th>Group</th>\n",
       "      <th>Abundance</th>\n",
       "      <th>Name</th>\n",
       "    </tr>\n",
       "  </thead>\n",
       "  <tbody>\n",
       "    <tr>\n",
       "      <th>0</th>\n",
       "      <td>adult</td>\n",
       "      <td>1.000000</td>\n",
       "      <td>Enterobacteriaceae</td>\n",
       "    </tr>\n",
       "    <tr>\n",
       "      <th>1</th>\n",
       "      <td>newborn</td>\n",
       "      <td>4.505245</td>\n",
       "      <td>Enterobacteriaceae</td>\n",
       "    </tr>\n",
       "  </tbody>\n",
       "</table>\n",
       "</div>"
      ],
      "text/plain": [
       "     Group  Abundance                Name\n",
       "0    adult   1.000000  Enterobacteriaceae\n",
       "1  newborn   4.505245  Enterobacteriaceae"
      ]
     },
     "execution_count": 248,
     "metadata": {},
     "output_type": "execute_result"
    },
    {
     "data": {
      "image/png": "[encoded data removed]",
      "text/plain": [
       "<Figure size 439.375x360 with 1 Axes>"
      ]
     },
     "metadata": {
      "needs_background": "light"
     },
     "output_type": "display_data"
    }
   ],
   "source": [
    "analyse(\"AsnicarF_2017\", table_files = files_metaphlan, column_to_group = \"AGE_CATEGORY\", \n",
    "        rank='f')"
   ]
  },
  {
   "cell_type": "code",
   "execution_count": 294,
   "metadata": {},
   "outputs": [
    {
     "name": "stdout",
     "output_type": "stream",
     "text": [
      "//gfs/data/curated_metagenomes_kraken2/FengQ_2015.csv\n",
      "   Unnamed: 0  Sample_ID         Dataset Rank                 Name  Abundance  \\\n",
      "0           0  ERR688526  FengQ_2015.csv    U         unclassified      70.88   \n",
      "1           1  ERR688526  FengQ_2015.csv    R                 root      29.12   \n",
      "2           2  ERR688526  FengQ_2015.csv   R1   cellular organisms      29.11   \n",
      "3           3  ERR688526  FengQ_2015.csv    D             Bacteria      29.05   \n",
      "4           4  ERR688526  FengQ_2015.csv   D1  Terrabacteria group      25.38   \n",
      "\n",
      "  STUDY_CONDITION BODY_SITE SUBJECTID COUNTRY              DISEASE  AGE  \\\n",
      "0         adenoma     stool  SID31282     AUT  adenoma;fatty_liver   63   \n",
      "1         adenoma     stool  SID31282     AUT  adenoma;fatty_liver   63   \n",
      "2         adenoma     stool  SID31282     AUT  adenoma;fatty_liver   63   \n",
      "3         adenoma     stool  SID31282     AUT  adenoma;fatty_liver   63   \n",
      "4         adenoma     stool  SID31282     AUT  adenoma;fatty_liver   63   \n",
      "\n",
      "  AGE_CATEGORY  \n",
      "0        adult  \n",
      "1        adult  \n",
      "2        adult  \n",
      "3        adult  \n",
      "4        adult  \n",
      "Groups: 5                           adenoma;fatty_liver\n",
      "7883           adenoma;fatty_liver;hypertension\n",
      "15714              fatty_liver;T2D;hypertension\n",
      "23059              CRC;fatty_liver;hypertension\n",
      "30635                                       CRC\n",
      "38862                                      none\n",
      "62771                          CRC;hypertension\n",
      "70446                              hypertension\n",
      "86745                               adenoma;T2D\n",
      "94599                  fatty_liver;hypertension\n",
      "140823                         T2D;hypertension\n",
      "147946                                  adenoma\n",
      "209835                 adenoma;T2D;hypertension\n",
      "233976                              fatty_liver\n",
      "272774         CRC;fatty_liver;T2D;hypertension\n",
      "312197                     adenoma;hypertension\n",
      "334300                          CRC;fatty_liver\n",
      "474784                     CRC;T2D;hypertension\n",
      "840718                          fatty_liver;T2D\n",
      "1028209    adenoma;fatty_liver;T2D;hypertension\n",
      "1135140                 adenoma;fatty_liver;T2D\n",
      "Name: DISEASE, dtype: object\n",
      "Shape of table: (154, 42)\n",
      "------------------- RESULTS ------------------- \n",
      "Group\n",
      "CRC                                     0.110\n",
      "CRC;T2D;hypertension                    0.235\n",
      "CRC;fatty_liver                         0.020\n",
      "CRC;fatty_liver;T2D;hypertension        0.055\n",
      "CRC;fatty_liver;hypertension            0.055\n",
      "CRC;hypertension                        0.045\n",
      "T2D;hypertension                        0.040\n",
      "adenoma                                 0.035\n",
      "adenoma;T2D                             0.030\n",
      "adenoma;T2D;hypertension                0.035\n",
      "adenoma;fatty_liver                     0.040\n",
      "adenoma;fatty_liver;T2D                 0.030\n",
      "adenoma;fatty_liver;T2D;hypertension    0.040\n",
      "adenoma;fatty_liver;hypertension        0.045\n",
      "adenoma;hypertension                    0.040\n",
      "fatty_liver                             0.040\n",
      "fatty_liver;T2D                         0.040\n",
      "fatty_liver;T2D;hypertension            0.030\n",
      "fatty_liver;hypertension                0.040\n",
      "hypertension                            0.040\n",
      "none                                    0.055\n",
      "Name: Chordata, dtype: float64\n",
      "Group\n",
      "CRC                                     0.060\n",
      "CRC;T2D;hypertension                    0.100\n",
      "CRC;fatty_liver                         0.060\n",
      "CRC;fatty_liver;T2D;hypertension        0.010\n",
      "CRC;fatty_liver;hypertension            0.020\n",
      "CRC;hypertension                        0.010\n",
      "T2D;hypertension                        0.020\n",
      "adenoma                                 0.010\n",
      "adenoma;T2D                             0.020\n",
      "adenoma;T2D;hypertension                0.015\n",
      "adenoma;fatty_liver                     0.020\n",
      "adenoma;fatty_liver;T2D                 0.010\n",
      "adenoma;fatty_liver;T2D;hypertension    0.010\n",
      "adenoma;fatty_liver;hypertension        0.020\n",
      "adenoma;hypertension                    0.015\n",
      "fatty_liver                             0.010\n",
      "fatty_liver;T2D                         0.020\n",
      "fatty_liver;T2D;hypertension            0.020\n",
      "fatty_liver;hypertension                0.010\n",
      "hypertension                            0.010\n",
      "none                                    0.015\n",
      "Name: Fusobacteria, dtype: float64\n"
     ]
    },
    {
     "data": {
      "image/png": "[encoded data removed]",
      "text/plain": [
       "<Figure size 588.5x360 with 1 Axes>"
      ]
     },
     "metadata": {
      "needs_background": "light"
     },
     "output_type": "display_data"
    }
   ],
   "source": [
    "df_datasetAsnicarF_2017_kraken = analyse(\"FengQ_2015\", table_files = files_kraken, \n",
    "                     column_to_group = \"DISEASE\", rank='P')"
   ]
  },
  {
   "cell_type": "code",
   "execution_count": 253,
   "metadata": {},
   "outputs": [
    {
     "name": "stdout",
     "output_type": "stream",
     "text": [
      "//gfs/data/curated_metagenomes_kraken2/FengQ_2015.csv\n",
      "   Unnamed: 0  Sample_ID         Dataset Rank                       Name  \\\n",
      "0           0  ERR688526  FengQ_2015.csv    U               unclassified   \n",
      "1           1  ERR688526  FengQ_2015.csv    R                       root   \n",
      "2           2  ERR688526  FengQ_2015.csv   R1         cellular organisms   \n",
      "3           3  ERR688526  FengQ_2015.csv    D                   Bacteria   \n",
      "4           4  ERR688526  FengQ_2015.csv   D1        Terrabacteria group   \n",
      "\n",
      "   Abundance STUDY_CONDITION BODY_SITE SUBJECTID COUNTRY              DISEASE  \\\n",
      "0      70.88         adenoma     stool  SID31282     AUT  adenoma;fatty_liver   \n",
      "1      29.12         adenoma     stool  SID31282     AUT  adenoma;fatty_liver   \n",
      "2      29.11         adenoma     stool  SID31282     AUT  adenoma;fatty_liver   \n",
      "3      29.05         adenoma     stool  SID31282     AUT  adenoma;fatty_liver   \n",
      "4      25.38         adenoma     stool  SID31282     AUT  adenoma;fatty_liver   \n",
      "\n",
      "   AGE AGE_CATEGORY  \n",
      "0   63        adult  \n",
      "1   63        adult  \n",
      "2   63        adult  \n",
      "3   63        adult  \n",
      "4   63        adult  \n",
      "Groups: 8        adenoma\n",
      "15717    control\n",
      "23062        CRC\n",
      "Name: STUDY_CONDITION, dtype: object\n",
      "Shape of table: (154, 462)\n",
      "------------------- RESULTS ------------------- \n"
     ]
    }
   ],
   "source": [
    "df_datasetAsnicarF_2017_kraken = analyse(\"FengQ_2015\", table_files = files_kraken, \n",
    "                     column_to_group = \"STUDY_CONDITION\", rank='F')"
   ]
  },
  {
   "cell_type": "code",
   "execution_count": null,
   "metadata": {},
   "outputs": [],
   "source": []
  },
  {
   "cell_type": "code",
   "execution_count": null,
   "metadata": {},
   "outputs": [],
   "source": []
  }
 ],
 "metadata": {
  "kernelspec": {
   "display_name": "Python 3",
   "language": "python",
   "name": "python3"
  },
  "language_info": {
   "codemirror_mode": {
    "name": "ipython",
    "version": 3
   },
   "file_extension": ".py",
   "mimetype": "text/x-python",
   "name": "python",
   "nbconvert_exporter": "python",
   "pygments_lexer": "ipython3",
   "version": "3.6.6"
  }
 },
 "nbformat": 4,
 "nbformat_minor": 2
}
