{
 "cells": [
  {
   "cell_type": "code",
   "execution_count": 276,
   "metadata": {},
   "outputs": [],
   "source": [
    "import pandas as pd\n",
    "import os\n",
    "import seaborn as sns\n",
    "#from skbio.diversity import alpha_diversity\n",
    "#from skbio.diversity import beta_diversity\n",
    "#from skbio import TreeNode\n",
    "from io import StringIO\n",
    "#from skbio.stats.ordination import pcoa\n",
    "from skbio.stats.composition import ancom\n"
   ]
  },
  {
   "cell_type": "code",
   "execution_count": 348,
   "metadata": {},
   "outputs": [],
   "source": [
    "import cx_Oracle\n",
    "\n",
    "SERVER = 'dboracle.itk.ppke.hu'\n",
    "PORT = 1521\n",
    "SERVICE = 'rsc.itk.ppke.hu'\n",
    "USER = 'metagenome'\n",
    "PASSWORD = 'LrJPRUS73r84'\n",
    "\n",
    "class Connection():\n",
    "\n",
    "    def __init__(self):\n",
    "        dsn_tns = cx_Oracle.makedsn(SERVER, PORT, service_name=SERVICE)\n",
    "        self.connection = cx_Oracle.connect(USER, PASSWORD, dsn_tns)\n",
    "\n",
    "    def get_connection(self):\n",
    "        return self.connection\n",
    "\n",
    "    def select(self, sql):\n",
    "        return pd.read_sql(sql, con=self.connection)\n",
    "\n",
    "con = Connection()"
   ]
  },
  {
   "cell_type": "code",
   "execution_count": null,
   "metadata": {},
   "outputs": [],
   "source": []
  },
  {
   "cell_type": "code",
   "execution_count": 358,
   "metadata": {},
   "outputs": [],
   "source": [
    "def get_read_count(dataset_name, sample_id):\n",
    "    SQL = \"\"\"\n",
    "    select\n",
    "        DATASET_NAME,\n",
    "        NCBI_ACCESSION,\n",
    "        NUMBER_READS\n",
    "    from METADATA\n",
    "    where dataset_name = '{DATASET_NAME}'\n",
    "    and NCBI_ACCESSION like '%{SAMPLE_ID}%'\n",
    "    \"\"\".replace(\"{DATASET_NAME}\",dataset_name).replace(\"{SAMPLE_ID}\",sample_id)\n",
    "    df = con.select(SQL)\n",
    "    return int(df.NUMBER_READS)"
   ]
  },
  {
   "cell_type": "code",
   "execution_count": 359,
   "metadata": {},
   "outputs": [
    {
     "data": {
      "text/plain": [
       "77841428"
      ]
     },
     "execution_count": 359,
     "metadata": {},
     "output_type": "execute_result"
    }
   ],
   "source": [
    "get_read_count(\"RampelliS_2015\", \"SRR1930123\")"
   ]
  },
  {
   "cell_type": "code",
   "execution_count": 277,
   "metadata": {},
   "outputs": [
    {
     "name": "stdout",
     "output_type": "stream",
     "text": [
      "['//gfs/data/curated_metagenomes_kraken2/RampelliS_2015.csv', '//gfs/data/curated_metagenomes_kraken2/AsnicarF_2017.csv', '//gfs/data/curated_metagenomes_kraken2/ChngKR_2016.csv', '//gfs/data/curated_metagenomes_kraken2/FengQ_2015.csv', '//gfs/data/curated_metagenomes_kraken2/Heitz-BuschartA_2016.csv', '//gfs/data/curated_metagenomes_kraken2/KarlssonFH_2013.csv', '//gfs/data/curated_metagenomes_kraken2/LeChatelierE_2013.csv', '//gfs/data/curated_metagenomes_kraken2/LiuW_2016.csv', '//gfs/data/curated_metagenomes_kraken2/LomanNJ_2013.csv', '//gfs/data/curated_metagenomes_kraken2/Obregon-TitoAJ_2015.csv', '//gfs/data/curated_metagenomes_kraken2/QinJ_2012.csv', '//gfs/data/curated_metagenomes_kraken2/QinN_2014.csv', '//gfs/data/curated_metagenomes_kraken2/SchirmerM_2016.csv', '//gfs/data/curated_metagenomes_kraken2/VatanenT_2016.csv', '//gfs/data/curated_metagenomes_kraken2/VogtmannE_2016.csv', '//gfs/data/curated_metagenomes_kraken2/XieH_2016.csv', '//gfs/data/curated_metagenomes_kraken2/YuJ_2015.csv', '//gfs/data/curated_metagenomes_kraken2/ZellerG_2014.csv']\n"
     ]
    }
   ],
   "source": [
    "path_kraken = '//gfs/data/curated_metagenomes_kraken2/'\n",
    "\n",
    "files_kraken = []\n",
    "# r=root, d=directories, f = files\n",
    "for r, d, f in os.walk(path):\n",
    "    for file in f:\n",
    "        if '.csv' in file:\n",
    "            files_kraken.append(os.path.join(path_kraken, file))\n",
    "print(files_kraken)"
   ]
  },
  {
   "cell_type": "code",
   "execution_count": 278,
   "metadata": {},
   "outputs": [
    {
     "name": "stdout",
     "output_type": "stream",
     "text": [
      "['//gfs/data/curated_metagenomes_metaphlan2/AsnicarF_2017.csv', '//gfs/data/curated_metagenomes_metaphlan2/ChngKR_2016.csv']\n"
     ]
    }
   ],
   "source": [
    "path_metaphlan = '//gfs/data/curated_metagenomes_metaphlan2/'\n",
    "\n",
    "files_metaphlan = []\n",
    "# r=root, d=directories, f = files\n",
    "for r, d, f in os.walk(path_metaphlan):\n",
    "    for file in f:\n",
    "        if '.csv' in file:\n",
    "            files_metaphlan.append(os.path.join(path_metaphlan, file))\n",
    "print(files_metaphlan)"
   ]
  },
  {
   "cell_type": "code",
   "execution_count": 284,
   "metadata": {},
   "outputs": [],
   "source": [
    "def get_data_for_sample(path_to_file):\n",
    "    dataset = path_to_file.split('/')[-1]\n",
    "    df = pd.read_csv(path_to_file, delimiter = ',')\n",
    "    df['Dataset'] = dataset\n",
    "    df[\"Name\"] = [n.strip() for n in df[\"Name\"]]\n",
    "    return df"
   ]
  },
  {
   "cell_type": "code",
   "execution_count": 280,
   "metadata": {},
   "outputs": [],
   "source": [
    "class WrongRank(Exception):\n",
    "    def __init__(self, value):\n",
    "        self.value = value\n",
    "    def __str__(self):\n",
    "        return repr(self.value)"
   ]
  },
  {
   "cell_type": "code",
   "execution_count": 367,
   "metadata": {},
   "outputs": [
    {
     "ename": "SyntaxError",
     "evalue": "invalid syntax (<ipython-input-367-6696115a30b8>, line 33)",
     "output_type": "error",
     "traceback": [
      "\u001b[0;36m  File \u001b[0;32m\"<ipython-input-367-6696115a30b8>\"\u001b[0;36m, line \u001b[0;32m33\u001b[0m\n\u001b[0;31m    table = df_2.pivot(index='Sample_ID', columns='Name', values='Abundance')\u001b[0m\n\u001b[0m        ^\u001b[0m\n\u001b[0;31mSyntaxError\u001b[0m\u001b[0;31m:\u001b[0m invalid syntax\n"
     ]
    }
   ],
   "source": [
    "def get_table_and_grouping(df_name, table_files, column_to_group='STUDY_CONDITION', rank='F', \n",
    "                           use_percent= True, percent=30):\n",
    "\n",
    "    for file in table_files:\n",
    "        if df_name in file:\n",
    "            index = table_files.index(file)\n",
    "            \n",
    "    print(table_files[index])\n",
    "    df = get_data_for_sample(table_files[index])\n",
    "    \n",
    "    print(df.head())\n",
    "    \n",
    "    df_2 = df.loc[df['Rank'] == rank]\n",
    "    if len(df_2) == 0:\n",
    "        raise WrongRank(rank)\n",
    "    \n",
    "    df_2 = df_2[['Sample_ID', 'Name', 'Abundance', column_to_group]]\n",
    "    df_2 = df_2.loc[[i == i for i in df_2[column_to_group]]]\n",
    "    \n",
    "    print(\"Groups:\", df_2[column_to_group].drop_duplicates())\n",
    "    \n",
    "    # Handling zero values: pseudo-count = 1\n",
    "    \n",
    "    def get_abudance_percent_for_zeros(row):\n",
    "        if row.Abundance == 0:\n",
    "            read_count = get_read_count(df_name, raw.Sample_ID)\n",
    "            row.Abundance = 1/read_count*100\n",
    "        return row\n",
    "        \n",
    "    #df_2[\"Abundance\"] = [1 if ab == 0 else ab for ab in df_2[\"Abundance\"]]\n",
    "    df_2 = df_2.apply(get_abudance_percent_for_zeros, axis=1)\n",
    "    print(df_2.head)\n",
    "    table = df_2.pivot(index='Sample_ID', columns='Name', values='Abundance')\n",
    "    \n",
    "    # Dropping sparse columns\n",
    "    if use_percent:\n",
    "        counts = {}\n",
    "        to_drop = []\n",
    "        for column in table.columns:\n",
    "            counts[column] = table[column].loc[table[column].notnull()].count()\n",
    "            if counts[column] < table.shape[1]/100*percent:\n",
    "                to_drop.append(column)\n",
    "        table = table.drop(columns = to_drop)\n",
    "    \n",
    "    print(\"Shape of table:\", table.shape)\n",
    "    \n",
    "    # Handling remaining Nan values\n",
    "    table = table.fillna(1)\n",
    "    \n",
    "    grouping = df_2[['Sample_ID', column_to_group]].drop_duplicates()\n",
    "    grouping.index = grouping[\"Sample_ID\"]\n",
    "    grouping = grouping.drop(columns = [\"Sample_ID\"])\n",
    "    \n",
    "    grouping_ser = grouping[column_to_group]\n",
    "    results = ancom(table, grouping_ser)\n",
    "    return results"
   ]
  },
  {
   "cell_type": "code",
   "execution_count": 345,
   "metadata": {},
   "outputs": [],
   "source": [
    "def analyse(dataset_name, table_files, column_to_group = \"STUDY_CONDITION\", rank='F', use_percent = False,\n",
    "            percent=30):\n",
    "    result_df, percentile_df = get_table_and_grouping(dataset_name, table_files,\n",
    "                                                  column_to_group,\n",
    "                                                  rank, use_percent, percent)\n",
    "    differences = list(result_df.loc[[i for i in result_df[\"Reject null hypothesis\"]]].index)\n",
    "    print(\"------------------- RESULTS ------------------- \")\n",
    "    df_list = []\n",
    "    for d in differences:\n",
    "        print(percentile_df[50.0].loc[d])\n",
    "        df = pd.DataFrame(percentile_df[50.0].loc[d])\n",
    "        df_list.append(df.transpose())\n",
    "    try:\n",
    "        df_dataset = pd.concat(df_list)\n",
    "    except:\n",
    "        return differences\n",
    "    \n",
    "    unpivot = pd.DataFrame(df_dataset.unstack(level=1))\n",
    "    unpivot = unpivot.reset_index()\n",
    "    unpivot[\"Abundance\"] = unpivot[0]\n",
    "    unpivot[\"Name\"] = unpivot['level_1']\n",
    "    unpivot = unpivot.drop(columns=[0, 'level_1'])\n",
    "    \n",
    "    g = sns.catplot(x=\"Name\", y=\"Abundance\", hue=\"Group\", data=unpivot,\n",
    "                kind=\"bar\", palette=\"muted\")\n",
    "    return result_df, percentile_df, unpivot"
   ]
  },
  {
   "cell_type": "code",
   "execution_count": 366,
   "metadata": {},
   "outputs": [
    {
     "name": "stdout",
     "output_type": "stream",
     "text": [
      "//gfs/data/curated_metagenomes_metaphlan2/ChngKR_2016.csv\n",
      "   Unnamed: 0   Sample_ID          Dataset Rank            Name  Abundance  \\\n",
      "0           0  SRR1950714  ChngKR_2016.csv    k        Bacteria   89.43953   \n",
      "1           1  SRR1950714  ChngKR_2016.csv    k         Viruses    9.57920   \n",
      "2           2  SRR1950714  ChngKR_2016.csv    k       Eukaryota    0.98127   \n",
      "3           3  SRR1950714  ChngKR_2016.csv    p  Actinobacteria   68.52375   \n",
      "4           4  SRR1950714  ChngKR_2016.csv    p  Proteobacteria   10.80472   \n",
      "\n",
      "  STUDY_CONDITION BODY_SITE SUBJECTID COUNTRY DISEASE  AGE AGE_CATEGORY  \n",
      "0         control      skin      Sub1     IDN    none   30        adult  \n",
      "1         control      skin      Sub1     IDN    none   30        adult  \n",
      "2         control      skin      Sub1     IDN    none   30        adult  \n",
      "3         control      skin      Sub1     IDN    none   30        adult  \n",
      "4         control      skin      Sub1     IDN    none   30        adult  \n",
      "Groups: 103              none\n",
      "5699            AD;AR\n",
      "8270               AD\n",
      "9254     AD;asthma;AR\n",
      "11454       AD;asthma\n",
      "14994       asthma;AR\n",
      "16253              AR\n",
      "Name: DISEASE, dtype: object\n",
      "      Sample_ID                      Name  Abundance DISEASE\n",
      "103  SRR1950714   Propionibacterium_acnes   62.84262    none\n",
      "104  SRR1950714  Enhydrobacter_aerosaccus    6.63936    none\n",
      "105  SRR1950714      Dasheen_mosaic_virus    5.56272    none\n",
      "106  SRR1950714    Staphylococcus_hominis    2.88687    none\n",
      "107  SRR1950714        Micrococcus_luteus    2.38396    none\n",
      "Shape of table: (78, 212)\n",
      "------------------- RESULTS ------------------- \n",
      "Group\n",
      "AD              1.00000\n",
      "AD;AR           1.00000\n",
      "AD;asthma       0.04301\n",
      "AD;asthma;AR    1.00000\n",
      "AR              1.00000\n",
      "asthma;AR       1.00000\n",
      "none            1.00000\n",
      "Name: Anaerococcus_hydrogenalis, dtype: float64\n",
      "Group\n",
      "AD              5.048275\n",
      "AD;AR           5.864240\n",
      "AD;asthma       5.204055\n",
      "AD;asthma;AR    3.591695\n",
      "AR              5.495875\n",
      "asthma;AR       0.983225\n",
      "none            1.199710\n",
      "Name: Dasheen_mosaic_virus, dtype: float64\n"
     ]
    },
    {
     "data": {
      "image/png": "[encoded data removed]",
      "text/plain": [
       "<Figure size 468.25x360 with 1 Axes>"
      ]
     },
     "metadata": {
      "needs_background": "light"
     },
     "output_type": "display_data"
    }
   ],
   "source": [
    "x = df_dataset_ChngKR_2016_kraken = analyse(\"ChngKR_2016\", table_files = files_metaphlan,\n",
    "                     column_to_group = \"DISEASE\", rank='s', use_percent = True, percent= 1)"
   ]
  },
  {
   "cell_type": "code",
   "execution_count": null,
   "metadata": {},
   "outputs": [],
   "source": []
  },
  {
   "cell_type": "code",
   "execution_count": null,
   "metadata": {},
   "outputs": [],
   "source": [
    "df_dataset_ChngKR_2016_kraken = analyse(\"ChngKR_2016\", table_files = files_metaphlan,\n",
    "                     column_to_group = \"DISEASE\", rank='p')"
   ]
  },
  {
   "cell_type": "code",
   "execution_count": 302,
   "metadata": {},
   "outputs": [
    {
     "name": "stdout",
     "output_type": "stream",
     "text": [
      "//gfs/data/curated_metagenomes_kraken2/ChngKR_2016.csv\n",
      "   Unnamed: 0   Sample_ID          Dataset Rank                Name  \\\n",
      "0           0  SRR1950714  ChngKR_2016.csv    U        unclassified   \n",
      "1           1  SRR1950714  ChngKR_2016.csv    R                root   \n",
      "2           2  SRR1950714  ChngKR_2016.csv   R1  cellular organisms   \n",
      "3           3  SRR1950714  ChngKR_2016.csv    D           Eukaryota   \n",
      "4           4  SRR1950714  ChngKR_2016.csv   D1        Opisthokonta   \n",
      "\n",
      "   Abundance STUDY_CONDITION BODY_SITE SUBJECTID COUNTRY DISEASE  AGE  \\\n",
      "0      17.79         control      skin      Sub1     IDN    none   30   \n",
      "1      82.21         control      skin      Sub1     IDN    none   30   \n",
      "2      82.14         control      skin      Sub1     IDN    none   30   \n",
      "3      68.55         control      skin      Sub1     IDN    none   30   \n",
      "4      68.55         control      skin      Sub1     IDN    none   30   \n",
      "\n",
      "  AGE_CATEGORY  \n",
      "0        adult  \n",
      "1        adult  \n",
      "2        adult  \n",
      "3        adult  \n",
      "4        adult  \n",
      "Groups: 9                 none\n",
      "151256           AD;AR\n",
      "215163              AD\n",
      "239158    AD;asthma;AR\n",
      "292866       AD;asthma\n",
      "379787       asthma;AR\n",
      "410611              AR\n",
      "Name: DISEASE, dtype: object\n",
      "Shape of table: (78, 42)\n",
      "------------------- RESULTS ------------------- \n",
      "Group\n",
      "AD              1.00\n",
      "AD;AR           1.00\n",
      "AD;asthma       1.00\n",
      "AD;asthma;AR    1.00\n",
      "AR              0.01\n",
      "asthma;AR       1.00\n",
      "none            1.00\n",
      "Name: Spirochaetes, dtype: float64\n"
     ]
    },
    {
     "data": {
      "image/png": "[encoded data removed]",
      "text/plain": [
       "<Figure size 468.25x360 with 1 Axes>"
      ]
     },
     "metadata": {
      "needs_background": "light"
     },
     "output_type": "display_data"
    }
   ],
   "source": [
    "df_dataset_ChngKR_2016_kraken = analyse(\"ChngKR_2016\", table_files = files_kraken,\n",
    "                     column_to_group = \"DISEASE\", rank='P')"
   ]
  },
  {
   "cell_type": "code",
   "execution_count": 259,
   "metadata": {},
   "outputs": [],
   "source": [
    "df = get_data_for_sample(\"//gfs/data/curated_metagenomes_metaphlan2/ChngKR_2016.csv\")"
   ]
  },
  {
   "cell_type": "code",
   "execution_count": 286,
   "metadata": {},
   "outputs": [],
   "source": [
    "def analyse_2(dataset_name, table_files, column_to_group = \"STUDY_CONDITION\", rank='F'):\n",
    "    result_df, percentile_df = get_table_and_grouping(dataset_name, table_files,\n",
    "                                                  column_to_group,\n",
    "                                                  rank)\n",
    "    differences = list(result_df.loc[[i for i in result_df[\"Reject null hypothesis\"]]].index)\n",
    "    print(\"------------------- RESULTS ------------------- \")\n",
    "    df_list = []\n",
    "    \n",
    "    differences = ['Nocardioidaceae', 'Methylobacteriaceae', 'Malasseziaceae', 'Potyviridae']\n",
    "    \n",
    "    for d in differences:\n",
    "        print(percentile_df[50.0].loc[d])\n",
    "        df = pd.DataFrame(percentile_df[50.0].loc[d])\n",
    "        df_list.append(df.transpose())\n",
    "    try:\n",
    "        df_dataset = pd.concat(df_list)\n",
    "    except:\n",
    "        return differences\n",
    "    unpivot = pd.DataFrame(df_dataset.unstack(level=1))\n",
    "    unpivot = unpivot.reset_index()\n",
    "    unpivot[\"Abundance\"] = unpivot[0]\n",
    "    unpivot[\"Name\"] = unpivot['level_1']\n",
    "    unpivot = unpivot.drop(columns=[0, 'level_1'])\n",
    "    \n",
    "    g = sns.catplot(x=\"Name\", y=\"Abundance\", hue=\"Group\", data=unpivot,\n",
    "                kind=\"bar\", palette=\"muted\")\n",
    "    return unpivot"
   ]
  },
  {
   "cell_type": "code",
   "execution_count": 265,
   "metadata": {},
   "outputs": [
    {
     "data": {
      "text/html": [
       "<div>\n",
       "<style scoped>\n",
       "    .dataframe tbody tr th:only-of-type {\n",
       "        vertical-align: middle;\n",
       "    }\n",
       "\n",
       "    .dataframe tbody tr th {\n",
       "        vertical-align: top;\n",
       "    }\n",
       "\n",
       "    .dataframe thead th {\n",
       "        text-align: right;\n",
       "    }\n",
       "</style>\n",
       "<table border=\"1\" class=\"dataframe\">\n",
       "  <thead>\n",
       "    <tr style=\"text-align: right;\">\n",
       "      <th></th>\n",
       "      <th>SUBJECTID</th>\n",
       "      <th>DISEASE</th>\n",
       "    </tr>\n",
       "  </thead>\n",
       "  <tbody>\n",
       "    <tr>\n",
       "      <th>35</th>\n",
       "      <td>Sub1</td>\n",
       "      <td>none</td>\n",
       "    </tr>\n",
       "    <tr>\n",
       "      <th>218</th>\n",
       "      <td>Sub6</td>\n",
       "      <td>none</td>\n",
       "    </tr>\n",
       "    <tr>\n",
       "      <th>376</th>\n",
       "      <td>Sub5</td>\n",
       "      <td>none</td>\n",
       "    </tr>\n",
       "    <tr>\n",
       "      <th>634</th>\n",
       "      <td>Sub12</td>\n",
       "      <td>none</td>\n",
       "    </tr>\n",
       "    <tr>\n",
       "      <th>818</th>\n",
       "      <td>Sub4</td>\n",
       "      <td>none</td>\n",
       "    </tr>\n",
       "    <tr>\n",
       "      <th>1008</th>\n",
       "      <td>Sub3</td>\n",
       "      <td>none</td>\n",
       "    </tr>\n",
       "    <tr>\n",
       "      <th>1255</th>\n",
       "      <td>Sub2</td>\n",
       "      <td>none</td>\n",
       "    </tr>\n",
       "    <tr>\n",
       "      <th>2820</th>\n",
       "      <td>Sub7</td>\n",
       "      <td>none</td>\n",
       "    </tr>\n",
       "  </tbody>\n",
       "</table>\n",
       "</div>"
      ],
      "text/plain": [
       "     SUBJECTID DISEASE\n",
       "35        Sub1    none\n",
       "218       Sub6    none\n",
       "376       Sub5    none\n",
       "634      Sub12    none\n",
       "818       Sub4    none\n",
       "1008      Sub3    none\n",
       "1255      Sub2    none\n",
       "2820      Sub7    none"
      ]
     },
     "execution_count": 265,
     "metadata": {},
     "output_type": "execute_result"
    }
   ],
   "source": [
    "df.loc[df[\"Rank\"] == \"f\"][[\"SUBJECTID\", \"DISEASE\"]].drop_duplicates()"
   ]
  },
  {
   "cell_type": "code",
   "execution_count": 267,
   "metadata": {},
   "outputs": [],
   "source": [
    "df_k = get_data_for_sample(\"//gfs/data/curated_metagenomes_kraken2/ChngKR_2016.csv\")"
   ]
  },
  {
   "cell_type": "code",
   "execution_count": null,
   "metadata": {},
   "outputs": [],
   "source": [
    "df_k.loc[df_k[\"Rank\"] == \"F\"][[\"SUBJECTID\", \"DISEASE\"]].drop_duplicates()"
   ]
  },
  {
   "cell_type": "code",
   "execution_count": 292,
   "metadata": {},
   "outputs": [
    {
     "name": "stdout",
     "output_type": "stream",
     "text": [
      "//gfs/data/curated_metagenomes_metaphlan2/ChngKR_2016.csv\n",
      "   Unnamed: 0   Sample_ID          Dataset Rank            Name  Abundance  \\\n",
      "0           0  SRR1950714  ChngKR_2016.csv    k        Bacteria   89.43953   \n",
      "1           1  SRR1950714  ChngKR_2016.csv    k         Viruses    9.57920   \n",
      "2           2  SRR1950714  ChngKR_2016.csv    k       Eukaryota    0.98127   \n",
      "3           3  SRR1950714  ChngKR_2016.csv    p  Actinobacteria   68.52375   \n",
      "4           4  SRR1950714  ChngKR_2016.csv    p  Proteobacteria   10.80472   \n",
      "\n",
      "  STUDY_CONDITION BODY_SITE SUBJECTID COUNTRY DISEASE  AGE AGE_CATEGORY  \n",
      "0         control      skin      Sub1     IDN    none   30        adult  \n",
      "1         control      skin      Sub1     IDN    none   30        adult  \n",
      "2         control      skin      Sub1     IDN    none   30        adult  \n",
      "3         control      skin      Sub1     IDN    none   30        adult  \n",
      "4         control      skin      Sub1     IDN    none   30        adult  \n",
      "Groups: 3                none\n",
      "5566            AD;AR\n",
      "8077               AD\n",
      "9179     AD;asthma;AR\n",
      "11334       AD;asthma\n",
      "14888       asthma;AR\n",
      "16143              AR\n",
      "Name: DISEASE, dtype: object\n",
      "Shape of table: (78, 12)\n",
      "------------------- RESULTS ------------------- \n",
      "Group\n",
      "AD              0.282835\n",
      "AD;AR           0.157280\n",
      "AD;asthma       0.268375\n",
      "AD;asthma;AR    0.374050\n",
      "AR              0.197085\n",
      "asthma;AR       0.903010\n",
      "none            0.928535\n",
      "Name: Basidiomycota, dtype: float64\n"
     ]
    },
    {
     "data": {
      "image/png": "[encoded data removed]",
      "text/plain": [
       "<Figure size 468.25x360 with 1 Axes>"
      ]
     },
     "metadata": {
      "needs_background": "light"
     },
     "output_type": "display_data"
    }
   ],
   "source": [
    "df_dataset_ChngKR_2016_kraken = analyse(\"ChngKR_2016\", table_files = files_metaphlan,\n",
    "                     column_to_group = \"DISEASE\", rank='g')"
   ]
  },
  {
   "cell_type": "code",
   "execution_count": 306,
   "metadata": {},
   "outputs": [
    {
     "name": "stdout",
     "output_type": "stream",
     "text": [
      "//gfs/data/curated_metagenomes_kraken2/AsnicarF_2017.csv\n",
      "   Unnamed: 0   Sample_ID            Dataset Rank                Name  \\\n",
      "0           0  SRR4052021  AsnicarF_2017.csv    U        unclassified   \n",
      "1           1  SRR4052021  AsnicarF_2017.csv    R                root   \n",
      "2           2  SRR4052021  AsnicarF_2017.csv   R1  cellular organisms   \n",
      "3           3  SRR4052021  AsnicarF_2017.csv    D            Bacteria   \n",
      "4           4  SRR4052021  AsnicarF_2017.csv    P      Proteobacteria   \n",
      "\n",
      "   Abundance STUDY_CONDITION BODY_SITE SUBJECTID COUNTRY  DISEASE  AGE  \\\n",
      "0       6.83         control     stool   MV_FEI1     ITA  healthy  1.0   \n",
      "1      93.17         control     stool   MV_FEI1     ITA  healthy  1.0   \n",
      "2      91.83         control     stool   MV_FEI1     ITA  healthy  1.0   \n",
      "3      91.83         control     stool   MV_FEI1     ITA  healthy  1.0   \n",
      "4      80.22         control     stool   MV_FEI1     ITA  healthy  1.0   \n",
      "\n",
      "  AGE_CATEGORY  \n",
      "0      newborn  \n",
      "1      newborn  \n",
      "2      newborn  \n",
      "3      newborn  \n",
      "4      newborn  \n",
      "Groups: 4       newborn\n",
      "8552      adult\n",
      "Name: AGE_CATEGORY, dtype: object\n",
      "Shape of table: (24, 42)\n",
      "------------------- RESULTS ------------------- \n"
     ]
    }
   ],
   "source": [
    "df_datasetAsnicarF_2017_kraken = analyse(\"AsnicarF_2017\", table_files = files_kraken, \n",
    "                     column_to_group = \"AGE_CATEGORY\", rank='P')"
   ]
  },
  {
   "cell_type": "code",
   "execution_count": 309,
   "metadata": {},
   "outputs": [
    {
     "name": "stdout",
     "output_type": "stream",
     "text": [
      "//gfs/data/curated_metagenomes_metaphlan2/AsnicarF_2017.csv\n",
      "   Unnamed: 0   Sample_ID            Dataset Rank            Name  Abundance  \\\n",
      "0           0  SRR4052021  AsnicarF_2017.csv    k        Bacteria   97.92389   \n",
      "1           1  SRR4052021  AsnicarF_2017.csv    k         Viruses    2.07611   \n",
      "2           2  SRR4052021  AsnicarF_2017.csv    p  Proteobacteria   78.59277   \n",
      "3           3  SRR4052021  AsnicarF_2017.csv    p  Actinobacteria   12.60032   \n",
      "4           4  SRR4052021  AsnicarF_2017.csv    p      Firmicutes    6.73081   \n",
      "\n",
      "  STUDY_CONDITION BODY_SITE SUBJECTID COUNTRY  DISEASE  AGE AGE_CATEGORY  \n",
      "0         control     stool   MV_FEI1     ITA  healthy  1.0      newborn  \n",
      "1         control     stool   MV_FEI1     ITA  healthy  1.0      newborn  \n",
      "2         control     stool   MV_FEI1     ITA  healthy  1.0      newborn  \n",
      "3         control     stool   MV_FEI1     ITA  healthy  1.0      newborn  \n",
      "4         control     stool   MV_FEI1     ITA  healthy  1.0      newborn  \n",
      "Groups: 2      newborn\n",
      "257      adult\n",
      "Name: AGE_CATEGORY, dtype: object\n",
      "Shape of table: (23, 9)\n",
      "------------------- RESULTS ------------------- \n",
      "Group\n",
      "adult      1.00000\n",
      "newborn    7.63306\n",
      "Name: Proteobacteria, dtype: float64\n"
     ]
    },
    {
     "data": {
      "image/png": "[encoded data removed]",
      "text/plain": [
       "<Figure size 439.375x360 with 1 Axes>"
      ]
     },
     "metadata": {
      "needs_background": "light"
     },
     "output_type": "display_data"
    }
   ],
   "source": [
    "df_datasetAsnicarF_2017_kraken = analyse(\"AsnicarF_2017\", table_files = files_metaphlan, \n",
    "                     column_to_group = \"AGE_CATEGORY\", rank='p')"
   ]
  },
  {
   "cell_type": "code",
   "execution_count": 248,
   "metadata": {},
   "outputs": [
    {
     "name": "stdout",
     "output_type": "stream",
     "text": [
      "//gfs/data/curated_metagenomes_metaphlan2/AsnicarF_2017.csv\n",
      "   Unnamed: 0   Sample_ID            Dataset Rank            Name  Abundance  \\\n",
      "0           0  SRR4052021  AsnicarF_2017.csv    k        Bacteria   97.92389   \n",
      "1           1  SRR4052021  AsnicarF_2017.csv    k         Viruses    2.07611   \n",
      "2           2  SRR4052021  AsnicarF_2017.csv    p  Proteobacteria   78.59277   \n",
      "3           3  SRR4052021  AsnicarF_2017.csv    p  Actinobacteria   12.60032   \n",
      "4           4  SRR4052021  AsnicarF_2017.csv    p      Firmicutes    6.73081   \n",
      "\n",
      "  STUDY_CONDITION BODY_SITE SUBJECTID COUNTRY  DISEASE  AGE AGE_CATEGORY  \n",
      "0         control     stool   MV_FEI1     ITA  healthy  1.0      newborn  \n",
      "1         control     stool   MV_FEI1     ITA  healthy  1.0      newborn  \n",
      "2         control     stool   MV_FEI1     ITA  healthy  1.0      newborn  \n",
      "3         control     stool   MV_FEI1     ITA  healthy  1.0      newborn  \n",
      "4         control     stool   MV_FEI1     ITA  healthy  1.0      newborn  \n",
      "Groups: 21     newborn\n",
      "286      adult\n",
      "Name: AGE_CATEGORY, dtype: object\n",
      "Shape of table: (23, 55)\n",
      "------------------- RESULTS ------------------- \n",
      "Group\n",
      "adult      1.000000\n",
      "newborn    4.505245\n",
      "Name: Enterobacteriaceae, dtype: float64\n"
     ]
    },
    {
     "data": {
      "text/html": [
       "<div>\n",
       "<style scoped>\n",
       "    .dataframe tbody tr th:only-of-type {\n",
       "        vertical-align: middle;\n",
       "    }\n",
       "\n",
       "    .dataframe tbody tr th {\n",
       "        vertical-align: top;\n",
       "    }\n",
       "\n",
       "    .dataframe thead th {\n",
       "        text-align: right;\n",
       "    }\n",
       "</style>\n",
       "<table border=\"1\" class=\"dataframe\">\n",
       "  <thead>\n",
       "    <tr style=\"text-align: right;\">\n",
       "      <th></th>\n",
       "      <th>Group</th>\n",
       "      <th>Abundance</th>\n",
       "      <th>Name</th>\n",
       "    </tr>\n",
       "  </thead>\n",
       "  <tbody>\n",
       "    <tr>\n",
       "      <th>0</th>\n",
       "      <td>adult</td>\n",
       "      <td>1.000000</td>\n",
       "      <td>Enterobacteriaceae</td>\n",
       "    </tr>\n",
       "    <tr>\n",
       "      <th>1</th>\n",
       "      <td>newborn</td>\n",
       "      <td>4.505245</td>\n",
       "      <td>Enterobacteriaceae</td>\n",
       "    </tr>\n",
       "  </tbody>\n",
       "</table>\n",
       "</div>"
      ],
      "text/plain": [
       "     Group  Abundance                Name\n",
       "0    adult   1.000000  Enterobacteriaceae\n",
       "1  newborn   4.505245  Enterobacteriaceae"
      ]
     },
     "execution_count": 248,
     "metadata": {},
     "output_type": "execute_result"
    },
    {
     "data": {
      "image/png": "[encoded data removed]",
      "text/plain": [
       "<Figure size 439.375x360 with 1 Axes>"
      ]
     },
     "metadata": {
      "needs_background": "light"
     },
     "output_type": "display_data"
    }
   ],
   "source": [
    "analyse(\"AsnicarF_2017\", table_files = files_metaphlan, column_to_group = \"AGE_CATEGORY\", \n",
    "        rank='f')"
   ]
  },
  {
   "cell_type": "code",
   "execution_count": 294,
   "metadata": {},
   "outputs": [
    {
     "name": "stdout",
     "output_type": "stream",
     "text": [
      "//gfs/data/curated_metagenomes_kraken2/FengQ_2015.csv\n",
      "   Unnamed: 0  Sample_ID         Dataset Rank                 Name  Abundance  \\\n",
      "0           0  ERR688526  FengQ_2015.csv    U         unclassified      70.88   \n",
      "1           1  ERR688526  FengQ_2015.csv    R                 root      29.12   \n",
      "2           2  ERR688526  FengQ_2015.csv   R1   cellular organisms      29.11   \n",
      "3           3  ERR688526  FengQ_2015.csv    D             Bacteria      29.05   \n",
      "4           4  ERR688526  FengQ_2015.csv   D1  Terrabacteria group      25.38   \n",
      "\n",
      "  STUDY_CONDITION BODY_SITE SUBJECTID COUNTRY              DISEASE  AGE  \\\n",
      "0         adenoma     stool  SID31282     AUT  adenoma;fatty_liver   63   \n",
      "1         adenoma     stool  SID31282     AUT  adenoma;fatty_liver   63   \n",
      "2         adenoma     stool  SID31282     AUT  adenoma;fatty_liver   63   \n",
      "3         adenoma     stool  SID31282     AUT  adenoma;fatty_liver   63   \n",
      "4         adenoma     stool  SID31282     AUT  adenoma;fatty_liver   63   \n",
      "\n",
      "  AGE_CATEGORY  \n",
      "0        adult  \n",
      "1        adult  \n",
      "2        adult  \n",
      "3        adult  \n",
      "4        adult  \n",
      "Groups: 5                           adenoma;fatty_liver\n",
      "7883           adenoma;fatty_liver;hypertension\n",
      "15714              fatty_liver;T2D;hypertension\n",
      "23059              CRC;fatty_liver;hypertension\n",
      "30635                                       CRC\n",
      "38862                                      none\n",
      "62771                          CRC;hypertension\n",
      "70446                              hypertension\n",
      "86745                               adenoma;T2D\n",
      "94599                  fatty_liver;hypertension\n",
      "140823                         T2D;hypertension\n",
      "147946                                  adenoma\n",
      "209835                 adenoma;T2D;hypertension\n",
      "233976                              fatty_liver\n",
      "272774         CRC;fatty_liver;T2D;hypertension\n",
      "312197                     adenoma;hypertension\n",
      "334300                          CRC;fatty_liver\n",
      "474784                     CRC;T2D;hypertension\n",
      "840718                          fatty_liver;T2D\n",
      "1028209    adenoma;fatty_liver;T2D;hypertension\n",
      "1135140                 adenoma;fatty_liver;T2D\n",
      "Name: DISEASE, dtype: object\n",
      "Shape of table: (154, 42)\n",
      "------------------- RESULTS ------------------- \n",
      "Group\n",
      "CRC                                     0.110\n",
      "CRC;T2D;hypertension                    0.235\n",
      "CRC;fatty_liver                         0.020\n",
      "CRC;fatty_liver;T2D;hypertension        0.055\n",
      "CRC;fatty_liver;hypertension            0.055\n",
      "CRC;hypertension                        0.045\n",
      "T2D;hypertension                        0.040\n",
      "adenoma                                 0.035\n",
      "adenoma;T2D                             0.030\n",
      "adenoma;T2D;hypertension                0.035\n",
      "adenoma;fatty_liver                     0.040\n",
      "adenoma;fatty_liver;T2D                 0.030\n",
      "adenoma;fatty_liver;T2D;hypertension    0.040\n",
      "adenoma;fatty_liver;hypertension        0.045\n",
      "adenoma;hypertension                    0.040\n",
      "fatty_liver                             0.040\n",
      "fatty_liver;T2D                         0.040\n",
      "fatty_liver;T2D;hypertension            0.030\n",
      "fatty_liver;hypertension                0.040\n",
      "hypertension                            0.040\n",
      "none                                    0.055\n",
      "Name: Chordata, dtype: float64\n",
      "Group\n",
      "CRC                                     0.060\n",
      "CRC;T2D;hypertension                    0.100\n",
      "CRC;fatty_liver                         0.060\n",
      "CRC;fatty_liver;T2D;hypertension        0.010\n",
      "CRC;fatty_liver;hypertension            0.020\n",
      "CRC;hypertension                        0.010\n",
      "T2D;hypertension                        0.020\n",
      "adenoma                                 0.010\n",
      "adenoma;T2D                             0.020\n",
      "adenoma;T2D;hypertension                0.015\n",
      "adenoma;fatty_liver                     0.020\n",
      "adenoma;fatty_liver;T2D                 0.010\n",
      "adenoma;fatty_liver;T2D;hypertension    0.010\n",
      "adenoma;fatty_liver;hypertension        0.020\n",
      "adenoma;hypertension                    0.015\n",
      "fatty_liver                             0.010\n",
      "fatty_liver;T2D                         0.020\n",
      "fatty_liver;T2D;hypertension            0.020\n",
      "fatty_liver;hypertension                0.010\n",
      "hypertension                            0.010\n",
      "none                                    0.015\n",
      "Name: Fusobacteria, dtype: float64\n"
     ]
    },
    {
     "data": {
      "image/png": "[encoded data removed]",
      "text/plain": [
       "<Figure size 588.5x360 with 1 Axes>"
      ]
     },
     "metadata": {
      "needs_background": "light"
     },
     "output_type": "display_data"
    }
   ],
   "source": [
    "df_datasetAsnicarF_2017_kraken = analyse(\"FengQ_2015\", table_files = files_kraken, \n",
    "                     column_to_group = \"DISEASE\", rank='P')"
   ]
  },
  {
   "cell_type": "code",
   "execution_count": 253,
   "metadata": {},
   "outputs": [
    {
     "name": "stdout",
     "output_type": "stream",
     "text": [
      "//gfs/data/curated_metagenomes_kraken2/FengQ_2015.csv\n",
      "   Unnamed: 0  Sample_ID         Dataset Rank                       Name  \\\n",
      "0           0  ERR688526  FengQ_2015.csv    U               unclassified   \n",
      "1           1  ERR688526  FengQ_2015.csv    R                       root   \n",
      "2           2  ERR688526  FengQ_2015.csv   R1         cellular organisms   \n",
      "3           3  ERR688526  FengQ_2015.csv    D                   Bacteria   \n",
      "4           4  ERR688526  FengQ_2015.csv   D1        Terrabacteria group   \n",
      "\n",
      "   Abundance STUDY_CONDITION BODY_SITE SUBJECTID COUNTRY              DISEASE  \\\n",
      "0      70.88         adenoma     stool  SID31282     AUT  adenoma;fatty_liver   \n",
      "1      29.12         adenoma     stool  SID31282     AUT  adenoma;fatty_liver   \n",
      "2      29.11         adenoma     stool  SID31282     AUT  adenoma;fatty_liver   \n",
      "3      29.05         adenoma     stool  SID31282     AUT  adenoma;fatty_liver   \n",
      "4      25.38         adenoma     stool  SID31282     AUT  adenoma;fatty_liver   \n",
      "\n",
      "   AGE AGE_CATEGORY  \n",
      "0   63        adult  \n",
      "1   63        adult  \n",
      "2   63        adult  \n",
      "3   63        adult  \n",
      "4   63        adult  \n",
      "Groups: 8        adenoma\n",
      "15717    control\n",
      "23062        CRC\n",
      "Name: STUDY_CONDITION, dtype: object\n",
      "Shape of table: (154, 462)\n",
      "------------------- RESULTS ------------------- \n"
     ]
    }
   ],
   "source": [
    "df_datasetAsnicarF_2017_kraken = analyse(\"FengQ_2015\", table_files = files_kraken, \n",
    "                     column_to_group = \"STUDY_CONDITION\", rank='F')"
   ]
  },
  {
   "cell_type": "code",
   "execution_count": null,
   "metadata": {},
   "outputs": [],
   "source": []
  },
  {
   "cell_type": "code",
   "execution_count": null,
   "metadata": {},
   "outputs": [],
   "source": []
  }
 ],
 "metadata": {
  "kernelspec": {
   "display_name": "Python 3",
   "language": "python",
   "name": "python3"
  },
  "language_info": {
   "codemirror_mode": {
    "name": "ipython",
    "version": 3
   },
   "file_extension": ".py",
   "mimetype": "text/x-python",
   "name": "python",
   "nbconvert_exporter": "python",
   "pygments_lexer": "ipython3",
   "version": "3.6.6"
  }
 },
 "nbformat": 4,
 "nbformat_minor": 2
}
